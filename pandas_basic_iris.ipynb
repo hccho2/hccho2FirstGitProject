{
 "cells": [
  {
   "cell_type": "markdown",
   "metadata": {},
   "source": [
    "[![Open In Colab](https://colab.research.google.com/assets/colab-badge.svg)](https://colab.research.google.com/drive/1X6WerwDVRWZ6xGltEvOPL8lT4ddlQc2M)\n",
    "\n",
    "\n",
    "[![Open In nbviewer](https://jupyter.org/assets/main-logo.svg)](https://nbviewer.jupyter.org/github/hccho2/hccho2FirstGitProject/blob/master/torch_files/MNIST_loading.ipynb)"
   ]
  },
  {
   "cell_type": "code",
   "execution_count": null,
   "metadata": {
    "executionInfo": {
     "elapsed": 2274,
     "status": "ok",
     "timestamp": 1606390337711,
     "user": {
      "displayName": "Heecheol Cho",
      "photoUrl": "https://lh3.googleusercontent.com/a-/AOh14GjX329YmmK5EOCLjZGYupvhhyKPjyr-kS3DftPICg=s64",
      "userId": "11416361730564561965"
     },
     "user_tz": -540
    },
    "id": "N78FYSmvY0nA"
   },
   "outputs": [],
   "source": [
    "import pandas as pd\n",
    "import numpy as np\n",
    "import matplotlib.pyplot as plt\n",
    "import seaborn as sns"
   ]
  },
  {
   "cell_type": "markdown",
   "metadata": {
    "id": "dcObgKZjY0nA"
   },
   "source": [
    "# IRIS Dataset & Pandas"
   ]
  },
  {
   "cell_type": "markdown",
   "metadata": {
    "id": "sW3N41QQY0nA"
   },
   "source": [
    "<img src=\"https://s3.amazonaws.com/assets.datacamp.com/blog_assets/Machine+Learning+R/iris-machinelearning.png\" width=800 height=300 />\n",
    "\n",
    "iris.csv\n",
    "1. sepal(꽃받침) length in cm\n",
    "2. sepal width in cm\n",
    "3. petal(꽃잎) length in cm\n",
    "4. petal width in cm\n",
    "5. class:\n",
    "\n",
    "\n",
    "\n",
    "150,4,setosa(0),versicolor(1),virginica(2)\n",
    "\n",
    "6.4,2.8,5.6,2.2,2\n",
    "\n",
    "5.0,2.3,3.3,1.0,1\n",
    "\n",
    "4.9,2.5,4.5,1.7,2\n",
    "\n",
    "4.9,3.1,1.5,0.1,0\n",
    "\n",
    "5.7,3.8,1.7,0.3,0\n",
    "<img src=\"https://bishwamittra.github.io/images/imli/iris_dataset.png\" width=600 height=400 />"
   ]
  },
  {
   "cell_type": "code",
   "execution_count": null,
   "metadata": {
    "colab": {
     "base_uri": "https://localhost:8080/",
     "height": 216
    },
    "executionInfo": {
     "elapsed": 1923,
     "status": "ok",
     "timestamp": 1606390342980,
     "user": {
      "displayName": "Heecheol Cho",
      "photoUrl": "https://lh3.googleusercontent.com/a-/AOh14GjX329YmmK5EOCLjZGYupvhhyKPjyr-kS3DftPICg=s64",
      "userId": "11416361730564561965"
     },
     "user_tz": -540
    },
    "id": "_h1u1YVJY0nA",
    "outputId": "1c3d56c0-88c7-4b60-d801-96f7dbc754c5"
   },
   "outputs": [],
   "source": [
    "url = \"https://github.com/hccho2/hccho2FirstGitProject/raw/master/iris.csv\"  # sklearn에서 다운받은 파일\n",
    "data = pd.read_csv(url,header=None,skiprows=1,names=['feaure1','feaure2','feaure3','features4','label'])\n",
    "print(data.shape)\n",
    "data.head(5)"
   ]
  },
  {
   "cell_type": "code",
   "execution_count": null,
   "metadata": {
    "colab": {
     "base_uri": "https://localhost:8080/"
    },
    "executionInfo": {
     "elapsed": 1145,
     "status": "ok",
     "timestamp": 1606390351510,
     "user": {
      "displayName": "Heecheol Cho",
      "photoUrl": "https://lh3.googleusercontent.com/a-/AOh14GjX329YmmK5EOCLjZGYupvhhyKPjyr-kS3DftPICg=s64",
      "userId": "11416361730564561965"
     },
     "user_tz": -540
    },
    "id": "X0gQxE0lUw84",
    "outputId": "2ce15f4e-94b7-4e65-8d1d-2a4820977b11"
   },
   "outputs": [],
   "source": [
    "data.info()"
   ]
  },
  {
   "cell_type": "code",
   "execution_count": null,
   "metadata": {
    "colab": {
     "base_uri": "https://localhost:8080/",
     "height": 288
    },
    "executionInfo": {
     "elapsed": 1181,
     "status": "ok",
     "timestamp": 1606390372955,
     "user": {
      "displayName": "Heecheol Cho",
      "photoUrl": "https://lh3.googleusercontent.com/a-/AOh14GjX329YmmK5EOCLjZGYupvhhyKPjyr-kS3DftPICg=s64",
      "userId": "11416361730564561965"
     },
     "user_tz": -540
    },
    "id": "i70PtUrmU7pf",
    "outputId": "844e76b6-219e-4a82-f75c-31d50b8e4cd5"
   },
   "outputs": [],
   "source": [
    "data.describe()"
   ]
  },
  {
   "cell_type": "code",
   "execution_count": null,
   "metadata": {
    "colab": {
     "base_uri": "https://localhost:8080/"
    },
    "executionInfo": {
     "elapsed": 764,
     "status": "ok",
     "timestamp": 1606393628601,
     "user": {
      "displayName": "Heecheol Cho",
      "photoUrl": "https://lh3.googleusercontent.com/a-/AOh14GjX329YmmK5EOCLjZGYupvhhyKPjyr-kS3DftPICg=s64",
      "userId": "11416361730564561965"
     },
     "user_tz": -540
    },
    "id": "YplQ_AABY0nB",
    "outputId": "b9d6d636-fac6-492a-9bf2-85515a0c97e1"
   },
   "outputs": [],
   "source": [
    "#data갯수 확인\n",
    "#data.groupby('label').count()\n",
    "data['label'].value_counts()"
   ]
  },
  {
   "cell_type": "markdown",
   "metadata": {
    "id": "EdGUpY9wjtrm"
   },
   "source": [
    "## iris Data 변형하기(map)"
   ]
  },
  {
   "cell_type": "code",
   "execution_count": 177,
   "metadata": {
    "colab": {
     "base_uri": "https://localhost:8080/",
     "height": 198
    },
    "executionInfo": {
     "elapsed": 658,
     "status": "ok",
     "timestamp": 1606394842947,
     "user": {
      "displayName": "Heecheol Cho",
      "photoUrl": "https://lh3.googleusercontent.com/a-/AOh14GjX329YmmK5EOCLjZGYupvhhyKPjyr-kS3DftPICg=s64",
      "userId": "11416361730564561965"
     },
     "user_tz": -540
    },
    "id": "Oj1Nwq0Hj3sO",
    "outputId": "b8bbfedc-8662-4873-d0f7-d4a11b881024"
   },
   "outputs": [
    {
     "data": {
      "text/html": [
       "<div>\n",
       "<style scoped>\n",
       "    .dataframe tbody tr th:only-of-type {\n",
       "        vertical-align: middle;\n",
       "    }\n",
       "\n",
       "    .dataframe tbody tr th {\n",
       "        vertical-align: top;\n",
       "    }\n",
       "\n",
       "    .dataframe thead th {\n",
       "        text-align: right;\n",
       "    }\n",
       "</style>\n",
       "<table border=\"1\" class=\"dataframe\">\n",
       "  <thead>\n",
       "    <tr style=\"text-align: right;\">\n",
       "      <th></th>\n",
       "      <th>feature1</th>\n",
       "      <th>feature2</th>\n",
       "      <th>feature3</th>\n",
       "      <th>feature4</th>\n",
       "      <th>label</th>\n",
       "    </tr>\n",
       "  </thead>\n",
       "  <tbody>\n",
       "    <tr>\n",
       "      <th>0</th>\n",
       "      <td>5.1</td>\n",
       "      <td>3.5</td>\n",
       "      <td>1.4</td>\n",
       "      <td>0.2</td>\n",
       "      <td>Setosa</td>\n",
       "    </tr>\n",
       "    <tr>\n",
       "      <th>1</th>\n",
       "      <td>4.9</td>\n",
       "      <td>3.0</td>\n",
       "      <td>1.4</td>\n",
       "      <td>0.2</td>\n",
       "      <td>Setosa</td>\n",
       "    </tr>\n",
       "    <tr>\n",
       "      <th>2</th>\n",
       "      <td>4.7</td>\n",
       "      <td>3.2</td>\n",
       "      <td>1.3</td>\n",
       "      <td>0.2</td>\n",
       "      <td>Setosa</td>\n",
       "    </tr>\n",
       "    <tr>\n",
       "      <th>3</th>\n",
       "      <td>4.6</td>\n",
       "      <td>3.1</td>\n",
       "      <td>1.5</td>\n",
       "      <td>0.2</td>\n",
       "      <td>Setosa</td>\n",
       "    </tr>\n",
       "    <tr>\n",
       "      <th>4</th>\n",
       "      <td>5.0</td>\n",
       "      <td>3.6</td>\n",
       "      <td>1.4</td>\n",
       "      <td>0.2</td>\n",
       "      <td>Setosa</td>\n",
       "    </tr>\n",
       "  </tbody>\n",
       "</table>\n",
       "</div>"
      ],
      "text/plain": [
       "   feature1  feature2  feature3  feature4   label\n",
       "0       5.1       3.5       1.4       0.2  Setosa\n",
       "1       4.9       3.0       1.4       0.2  Setosa\n",
       "2       4.7       3.2       1.3       0.2  Setosa\n",
       "3       4.6       3.1       1.5       0.2  Setosa\n",
       "4       5.0       3.6       1.4       0.2  Setosa"
      ]
     },
     "execution_count": 177,
     "metadata": {},
     "output_type": "execute_result"
    }
   ],
   "source": [
    "url = \"https://github.com/hccho2/hccho2FirstGitProject/raw/master/iris2.csv\"  # sklearn에서 다운받은 파일\n",
    "data = pd.read_csv(url,header=None,skiprows=1,names=['feature1','feature2','feature3','feature4','label'])\n",
    "data.head()"
   ]
  },
  {
   "cell_type": "code",
   "execution_count": 178,
   "metadata": {
    "executionInfo": {
     "elapsed": 648,
     "status": "ok",
     "timestamp": 1606394845037,
     "user": {
      "displayName": "Heecheol Cho",
      "photoUrl": "https://lh3.googleusercontent.com/a-/AOh14GjX329YmmK5EOCLjZGYupvhhyKPjyr-kS3DftPICg=s64",
      "userId": "11416361730564561965"
     },
     "user_tz": -540
    },
    "id": "TlP1eFjSj4Pq"
   },
   "outputs": [],
   "source": [
    "data['label'] = data['label'].map({'Setosa': 0,'Versicolor': 1, 'Virginica': 2})"
   ]
  },
  {
   "cell_type": "code",
   "execution_count": 179,
   "metadata": {
    "colab": {
     "base_uri": "https://localhost:8080/",
     "height": 198
    },
    "executionInfo": {
     "elapsed": 653,
     "status": "ok",
     "timestamp": 1606394879926,
     "user": {
      "displayName": "Heecheol Cho",
      "photoUrl": "https://lh3.googleusercontent.com/a-/AOh14GjX329YmmK5EOCLjZGYupvhhyKPjyr-kS3DftPICg=s64",
      "userId": "11416361730564561965"
     },
     "user_tz": -540
    },
    "id": "l_GnK9WpmEL2",
    "outputId": "4baa3be3-67bd-4527-b377-1a74ab07d843"
   },
   "outputs": [
    {
     "data": {
      "text/html": [
       "<div>\n",
       "<style scoped>\n",
       "    .dataframe tbody tr th:only-of-type {\n",
       "        vertical-align: middle;\n",
       "    }\n",
       "\n",
       "    .dataframe tbody tr th {\n",
       "        vertical-align: top;\n",
       "    }\n",
       "\n",
       "    .dataframe thead th {\n",
       "        text-align: right;\n",
       "    }\n",
       "</style>\n",
       "<table border=\"1\" class=\"dataframe\">\n",
       "  <thead>\n",
       "    <tr style=\"text-align: right;\">\n",
       "      <th></th>\n",
       "      <th>feature1</th>\n",
       "      <th>feature2</th>\n",
       "      <th>feature3</th>\n",
       "      <th>feature4</th>\n",
       "      <th>label</th>\n",
       "    </tr>\n",
       "  </thead>\n",
       "  <tbody>\n",
       "    <tr>\n",
       "      <th>10</th>\n",
       "      <td>5.4</td>\n",
       "      <td>3.7</td>\n",
       "      <td>1.5</td>\n",
       "      <td>0.2</td>\n",
       "      <td>0</td>\n",
       "    </tr>\n",
       "    <tr>\n",
       "      <th>54</th>\n",
       "      <td>6.5</td>\n",
       "      <td>2.8</td>\n",
       "      <td>4.6</td>\n",
       "      <td>1.5</td>\n",
       "      <td>1</td>\n",
       "    </tr>\n",
       "    <tr>\n",
       "      <th>95</th>\n",
       "      <td>5.7</td>\n",
       "      <td>3.0</td>\n",
       "      <td>4.2</td>\n",
       "      <td>1.2</td>\n",
       "      <td>1</td>\n",
       "    </tr>\n",
       "    <tr>\n",
       "      <th>56</th>\n",
       "      <td>6.3</td>\n",
       "      <td>3.3</td>\n",
       "      <td>4.7</td>\n",
       "      <td>1.6</td>\n",
       "      <td>1</td>\n",
       "    </tr>\n",
       "    <tr>\n",
       "      <th>132</th>\n",
       "      <td>6.4</td>\n",
       "      <td>2.8</td>\n",
       "      <td>5.6</td>\n",
       "      <td>2.2</td>\n",
       "      <td>2</td>\n",
       "    </tr>\n",
       "  </tbody>\n",
       "</table>\n",
       "</div>"
      ],
      "text/plain": [
       "     feature1  feature2  feature3  feature4  label\n",
       "10        5.4       3.7       1.5       0.2      0\n",
       "54        6.5       2.8       4.6       1.5      1\n",
       "95        5.7       3.0       4.2       1.2      1\n",
       "56        6.3       3.3       4.7       1.6      1\n",
       "132       6.4       2.8       5.6       2.2      2"
      ]
     },
     "execution_count": 179,
     "metadata": {},
     "output_type": "execute_result"
    }
   ],
   "source": [
    "data.sample(5)"
   ]
  },
  {
   "cell_type": "code",
   "execution_count": 180,
   "metadata": {},
   "outputs": [
    {
     "data": {
      "image/png": "[encoded data removed]",
      "text/plain": [
       "<Figure size 432x288 with 1 Axes>"
      ]
     },
     "metadata": {
      "needs_background": "light"
     },
     "output_type": "display_data"
    }
   ],
   "source": [
    "plt.boxplot(data.values,labels = data.columns,showmeans=True)  # data의 각각의 column(axis=1)마다 box plot이 그려진다.\n",
    "plt.show()"
   ]
  },
  {
   "cell_type": "code",
   "execution_count": 181,
   "metadata": {
    "scrolled": true
   },
   "outputs": [
    {
     "data": {
      "image/png": "[encoded data removed]",
      "text/plain": [
       "<Figure size 432x288 with 1 Axes>"
      ]
     },
     "metadata": {
      "needs_background": "light"
     },
     "output_type": "display_data"
    }
   ],
   "source": [
    "sns.boxplot(x='label',y='feature2',data = data, palette = 'PuBuGn');  # x로 넘어간 값에 따라, group 지어, y로 넘어간 값을 분석한다."
   ]
  },
  {
   "cell_type": "code",
   "execution_count": 182,
   "metadata": {},
   "outputs": [
    {
     "data": {
      "text/plain": [
       "<matplotlib.axes._subplots.AxesSubplot at 0x16875f6e0f0>"
      ]
     },
     "execution_count": 182,
     "metadata": {},
     "output_type": "execute_result"
    },
    {
     "data": {
      "image/png": "[encoded data removed]",
      "text/plain": [
       "<Figure size 432x288 with 1 Axes>"
      ]
     },
     "metadata": {
      "needs_background": "light"
     },
     "output_type": "display_data"
    }
   ],
   "source": [
    "sns.violinplot(data=data)  # 각 feature 별로 plot"
   ]
  },
  {
   "cell_type": "code",
   "execution_count": 183,
   "metadata": {},
   "outputs": [
    {
     "data": {
      "text/plain": [
       "<matplotlib.axes._subplots.AxesSubplot at 0x16877649550>"
      ]
     },
     "execution_count": 183,
     "metadata": {},
     "output_type": "execute_result"
    },
    {
     "data": {
      "image/png": "[encoded data removed]",
      "text/plain": [
       "<Figure size 432x288 with 1 Axes>"
      ]
     },
     "metadata": {
      "needs_background": "light"
     },
     "output_type": "display_data"
    }
   ],
   "source": [
    "sns.violinplot(x='label',y='feature1', data=data)  # 하나의 feature를 지정. x값 별로 나누어서."
   ]
  },
  {
   "cell_type": "code",
   "execution_count": 190,
   "metadata": {},
   "outputs": [
    {
     "data": {
      "text/plain": [
       "<matplotlib.axes._subplots.AxesSubplot at 0x1687778c160>"
      ]
     },
     "execution_count": 190,
     "metadata": {},
     "output_type": "execute_result"
    },
    {
     "data": {
      "image/png": "[encoded data removed]",
      "text/plain": [
       "<Figure size 432x288 with 1 Axes>"
      ]
     },
     "metadata": {
      "needs_background": "light"
     },
     "output_type": "display_data"
    }
   ],
   "source": [
    "sns.stripplot(data=data)"
   ]
  },
  {
   "cell_type": "code",
   "execution_count": 192,
   "metadata": {},
   "outputs": [
    {
     "data": {
      "text/plain": [
       "<matplotlib.axes._subplots.AxesSubplot at 0x168778cad68>"
      ]
     },
     "execution_count": 192,
     "metadata": {},
     "output_type": "execute_result"
    },
    {
     "data": {
      "image/png": "[encoded data removed]",
      "text/plain": [
       "<Figure size 432x288 with 1 Axes>"
      ]
     },
     "metadata": {
      "needs_background": "light"
     },
     "output_type": "display_data"
    }
   ],
   "source": [
    "sns.scatterplot(x='feature3',y='feature4', hue='label', style='label', s=100, data=data,palette=\"deep\")"
   ]
  },
  {
   "cell_type": "code",
   "execution_count": 195,
   "metadata": {
    "scrolled": true
   },
   "outputs": [
    {
     "name": "stderr",
     "output_type": "stream",
     "text": [
      "C:\\Anaconda3\\envs\\tf2\\lib\\site-packages\\numpy\\linalg\\linalg.py:1965: RuntimeWarning: invalid value encountered in greater\n",
      "  large = s > cutoff\n"
     ]
    },
    {
     "data": {
      "text/plain": [
       "<seaborn.axisgrid.FacetGrid at 0x16877dc2160>"
      ]
     },
     "execution_count": 195,
     "metadata": {},
     "output_type": "execute_result"
    },
    {
     "data": {
      "image/png": "[encoded data removed]",
      "text/plain": [
       "<Figure size 402.375x360 with 1 Axes>"
      ]
     },
     "metadata": {
      "needs_background": "light"
     },
     "output_type": "display_data"
    }
   ],
   "source": [
    "sns.lmplot(x='feature3',y='feature4', hue='label', data=data)"
   ]
  },
  {
   "cell_type": "markdown",
   "metadata": {
    "id": "WYF7JTgskFt6"
   },
   "source": [
    "# PCA: Principal Component Analysis(주성분 분석)"
   ]
  },
  {
   "cell_type": "code",
   "execution_count": null,
   "metadata": {},
   "outputs": [],
   "source": []
  },
  {
   "cell_type": "code",
   "execution_count": null,
   "metadata": {
    "colab": {
     "base_uri": "https://localhost:8080/"
    },
    "executionInfo": {
     "elapsed": 648,
     "status": "ok",
     "timestamp": 1606393694757,
     "user": {
      "displayName": "Heecheol Cho",
      "photoUrl": "https://lh3.googleusercontent.com/a-/AOh14GjX329YmmK5EOCLjZGYupvhhyKPjyr-kS3DftPICg=s64",
      "userId": "11416361730564561965"
     },
     "user_tz": -540
    },
    "id": "G-P6SDCcY0nB",
    "outputId": "65ed9c87-975d-46d8-9b3a-768b9a2949f4"
   },
   "outputs": [],
   "source": [
    "from mpl_toolkits.mplot3d import Axes3D\n",
    "from sklearn.decomposition import PCA\n",
    "from sklearn import preprocessing\n",
    "labels=['setosa','versicolor','virginica']\n",
    "url = \"https://github.com/hccho2/hccho2FirstGitProject/raw/master/iris.csv\"  # sklearn에서 다운받은 파일\n",
    "data = pd.read_csv(url,header=None,skiprows=1,names=['feaure1','feaure2','feaure3','features4','label'])\n",
    "\n",
    "print(data.head(5))\n",
    "\n",
    "y = data['label'] # genre variable.\n",
    "X = data.loc[:, data.columns != 'label'] #select all columns but not the labels ---> pandas\n",
    "\n",
    "\n",
    "#### NORMALIZE X ####\n",
    "cols = X.columns\n",
    "print(\"cols: \", cols)\n",
    "\n",
    "stdand_scaler = preprocessing.StandardScaler()\n",
    "X = stdand_scaler.fit_transform(X)  # 입력: dataframe ---> 출력: numpy array\n",
    "print(X[:10])"
   ]
  },
  {
   "cell_type": "code",
   "execution_count": null,
   "metadata": {
    "colab": {
     "base_uri": "https://localhost:8080/"
    },
    "executionInfo": {
     "elapsed": 1193,
     "status": "ok",
     "timestamp": 1606393990540,
     "user": {
      "displayName": "Heecheol Cho",
      "photoUrl": "https://lh3.googleusercontent.com/a-/AOh14GjX329YmmK5EOCLjZGYupvhhyKPjyr-kS3DftPICg=s64",
      "userId": "11416361730564561965"
     },
     "user_tz": -540
    },
    "id": "KZ7QKVmqh4HK",
    "outputId": "048b867e-187a-496d-f8ee-3415d0c3c9de"
   },
   "outputs": [],
   "source": [
    "print(stdand_scaler.n_samples_seen_)\n",
    "print(\"mean: \", stdand_scaler.mean_) # 평균\n",
    "print('std: ', stdand_scaler.scale_ )  # 표준편차"
   ]
  },
  {
   "cell_type": "code",
   "execution_count": null,
   "metadata": {
    "colab": {
     "base_uri": "https://localhost:8080/",
     "height": 355
    },
    "executionInfo": {
     "elapsed": 1280,
     "status": "ok",
     "timestamp": 1606359839743,
     "user": {
      "displayName": "Heecheol Cho",
      "photoUrl": "https://lh3.googleusercontent.com/a-/AOh14GjX329YmmK5EOCLjZGYupvhhyKPjyr-kS3DftPICg=s64",
      "userId": "11416361730564561965"
     },
     "user_tz": -540
    },
    "id": "-8Tuz7htY0nB",
    "outputId": "013b646c-e848-47a2-88e7-8c13f183a85d"
   },
   "outputs": [],
   "source": [
    "#### PCA 3 COMPONENTS ####\n",
    "pca = PCA(n_components=3)\n",
    "principalComponents = pca.fit_transform(X)  # principal componet 추출\n",
    "principalDf = pd.DataFrame(data = principalComponents, columns = ['principal component 1', 'principal component 2','principal component 3'])\n",
    "\n",
    "\n",
    "# concatenate with target label\n",
    "finalDf = pd.concat([principalDf, y], axis = 1)\n",
    "\n",
    "print(pca.explained_variance_ratio_, np.sum(pca.explained_variance_ratio_))\n",
    "\n",
    "fig = plt.figure(figsize = (8, 4))\n",
    "ax = Axes3D(fig)\n",
    "\n",
    "\n",
    "for grp_name, grp_idx in finalDf.groupby('label').groups.items():\n",
    "    y = finalDf.iloc[grp_idx,1]\n",
    "    x = finalDf.iloc[grp_idx,0]\n",
    "    z = finalDf.iloc[grp_idx,2]\n",
    "    ax.scatter(x,y,z, label=labels[grp_name])  # this way you can control color/marker/size of each group freely\n",
    "ax.legend()\n",
    "plt.title('PCA on IRIS', fontsize = 10)\n",
    "plt.xticks(fontsize = 7)\n",
    "plt.yticks(fontsize = 5);\n",
    "ax.set_xlabel(\"Principal Component 1\", fontsize = 7)\n",
    "ax.set_ylabel(\"Principal Component 2\", fontsize = 7)\n",
    "ax.set_zlabel(\"Principal Component 3\", fontsize = 7)"
   ]
  },
  {
   "cell_type": "markdown",
   "metadata": {
    "id": "Epw1DVfYY0nB"
   },
   "source": [
    "# simaple example(numpy array -> DataFrame)"
   ]
  },
  {
   "cell_type": "code",
   "execution_count": null,
   "metadata": {
    "id": "JfHX7OwxY0nB"
   },
   "outputs": [],
   "source": [
    "x1=np.array([ 1.4175,0.3390,0.2925,0.647,0.9069,0.4608,0.1069,-0.2201,-0.0138, -0.5808])\n",
    "x2=np.array([ 0.1378,-0.0567,1.5304, 0.663,0.0663,-1.0959,0.9882,-0.6808,-0.120,-0.2618])\n",
    "x3 =['A','B','A','C','C','A','A','B','C','B']\n",
    "data=pd.DataFrame(data=list(zip(x1,x2,x3)),columns=['age','weight','label'])\n",
    "data"
   ]
  },
  {
   "cell_type": "code",
   "execution_count": null,
   "metadata": {
    "id": "7eFMuVVAY0nB"
   },
   "outputs": [],
   "source": [
    "data.to_csv('xxx.csv',index=False)   # pd.read_csv"
   ]
  },
  {
   "cell_type": "code",
   "execution_count": null,
   "metadata": {
    "colab": {
     "base_uri": "https://localhost:8080/",
     "height": 168
    },
    "executionInfo": {
     "elapsed": 656,
     "status": "ok",
     "timestamp": 1606359963214,
     "user": {
      "displayName": "Heecheol Cho",
      "photoUrl": "https://lh3.googleusercontent.com/a-/AOh14GjX329YmmK5EOCLjZGYupvhhyKPjyr-kS3DftPICg=s64",
      "userId": "11416361730564561965"
     },
     "user_tz": -540
    },
    "id": "LNkT3UuNY0nB",
    "outputId": "9ed0bf2d-49db-4f43-d3a8-a08c98c5c9e6"
   },
   "outputs": [],
   "source": [
    "data[data['label']=='A']  # data.loc[data['label']=='A']"
   ]
  },
  {
   "cell_type": "code",
   "execution_count": null,
   "metadata": {
    "colab": {
     "base_uri": "https://localhost:8080/",
     "height": 168
    },
    "executionInfo": {
     "elapsed": 658,
     "status": "ok",
     "timestamp": 1606360016401,
     "user": {
      "displayName": "Heecheol Cho",
      "photoUrl": "https://lh3.googleusercontent.com/a-/AOh14GjX329YmmK5EOCLjZGYupvhhyKPjyr-kS3DftPICg=s64",
      "userId": "11416361730564561965"
     },
     "user_tz": -540
    },
    "id": "T3DufVQ3Y0nB",
    "outputId": "7b41e98f-ea74-4e9b-e956-2f3834685efb"
   },
   "outputs": [],
   "source": [
    "data.groupby('label').mean()"
   ]
  },
  {
   "cell_type": "code",
   "execution_count": null,
   "metadata": {
    "colab": {
     "base_uri": "https://localhost:8080/",
     "height": 422
    },
    "executionInfo": {
     "elapsed": 952,
     "status": "ok",
     "timestamp": 1606360022968,
     "user": {
      "displayName": "Heecheol Cho",
      "photoUrl": "https://lh3.googleusercontent.com/a-/AOh14GjX329YmmK5EOCLjZGYupvhhyKPjyr-kS3DftPICg=s64",
      "userId": "11416361730564561965"
     },
     "user_tz": -540
    },
    "id": "U_TK2i6EY0nB",
    "outputId": "02f63358-2b24-442a-94a9-9ee060349d22"
   },
   "outputs": [],
   "source": [
    "plt.figure(figsize = (10, 6))\n",
    "sns.scatterplot(x = \"age\", y = \"weight\", data = data, hue = \"label\", alpha = 0.7, s = 50); # s=size\n",
    "\n",
    "plt.title('PCA on data', fontsize = 25)\n",
    "plt.xticks(fontsize = 14)\n",
    "plt.yticks(fontsize = 10);\n",
    "plt.xlabel(\"age\", fontsize = 15)\n",
    "plt.ylabel(\"weight\", fontsize = 15)\n",
    "plt.show()"
   ]
  },
  {
   "cell_type": "code",
   "execution_count": null,
   "metadata": {
    "colab": {
     "base_uri": "https://localhost:8080/"
    },
    "executionInfo": {
     "elapsed": 742,
     "status": "ok",
     "timestamp": 1606360032907,
     "user": {
      "displayName": "Heecheol Cho",
      "photoUrl": "https://lh3.googleusercontent.com/a-/AOh14GjX329YmmK5EOCLjZGYupvhhyKPjyr-kS3DftPICg=s64",
      "userId": "11416361730564561965"
     },
     "user_tz": -540
    },
    "id": "YHoJAxixY0nB",
    "outputId": "b6cc241d-2ffc-46aa-8e23-681134de388f"
   },
   "outputs": [],
   "source": [
    "data.values"
   ]
  },
  {
   "cell_type": "code",
   "execution_count": null,
   "metadata": {
    "colab": {
     "base_uri": "https://localhost:8080/"
    },
    "executionInfo": {
     "elapsed": 616,
     "status": "ok",
     "timestamp": 1606360036134,
     "user": {
      "displayName": "Heecheol Cho",
      "photoUrl": "https://lh3.googleusercontent.com/a-/AOh14GjX329YmmK5EOCLjZGYupvhhyKPjyr-kS3DftPICg=s64",
      "userId": "11416361730564561965"
     },
     "user_tz": -540
    },
    "id": "pHEi0uQCY0nB",
    "outputId": "41bcc417-41ff-4f47-8320-675c81c9619d"
   },
   "outputs": [],
   "source": [
    "data['age'].values"
   ]
  },
  {
   "cell_type": "code",
   "execution_count": null,
   "metadata": {
    "colab": {
     "base_uri": "https://localhost:8080/",
     "height": 348
    },
    "executionInfo": {
     "elapsed": 639,
     "status": "ok",
     "timestamp": 1606360045526,
     "user": {
      "displayName": "Heecheol Cho",
      "photoUrl": "https://lh3.googleusercontent.com/a-/AOh14GjX329YmmK5EOCLjZGYupvhhyKPjyr-kS3DftPICg=s64",
      "userId": "11416361730564561965"
     },
     "user_tz": -540
    },
    "id": "NkX74P3lY0nB",
    "outputId": "5edf2d9f-06cb-4945-a77a-72fe7f19cac1"
   },
   "outputs": [],
   "source": [
    "data.sort_values(['label'],ascending=[True]) # data가 바뀌지는 않는다.  inplace=True 해야 바뀐다."
   ]
  },
  {
   "cell_type": "code",
   "execution_count": null,
   "metadata": {
    "id": "ZyxqSe_DY0nC"
   },
   "outputs": [],
   "source": [
    "pd.set_option('display.max_columns', None)\n",
    "pd.set_option('display.max_rows', None)\n",
    "pd.set_option('precision', 3)"
   ]
  },
  {
   "cell_type": "code",
   "execution_count": null,
   "metadata": {
    "colab": {
     "base_uri": "https://localhost:8080/",
     "height": 348
    },
    "executionInfo": {
     "elapsed": 645,
     "status": "ok",
     "timestamp": 1606360057115,
     "user": {
      "displayName": "Heecheol Cho",
      "photoUrl": "https://lh3.googleusercontent.com/a-/AOh14GjX329YmmK5EOCLjZGYupvhhyKPjyr-kS3DftPICg=s64",
      "userId": "11416361730564561965"
     },
     "user_tz": -540
    },
    "id": "IhHfH8luY0nC",
    "outputId": "70848add-e174-4d94-c788-8415e6287831"
   },
   "outputs": [],
   "source": [
    "data"
   ]
  },
  {
   "cell_type": "code",
   "execution_count": null,
   "metadata": {
    "colab": {
     "base_uri": "https://localhost:8080/",
     "height": 168
    },
    "executionInfo": {
     "elapsed": 685,
     "status": "ok",
     "timestamp": 1606360066977,
     "user": {
      "displayName": "Heecheol Cho",
      "photoUrl": "https://lh3.googleusercontent.com/a-/AOh14GjX329YmmK5EOCLjZGYupvhhyKPjyr-kS3DftPICg=s64",
      "userId": "11416361730564561965"
     },
     "user_tz": -540
    },
    "id": "lpCQ5RPJY0nC",
    "outputId": "2e7ec4b1-2027-4826-df86-43a790bef2ed"
   },
   "outputs": [],
   "source": [
    "# count()\n",
    "data.groupby('label').count()\n"
   ]
  },
  {
   "cell_type": "code",
   "execution_count": null,
   "metadata": {
    "colab": {
     "base_uri": "https://localhost:8080/"
    },
    "executionInfo": {
     "elapsed": 629,
     "status": "ok",
     "timestamp": 1606360079678,
     "user": {
      "displayName": "Heecheol Cho",
      "photoUrl": "https://lh3.googleusercontent.com/a-/AOh14GjX329YmmK5EOCLjZGYupvhhyKPjyr-kS3DftPICg=s64",
      "userId": "11416361730564561965"
     },
     "user_tz": -540
    },
    "id": "b4mk7iIMY0nC",
    "outputId": "705057f0-3997-4e2c-c6e5-db3b96f34976"
   },
   "outputs": [],
   "source": [
    "# column 1개인 경우.\n",
    "# from collections import Counter    ---->   Counter(data['label'])  ---->  Counter({'A': 4, 'B': 3, 'C': 3})\n",
    "\n",
    "data['label'].value_counts()"
   ]
  },
  {
   "cell_type": "markdown",
   "metadata": {
    "id": "q4gvO4O6Y0nC"
   },
   "source": [
    "# IRIS Dataset From sklearn"
   ]
  },
  {
   "cell_type": "code",
   "execution_count": null,
   "metadata": {
    "id": "-tBQM0z7Y0nC"
   },
   "outputs": [],
   "source": [
    "from sklearn import datasets"
   ]
  },
  {
   "cell_type": "code",
   "execution_count": null,
   "metadata": {
    "id": "tRLO2gr3Y0nC"
   },
   "outputs": [],
   "source": [
    "iris = datasets.load_iris()  # dict_keys(['data', 'target', 'frame', 'target_names', 'DESCR', 'feature_names', 'filename'])"
   ]
  },
  {
   "cell_type": "code",
   "execution_count": null,
   "metadata": {
    "colab": {
     "base_uri": "https://localhost:8080/"
    },
    "executionInfo": {
     "elapsed": 670,
     "status": "ok",
     "timestamp": 1606360218726,
     "user": {
      "displayName": "Heecheol Cho",
      "photoUrl": "https://lh3.googleusercontent.com/a-/AOh14GjX329YmmK5EOCLjZGYupvhhyKPjyr-kS3DftPICg=s64",
      "userId": "11416361730564561965"
     },
     "user_tz": -540
    },
    "id": "fVY_-OHEY0nC",
    "outputId": "83029b71-122b-4f08-cf86-d91575ef1f20"
   },
   "outputs": [],
   "source": [
    "iris['data'].shape, iris['target'].shape"
   ]
  },
  {
   "cell_type": "code",
   "execution_count": null,
   "metadata": {
    "colab": {
     "base_uri": "https://localhost:8080/"
    },
    "executionInfo": {
     "elapsed": 702,
     "status": "ok",
     "timestamp": 1606360220413,
     "user": {
      "displayName": "Heecheol Cho",
      "photoUrl": "https://lh3.googleusercontent.com/a-/AOh14GjX329YmmK5EOCLjZGYupvhhyKPjyr-kS3DftPICg=s64",
      "userId": "11416361730564561965"
     },
     "user_tz": -540
    },
    "id": "m9vDFKcmY0nC",
    "outputId": "197242e8-ed7d-4c3b-8f76-b76225af8998"
   },
   "outputs": [],
   "source": [
    "iris['filename'], iris['target_names'], iris['feature_names']"
   ]
  },
  {
   "cell_type": "code",
   "execution_count": null,
   "metadata": {
    "id": "iiowMI4SY0nC"
   },
   "outputs": [],
   "source": [
    "data = pd.DataFrame(data= np.c_[iris['data'], iris['target']],columns= iris['feature_names'] + ['target'])"
   ]
  },
  {
   "cell_type": "code",
   "execution_count": null,
   "metadata": {
    "colab": {
     "base_uri": "https://localhost:8080/",
     "height": 348
    },
    "executionInfo": {
     "elapsed": 661,
     "status": "ok",
     "timestamp": 1606360229331,
     "user": {
      "displayName": "Heecheol Cho",
      "photoUrl": "https://lh3.googleusercontent.com/a-/AOh14GjX329YmmK5EOCLjZGYupvhhyKPjyr-kS3DftPICg=s64",
      "userId": "11416361730564561965"
     },
     "user_tz": -540
    },
    "id": "TYCRdjkPY0nC",
    "outputId": "470e5086-81d8-41b8-c25a-b7ff0fe7b55b"
   },
   "outputs": [],
   "source": [
    "data.head(10)"
   ]
  },
  {
   "cell_type": "code",
   "execution_count": null,
   "metadata": {
    "id": "U2lYAMVaY0nC"
   },
   "outputs": [],
   "source": [
    "data = data.sample(frac = 1) # shffle"
   ]
  },
  {
   "cell_type": "code",
   "execution_count": null,
   "metadata": {
    "colab": {
     "base_uri": "https://localhost:8080/",
     "height": 348
    },
    "executionInfo": {
     "elapsed": 691,
     "status": "ok",
     "timestamp": 1606360265100,
     "user": {
      "displayName": "Heecheol Cho",
      "photoUrl": "https://lh3.googleusercontent.com/a-/AOh14GjX329YmmK5EOCLjZGYupvhhyKPjyr-kS3DftPICg=s64",
      "userId": "11416361730564561965"
     },
     "user_tz": -540
    },
    "id": "UPNn-M6IY0nC",
    "outputId": "09764435-7095-4f04-a2db-b7fb08e5b5ce"
   },
   "outputs": [],
   "source": [
    "data.head(10)"
   ]
  },
  {
   "cell_type": "code",
   "execution_count": null,
   "metadata": {
    "colab": {
     "base_uri": "https://localhost:8080/"
    },
    "executionInfo": {
     "elapsed": 630,
     "status": "ok",
     "timestamp": 1606360268364,
     "user": {
      "displayName": "Heecheol Cho",
      "photoUrl": "https://lh3.googleusercontent.com/a-/AOh14GjX329YmmK5EOCLjZGYupvhhyKPjyr-kS3DftPICg=s64",
      "userId": "11416361730564561965"
     },
     "user_tz": -540
    },
    "id": "_bfuq8t3Y0nC",
    "outputId": "abbfb268-3d98-4c0f-c7f8-8e5b6c1ba608"
   },
   "outputs": [],
   "source": [
    "data.values[:,:3]"
   ]
  },
  {
   "cell_type": "code",
   "execution_count": null,
   "metadata": {
    "id": "es-ge6uYY0nC"
   },
   "outputs": [],
   "source": []
  },
  {
   "cell_type": "markdown",
   "metadata": {
    "id": "45E7hDvYY0nC"
   },
   "source": [
    "## Simple Deep Lerning Model with Tensorflow(IRIS)"
   ]
  },
  {
   "cell_type": "code",
   "execution_count": 8,
   "metadata": {
    "id": "f8B976hHY0nC"
   },
   "outputs": [],
   "source": [
    "from sklearn import datasets\n",
    "import tensorflow as tf\n",
    "import matplotlib.pyplot as plt\n",
    "iris = datasets.load_iris()"
   ]
  },
  {
   "cell_type": "code",
   "execution_count": 9,
   "metadata": {
    "colab": {
     "base_uri": "https://localhost:8080/"
    },
    "executionInfo": {
     "elapsed": 888,
     "status": "ok",
     "timestamp": 1606360283428,
     "user": {
      "displayName": "Heecheol Cho",
      "photoUrl": "https://lh3.googleusercontent.com/a-/AOh14GjX329YmmK5EOCLjZGYupvhhyKPjyr-kS3DftPICg=s64",
      "userId": "11416361730564561965"
     },
     "user_tz": -540
    },
    "id": "snMtqYtwY0nC",
    "outputId": "a7a31eb8-9589-4667-8c77-fafac8b50ebd"
   },
   "outputs": [
    {
     "name": "stdout",
     "output_type": "stream",
     "text": [
      "Model: \"sequential\"\n",
      "_________________________________________________________________\n",
      "Layer (type)                 Output Shape              Param #   \n",
      "=================================================================\n",
      "dense (Dense)                (None, 10)                50        \n",
      "_________________________________________________________________\n",
      "dense_1 (Dense)              (None, 10)                110       \n",
      "_________________________________________________________________\n",
      "dense_2 (Dense)              (None, 3)                 33        \n",
      "=================================================================\n",
      "Total params: 193\n",
      "Trainable params: 193\n",
      "Non-trainable params: 0\n",
      "_________________________________________________________________\n"
     ]
    }
   ],
   "source": [
    "model = tf.keras.Sequential([\n",
    "    tf.keras.layers.Dense(10,input_shape=(4,), activation='relu'),\n",
    "    tf.keras.layers.Dense(10, activation='relu'),      \n",
    "    tf.keras.layers.Dense(3, activation='softmax')\n",
    "])\n",
    "optimiser = tf.keras.optimizers.Adam(learning_rate=0.001)  # pytorch와 달리, 0.01 또는 0.001일 때, 잘된다. 0.0001이면 별로...\n",
    "# tf.keras.losses.categorical_crossentropy(y_true, y_pred, from_logits=False, label_smoothing=0)  ---> default: logit이 아니 확률\n",
    "model.compile(optimizer=optimiser, loss='sparse_categorical_crossentropy', metrics=['accuracy'])  # sparse ---> target이 onthot이 아니어도 된다.\n",
    "model.summary()"
   ]
  },
  {
   "cell_type": "code",
   "execution_count": 10,
   "metadata": {
    "colab": {
     "base_uri": "https://localhost:8080/"
    },
    "executionInfo": {
     "elapsed": 4282,
     "status": "ok",
     "timestamp": 1606360288822,
     "user": {
      "displayName": "Heecheol Cho",
      "photoUrl": "https://lh3.googleusercontent.com/a-/AOh14GjX329YmmK5EOCLjZGYupvhhyKPjyr-kS3DftPICg=s64",
      "userId": "11416361730564561965"
     },
     "user_tz": -540
    },
    "id": "EBO15v5qY0nC",
    "outputId": "c2d9070e-9cf4-4c36-bffe-641cf129f5ba"
   },
   "outputs": [
    {
     "name": "stdout",
     "output_type": "stream",
     "text": [
      "Epoch 1/200\n",
      "5/5 [==============================] - 0s 2ms/step - loss: 1.3784 - accuracy: 0.2933\n",
      "Epoch 2/200\n",
      "5/5 [==============================] - 0s 1ms/step - loss: 1.3248 - accuracy: 0.2267\n",
      "Epoch 3/200\n",
      "5/5 [==============================] - 0s 2ms/step - loss: 1.2818 - accuracy: 0.1933\n",
      "Epoch 4/200\n",
      "5/5 [==============================] - 0s 2ms/step - loss: 1.2452 - accuracy: 0.2600\n",
      "Epoch 5/200\n",
      "5/5 [==============================] - 0s 2ms/step - loss: 1.2082 - accuracy: 0.3200\n",
      "Epoch 6/200\n",
      "5/5 [==============================] - 0s 2ms/step - loss: 1.1783 - accuracy: 0.3333\n",
      "Epoch 7/200\n",
      "5/5 [==============================] - 0s 1ms/step - loss: 1.1550 - accuracy: 0.3333\n",
      "Epoch 8/200\n",
      "5/5 [==============================] - 0s 1ms/step - loss: 1.1344 - accuracy: 0.3333\n",
      "Epoch 9/200\n",
      "5/5 [==============================] - 0s 1ms/step - loss: 1.1143 - accuracy: 0.3333\n",
      "Epoch 10/200\n",
      "5/5 [==============================] - 0s 1ms/step - loss: 1.0979 - accuracy: 0.3867\n",
      "Epoch 11/200\n",
      "5/5 [==============================] - 0s 1ms/step - loss: 1.0817 - accuracy: 0.5000\n",
      "Epoch 12/200\n",
      "5/5 [==============================] - 0s 1ms/step - loss: 1.0658 - accuracy: 0.5533\n",
      "Epoch 13/200\n",
      "5/5 [==============================] - 0s 1ms/step - loss: 1.0532 - accuracy: 0.5600\n",
      "Epoch 14/200\n",
      "5/5 [==============================] - 0s 1ms/step - loss: 1.0405 - accuracy: 0.5800\n",
      "Epoch 15/200\n",
      "5/5 [==============================] - 0s 1ms/step - loss: 1.0298 - accuracy: 0.5867\n",
      "Epoch 16/200\n",
      "5/5 [==============================] - 0s 1ms/step - loss: 1.0177 - accuracy: 0.6133\n",
      "Epoch 17/200\n",
      "5/5 [==============================] - 0s 1ms/step - loss: 1.0071 - accuracy: 0.6200\n",
      "Epoch 18/200\n",
      "5/5 [==============================] - 0s 1ms/step - loss: 0.9977 - accuracy: 0.6333\n",
      "Epoch 19/200\n",
      "5/5 [==============================] - 0s 1ms/step - loss: 0.9872 - accuracy: 0.7000\n",
      "Epoch 20/200\n",
      "5/5 [==============================] - 0s 1ms/step - loss: 0.9776 - accuracy: 0.7667\n",
      "Epoch 21/200\n",
      "5/5 [==============================] - 0s 1ms/step - loss: 0.9682 - accuracy: 0.7667\n",
      "Epoch 22/200\n",
      "5/5 [==============================] - 0s 1ms/step - loss: 0.9583 - accuracy: 0.7733\n",
      "Epoch 23/200\n",
      "5/5 [==============================] - 0s 1ms/step - loss: 0.9492 - accuracy: 0.8000\n",
      "Epoch 24/200\n",
      "5/5 [==============================] - 0s 1ms/step - loss: 0.9403 - accuracy: 0.8067\n",
      "Epoch 25/200\n",
      "5/5 [==============================] - 0s 1ms/step - loss: 0.9309 - accuracy: 0.8067\n",
      "Epoch 26/200\n",
      "5/5 [==============================] - 0s 1ms/step - loss: 0.9216 - accuracy: 0.8200\n",
      "Epoch 27/200\n",
      "5/5 [==============================] - 0s 1ms/step - loss: 0.9126 - accuracy: 0.8133\n",
      "Epoch 28/200\n",
      "5/5 [==============================] - 0s 1ms/step - loss: 0.9034 - accuracy: 0.8133\n",
      "Epoch 29/200\n",
      "5/5 [==============================] - 0s 1ms/step - loss: 0.8949 - accuracy: 0.8133\n",
      "Epoch 30/200\n",
      "5/5 [==============================] - 0s 1ms/step - loss: 0.8849 - accuracy: 0.8200\n",
      "Epoch 31/200\n",
      "5/5 [==============================] - 0s 1ms/step - loss: 0.8757 - accuracy: 0.8467\n",
      "Epoch 32/200\n",
      "5/5 [==============================] - 0s 1ms/step - loss: 0.8663 - accuracy: 0.8600\n",
      "Epoch 33/200\n",
      "5/5 [==============================] - 0s 1ms/step - loss: 0.8566 - accuracy: 0.8733\n",
      "Epoch 34/200\n",
      "5/5 [==============================] - 0s 1ms/step - loss: 0.8466 - accuracy: 0.8733\n",
      "Epoch 35/200\n",
      "5/5 [==============================] - 0s 1ms/step - loss: 0.8366 - accuracy: 0.8733\n",
      "Epoch 36/200\n",
      "5/5 [==============================] - 0s 1ms/step - loss: 0.8264 - accuracy: 0.8733\n",
      "Epoch 37/200\n",
      "5/5 [==============================] - 0s 1ms/step - loss: 0.8161 - accuracy: 0.8733\n",
      "Epoch 38/200\n",
      "5/5 [==============================] - 0s 1ms/step - loss: 0.8058 - accuracy: 0.8800\n",
      "Epoch 39/200\n",
      "5/5 [==============================] - 0s 1ms/step - loss: 0.7959 - accuracy: 0.8600\n",
      "Epoch 40/200\n",
      "5/5 [==============================] - 0s 1ms/step - loss: 0.7844 - accuracy: 0.8800\n",
      "Epoch 41/200\n",
      "5/5 [==============================] - 0s 1ms/step - loss: 0.7731 - accuracy: 0.8867\n",
      "Epoch 42/200\n",
      "5/5 [==============================] - 0s 1ms/step - loss: 0.7622 - accuracy: 0.8867\n",
      "Epoch 43/200\n",
      "5/5 [==============================] - 0s 1ms/step - loss: 0.7512 - accuracy: 0.8800\n",
      "Epoch 44/200\n",
      "5/5 [==============================] - 0s 1ms/step - loss: 0.7399 - accuracy: 0.8800\n",
      "Epoch 45/200\n",
      "5/5 [==============================] - 0s 1ms/step - loss: 0.7296 - accuracy: 0.8867\n",
      "Epoch 46/200\n",
      "5/5 [==============================] - 0s 1ms/step - loss: 0.7179 - accuracy: 0.8867\n",
      "Epoch 47/200\n",
      "5/5 [==============================] - 0s 1ms/step - loss: 0.7056 - accuracy: 0.9067\n",
      "Epoch 48/200\n",
      "5/5 [==============================] - 0s 1ms/step - loss: 0.6944 - accuracy: 0.9067\n",
      "Epoch 49/200\n",
      "5/5 [==============================] - 0s 2ms/step - loss: 0.6833 - accuracy: 0.9067\n",
      "Epoch 50/200\n",
      "5/5 [==============================] - 0s 1ms/step - loss: 0.6721 - accuracy: 0.9000\n",
      "Epoch 51/200\n",
      "5/5 [==============================] - 0s 1ms/step - loss: 0.6611 - accuracy: 0.9200\n",
      "Epoch 52/200\n",
      "5/5 [==============================] - 0s 1ms/step - loss: 0.6492 - accuracy: 0.9067\n",
      "Epoch 53/200\n",
      "5/5 [==============================] - 0s 1ms/step - loss: 0.6389 - accuracy: 0.9200\n",
      "Epoch 54/200\n",
      "5/5 [==============================] - 0s 2ms/step - loss: 0.6281 - accuracy: 0.9000\n",
      "Epoch 55/200\n",
      "5/5 [==============================] - 0s 1ms/step - loss: 0.6173 - accuracy: 0.9000\n",
      "Epoch 56/200\n",
      "5/5 [==============================] - 0s 1ms/step - loss: 0.6063 - accuracy: 0.9200\n",
      "Epoch 57/200\n",
      "5/5 [==============================] - 0s 1ms/step - loss: 0.5962 - accuracy: 0.9333\n",
      "Epoch 58/200\n",
      "5/5 [==============================] - 0s 1ms/step - loss: 0.5861 - accuracy: 0.9267\n",
      "Epoch 59/200\n",
      "5/5 [==============================] - 0s 1ms/step - loss: 0.5767 - accuracy: 0.9200\n",
      "Epoch 60/200\n",
      "5/5 [==============================] - 0s 1ms/step - loss: 0.5669 - accuracy: 0.9200\n",
      "Epoch 61/200\n",
      "5/5 [==============================] - 0s 1ms/step - loss: 0.5567 - accuracy: 0.9333\n",
      "Epoch 62/200\n",
      "5/5 [==============================] - 0s 1ms/step - loss: 0.5472 - accuracy: 0.9267\n",
      "Epoch 63/200\n",
      "5/5 [==============================] - 0s 1ms/step - loss: 0.5388 - accuracy: 0.9333\n",
      "Epoch 64/200\n",
      "5/5 [==============================] - 0s 1ms/step - loss: 0.5294 - accuracy: 0.9333\n",
      "Epoch 65/200\n",
      "5/5 [==============================] - 0s 1ms/step - loss: 0.5207 - accuracy: 0.9333\n",
      "Epoch 66/200\n",
      "5/5 [==============================] - 0s 1ms/step - loss: 0.5117 - accuracy: 0.9333\n",
      "Epoch 67/200\n",
      "5/5 [==============================] - 0s 1ms/step - loss: 0.5034 - accuracy: 0.9333\n",
      "Epoch 68/200\n",
      "5/5 [==============================] - 0s 1ms/step - loss: 0.4959 - accuracy: 0.9400\n",
      "Epoch 69/200\n",
      "5/5 [==============================] - 0s 1ms/step - loss: 0.4873 - accuracy: 0.9333\n",
      "Epoch 70/200\n",
      "5/5 [==============================] - 0s 1ms/step - loss: 0.4793 - accuracy: 0.9333\n",
      "Epoch 71/200\n",
      "5/5 [==============================] - 0s 1ms/step - loss: 0.4718 - accuracy: 0.9400\n",
      "Epoch 72/200\n",
      "5/5 [==============================] - 0s 997us/step - loss: 0.4643 - accuracy: 0.9467\n",
      "Epoch 73/200\n",
      "5/5 [==============================] - 0s 1ms/step - loss: 0.4569 - accuracy: 0.9400\n",
      "Epoch 74/200\n",
      "5/5 [==============================] - 0s 1ms/step - loss: 0.4500 - accuracy: 0.9400\n",
      "Epoch 75/200\n",
      "5/5 [==============================] - 0s 1ms/step - loss: 0.4430 - accuracy: 0.9400\n",
      "Epoch 76/200\n",
      "5/5 [==============================] - 0s 1ms/step - loss: 0.4360 - accuracy: 0.9467\n",
      "Epoch 77/200\n",
      "5/5 [==============================] - 0s 1ms/step - loss: 0.4296 - accuracy: 0.9400\n",
      "Epoch 78/200\n",
      "5/5 [==============================] - 0s 1ms/step - loss: 0.4230 - accuracy: 0.9467\n",
      "Epoch 79/200\n",
      "5/5 [==============================] - 0s 1ms/step - loss: 0.4167 - accuracy: 0.9467\n",
      "Epoch 80/200\n",
      "5/5 [==============================] - 0s 1ms/step - loss: 0.4115 - accuracy: 0.9467\n",
      "Epoch 81/200\n",
      "5/5 [==============================] - 0s 1ms/step - loss: 0.4044 - accuracy: 0.9533\n",
      "Epoch 82/200\n",
      "5/5 [==============================] - 0s 1ms/step - loss: 0.3990 - accuracy: 0.9467\n",
      "Epoch 83/200\n",
      "5/5 [==============================] - 0s 1ms/step - loss: 0.3928 - accuracy: 0.9600\n",
      "Epoch 84/200\n"
     ]
    },
    {
     "name": "stdout",
     "output_type": "stream",
     "text": [
      "5/5 [==============================] - 0s 1ms/step - loss: 0.3872 - accuracy: 0.9533\n",
      "Epoch 85/200\n",
      "5/5 [==============================] - 0s 1ms/step - loss: 0.3817 - accuracy: 0.9533\n",
      "Epoch 86/200\n",
      "5/5 [==============================] - 0s 1ms/step - loss: 0.3769 - accuracy: 0.9600\n",
      "Epoch 87/200\n",
      "5/5 [==============================] - 0s 1ms/step - loss: 0.3722 - accuracy: 0.9600\n",
      "Epoch 88/200\n",
      "5/5 [==============================] - 0s 1ms/step - loss: 0.3662 - accuracy: 0.9733\n",
      "Epoch 89/200\n",
      "5/5 [==============================] - 0s 1ms/step - loss: 0.3609 - accuracy: 0.9600\n",
      "Epoch 90/200\n",
      "5/5 [==============================] - 0s 1ms/step - loss: 0.3567 - accuracy: 0.9533\n",
      "Epoch 91/200\n",
      "5/5 [==============================] - 0s 1ms/step - loss: 0.3520 - accuracy: 0.9600\n",
      "Epoch 92/200\n",
      "5/5 [==============================] - 0s 1ms/step - loss: 0.3469 - accuracy: 0.9600\n",
      "Epoch 93/200\n",
      "5/5 [==============================] - 0s 1ms/step - loss: 0.3421 - accuracy: 0.9600\n",
      "Epoch 94/200\n",
      "5/5 [==============================] - 0s 992us/step - loss: 0.3374 - accuracy: 0.9800\n",
      "Epoch 95/200\n",
      "5/5 [==============================] - 0s 1ms/step - loss: 0.3340 - accuracy: 0.9667\n",
      "Epoch 96/200\n",
      "5/5 [==============================] - 0s 1ms/step - loss: 0.3291 - accuracy: 0.9733\n",
      "Epoch 97/200\n",
      "5/5 [==============================] - 0s 1ms/step - loss: 0.3276 - accuracy: 0.9733\n",
      "Epoch 98/200\n",
      "5/5 [==============================] - 0s 1ms/step - loss: 0.3205 - accuracy: 0.9733\n",
      "Epoch 99/200\n",
      "5/5 [==============================] - 0s 1ms/step - loss: 0.3179 - accuracy: 0.9600\n",
      "Epoch 100/200\n",
      "5/5 [==============================] - 0s 1ms/step - loss: 0.3088 - accuracy: 0.9600\n",
      "Epoch 101/200\n",
      "5/5 [==============================] - 0s 1ms/step - loss: 0.2999 - accuracy: 0.9733\n",
      "Epoch 102/200\n",
      "5/5 [==============================] - 0s 1ms/step - loss: 0.2939 - accuracy: 0.9800\n",
      "Epoch 103/200\n",
      "5/5 [==============================] - 0s 1ms/step - loss: 0.2879 - accuracy: 0.9667\n",
      "Epoch 104/200\n",
      "5/5 [==============================] - 0s 1ms/step - loss: 0.2838 - accuracy: 0.9733\n",
      "Epoch 105/200\n",
      "5/5 [==============================] - 0s 1ms/step - loss: 0.2783 - accuracy: 0.9733\n",
      "Epoch 106/200\n",
      "5/5 [==============================] - 0s 1ms/step - loss: 0.2737 - accuracy: 0.9800\n",
      "Epoch 107/200\n",
      "5/5 [==============================] - 0s 1ms/step - loss: 0.2700 - accuracy: 0.9667\n",
      "Epoch 108/200\n",
      "5/5 [==============================] - 0s 1ms/step - loss: 0.2655 - accuracy: 0.9733\n",
      "Epoch 109/200\n",
      "5/5 [==============================] - 0s 1ms/step - loss: 0.2617 - accuracy: 0.9800\n",
      "Epoch 110/200\n",
      "5/5 [==============================] - 0s 1ms/step - loss: 0.2581 - accuracy: 0.9800\n",
      "Epoch 111/200\n",
      "5/5 [==============================] - 0s 1ms/step - loss: 0.2542 - accuracy: 0.9667\n",
      "Epoch 112/200\n",
      "5/5 [==============================] - 0s 1ms/step - loss: 0.2505 - accuracy: 0.9667\n",
      "Epoch 113/200\n",
      "5/5 [==============================] - 0s 1ms/step - loss: 0.2474 - accuracy: 0.9800\n",
      "Epoch 114/200\n",
      "5/5 [==============================] - 0s 1ms/step - loss: 0.2439 - accuracy: 0.9800\n",
      "Epoch 115/200\n",
      "5/5 [==============================] - 0s 1ms/step - loss: 0.2405 - accuracy: 0.9800\n",
      "Epoch 116/200\n",
      "5/5 [==============================] - 0s 1ms/step - loss: 0.2381 - accuracy: 0.9733\n",
      "Epoch 117/200\n",
      "5/5 [==============================] - 0s 1ms/step - loss: 0.2339 - accuracy: 0.9733\n",
      "Epoch 118/200\n",
      "5/5 [==============================] - 0s 1ms/step - loss: 0.2312 - accuracy: 0.9800\n",
      "Epoch 119/200\n",
      "5/5 [==============================] - 0s 1ms/step - loss: 0.2283 - accuracy: 0.9800\n",
      "Epoch 120/200\n",
      "5/5 [==============================] - 0s 1ms/step - loss: 0.2261 - accuracy: 0.9800\n",
      "Epoch 121/200\n",
      "5/5 [==============================] - 0s 1ms/step - loss: 0.2226 - accuracy: 0.9800\n",
      "Epoch 122/200\n",
      "5/5 [==============================] - 0s 2ms/step - loss: 0.2200 - accuracy: 0.9667\n",
      "Epoch 123/200\n",
      "5/5 [==============================] - 0s 1ms/step - loss: 0.2175 - accuracy: 0.9667\n",
      "Epoch 124/200\n",
      "5/5 [==============================] - 0s 1ms/step - loss: 0.2148 - accuracy: 0.9800\n",
      "Epoch 125/200\n",
      "5/5 [==============================] - 0s 1ms/step - loss: 0.2126 - accuracy: 0.9800\n",
      "Epoch 126/200\n",
      "5/5 [==============================] - 0s 1ms/step - loss: 0.2103 - accuracy: 0.9800\n",
      "Epoch 127/200\n",
      "5/5 [==============================] - 0s 1ms/step - loss: 0.2073 - accuracy: 0.9800\n",
      "Epoch 128/200\n",
      "5/5 [==============================] - 0s 1ms/step - loss: 0.2050 - accuracy: 0.9800\n",
      "Epoch 129/200\n",
      "5/5 [==============================] - 0s 1ms/step - loss: 0.2033 - accuracy: 0.9800\n",
      "Epoch 130/200\n",
      "5/5 [==============================] - 0s 1ms/step - loss: 0.2002 - accuracy: 0.9733\n",
      "Epoch 131/200\n",
      "5/5 [==============================] - 0s 1ms/step - loss: 0.1986 - accuracy: 0.9667\n",
      "Epoch 132/200\n",
      "5/5 [==============================] - 0s 1ms/step - loss: 0.1977 - accuracy: 0.9667\n",
      "Epoch 133/200\n",
      "5/5 [==============================] - 0s 1ms/step - loss: 0.1954 - accuracy: 0.9733\n",
      "Epoch 134/200\n",
      "5/5 [==============================] - 0s 1ms/step - loss: 0.1934 - accuracy: 0.9800\n",
      "Epoch 135/200\n",
      "5/5 [==============================] - 0s 1ms/step - loss: 0.1899 - accuracy: 0.9800\n",
      "Epoch 136/200\n",
      "5/5 [==============================] - 0s 1ms/step - loss: 0.1877 - accuracy: 0.9800\n",
      "Epoch 137/200\n",
      "5/5 [==============================] - 0s 1ms/step - loss: 0.1861 - accuracy: 0.9667\n",
      "Epoch 138/200\n",
      "5/5 [==============================] - 0s 992us/step - loss: 0.1838 - accuracy: 0.9667\n",
      "Epoch 139/200\n",
      "5/5 [==============================] - 0s 1ms/step - loss: 0.1829 - accuracy: 0.9733\n",
      "Epoch 140/200\n",
      "5/5 [==============================] - 0s 1ms/step - loss: 0.1807 - accuracy: 0.9800\n",
      "Epoch 141/200\n",
      "5/5 [==============================] - 0s 1ms/step - loss: 0.1782 - accuracy: 0.9800\n",
      "Epoch 142/200\n",
      "5/5 [==============================] - 0s 1ms/step - loss: 0.1768 - accuracy: 0.9800\n",
      "Epoch 143/200\n",
      "5/5 [==============================] - 0s 1ms/step - loss: 0.1748 - accuracy: 0.9733\n",
      "Epoch 144/200\n",
      "5/5 [==============================] - 0s 1ms/step - loss: 0.1730 - accuracy: 0.9800\n",
      "Epoch 145/200\n",
      "5/5 [==============================] - 0s 1ms/step - loss: 0.1716 - accuracy: 0.9733\n",
      "Epoch 146/200\n",
      "5/5 [==============================] - 0s 1ms/step - loss: 0.1696 - accuracy: 0.9733\n",
      "Epoch 147/200\n",
      "5/5 [==============================] - 0s 1ms/step - loss: 0.1679 - accuracy: 0.9800\n",
      "Epoch 148/200\n",
      "5/5 [==============================] - 0s 1ms/step - loss: 0.1667 - accuracy: 0.9800\n",
      "Epoch 149/200\n",
      "5/5 [==============================] - 0s 1ms/step - loss: 0.1649 - accuracy: 0.9800\n",
      "Epoch 150/200\n",
      "5/5 [==============================] - 0s 1ms/step - loss: 0.1637 - accuracy: 0.9800\n",
      "Epoch 151/200\n",
      "5/5 [==============================] - 0s 998us/step - loss: 0.1621 - accuracy: 0.9800\n",
      "Epoch 152/200\n",
      "5/5 [==============================] - 0s 1ms/step - loss: 0.1609 - accuracy: 0.9733\n",
      "Epoch 153/200\n",
      "5/5 [==============================] - 0s 1ms/step - loss: 0.1595 - accuracy: 0.9667\n",
      "Epoch 154/200\n",
      "5/5 [==============================] - 0s 1ms/step - loss: 0.1569 - accuracy: 0.9800\n",
      "Epoch 155/200\n",
      "5/5 [==============================] - 0s 1ms/step - loss: 0.1558 - accuracy: 0.9800\n",
      "Epoch 156/200\n",
      "5/5 [==============================] - 0s 1ms/step - loss: 0.1549 - accuracy: 0.9800\n",
      "Epoch 157/200\n",
      "5/5 [==============================] - 0s 1ms/step - loss: 0.1537 - accuracy: 0.9800\n",
      "Epoch 158/200\n",
      "5/5 [==============================] - 0s 1ms/step - loss: 0.1515 - accuracy: 0.9800\n",
      "Epoch 159/200\n",
      "5/5 [==============================] - 0s 1ms/step - loss: 0.1516 - accuracy: 0.9667\n",
      "Epoch 160/200\n",
      "5/5 [==============================] - 0s 1ms/step - loss: 0.1500 - accuracy: 0.9733\n",
      "Epoch 161/200\n",
      "5/5 [==============================] - 0s 1ms/step - loss: 0.1487 - accuracy: 0.9800\n",
      "Epoch 162/200\n",
      "5/5 [==============================] - 0s 1ms/step - loss: 0.1473 - accuracy: 0.9800\n",
      "Epoch 163/200\n",
      "5/5 [==============================] - 0s 1ms/step - loss: 0.1458 - accuracy: 0.9800\n",
      "Epoch 164/200\n",
      "5/5 [==============================] - 0s 1ms/step - loss: 0.1448 - accuracy: 0.9800\n",
      "Epoch 165/200\n",
      "5/5 [==============================] - 0s 1ms/step - loss: 0.1432 - accuracy: 0.9800\n",
      "Epoch 166/200\n",
      "5/5 [==============================] - 0s 1ms/step - loss: 0.1424 - accuracy: 0.9800\n"
     ]
    },
    {
     "name": "stdout",
     "output_type": "stream",
     "text": [
      "Epoch 167/200\n",
      "5/5 [==============================] - 0s 1ms/step - loss: 0.1408 - accuracy: 0.9800\n",
      "Epoch 168/200\n",
      "5/5 [==============================] - 0s 2ms/step - loss: 0.1398 - accuracy: 0.9800\n",
      "Epoch 169/200\n",
      "5/5 [==============================] - 0s 1ms/step - loss: 0.1393 - accuracy: 0.9800\n",
      "Epoch 170/200\n",
      "5/5 [==============================] - 0s 1ms/step - loss: 0.1384 - accuracy: 0.9800\n",
      "Epoch 171/200\n",
      "5/5 [==============================] - 0s 1ms/step - loss: 0.1368 - accuracy: 0.9733\n",
      "Epoch 172/200\n",
      "5/5 [==============================] - 0s 1ms/step - loss: 0.1356 - accuracy: 0.9800\n",
      "Epoch 173/200\n",
      "5/5 [==============================] - 0s 1ms/step - loss: 0.1347 - accuracy: 0.9800\n",
      "Epoch 174/200\n",
      "5/5 [==============================] - 0s 1ms/step - loss: 0.1336 - accuracy: 0.9800\n",
      "Epoch 175/200\n",
      "5/5 [==============================] - 0s 1ms/step - loss: 0.1335 - accuracy: 0.9733\n",
      "Epoch 176/200\n",
      "5/5 [==============================] - 0s 1ms/step - loss: 0.1313 - accuracy: 0.9733\n",
      "Epoch 177/200\n",
      "5/5 [==============================] - 0s 1ms/step - loss: 0.1306 - accuracy: 0.9800\n",
      "Epoch 178/200\n",
      "5/5 [==============================] - 0s 1ms/step - loss: 0.1297 - accuracy: 0.9800\n",
      "Epoch 179/200\n",
      "5/5 [==============================] - 0s 1ms/step - loss: 0.1289 - accuracy: 0.9800\n",
      "Epoch 180/200\n",
      "5/5 [==============================] - 0s 1ms/step - loss: 0.1275 - accuracy: 0.9800\n",
      "Epoch 181/200\n",
      "5/5 [==============================] - 0s 1ms/step - loss: 0.1269 - accuracy: 0.9800\n",
      "Epoch 182/200\n",
      "5/5 [==============================] - 0s 1ms/step - loss: 0.1261 - accuracy: 0.9800\n",
      "Epoch 183/200\n",
      "5/5 [==============================] - 0s 1ms/step - loss: 0.1251 - accuracy: 0.9800\n",
      "Epoch 184/200\n",
      "5/5 [==============================] - 0s 1ms/step - loss: 0.1246 - accuracy: 0.9800\n",
      "Epoch 185/200\n",
      "5/5 [==============================] - 0s 1ms/step - loss: 0.1236 - accuracy: 0.9733\n",
      "Epoch 186/200\n",
      "5/5 [==============================] - 0s 1ms/step - loss: 0.1224 - accuracy: 0.9800\n",
      "Epoch 187/200\n",
      "5/5 [==============================] - 0s 1ms/step - loss: 0.1217 - accuracy: 0.9800\n",
      "Epoch 188/200\n",
      "5/5 [==============================] - 0s 1ms/step - loss: 0.1211 - accuracy: 0.9800\n",
      "Epoch 189/200\n",
      "5/5 [==============================] - 0s 1ms/step - loss: 0.1208 - accuracy: 0.9800\n",
      "Epoch 190/200\n",
      "5/5 [==============================] - 0s 1ms/step - loss: 0.1200 - accuracy: 0.9800\n",
      "Epoch 191/200\n",
      "5/5 [==============================] - 0s 1ms/step - loss: 0.1187 - accuracy: 0.9800\n",
      "Epoch 192/200\n",
      "5/5 [==============================] - 0s 1ms/step - loss: 0.1180 - accuracy: 0.9800\n",
      "Epoch 193/200\n",
      "5/5 [==============================] - 0s 1ms/step - loss: 0.1181 - accuracy: 0.9733\n",
      "Epoch 194/200\n",
      "5/5 [==============================] - 0s 1ms/step - loss: 0.1167 - accuracy: 0.9800\n",
      "Epoch 195/200\n",
      "5/5 [==============================] - 0s 1ms/step - loss: 0.1158 - accuracy: 0.9800\n",
      "Epoch 196/200\n",
      "5/5 [==============================] - 0s 997us/step - loss: 0.1165 - accuracy: 0.9800\n",
      "Epoch 197/200\n",
      "5/5 [==============================] - 0s 1ms/step - loss: 0.1152 - accuracy: 0.9800\n",
      "Epoch 198/200\n",
      "5/5 [==============================] - 0s 1ms/step - loss: 0.1143 - accuracy: 0.9800\n",
      "Epoch 199/200\n",
      "5/5 [==============================] - 0s 1ms/step - loss: 0.1131 - accuracy: 0.9800\n",
      "Epoch 200/200\n",
      "5/5 [==============================] - 0s 1ms/step - loss: 0.1130 - accuracy: 0.9800\n"
     ]
    }
   ],
   "source": [
    "history = model.fit(iris['data'], iris['target'], batch_size=32, epochs=200)"
   ]
  },
  {
   "cell_type": "code",
   "execution_count": 11,
   "metadata": {
    "colab": {
     "base_uri": "https://localhost:8080/",
     "height": 342
    },
    "executionInfo": {
     "elapsed": 977,
     "status": "ok",
     "timestamp": 1606360399670,
     "user": {
      "displayName": "Heecheol Cho",
      "photoUrl": "https://lh3.googleusercontent.com/a-/AOh14GjX329YmmK5EOCLjZGYupvhhyKPjyr-kS3DftPICg=s64",
      "userId": "11416361730564561965"
     },
     "user_tz": -540
    },
    "id": "D8E_LYEhY0nC",
    "outputId": "42865915-0a81-4457-cac7-24fe2c75a1ac"
   },
   "outputs": [
    {
     "data": {
      "text/plain": [
       "[<matplotlib.lines.Line2D at 0x2088c9c0860>]"
      ]
     },
     "execution_count": 11,
     "metadata": {},
     "output_type": "execute_result"
    },
    {
     "data": {
      "image/png": "[encoded data removed]",
      "text/plain": [
       "<Figure size 1440x360 with 2 Axes>"
      ]
     },
     "metadata": {
      "needs_background": "light"
     },
     "output_type": "display_data"
    }
   ],
   "source": [
    "plt.figure(figsize=(20,5))\n",
    "plt.subplot(1,2,1)\n",
    "plt.plot(history.history[\"accuracy\"], label=\"train accuracy\")\n",
    "plt.ylim([0,1])\n",
    "plt.subplot(1,2,2)\n",
    "plt.plot(history.history[\"loss\"], label=\"train loss\")"
   ]
  },
  {
   "cell_type": "code",
   "execution_count": null,
   "metadata": {
    "id": "Cm85-sekY0nC"
   },
   "outputs": [],
   "source": []
  },
  {
   "cell_type": "markdown",
   "metadata": {
    "id": "ETddkxv9Y0nC"
   },
   "source": [
    "## Simple Deep Lerning Model with Pytorch(IRIS)\n",
    "  * tensorflow 보다 learning rate에 더 민감하다.\n",
    "  * weight 초기화는 효과가 없다.\n",
    "  * learning rate을 낮게 하고, train 횟수를 늘이면, 수렴은 한다."
   ]
  },
  {
   "cell_type": "code",
   "execution_count": 1,
   "metadata": {
    "id": "UMy-k4rsY0nC"
   },
   "outputs": [],
   "source": [
    "from sklearn import datasets\n",
    "import torch\n",
    "from torch import nn,optim\n",
    "from torch.utils.data import Dataset, DataLoader, TensorDataset\n",
    "import numpy as np\n",
    "import tqdm\n",
    "from sklearn import preprocessing\n",
    "import matplotlib.pyplot as plt\n",
    "iris = datasets.load_iris()   # dict_keys(['data', 'target', 'frame', 'target_names', 'DESCR', 'feature_names', 'filename'])"
   ]
  },
  {
   "cell_type": "code",
   "execution_count": 2,
   "metadata": {
    "id": "MPSwcOanY0nC"
   },
   "outputs": [],
   "source": [
    "def weights_init(m):\n",
    "    if type(m) == nn.Linear:\n",
    "        #torch.nn.init.xavier_normal_(m.weight)\n",
    "        torch.nn.init.normal_(m.weight, mean=0.0, std=0.1)\n",
    "        torch.nn.init.zeros_(m.bias)  # m.bias.data.fill_(0.)  \n",
    "    elif isinstance(m, nn.Conv2d):\n",
    "        torch.nn.init.xavier_uniform_(m.weight)\n",
    "        torch.nn.init.zeros_(m.bias) \n",
    "\n",
    "model = nn.Sequential(nn.Linear(4,10),nn.ReLU(),nn.Linear(10,10),nn.ReLU(),nn.Linear(10,3))\n",
    "#model.apply(weights_init)  # apply는 nn.Module로 부터 상속."
   ]
  },
  {
   "cell_type": "code",
   "execution_count": 3,
   "metadata": {
    "id": "ihCAjBKNY0nC"
   },
   "outputs": [
    {
     "name": "stdout",
     "output_type": "stream",
     "text": [
      "torch.Size([150, 4]) torch.Size([150])\n"
     ]
    }
   ],
   "source": [
    "normal_flag = False\n",
    "\n",
    "if normal_flag:\n",
    "    stdand_scaler = preprocessing.StandardScaler()\n",
    "    data_x = stdand_scaler.fit_transform(iris['data'])  # ---> numpy array\n",
    "else:\n",
    "    data_x = iris['data']\n",
    "\n",
    "X = torch.tensor(data_x, dtype=torch.float32)\n",
    "Y = torch.tensor(iris['target'],dtype=torch.long)\n",
    "ds = TensorDataset(X,Y)  # tensor가 들어가야 한다.\n",
    "loader = DataLoader(ds, batch_size=32, shuffle=True)\n",
    "print(X.shape, Y.shape)"
   ]
  },
  {
   "cell_type": "code",
   "execution_count": 4,
   "metadata": {
    "colab": {
     "base_uri": "https://localhost:8080/"
    },
    "executionInfo": {
     "elapsed": 659,
     "status": "ok",
     "timestamp": 1606360457866,
     "user": {
      "displayName": "Heecheol Cho",
      "photoUrl": "https://lh3.googleusercontent.com/a-/AOh14GjX329YmmK5EOCLjZGYupvhhyKPjyr-kS3DftPICg=s64",
      "userId": "11416361730564561965"
     },
     "user_tz": -540
    },
    "id": "wDkXrUTBY0nC",
    "outputId": "04d9b6ed-376d-4f57-e880-6b6b5ad1a166"
   },
   "outputs": [
    {
     "name": "stdout",
     "output_type": "stream",
     "text": [
      "Sequential(\n",
      "  (0): Linear(in_features=4, out_features=10, bias=True)\n",
      "  (1): ReLU()\n",
      "  (2): Linear(in_features=10, out_features=10, bias=True)\n",
      "  (3): ReLU()\n",
      "  (4): Linear(in_features=10, out_features=3, bias=True)\n",
      ")\n"
     ]
    }
   ],
   "source": [
    "print(model)"
   ]
  },
  {
   "cell_type": "code",
   "execution_count": 5,
   "metadata": {
    "id": "hH9NiD7lY0nC"
   },
   "outputs": [],
   "source": [
    "loss_fn = nn.CrossEntropyLoss()  # 넘길 때, (N,C), (N,)  <--- logit & one_hot으로 변환하지 않는 target을 넘긴다.\n",
    "optimizer = optim.Adam(model.parameters(),lr=0.001)   # tensorflow와 달리 lr=0.0001일 때, 잘된다."
   ]
  },
  {
   "cell_type": "code",
   "execution_count": 6,
   "metadata": {
    "colab": {
     "base_uri": "https://localhost:8080/"
    },
    "executionInfo": {
     "elapsed": 1675,
     "status": "ok",
     "timestamp": 1606360462306,
     "user": {
      "displayName": "Heecheol Cho",
      "photoUrl": "https://lh3.googleusercontent.com/a-/AOh14GjX329YmmK5EOCLjZGYupvhhyKPjyr-kS3DftPICg=s64",
      "userId": "11416361730564561965"
     },
     "user_tz": -540
    },
    "id": "lbm84JUBY0nC",
    "outputId": "2e115a0a-029a-44ed-bae5-863f09582a9b",
    "scrolled": false
   },
   "outputs": [
    {
     "name": "stdout",
     "output_type": "stream",
     "text": [
      "cuda\n",
      "epoch: 1/200, loss: 1.1742, acc: 0.2200\n",
      "epoch: 11/200, loss: 1.0377, acc: 0.6333\n",
      "epoch: 21/200, loss: 0.8455, acc: 0.6733\n",
      "epoch: 31/200, loss: 0.6275, acc: 0.6867\n",
      "epoch: 41/200, loss: 0.5090, acc: 0.7333\n",
      "epoch: 51/200, loss: 0.4397, acc: 0.9067\n",
      "epoch: 61/200, loss: 0.3825, acc: 0.9533\n",
      "epoch: 71/200, loss: 0.3274, acc: 0.9667\n",
      "epoch: 81/200, loss: 0.2715, acc: 0.9733\n",
      "epoch: 91/200, loss: 0.2201, acc: 0.9667\n",
      "epoch: 101/200, loss: 0.1875, acc: 0.9733\n",
      "epoch: 111/200, loss: 0.1572, acc: 0.9733\n",
      "epoch: 121/200, loss: 0.1391, acc: 0.9667\n",
      "epoch: 131/200, loss: 0.1236, acc: 0.9733\n",
      "epoch: 141/200, loss: 0.1140, acc: 0.9733\n",
      "epoch: 151/200, loss: 0.1021, acc: 0.9733\n",
      "epoch: 161/200, loss: 0.0958, acc: 0.9733\n",
      "epoch: 171/200, loss: 0.1010, acc: 0.9733\n",
      "epoch: 181/200, loss: 0.0879, acc: 0.9733\n",
      "epoch: 191/200, loss: 0.0831, acc: 0.9733\n"
     ]
    }
   ],
   "source": [
    "n_epoch = 200\n",
    "\n",
    "device = torch.device('cuda' if torch.cuda.is_available() else 'cpu')\n",
    "print(device)\n",
    "model.to(device)\n",
    "history_loss = []\n",
    "history_acc  = []\n",
    "for epoch in range(n_epoch):\n",
    "    model.train()\n",
    "    running_loss = []\n",
    "    acc = 0\n",
    "    n = 0\n",
    "    for i,(x,y) in enumerate(loader):\n",
    "        optimizer.zero_grad()\n",
    "        x = x.to(device)\n",
    "        y = y.to(device)\n",
    "        pred = model(x)\n",
    "        loss = loss_fn(pred,y)\n",
    "        loss.backward()\n",
    "        optimizer.step()\n",
    "        running_loss.append(loss.item())\n",
    "        _,pred = pred.max(1)\n",
    "        acc += (pred==y).float().sum().item()\n",
    "        n += len(y)\n",
    "    \n",
    "    history_loss.append(np.mean(running_loss))\n",
    "    history_acc.append(acc/n)\n",
    "    if epoch%10==0:\n",
    "        print('epoch: {}/{}, loss: {:.4f}, acc: {:.4f}'.format(epoch+1,n_epoch,history_loss[-1],history_acc[-1]))\n"
   ]
  },
  {
   "cell_type": "code",
   "execution_count": 7,
   "metadata": {
    "colab": {
     "base_uri": "https://localhost:8080/",
     "height": 342
    },
    "executionInfo": {
     "elapsed": 1071,
     "status": "ok",
     "timestamp": 1606360544401,
     "user": {
      "displayName": "Heecheol Cho",
      "photoUrl": "https://lh3.googleusercontent.com/a-/AOh14GjX329YmmK5EOCLjZGYupvhhyKPjyr-kS3DftPICg=s64",
      "userId": "11416361730564561965"
     },
     "user_tz": -540
    },
    "id": "DF4UOMk5Y0nD",
    "outputId": "fa3d6241-4be2-4ac5-aca3-cabc81f0ad0e"
   },
   "outputs": [
    {
     "data": {
      "text/plain": [
       "[<matplotlib.lines.Line2D at 0x208100c9240>]"
      ]
     },
     "execution_count": 7,
     "metadata": {},
     "output_type": "execute_result"
    },
    {
     "data": {
      "image/png": "[encoded data removed]",
      "text/plain": [
       "<Figure size 1440x360 with 2 Axes>"
      ]
     },
     "metadata": {
      "needs_background": "light"
     },
     "output_type": "display_data"
    }
   ],
   "source": [
    "plt.figure(figsize=(20,5))\n",
    "plt.subplot(1,2,1)\n",
    "plt.plot(history_acc, label=\"train accuracy\")\n",
    "plt.ylim([0,1])\n",
    "plt.subplot(1,2,2)\n",
    "plt.plot(history_loss, label=\"train loss\")"
   ]
  },
  {
   "cell_type": "code",
   "execution_count": null,
   "metadata": {},
   "outputs": [],
   "source": [
    "data = pd.DataFrame(data= np.c_[iris['data'], iris['target']],columns= iris['feature_names'] + ['target'])\n",
    "data.iloc[:,0]"
   ]
  },
  {
   "cell_type": "code",
   "execution_count": null,
   "metadata": {},
   "outputs": [],
   "source": [
    "data"
   ]
  },
  {
   "cell_type": "code",
   "execution_count": null,
   "metadata": {
    "id": "5WAfWZP7Y0nD"
   },
   "outputs": [],
   "source": [
    "\n",
    "data[\"ratio\"] = data.iloc[:,0]/data.iloc[:,1]\n",
    "data['index'] = data.index\n",
    "#sns.lmplot(x=\"ID\", y=\"ratio\", data=iris, hue=\"species\", fit_reg=False, legend=False)\n",
    "#sns.lmplot(x='index',y=\"sepal length (cm)\",data=data,hue='target')\n",
    "sns.lmplot(x='index',y=\"ratio\",data=data,hue='target')\n",
    "plt.legend()\n",
    "plt.show()"
   ]
  },
  {
   "cell_type": "markdown",
   "metadata": {
    "id": "v1TQ1lobY0nD"
   },
   "source": [
    "## Logitic Regression"
   ]
  },
  {
   "cell_type": "code",
   "execution_count": null,
   "metadata": {
    "id": "XBjl26ywY0nD"
   },
   "outputs": [],
   "source": [
    "import numpy as np\n",
    "import matplotlib.pyplot as plt\n",
    "import time\n",
    "import datetime\n",
    "import sys\n",
    "import seaborn as sns\n",
    "import pandas as pd\n",
    "import tensorflow as tf"
   ]
  },
  {
   "cell_type": "code",
   "execution_count": null,
   "metadata": {
    "colab": {
     "base_uri": "https://localhost:8080/",
     "height": 501
    },
    "executionInfo": {
     "elapsed": 1446,
     "status": "ok",
     "timestamp": 1606360624932,
     "user": {
      "displayName": "Heecheol Cho",
      "photoUrl": "https://lh3.googleusercontent.com/a-/AOh14GjX329YmmK5EOCLjZGYupvhhyKPjyr-kS3DftPICg=s64",
      "userId": "11416361730564561965"
     },
     "user_tz": -540
    },
    "id": "7XZmPkPBY0nD",
    "outputId": "e274e2b7-802b-49a0-f427-c52e729530a4"
   },
   "outputs": [],
   "source": [
    "url = 'https://github.com/hccho2/hccho2FirstGitProject/raw/master/mydata2.txt'\n",
    "mydata = np.genfromtxt(url,delimiter=',',dtype=np.float32)\n",
    "A = mydata[:,0:2]\n",
    "B = mydata[:,-1].reshape(-1,1)  # mydata[:,2:3]\n",
    "plt.figure(figsize=(15,8))\n",
    "plt.subplot(1,2,1)\n",
    "plt.scatter(A[:, 0], A[:, 1], c=B[:,0],marker=\">\")\n",
    "plt.subplot(1,2,2)\n",
    "plt.scatter(A[:, 0], A[:, 1], c=B[:,0],marker=\"o\")\n",
    "\n",
    "#A = (A-np.mean(A,0))/np.std(A,0)"
   ]
  },
  {
   "cell_type": "code",
   "execution_count": null,
   "metadata": {
    "colab": {
     "base_uri": "https://localhost:8080/"
    },
    "executionInfo": {
     "elapsed": 618,
     "status": "ok",
     "timestamp": 1606360672113,
     "user": {
      "displayName": "Heecheol Cho",
      "photoUrl": "https://lh3.googleusercontent.com/a-/AOh14GjX329YmmK5EOCLjZGYupvhhyKPjyr-kS3DftPICg=s64",
      "userId": "11416361730564561965"
     },
     "user_tz": -540
    },
    "id": "Cj2LxFybY0nD",
    "outputId": "281a1a3e-2f45-4207-e621-b0c718ae312f"
   },
   "outputs": [],
   "source": [
    "df=pd.DataFrame(data=mydata,columns=['x','y','c'])\n",
    "df.head(5)\n",
    "print(\"data 갯수: \",len(df))"
   ]
  },
  {
   "cell_type": "code",
   "execution_count": null,
   "metadata": {
    "colab": {
     "base_uri": "https://localhost:8080/",
     "height": 297
    },
    "executionInfo": {
     "elapsed": 1023,
     "status": "ok",
     "timestamp": 1606360674527,
     "user": {
      "displayName": "Heecheol Cho",
      "photoUrl": "https://lh3.googleusercontent.com/a-/AOh14GjX329YmmK5EOCLjZGYupvhhyKPjyr-kS3DftPICg=s64",
      "userId": "11416361730564561965"
     },
     "user_tz": -540
    },
    "id": "ar2BvN6aY0nD",
    "outputId": "c60d0666-38ed-402d-b951-bff90e44426a"
   },
   "outputs": [],
   "source": [
    "# pandas dataframe을 넘겨주면 좋다.\n",
    "sns.scatterplot(x='x', \n",
    "                y='y', \n",
    "                hue='c', # different colors by group\n",
    "                style='c', # different shapes by group\n",
    "                s=50, # marker size\n",
    "                data=df)"
   ]
  },
  {
   "cell_type": "code",
   "execution_count": null,
   "metadata": {
    "colab": {
     "base_uri": "https://localhost:8080/"
    },
    "executionInfo": {
     "elapsed": 645,
     "status": "ok",
     "timestamp": 1606360676750,
     "user": {
      "displayName": "Heecheol Cho",
      "photoUrl": "https://lh3.googleusercontent.com/a-/AOh14GjX329YmmK5EOCLjZGYupvhhyKPjyr-kS3DftPICg=s64",
      "userId": "11416361730564561965"
     },
     "user_tz": -540
    },
    "id": "0TPY9MRIY0nD",
    "outputId": "8d6a8245-1f6d-485a-e297-d9095aae2760"
   },
   "outputs": [],
   "source": [
    "model = tf.keras.Sequential([\n",
    "    tf.keras.layers.Dense(10,input_shape=(2,), activation='relu'),  \n",
    "    tf.keras.layers.Dense(1, activation='sigmoid')\n",
    "])\n",
    "optimiser = tf.keras.optimizers.Adam(learning_rate=0.01)  # pytorch와 달리, 0.01 또는 0.001일 때, 잘된다. 0.0001이면 별로...\n",
    "# tf.keras.losses.categorical_crossentropy(y_true, y_pred, from_logits=False, label_smoothing=0)  ---> default: logit이 아니 확률\n",
    "model.compile(optimizer=optimiser, loss=tf.keras.losses.BinaryCrossentropy(), metrics=['accuracy'])  # sparse ---> target이 onthot이 아니어도 된다.\n",
    "model.summary()"
   ]
  },
  {
   "cell_type": "code",
   "execution_count": null,
   "metadata": {
    "colab": {
     "base_uri": "https://localhost:8080/",
     "height": 1000
    },
    "executionInfo": {
     "elapsed": 2429,
     "status": "ok",
     "timestamp": 1606360680605,
     "user": {
      "displayName": "Heecheol Cho",
      "photoUrl": "https://lh3.googleusercontent.com/a-/AOh14GjX329YmmK5EOCLjZGYupvhhyKPjyr-kS3DftPICg=s64",
      "userId": "11416361730564561965"
     },
     "user_tz": -540
    },
    "id": "9y2JFMkFY0nD",
    "outputId": "233a5541-9369-42ec-c748-fc3be6f5c157"
   },
   "outputs": [],
   "source": [
    "# 모델의 output이 (N,1) 이므로, target도 (N,1)이 되어야 한다. target이 (N,)이면 안된다.\n",
    "\n",
    "history = model.fit(A, B, batch_size=64, epochs=100)  # 출력: (N,1), target: (N,1)\n",
    "\n",
    "plt.figure(figsize=(15,8))\n",
    "plt.subplot(1,2,1)\n",
    "plt.plot(history.history[\"accuracy\"], label=\"train accuracy\")\n",
    "plt.ylim([0,1])\n",
    "plt.subplot(1,2,2)\n",
    "plt.plot(history.history[\"loss\"], label=\"train loss\")"
   ]
  },
  {
   "cell_type": "code",
   "execution_count": null,
   "metadata": {
    "colab": {
     "base_uri": "https://localhost:8080/",
     "height": 531
    },
    "executionInfo": {
     "elapsed": 1426,
     "status": "ok",
     "timestamp": 1606360691669,
     "user": {
      "displayName": "Heecheol Cho",
      "photoUrl": "https://lh3.googleusercontent.com/a-/AOh14GjX329YmmK5EOCLjZGYupvhhyKPjyr-kS3DftPICg=s64",
      "userId": "11416361730564561965"
     },
     "user_tz": -540
    },
    "id": "YFrWJH9LY0nD",
    "outputId": "fde0f0ea-d678-4ef8-e7a6-f83eb324a39c"
   },
   "outputs": [],
   "source": [
    "df1=pd.DataFrame(data=mydata,columns=['x','y','target'])\n",
    "\n",
    "prediction = (model.predict(A) > 0.5).astype(np.int)\n",
    "  # np.concatenate([A,prediction],axis=-1)\n",
    "df2=pd.DataFrame(data=np.c_[A,prediction],columns=['x','y','prediction'])\n",
    "# pandas dataframe을 넘겨주어면 좋다.\n",
    "\n",
    "\n",
    "plt.figure(figsize=(15,8))\n",
    "plt.subplot(1,2,1)\n",
    "sns.scatterplot(x='x', \n",
    "                y='y', \n",
    "                hue='target', # different colors by group\n",
    "                style='target', # different shapes by group\n",
    "                s=50, # marker size\n",
    "                data=df1)\n",
    "plt.title('data')\n",
    "\n",
    "\n",
    "plt.subplot(1,2,2)\n",
    "sns.scatterplot(x='x', \n",
    "                y='y', \n",
    "                hue='prediction', # different colors by group\n",
    "                style='prediction', # different shapes by group\n",
    "                s=50, # marker size\n",
    "                data=df2)\n",
    "plt.title('tf prediction')"
   ]
  },
  {
   "cell_type": "markdown",
   "metadata": {
    "id": "kxdzzFKCY0nD"
   },
   "source": [
    "## xgboost for iris dataset"
   ]
  },
  {
   "cell_type": "code",
   "execution_count": null,
   "metadata": {
    "id": "hxV0WYRlY0nD"
   },
   "outputs": [],
   "source": [
    "import pandas as pd\n",
    "from sklearn import datasets\n",
    "from sklearn import preprocessing\n",
    "from xgboost import XGBClassifier, XGBRFClassifier\n",
    "import numpy as np\n",
    "import matplotlib.pyplot as plt\n",
    "import seaborn as sns"
   ]
  },
  {
   "cell_type": "code",
   "execution_count": null,
   "metadata": {
    "colab": {
     "base_uri": "https://localhost:8080/"
    },
    "executionInfo": {
     "elapsed": 629,
     "status": "ok",
     "timestamp": 1606360699250,
     "user": {
      "displayName": "Heecheol Cho",
      "photoUrl": "https://lh3.googleusercontent.com/a-/AOh14GjX329YmmK5EOCLjZGYupvhhyKPjyr-kS3DftPICg=s64",
      "userId": "11416361730564561965"
     },
     "user_tz": -540
    },
    "id": "zKvvSg1HY0nD",
    "outputId": "fb99e6a1-2fbc-465a-bd19-5044fb492bd2"
   },
   "outputs": [],
   "source": [
    "iris = datasets.load_iris()  # dict_keys(['data', 'target', 'frame', 'target_names', 'DESCR', 'feature_names', 'filename'])\n",
    "labels=['setosa','versicolor','virginica']\n",
    "\n",
    "min_max_scaler = preprocessing.MinMaxScaler()\n",
    "X = min_max_scaler.fit_transform(iris['data'])\n",
    "Y = [labels[y] for y in iris['target']]\n",
    "\n",
    "x_train = pd.DataFrame(data= X,columns= iris['feature_names'] )\n",
    "y_train = pd.Series(data= Y)\n",
    "print(x_train.head(5))\n",
    "print(y_train.head(5))"
   ]
  },
  {
   "cell_type": "code",
   "execution_count": null,
   "metadata": {
    "colab": {
     "base_uri": "https://localhost:8080/"
    },
    "executionInfo": {
     "elapsed": 623,
     "status": "ok",
     "timestamp": 1606360728128,
     "user": {
      "displayName": "Heecheol Cho",
      "photoUrl": "https://lh3.googleusercontent.com/a-/AOh14GjX329YmmK5EOCLjZGYupvhhyKPjyr-kS3DftPICg=s64",
      "userId": "11416361730564561965"
     },
     "user_tz": -540
    },
    "id": "jporn3s1Y0nD",
    "outputId": "7b5ce294-ebd5-4b2f-bfdc-c96dcbc55038"
   },
   "outputs": [],
   "source": [
    "xgb = XGBClassifier(n_estimators=150, learning_rate=0.05)\n",
    "xgb.fit(x_train, y_train)"
   ]
  },
  {
   "cell_type": "code",
   "execution_count": null,
   "metadata": {
    "colab": {
     "base_uri": "https://localhost:8080/"
    },
    "executionInfo": {
     "elapsed": 690,
     "status": "ok",
     "timestamp": 1606360729779,
     "user": {
      "displayName": "Heecheol Cho",
      "photoUrl": "https://lh3.googleusercontent.com/a-/AOh14GjX329YmmK5EOCLjZGYupvhhyKPjyr-kS3DftPICg=s64",
      "userId": "11416361730564561965"
     },
     "user_tz": -540
    },
    "id": "XTzPhoEAY0nD",
    "outputId": "f62bc93a-27c0-451d-9125-d5bca5fd1804"
   },
   "outputs": [],
   "source": [
    "pred = xgb.predict(x_train)\n",
    "np.mean(pred==Y)"
   ]
  },
  {
   "cell_type": "markdown",
   "metadata": {
    "id": "qMu63JUDY0nD"
   },
   "source": [
    "## xgboost for mydata"
   ]
  },
  {
   "cell_type": "code",
   "execution_count": null,
   "metadata": {
    "colab": {
     "base_uri": "https://localhost:8080/",
     "height": 198
    },
    "executionInfo": {
     "elapsed": 643,
     "status": "ok",
     "timestamp": 1606360797475,
     "user": {
      "displayName": "Heecheol Cho",
      "photoUrl": "https://lh3.googleusercontent.com/a-/AOh14GjX329YmmK5EOCLjZGYupvhhyKPjyr-kS3DftPICg=s64",
      "userId": "11416361730564561965"
     },
     "user_tz": -540
    },
    "id": "SgqA8sipY0nD",
    "outputId": "50a48683-c76f-4b72-88e3-fb119cc02630"
   },
   "outputs": [],
   "source": [
    "url = 'https://github.com/hccho2/hccho2FirstGitProject/raw/master/mydata2.txt'\n",
    "df = pd.read_csv(url, header=None,names=['x','y','label'])\n",
    "df.head()"
   ]
  },
  {
   "cell_type": "code",
   "execution_count": null,
   "metadata": {
    "id": "UywQqADgY0nD"
   },
   "outputs": [],
   "source": [
    "X = df.loc[:, df.columns != 'label']\n",
    "Y = df['label']  # Series"
   ]
  },
  {
   "cell_type": "code",
   "execution_count": null,
   "metadata": {
    "colab": {
     "base_uri": "https://localhost:8080/"
    },
    "executionInfo": {
     "elapsed": 630,
     "status": "ok",
     "timestamp": 1606360847278,
     "user": {
      "displayName": "Heecheol Cho",
      "photoUrl": "https://lh3.googleusercontent.com/a-/AOh14GjX329YmmK5EOCLjZGYupvhhyKPjyr-kS3DftPICg=s64",
      "userId": "11416361730564561965"
     },
     "user_tz": -540
    },
    "id": "Su2SY-0oY0nD",
    "outputId": "2813cfa6-c1c4-411d-a4a3-da10005d97a2"
   },
   "outputs": [],
   "source": [
    "xgb = XGBClassifier(n_estimators=100, learning_rate=0.05)\n",
    "xgb.fit(X, Y)"
   ]
  },
  {
   "cell_type": "code",
   "execution_count": null,
   "metadata": {
    "colab": {
     "base_uri": "https://localhost:8080/"
    },
    "executionInfo": {
     "elapsed": 719,
     "status": "ok",
     "timestamp": 1606360849247,
     "user": {
      "displayName": "Heecheol Cho",
      "photoUrl": "https://lh3.googleusercontent.com/a-/AOh14GjX329YmmK5EOCLjZGYupvhhyKPjyr-kS3DftPICg=s64",
      "userId": "11416361730564561965"
     },
     "user_tz": -540
    },
    "id": "eFylp9o3Y0nD",
    "outputId": "2d81ce22-4153-4a30-f2f9-c289e99868a8"
   },
   "outputs": [],
   "source": [
    "prediction = xgb.predict(X)\n",
    "np.mean(prediction==Y)"
   ]
  },
  {
   "cell_type": "code",
   "execution_count": null,
   "metadata": {
    "colab": {
     "base_uri": "https://localhost:8080/",
     "height": 531
    },
    "executionInfo": {
     "elapsed": 1422,
     "status": "ok",
     "timestamp": 1606360852175,
     "user": {
      "displayName": "Heecheol Cho",
      "photoUrl": "https://lh3.googleusercontent.com/a-/AOh14GjX329YmmK5EOCLjZGYupvhhyKPjyr-kS3DftPICg=s64",
      "userId": "11416361730564561965"
     },
     "user_tz": -540
    },
    "id": "0Mvx61rMY0nD",
    "outputId": "dd247a69-f90f-49e9-8603-ab4a689bc773"
   },
   "outputs": [],
   "source": [
    "df_pred=pd.DataFrame(data=np.c_[X.values,Y.values, prediction],columns=['x','y','label','prediction'])\n",
    "df_pred['misprediction']=df_pred['label'] != df_pred['prediction']\n",
    "plt.figure(figsize=(15,8))\n",
    "plt.subplot(1,2,1)\n",
    "sns.scatterplot(x='x', \n",
    "                y='y', \n",
    "                hue='label', # different colors by group\n",
    "                style='label', # different shapes by group\n",
    "                s=50, # marker size\n",
    "                data=df)\n",
    "plt.title('data')\n",
    "\n",
    "\n",
    "plt.subplot(1,2,2)\n",
    "sns.scatterplot(x='x', \n",
    "                y='y', \n",
    "                hue='prediction', # different colors by group\n",
    "                style='misprediction', # different shapes by group\n",
    "                s=50, # marker size\n",
    "                data=df_pred)\n",
    "plt.title('xgboost prediction')"
   ]
  },
  {
   "cell_type": "code",
   "execution_count": null,
   "metadata": {
    "colab": {
     "base_uri": "https://localhost:8080/",
     "height": 348
    },
    "executionInfo": {
     "elapsed": 655,
     "status": "ok",
     "timestamp": 1606360857625,
     "user": {
      "displayName": "Heecheol Cho",
      "photoUrl": "https://lh3.googleusercontent.com/a-/AOh14GjX329YmmK5EOCLjZGYupvhhyKPjyr-kS3DftPICg=s64",
      "userId": "11416361730564561965"
     },
     "user_tz": -540
    },
    "id": "kO2PZsEdY0nD",
    "outputId": "2cb1bf9e-de58-476d-ff97-acd54d964321"
   },
   "outputs": [],
   "source": [
    "df_pred[df_pred['label'] != df_pred['prediction']]"
   ]
  },
  {
   "cell_type": "code",
   "execution_count": null,
   "metadata": {
    "colab": {
     "base_uri": "https://localhost:8080/",
     "height": 1000
    },
    "executionInfo": {
     "elapsed": 847,
     "status": "ok",
     "timestamp": 1606360859585,
     "user": {
      "displayName": "Heecheol Cho",
      "photoUrl": "https://lh3.googleusercontent.com/a-/AOh14GjX329YmmK5EOCLjZGYupvhhyKPjyr-kS3DftPICg=s64",
      "userId": "11416361730564561965"
     },
     "user_tz": -540
    },
    "id": "0QhKipI_Y0nD",
    "outputId": "b2be6c22-55ea-4d2b-a1fb-016171526b1a"
   },
   "outputs": [],
   "source": [
    "df_pred"
   ]
  },
  {
   "cell_type": "code",
   "execution_count": null,
   "metadata": {
    "id": "3iuKOD67Y0nD",
    "scrolled": true
   },
   "outputs": [],
   "source": [
    "prediction==Y"
   ]
  },
  {
   "cell_type": "code",
   "execution_count": null,
   "metadata": {
    "id": "780OXfeNY0nD"
   },
   "outputs": [],
   "source": [
    "zzz = sns.load_dataset(\"iris\")"
   ]
  },
  {
   "cell_type": "code",
   "execution_count": null,
   "metadata": {},
   "outputs": [],
   "source": [
    "zzz.index"
   ]
  },
  {
   "cell_type": "code",
   "execution_count": null,
   "metadata": {},
   "outputs": [],
   "source": []
  }
 ],
 "metadata": {
  "colab": {
   "collapsed_sections": [],
   "name": "pandas_basic_iris.ipynb",
   "provenance": []
  },
  "kernelspec": {
   "display_name": "Python 3",
   "language": "python",
   "name": "python3"
  },
  "language_info": {
   "codemirror_mode": {
    "name": "ipython",
    "version": 3
   },
   "file_extension": ".py",
   "mimetype": "text/x-python",
   "name": "python",
   "nbconvert_exporter": "python",
   "pygments_lexer": "ipython3",
   "version": "3.6.10"
  }
 },
 "nbformat": 4,
 "nbformat_minor": 1
}
