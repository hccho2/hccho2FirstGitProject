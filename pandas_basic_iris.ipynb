{
 "cells": [
  {
   "cell_type": "markdown",
   "metadata": {},
   "source": [
    "[![Open In Colab](https://colab.research.google.com/assets/colab-badge.svg)](https://colab.research.google.com/drive/1X6WerwDVRWZ6xGltEvOPL8lT4ddlQc2M)\n",
    "\n",
    "\n",
    "[![Open In nbviewer](https://jupyter.org/assets/main-logo.svg)](https://nbviewer.jupyter.org/github/hccho2/hccho2FirstGitProject/blob/master/torch_files/MNIST_loading.ipynb)"
   ]
  },
  {
   "cell_type": "code",
   "execution_count": 2,
   "metadata": {
    "executionInfo": {
     "elapsed": 2274,
     "status": "ok",
     "timestamp": 1606390337711,
     "user": {
      "displayName": "Heecheol Cho",
      "photoUrl": "https://lh3.googleusercontent.com/a-/AOh14GjX329YmmK5EOCLjZGYupvhhyKPjyr-kS3DftPICg=s64",
      "userId": "11416361730564561965"
     },
     "user_tz": -540
    },
    "id": "N78FYSmvY0nA"
   },
   "outputs": [],
   "source": [
    "import pandas as pd\n",
    "import numpy as np\n",
    "import matplotlib.pyplot as plt\n",
    "import seaborn as sns"
   ]
  },
  {
   "cell_type": "markdown",
   "metadata": {
    "id": "dcObgKZjY0nA"
   },
   "source": [
    "# IRIS Dataset & Pandas"
   ]
  },
  {
   "cell_type": "markdown",
   "metadata": {
    "id": "sW3N41QQY0nA"
   },
   "source": [
    "<img src=\"https://s3.amazonaws.com/assets.datacamp.com/blog_assets/Machine+Learning+R/iris-machinelearning.png\" width=800 height=300 />\n",
    "\n",
    "iris.csv\n",
    "1. sepal(꽃받침) length in cm\n",
    "2. sepal width in cm\n",
    "3. petal(꽃잎) length in cm\n",
    "4. petal width in cm\n",
    "5. class:\n",
    "\n",
    "\n",
    "\n",
    "150,4,setosa(0),versicolor(1),virginica(2)\n",
    "\n",
    "6.4,2.8,5.6,2.2,2\n",
    "\n",
    "5.0,2.3,3.3,1.0,1\n",
    "\n",
    "4.9,2.5,4.5,1.7,2\n",
    "\n",
    "4.9,3.1,1.5,0.1,0\n",
    "\n",
    "5.7,3.8,1.7,0.3,0\n",
    "<img src=\"https://bishwamittra.github.io/images/imli/iris_dataset.png\" width=600 height=400 />"
   ]
  },
  {
   "cell_type": "code",
   "execution_count": 2,
   "metadata": {
    "colab": {
     "base_uri": "https://localhost:8080/",
     "height": 216
    },
    "executionInfo": {
     "elapsed": 1923,
     "status": "ok",
     "timestamp": 1606390342980,
     "user": {
      "displayName": "Heecheol Cho",
      "photoUrl": "https://lh3.googleusercontent.com/a-/AOh14GjX329YmmK5EOCLjZGYupvhhyKPjyr-kS3DftPICg=s64",
      "userId": "11416361730564561965"
     },
     "user_tz": -540
    },
    "id": "_h1u1YVJY0nA",
    "outputId": "1c3d56c0-88c7-4b60-d801-96f7dbc754c5"
   },
   "outputs": [
    {
     "name": "stdout",
     "output_type": "stream",
     "text": [
      "(150, 5)\n"
     ]
    },
    {
     "data": {
      "text/html": [
       "<div>\n",
       "<style scoped>\n",
       "    .dataframe tbody tr th:only-of-type {\n",
       "        vertical-align: middle;\n",
       "    }\n",
       "\n",
       "    .dataframe tbody tr th {\n",
       "        vertical-align: top;\n",
       "    }\n",
       "\n",
       "    .dataframe thead th {\n",
       "        text-align: right;\n",
       "    }\n",
       "</style>\n",
       "<table border=\"1\" class=\"dataframe\">\n",
       "  <thead>\n",
       "    <tr style=\"text-align: right;\">\n",
       "      <th></th>\n",
       "      <th>feaure1</th>\n",
       "      <th>feaure2</th>\n",
       "      <th>feaure3</th>\n",
       "      <th>features4</th>\n",
       "      <th>label</th>\n",
       "    </tr>\n",
       "  </thead>\n",
       "  <tbody>\n",
       "    <tr>\n",
       "      <th>0</th>\n",
       "      <td>5.1</td>\n",
       "      <td>3.5</td>\n",
       "      <td>1.4</td>\n",
       "      <td>0.2</td>\n",
       "      <td>0</td>\n",
       "    </tr>\n",
       "    <tr>\n",
       "      <th>1</th>\n",
       "      <td>4.9</td>\n",
       "      <td>3.0</td>\n",
       "      <td>1.4</td>\n",
       "      <td>0.2</td>\n",
       "      <td>0</td>\n",
       "    </tr>\n",
       "    <tr>\n",
       "      <th>2</th>\n",
       "      <td>4.7</td>\n",
       "      <td>3.2</td>\n",
       "      <td>1.3</td>\n",
       "      <td>0.2</td>\n",
       "      <td>0</td>\n",
       "    </tr>\n",
       "    <tr>\n",
       "      <th>3</th>\n",
       "      <td>4.6</td>\n",
       "      <td>3.1</td>\n",
       "      <td>1.5</td>\n",
       "      <td>0.2</td>\n",
       "      <td>0</td>\n",
       "    </tr>\n",
       "    <tr>\n",
       "      <th>4</th>\n",
       "      <td>5.0</td>\n",
       "      <td>3.6</td>\n",
       "      <td>1.4</td>\n",
       "      <td>0.2</td>\n",
       "      <td>0</td>\n",
       "    </tr>\n",
       "  </tbody>\n",
       "</table>\n",
       "</div>"
      ],
      "text/plain": [
       "   feaure1  feaure2  feaure3  features4  label\n",
       "0      5.1      3.5      1.4        0.2      0\n",
       "1      4.9      3.0      1.4        0.2      0\n",
       "2      4.7      3.2      1.3        0.2      0\n",
       "3      4.6      3.1      1.5        0.2      0\n",
       "4      5.0      3.6      1.4        0.2      0"
      ]
     },
     "execution_count": 2,
     "metadata": {
      "tags": []
     },
     "output_type": "execute_result"
    }
   ],
   "source": [
    "url = \"https://github.com/hccho2/hccho2FirstGitProject/raw/master/iris.csv\"  # sklearn에서 다운받은 파일\n",
    "data = pd.read_csv(url,header=None,skiprows=1,names=['feaure1','feaure2','feaure3','features4','label'])\n",
    "print(data.shape)\n",
    "data.head(5)"
   ]
  },
  {
   "cell_type": "code",
   "execution_count": 3,
   "metadata": {
    "colab": {
     "base_uri": "https://localhost:8080/"
    },
    "executionInfo": {
     "elapsed": 1145,
     "status": "ok",
     "timestamp": 1606390351510,
     "user": {
      "displayName": "Heecheol Cho",
      "photoUrl": "https://lh3.googleusercontent.com/a-/AOh14GjX329YmmK5EOCLjZGYupvhhyKPjyr-kS3DftPICg=s64",
      "userId": "11416361730564561965"
     },
     "user_tz": -540
    },
    "id": "X0gQxE0lUw84",
    "outputId": "2ce15f4e-94b7-4e65-8d1d-2a4820977b11"
   },
   "outputs": [
    {
     "name": "stdout",
     "output_type": "stream",
     "text": [
      "<class 'pandas.core.frame.DataFrame'>\n",
      "RangeIndex: 150 entries, 0 to 149\n",
      "Data columns (total 5 columns):\n",
      " #   Column     Non-Null Count  Dtype  \n",
      "---  ------     --------------  -----  \n",
      " 0   feaure1    150 non-null    float64\n",
      " 1   feaure2    150 non-null    float64\n",
      " 2   feaure3    150 non-null    float64\n",
      " 3   features4  150 non-null    float64\n",
      " 4   label      150 non-null    int64  \n",
      "dtypes: float64(4), int64(1)\n",
      "memory usage: 6.0 KB\n"
     ]
    }
   ],
   "source": [
    "data.info()"
   ]
  },
  {
   "cell_type": "code",
   "execution_count": 4,
   "metadata": {
    "colab": {
     "base_uri": "https://localhost:8080/",
     "height": 288
    },
    "executionInfo": {
     "elapsed": 1181,
     "status": "ok",
     "timestamp": 1606390372955,
     "user": {
      "displayName": "Heecheol Cho",
      "photoUrl": "https://lh3.googleusercontent.com/a-/AOh14GjX329YmmK5EOCLjZGYupvhhyKPjyr-kS3DftPICg=s64",
      "userId": "11416361730564561965"
     },
     "user_tz": -540
    },
    "id": "i70PtUrmU7pf",
    "outputId": "844e76b6-219e-4a82-f75c-31d50b8e4cd5"
   },
   "outputs": [
    {
     "data": {
      "text/html": [
       "<div>\n",
       "<style scoped>\n",
       "    .dataframe tbody tr th:only-of-type {\n",
       "        vertical-align: middle;\n",
       "    }\n",
       "\n",
       "    .dataframe tbody tr th {\n",
       "        vertical-align: top;\n",
       "    }\n",
       "\n",
       "    .dataframe thead th {\n",
       "        text-align: right;\n",
       "    }\n",
       "</style>\n",
       "<table border=\"1\" class=\"dataframe\">\n",
       "  <thead>\n",
       "    <tr style=\"text-align: right;\">\n",
       "      <th></th>\n",
       "      <th>feaure1</th>\n",
       "      <th>feaure2</th>\n",
       "      <th>feaure3</th>\n",
       "      <th>features4</th>\n",
       "      <th>label</th>\n",
       "    </tr>\n",
       "  </thead>\n",
       "  <tbody>\n",
       "    <tr>\n",
       "      <th>count</th>\n",
       "      <td>150.000000</td>\n",
       "      <td>150.000000</td>\n",
       "      <td>150.000000</td>\n",
       "      <td>150.000000</td>\n",
       "      <td>150.000000</td>\n",
       "    </tr>\n",
       "    <tr>\n",
       "      <th>mean</th>\n",
       "      <td>5.843333</td>\n",
       "      <td>3.057333</td>\n",
       "      <td>3.758000</td>\n",
       "      <td>1.199333</td>\n",
       "      <td>1.000000</td>\n",
       "    </tr>\n",
       "    <tr>\n",
       "      <th>std</th>\n",
       "      <td>0.828066</td>\n",
       "      <td>0.435866</td>\n",
       "      <td>1.765298</td>\n",
       "      <td>0.762238</td>\n",
       "      <td>0.819232</td>\n",
       "    </tr>\n",
       "    <tr>\n",
       "      <th>min</th>\n",
       "      <td>4.300000</td>\n",
       "      <td>2.000000</td>\n",
       "      <td>1.000000</td>\n",
       "      <td>0.100000</td>\n",
       "      <td>0.000000</td>\n",
       "    </tr>\n",
       "    <tr>\n",
       "      <th>25%</th>\n",
       "      <td>5.100000</td>\n",
       "      <td>2.800000</td>\n",
       "      <td>1.600000</td>\n",
       "      <td>0.300000</td>\n",
       "      <td>0.000000</td>\n",
       "    </tr>\n",
       "    <tr>\n",
       "      <th>50%</th>\n",
       "      <td>5.800000</td>\n",
       "      <td>3.000000</td>\n",
       "      <td>4.350000</td>\n",
       "      <td>1.300000</td>\n",
       "      <td>1.000000</td>\n",
       "    </tr>\n",
       "    <tr>\n",
       "      <th>75%</th>\n",
       "      <td>6.400000</td>\n",
       "      <td>3.300000</td>\n",
       "      <td>5.100000</td>\n",
       "      <td>1.800000</td>\n",
       "      <td>2.000000</td>\n",
       "    </tr>\n",
       "    <tr>\n",
       "      <th>max</th>\n",
       "      <td>7.900000</td>\n",
       "      <td>4.400000</td>\n",
       "      <td>6.900000</td>\n",
       "      <td>2.500000</td>\n",
       "      <td>2.000000</td>\n",
       "    </tr>\n",
       "  </tbody>\n",
       "</table>\n",
       "</div>"
      ],
      "text/plain": [
       "          feaure1     feaure2     feaure3   features4       label\n",
       "count  150.000000  150.000000  150.000000  150.000000  150.000000\n",
       "mean     5.843333    3.057333    3.758000    1.199333    1.000000\n",
       "std      0.828066    0.435866    1.765298    0.762238    0.819232\n",
       "min      4.300000    2.000000    1.000000    0.100000    0.000000\n",
       "25%      5.100000    2.800000    1.600000    0.300000    0.000000\n",
       "50%      5.800000    3.000000    4.350000    1.300000    1.000000\n",
       "75%      6.400000    3.300000    5.100000    1.800000    2.000000\n",
       "max      7.900000    4.400000    6.900000    2.500000    2.000000"
      ]
     },
     "execution_count": 4,
     "metadata": {
      "tags": []
     },
     "output_type": "execute_result"
    }
   ],
   "source": [
    "data.describe()"
   ]
  },
  {
   "cell_type": "code",
   "execution_count": 5,
   "metadata": {
    "colab": {
     "base_uri": "https://localhost:8080/"
    },
    "executionInfo": {
     "elapsed": 764,
     "status": "ok",
     "timestamp": 1606393628601,
     "user": {
      "displayName": "Heecheol Cho",
      "photoUrl": "https://lh3.googleusercontent.com/a-/AOh14GjX329YmmK5EOCLjZGYupvhhyKPjyr-kS3DftPICg=s64",
      "userId": "11416361730564561965"
     },
     "user_tz": -540
    },
    "id": "YplQ_AABY0nB",
    "outputId": "b9d6d636-fac6-492a-9bf2-85515a0c97e1"
   },
   "outputs": [
    {
     "data": {
      "text/plain": [
       "2    50\n",
       "1    50\n",
       "0    50\n",
       "Name: label, dtype: int64"
      ]
     },
     "execution_count": 5,
     "metadata": {
      "tags": []
     },
     "output_type": "execute_result"
    }
   ],
   "source": [
    "#data갯수 확인\n",
    "#data.groupby('label').count()\n",
    "data['label'].value_counts()"
   ]
  },
  {
   "cell_type": "markdown",
   "metadata": {
    "id": "EdGUpY9wjtrm"
   },
   "source": [
    "## iris Data 변형하기(map)"
   ]
  },
  {
   "cell_type": "code",
   "execution_count": 28,
   "metadata": {
    "colab": {
     "base_uri": "https://localhost:8080/",
     "height": 198
    },
    "executionInfo": {
     "elapsed": 658,
     "status": "ok",
     "timestamp": 1606394842947,
     "user": {
      "displayName": "Heecheol Cho",
      "photoUrl": "https://lh3.googleusercontent.com/a-/AOh14GjX329YmmK5EOCLjZGYupvhhyKPjyr-kS3DftPICg=s64",
      "userId": "11416361730564561965"
     },
     "user_tz": -540
    },
    "id": "Oj1Nwq0Hj3sO",
    "outputId": "b8bbfedc-8662-4873-d0f7-d4a11b881024"
   },
   "outputs": [
    {
     "data": {
      "text/html": [
       "<div>\n",
       "<style scoped>\n",
       "    .dataframe tbody tr th:only-of-type {\n",
       "        vertical-align: middle;\n",
       "    }\n",
       "\n",
       "    .dataframe tbody tr th {\n",
       "        vertical-align: top;\n",
       "    }\n",
       "\n",
       "    .dataframe thead th {\n",
       "        text-align: right;\n",
       "    }\n",
       "</style>\n",
       "<table border=\"1\" class=\"dataframe\">\n",
       "  <thead>\n",
       "    <tr style=\"text-align: right;\">\n",
       "      <th></th>\n",
       "      <th>feaure1</th>\n",
       "      <th>feaure2</th>\n",
       "      <th>feaure3</th>\n",
       "      <th>features4</th>\n",
       "      <th>label</th>\n",
       "    </tr>\n",
       "  </thead>\n",
       "  <tbody>\n",
       "    <tr>\n",
       "      <th>0</th>\n",
       "      <td>5.1</td>\n",
       "      <td>3.5</td>\n",
       "      <td>1.4</td>\n",
       "      <td>0.2</td>\n",
       "      <td>Setosa</td>\n",
       "    </tr>\n",
       "    <tr>\n",
       "      <th>1</th>\n",
       "      <td>4.9</td>\n",
       "      <td>3.0</td>\n",
       "      <td>1.4</td>\n",
       "      <td>0.2</td>\n",
       "      <td>Setosa</td>\n",
       "    </tr>\n",
       "    <tr>\n",
       "      <th>2</th>\n",
       "      <td>4.7</td>\n",
       "      <td>3.2</td>\n",
       "      <td>1.3</td>\n",
       "      <td>0.2</td>\n",
       "      <td>Setosa</td>\n",
       "    </tr>\n",
       "    <tr>\n",
       "      <th>3</th>\n",
       "      <td>4.6</td>\n",
       "      <td>3.1</td>\n",
       "      <td>1.5</td>\n",
       "      <td>0.2</td>\n",
       "      <td>Setosa</td>\n",
       "    </tr>\n",
       "    <tr>\n",
       "      <th>4</th>\n",
       "      <td>5.0</td>\n",
       "      <td>3.6</td>\n",
       "      <td>1.4</td>\n",
       "      <td>0.2</td>\n",
       "      <td>Setosa</td>\n",
       "    </tr>\n",
       "  </tbody>\n",
       "</table>\n",
       "</div>"
      ],
      "text/plain": [
       "   feaure1  feaure2  feaure3  features4   label\n",
       "0      5.1      3.5      1.4        0.2  Setosa\n",
       "1      4.9      3.0      1.4        0.2  Setosa\n",
       "2      4.7      3.2      1.3        0.2  Setosa\n",
       "3      4.6      3.1      1.5        0.2  Setosa\n",
       "4      5.0      3.6      1.4        0.2  Setosa"
      ]
     },
     "execution_count": 28,
     "metadata": {
      "tags": []
     },
     "output_type": "execute_result"
    }
   ],
   "source": [
    "url = \"https://github.com/hccho2/hccho2FirstGitProject/raw/master/iris2.csv\"  # sklearn에서 다운받은 파일\n",
    "data = pd.read_csv(url,header=None,skiprows=1,names=['feaure1','feaure2','feaure3','features4','label'])\n",
    "data.head()"
   ]
  },
  {
   "cell_type": "code",
   "execution_count": 29,
   "metadata": {
    "executionInfo": {
     "elapsed": 648,
     "status": "ok",
     "timestamp": 1606394845037,
     "user": {
      "displayName": "Heecheol Cho",
      "photoUrl": "https://lh3.googleusercontent.com/a-/AOh14GjX329YmmK5EOCLjZGYupvhhyKPjyr-kS3DftPICg=s64",
      "userId": "11416361730564561965"
     },
     "user_tz": -540
    },
    "id": "TlP1eFjSj4Pq"
   },
   "outputs": [],
   "source": [
    "data['label'] = data['label'].map({'Setosa': 0,'Versicolor': 1, 'Virginica': 2})"
   ]
  },
  {
   "cell_type": "code",
   "execution_count": 31,
   "metadata": {
    "colab": {
     "base_uri": "https://localhost:8080/",
     "height": 198
    },
    "executionInfo": {
     "elapsed": 653,
     "status": "ok",
     "timestamp": 1606394879926,
     "user": {
      "displayName": "Heecheol Cho",
      "photoUrl": "https://lh3.googleusercontent.com/a-/AOh14GjX329YmmK5EOCLjZGYupvhhyKPjyr-kS3DftPICg=s64",
      "userId": "11416361730564561965"
     },
     "user_tz": -540
    },
    "id": "l_GnK9WpmEL2",
    "outputId": "4baa3be3-67bd-4527-b377-1a74ab07d843"
   },
   "outputs": [
    {
     "data": {
      "text/html": [
       "<div>\n",
       "<style scoped>\n",
       "    .dataframe tbody tr th:only-of-type {\n",
       "        vertical-align: middle;\n",
       "    }\n",
       "\n",
       "    .dataframe tbody tr th {\n",
       "        vertical-align: top;\n",
       "    }\n",
       "\n",
       "    .dataframe thead th {\n",
       "        text-align: right;\n",
       "    }\n",
       "</style>\n",
       "<table border=\"1\" class=\"dataframe\">\n",
       "  <thead>\n",
       "    <tr style=\"text-align: right;\">\n",
       "      <th></th>\n",
       "      <th>feaure1</th>\n",
       "      <th>feaure2</th>\n",
       "      <th>feaure3</th>\n",
       "      <th>features4</th>\n",
       "      <th>label</th>\n",
       "    </tr>\n",
       "  </thead>\n",
       "  <tbody>\n",
       "    <tr>\n",
       "      <th>54</th>\n",
       "      <td>6.5</td>\n",
       "      <td>2.8</td>\n",
       "      <td>4.6</td>\n",
       "      <td>1.5</td>\n",
       "      <td>1</td>\n",
       "    </tr>\n",
       "    <tr>\n",
       "      <th>81</th>\n",
       "      <td>5.5</td>\n",
       "      <td>2.4</td>\n",
       "      <td>3.7</td>\n",
       "      <td>1.0</td>\n",
       "      <td>1</td>\n",
       "    </tr>\n",
       "    <tr>\n",
       "      <th>92</th>\n",
       "      <td>5.8</td>\n",
       "      <td>2.6</td>\n",
       "      <td>4.0</td>\n",
       "      <td>1.2</td>\n",
       "      <td>1</td>\n",
       "    </tr>\n",
       "    <tr>\n",
       "      <th>131</th>\n",
       "      <td>7.9</td>\n",
       "      <td>3.8</td>\n",
       "      <td>6.4</td>\n",
       "      <td>2.0</td>\n",
       "      <td>2</td>\n",
       "    </tr>\n",
       "    <tr>\n",
       "      <th>16</th>\n",
       "      <td>5.4</td>\n",
       "      <td>3.9</td>\n",
       "      <td>1.3</td>\n",
       "      <td>0.4</td>\n",
       "      <td>0</td>\n",
       "    </tr>\n",
       "  </tbody>\n",
       "</table>\n",
       "</div>"
      ],
      "text/plain": [
       "     feaure1  feaure2  feaure3  features4  label\n",
       "54       6.5      2.8      4.6        1.5      1\n",
       "81       5.5      2.4      3.7        1.0      1\n",
       "92       5.8      2.6      4.0        1.2      1\n",
       "131      7.9      3.8      6.4        2.0      2\n",
       "16       5.4      3.9      1.3        0.4      0"
      ]
     },
     "execution_count": 31,
     "metadata": {
      "tags": []
     },
     "output_type": "execute_result"
    }
   ],
   "source": [
    "data.sample(5)"
   ]
  },
  {
   "cell_type": "markdown",
   "metadata": {
    "id": "WYF7JTgskFt6"
   },
   "source": [
    "# PCA: Principal Component Analysis(주성분 분석)"
   ]
  },
  {
   "cell_type": "code",
   "execution_count": 9,
   "metadata": {
    "colab": {
     "base_uri": "https://localhost:8080/"
    },
    "executionInfo": {
     "elapsed": 648,
     "status": "ok",
     "timestamp": 1606393694757,
     "user": {
      "displayName": "Heecheol Cho",
      "photoUrl": "https://lh3.googleusercontent.com/a-/AOh14GjX329YmmK5EOCLjZGYupvhhyKPjyr-kS3DftPICg=s64",
      "userId": "11416361730564561965"
     },
     "user_tz": -540
    },
    "id": "G-P6SDCcY0nB",
    "outputId": "65ed9c87-975d-46d8-9b3a-768b9a2949f4"
   },
   "outputs": [
    {
     "name": "stdout",
     "output_type": "stream",
     "text": [
      "   feaure1  feaure2  feaure3  features4  label\n",
      "0      5.1      3.5      1.4        0.2      0\n",
      "1      4.9      3.0      1.4        0.2      0\n",
      "2      4.7      3.2      1.3        0.2      0\n",
      "3      4.6      3.1      1.5        0.2      0\n",
      "4      5.0      3.6      1.4        0.2      0\n",
      "cols:  Index(['feaure1', 'feaure2', 'feaure3', 'features4'], dtype='object')\n",
      "   feaure1  feaure2  feaure3  features4\n",
      "0      5.1      3.5      1.4        0.2\n",
      "1      4.9      3.0      1.4        0.2\n",
      "2      4.7      3.2      1.3        0.2\n",
      "3      4.6      3.1      1.5        0.2\n",
      "4      5.0      3.6      1.4        0.2\n"
     ]
    }
   ],
   "source": [
    "from mpl_toolkits.mplot3d import Axes3D\n",
    "from sklearn.decomposition import PCA\n",
    "from sklearn import preprocessing\n",
    "labels=['setosa','versicolor','virginica']\n",
    "url = \"https://github.com/hccho2/hccho2FirstGitProject/raw/master/iris.csv\"  # sklearn에서 다운받은 파일\n",
    "data = pd.read_csv(url,header=None,skiprows=1,names=['feaure1','feaure2','feaure3','features4','label'])\n",
    "\n",
    "print(data.head(5))\n",
    "\n",
    "y = data['label'] # genre variable.\n",
    "X = data.loc[:, data.columns != 'label'] #select all columns but not the labels ---> pandas\n",
    "\n",
    "\n",
    "#### NORMALIZE X ####\n",
    "cols = X.columns\n",
    "print(\"cols: \", cols)\n",
    "\n",
    "stdand_scaler = preprocessing.StandardScaler()\n",
    "X = stdand_scaler.fit_transform(X)  # 입력: dataframe ---> 출력: numpy array\n",
    "print(X[:10])"
   ]
  },
  {
   "cell_type": "code",
   "execution_count": 13,
   "metadata": {
    "colab": {
     "base_uri": "https://localhost:8080/"
    },
    "executionInfo": {
     "elapsed": 1193,
     "status": "ok",
     "timestamp": 1606393990540,
     "user": {
      "displayName": "Heecheol Cho",
      "photoUrl": "https://lh3.googleusercontent.com/a-/AOh14GjX329YmmK5EOCLjZGYupvhhyKPjyr-kS3DftPICg=s64",
      "userId": "11416361730564561965"
     },
     "user_tz": -540
    },
    "id": "KZ7QKVmqh4HK",
    "outputId": "048b867e-187a-496d-f8ee-3415d0c3c9de"
   },
   "outputs": [
    {
     "name": "stdout",
     "output_type": "stream",
     "text": [
      "150\n",
      "mean:  [5.84333333 3.05733333 3.758      1.19933333]\n",
      "std:  [0.82530129 0.43441097 1.75940407 0.75969263]\n"
     ]
    }
   ],
   "source": [
    "print(stdand_scaler.n_samples_seen_)\n",
    "print(\"mean: \", stdand_scaler.mean_) # 평균\n",
    "print('std: ', stdand_scaler.scale_ )  # 표준편차"
   ]
  },
  {
   "cell_type": "code",
   "execution_count": null,
   "metadata": {
    "colab": {
     "base_uri": "https://localhost:8080/",
     "height": 355
    },
    "executionInfo": {
     "elapsed": 1280,
     "status": "ok",
     "timestamp": 1606359839743,
     "user": {
      "displayName": "Heecheol Cho",
      "photoUrl": "https://lh3.googleusercontent.com/a-/AOh14GjX329YmmK5EOCLjZGYupvhhyKPjyr-kS3DftPICg=s64",
      "userId": "11416361730564561965"
     },
     "user_tz": -540
    },
    "id": "-8Tuz7htY0nB",
    "outputId": "013b646c-e848-47a2-88e7-8c13f183a85d"
   },
   "outputs": [
    {
     "name": "stdout",
     "output_type": "stream",
     "text": [
      "[0.72962445 0.22850762 0.03668922] 0.9948212908928451\n"
     ]
    },
    {
     "data": {
      "text/plain": [
       "Text(0.5, 0, 'Principal Component 3')"
      ]
     },
     "execution_count": 8,
     "metadata": {
      "tags": []
     },
     "output_type": "execute_result"
    },
    {
     "data": {
      "image/png": "[encoded data removed]",
      "text/plain": [
       "<Figure size 576x288 with 1 Axes>"
      ]
     },
     "metadata": {
      "needs_background": "light",
      "tags": []
     },
     "output_type": "display_data"
    }
   ],
   "source": [
    "#### PCA 3 COMPONENTS ####\n",
    "pca = PCA(n_components=3)\n",
    "principalComponents = pca.fit_transform(X)  # principal componet 추출\n",
    "principalDf = pd.DataFrame(data = principalComponents, columns = ['principal component 1', 'principal component 2','principal component 3'])\n",
    "\n",
    "\n",
    "# concatenate with target label\n",
    "finalDf = pd.concat([principalDf, y], axis = 1)\n",
    "\n",
    "print(pca.explained_variance_ratio_, np.sum(pca.explained_variance_ratio_))\n",
    "\n",
    "fig = plt.figure(figsize = (8, 4))\n",
    "ax = Axes3D(fig)\n",
    "\n",
    "\n",
    "for grp_name, grp_idx in finalDf.groupby('label').groups.items():\n",
    "    y = finalDf.iloc[grp_idx,1]\n",
    "    x = finalDf.iloc[grp_idx,0]\n",
    "    z = finalDf.iloc[grp_idx,2]\n",
    "    ax.scatter(x,y,z, label=labels[grp_name])  # this way you can control color/marker/size of each group freely\n",
    "ax.legend()\n",
    "plt.title('PCA on IRIS', fontsize = 10)\n",
    "plt.xticks(fontsize = 7)\n",
    "plt.yticks(fontsize = 5);\n",
    "ax.set_xlabel(\"Principal Component 1\", fontsize = 7)\n",
    "ax.set_ylabel(\"Principal Component 2\", fontsize = 7)\n",
    "ax.set_zlabel(\"Principal Component 3\", fontsize = 7)"
   ]
  },
  {
   "cell_type": "markdown",
   "metadata": {
    "id": "Epw1DVfYY0nB"
   },
   "source": [
    "# simaple example(numpy array -> DataFrame)"
   ]
  },
  {
   "cell_type": "code",
   "execution_count": 4,
   "metadata": {
    "id": "JfHX7OwxY0nB"
   },
   "outputs": [
    {
     "data": {
      "text/html": [
       "<div>\n",
       "<style scoped>\n",
       "    .dataframe tbody tr th:only-of-type {\n",
       "        vertical-align: middle;\n",
       "    }\n",
       "\n",
       "    .dataframe tbody tr th {\n",
       "        vertical-align: top;\n",
       "    }\n",
       "\n",
       "    .dataframe thead th {\n",
       "        text-align: right;\n",
       "    }\n",
       "</style>\n",
       "<table border=\"1\" class=\"dataframe\">\n",
       "  <thead>\n",
       "    <tr style=\"text-align: right;\">\n",
       "      <th></th>\n",
       "      <th>age</th>\n",
       "      <th>weight</th>\n",
       "      <th>label</th>\n",
       "    </tr>\n",
       "  </thead>\n",
       "  <tbody>\n",
       "    <tr>\n",
       "      <th>0</th>\n",
       "      <td>1.4175</td>\n",
       "      <td>0.1378</td>\n",
       "      <td>A</td>\n",
       "    </tr>\n",
       "    <tr>\n",
       "      <th>1</th>\n",
       "      <td>0.3390</td>\n",
       "      <td>-0.0567</td>\n",
       "      <td>B</td>\n",
       "    </tr>\n",
       "    <tr>\n",
       "      <th>2</th>\n",
       "      <td>0.2925</td>\n",
       "      <td>1.5304</td>\n",
       "      <td>A</td>\n",
       "    </tr>\n",
       "    <tr>\n",
       "      <th>3</th>\n",
       "      <td>0.6470</td>\n",
       "      <td>0.6630</td>\n",
       "      <td>C</td>\n",
       "    </tr>\n",
       "    <tr>\n",
       "      <th>4</th>\n",
       "      <td>0.9069</td>\n",
       "      <td>0.0663</td>\n",
       "      <td>C</td>\n",
       "    </tr>\n",
       "    <tr>\n",
       "      <th>5</th>\n",
       "      <td>0.4608</td>\n",
       "      <td>-1.0959</td>\n",
       "      <td>A</td>\n",
       "    </tr>\n",
       "    <tr>\n",
       "      <th>6</th>\n",
       "      <td>0.1069</td>\n",
       "      <td>0.9882</td>\n",
       "      <td>A</td>\n",
       "    </tr>\n",
       "    <tr>\n",
       "      <th>7</th>\n",
       "      <td>-0.2201</td>\n",
       "      <td>-0.6808</td>\n",
       "      <td>B</td>\n",
       "    </tr>\n",
       "    <tr>\n",
       "      <th>8</th>\n",
       "      <td>-0.0138</td>\n",
       "      <td>-0.1200</td>\n",
       "      <td>C</td>\n",
       "    </tr>\n",
       "    <tr>\n",
       "      <th>9</th>\n",
       "      <td>-0.5808</td>\n",
       "      <td>-0.2618</td>\n",
       "      <td>B</td>\n",
       "    </tr>\n",
       "  </tbody>\n",
       "</table>\n",
       "</div>"
      ],
      "text/plain": [
       "      age  weight label\n",
       "0  1.4175  0.1378     A\n",
       "1  0.3390 -0.0567     B\n",
       "2  0.2925  1.5304     A\n",
       "3  0.6470  0.6630     C\n",
       "4  0.9069  0.0663     C\n",
       "5  0.4608 -1.0959     A\n",
       "6  0.1069  0.9882     A\n",
       "7 -0.2201 -0.6808     B\n",
       "8 -0.0138 -0.1200     C\n",
       "9 -0.5808 -0.2618     B"
      ]
     },
     "execution_count": 4,
     "metadata": {},
     "output_type": "execute_result"
    }
   ],
   "source": [
    "x1=np.array([ 1.4175,0.3390,0.2925,0.647,0.9069,0.4608,0.1069,-0.2201,-0.0138, -0.5808])\n",
    "x2=np.array([ 0.1378,-0.0567,1.5304, 0.663,0.0663,-1.0959,0.9882,-0.6808,-0.120,-0.2618])\n",
    "x3 =['A','B','A','C','C','A','A','B','C','B']\n",
    "data=pd.DataFrame(data=list(zip(x1,x2,x3)),columns=['age','weight','label'])\n",
    "data"
   ]
  },
  {
   "cell_type": "code",
   "execution_count": null,
   "metadata": {
    "id": "7eFMuVVAY0nB"
   },
   "outputs": [],
   "source": [
    "data.to_csv('xxx.csv',index=False)   # pd.read_csv"
   ]
  },
  {
   "cell_type": "code",
   "execution_count": null,
   "metadata": {
    "colab": {
     "base_uri": "https://localhost:8080/",
     "height": 168
    },
    "executionInfo": {
     "elapsed": 656,
     "status": "ok",
     "timestamp": 1606359963214,
     "user": {
      "displayName": "Heecheol Cho",
      "photoUrl": "https://lh3.googleusercontent.com/a-/AOh14GjX329YmmK5EOCLjZGYupvhhyKPjyr-kS3DftPICg=s64",
      "userId": "11416361730564561965"
     },
     "user_tz": -540
    },
    "id": "LNkT3UuNY0nB",
    "outputId": "9ed0bf2d-49db-4f43-d3a8-a08c98c5c9e6"
   },
   "outputs": [
    {
     "data": {
      "text/html": [
       "<div>\n",
       "<style scoped>\n",
       "    .dataframe tbody tr th:only-of-type {\n",
       "        vertical-align: middle;\n",
       "    }\n",
       "\n",
       "    .dataframe tbody tr th {\n",
       "        vertical-align: top;\n",
       "    }\n",
       "\n",
       "    .dataframe thead th {\n",
       "        text-align: right;\n",
       "    }\n",
       "</style>\n",
       "<table border=\"1\" class=\"dataframe\">\n",
       "  <thead>\n",
       "    <tr style=\"text-align: right;\">\n",
       "      <th></th>\n",
       "      <th>age</th>\n",
       "      <th>weight</th>\n",
       "      <th>label</th>\n",
       "    </tr>\n",
       "  </thead>\n",
       "  <tbody>\n",
       "    <tr>\n",
       "      <th>0</th>\n",
       "      <td>1.417513</td>\n",
       "      <td>0.137848</td>\n",
       "      <td>A</td>\n",
       "    </tr>\n",
       "    <tr>\n",
       "      <th>2</th>\n",
       "      <td>0.292572</td>\n",
       "      <td>1.530484</td>\n",
       "      <td>A</td>\n",
       "    </tr>\n",
       "    <tr>\n",
       "      <th>5</th>\n",
       "      <td>0.460830</td>\n",
       "      <td>-1.095967</td>\n",
       "      <td>A</td>\n",
       "    </tr>\n",
       "    <tr>\n",
       "      <th>6</th>\n",
       "      <td>0.106969</td>\n",
       "      <td>0.988291</td>\n",
       "      <td>A</td>\n",
       "    </tr>\n",
       "  </tbody>\n",
       "</table>\n",
       "</div>"
      ],
      "text/plain": [
       "        age    weight label\n",
       "0  1.417513  0.137848     A\n",
       "2  0.292572  1.530484     A\n",
       "5  0.460830 -1.095967     A\n",
       "6  0.106969  0.988291     A"
      ]
     },
     "execution_count": 13,
     "metadata": {
      "tags": []
     },
     "output_type": "execute_result"
    }
   ],
   "source": [
    "data[data['label']=='A']  # data.loc[data['label']=='A']"
   ]
  },
  {
   "cell_type": "code",
   "execution_count": null,
   "metadata": {
    "colab": {
     "base_uri": "https://localhost:8080/",
     "height": 168
    },
    "executionInfo": {
     "elapsed": 658,
     "status": "ok",
     "timestamp": 1606360016401,
     "user": {
      "displayName": "Heecheol Cho",
      "photoUrl": "https://lh3.googleusercontent.com/a-/AOh14GjX329YmmK5EOCLjZGYupvhhyKPjyr-kS3DftPICg=s64",
      "userId": "11416361730564561965"
     },
     "user_tz": -540
    },
    "id": "T3DufVQ3Y0nB",
    "outputId": "7b41e98f-ea74-4e9b-e956-2f3834685efb"
   },
   "outputs": [
    {
     "data": {
      "text/html": [
       "<div>\n",
       "<style scoped>\n",
       "    .dataframe tbody tr th:only-of-type {\n",
       "        vertical-align: middle;\n",
       "    }\n",
       "\n",
       "    .dataframe tbody tr th {\n",
       "        vertical-align: top;\n",
       "    }\n",
       "\n",
       "    .dataframe thead th {\n",
       "        text-align: right;\n",
       "    }\n",
       "</style>\n",
       "<table border=\"1\" class=\"dataframe\">\n",
       "  <thead>\n",
       "    <tr style=\"text-align: right;\">\n",
       "      <th></th>\n",
       "      <th>age</th>\n",
       "      <th>weight</th>\n",
       "    </tr>\n",
       "    <tr>\n",
       "      <th>label</th>\n",
       "      <th></th>\n",
       "      <th></th>\n",
       "    </tr>\n",
       "  </thead>\n",
       "  <tbody>\n",
       "    <tr>\n",
       "      <th>A</th>\n",
       "      <td>0.569471</td>\n",
       "      <td>0.390164</td>\n",
       "    </tr>\n",
       "    <tr>\n",
       "      <th>B</th>\n",
       "      <td>-0.154001</td>\n",
       "      <td>-0.333141</td>\n",
       "    </tr>\n",
       "    <tr>\n",
       "      <th>C</th>\n",
       "      <td>0.513632</td>\n",
       "      <td>0.203202</td>\n",
       "    </tr>\n",
       "  </tbody>\n",
       "</table>\n",
       "</div>"
      ],
      "text/plain": [
       "            age    weight\n",
       "label                    \n",
       "A      0.569471  0.390164\n",
       "B     -0.154001 -0.333141\n",
       "C      0.513632  0.203202"
      ]
     },
     "execution_count": 14,
     "metadata": {
      "tags": []
     },
     "output_type": "execute_result"
    }
   ],
   "source": [
    "data.groupby('label').mean()"
   ]
  },
  {
   "cell_type": "code",
   "execution_count": null,
   "metadata": {
    "colab": {
     "base_uri": "https://localhost:8080/",
     "height": 422
    },
    "executionInfo": {
     "elapsed": 952,
     "status": "ok",
     "timestamp": 1606360022968,
     "user": {
      "displayName": "Heecheol Cho",
      "photoUrl": "https://lh3.googleusercontent.com/a-/AOh14GjX329YmmK5EOCLjZGYupvhhyKPjyr-kS3DftPICg=s64",
      "userId": "11416361730564561965"
     },
     "user_tz": -540
    },
    "id": "U_TK2i6EY0nB",
    "outputId": "02f63358-2b24-442a-94a9-9ee060349d22"
   },
   "outputs": [
    {
     "data": {
      "image/png": "[encoded data removed]",
      "text/plain": [
       "<Figure size 720x432 with 1 Axes>"
      ]
     },
     "metadata": {
      "needs_background": "light",
      "tags": []
     },
     "output_type": "display_data"
    }
   ],
   "source": [
    "plt.figure(figsize = (10, 6))\n",
    "sns.scatterplot(x = \"age\", y = \"weight\", data = data, hue = \"label\", alpha = 0.7, s = 50); # s=size\n",
    "\n",
    "plt.title('PCA on data', fontsize = 25)\n",
    "plt.xticks(fontsize = 14)\n",
    "plt.yticks(fontsize = 10);\n",
    "plt.xlabel(\"age\", fontsize = 15)\n",
    "plt.ylabel(\"weight\", fontsize = 15)\n",
    "plt.show()"
   ]
  },
  {
   "cell_type": "code",
   "execution_count": null,
   "metadata": {
    "colab": {
     "base_uri": "https://localhost:8080/"
    },
    "executionInfo": {
     "elapsed": 742,
     "status": "ok",
     "timestamp": 1606360032907,
     "user": {
      "displayName": "Heecheol Cho",
      "photoUrl": "https://lh3.googleusercontent.com/a-/AOh14GjX329YmmK5EOCLjZGYupvhhyKPjyr-kS3DftPICg=s64",
      "userId": "11416361730564561965"
     },
     "user_tz": -540
    },
    "id": "YHoJAxixY0nB",
    "outputId": "b6cc241d-2ffc-46aa-8e23-681134de388f"
   },
   "outputs": [
    {
     "data": {
      "text/plain": [
       "array([[1.41751313, 0.13784849, 'A'],\n",
       "       [0.33904833, -0.05672081, 'B'],\n",
       "       [0.29257167, 1.53048402, 'A'],\n",
       "       [0.6478606, 0.6639671, 'C'],\n",
       "       [0.90691377, 0.06636203, 'C'],\n",
       "       [0.46082986, -1.09596719, 'A'],\n",
       "       [0.10696884, 0.98829064, 'A'],\n",
       "       [-0.22016277, -0.68083318, 'B'],\n",
       "       [-0.01387787, -0.1207237, 'C'],\n",
       "       [-0.58088736, -0.26187014, 'B']], dtype=object)"
      ]
     },
     "execution_count": 16,
     "metadata": {
      "tags": []
     },
     "output_type": "execute_result"
    }
   ],
   "source": [
    "data.values"
   ]
  },
  {
   "cell_type": "code",
   "execution_count": null,
   "metadata": {
    "colab": {
     "base_uri": "https://localhost:8080/"
    },
    "executionInfo": {
     "elapsed": 616,
     "status": "ok",
     "timestamp": 1606360036134,
     "user": {
      "displayName": "Heecheol Cho",
      "photoUrl": "https://lh3.googleusercontent.com/a-/AOh14GjX329YmmK5EOCLjZGYupvhhyKPjyr-kS3DftPICg=s64",
      "userId": "11416361730564561965"
     },
     "user_tz": -540
    },
    "id": "pHEi0uQCY0nB",
    "outputId": "41bcc417-41ff-4f47-8320-675c81c9619d"
   },
   "outputs": [
    {
     "data": {
      "text/plain": [
       "array([ 1.41751313,  0.33904833,  0.29257167,  0.6478606 ,  0.90691377,\n",
       "        0.46082986,  0.10696884, -0.22016277, -0.01387787, -0.58088736])"
      ]
     },
     "execution_count": 17,
     "metadata": {
      "tags": []
     },
     "output_type": "execute_result"
    }
   ],
   "source": [
    "data['age'].values"
   ]
  },
  {
   "cell_type": "code",
   "execution_count": null,
   "metadata": {
    "colab": {
     "base_uri": "https://localhost:8080/",
     "height": 348
    },
    "executionInfo": {
     "elapsed": 639,
     "status": "ok",
     "timestamp": 1606360045526,
     "user": {
      "displayName": "Heecheol Cho",
      "photoUrl": "https://lh3.googleusercontent.com/a-/AOh14GjX329YmmK5EOCLjZGYupvhhyKPjyr-kS3DftPICg=s64",
      "userId": "11416361730564561965"
     },
     "user_tz": -540
    },
    "id": "NkX74P3lY0nB",
    "outputId": "5edf2d9f-06cb-4945-a77a-72fe7f19cac1"
   },
   "outputs": [
    {
     "data": {
      "text/html": [
       "<div>\n",
       "<style scoped>\n",
       "    .dataframe tbody tr th:only-of-type {\n",
       "        vertical-align: middle;\n",
       "    }\n",
       "\n",
       "    .dataframe tbody tr th {\n",
       "        vertical-align: top;\n",
       "    }\n",
       "\n",
       "    .dataframe thead th {\n",
       "        text-align: right;\n",
       "    }\n",
       "</style>\n",
       "<table border=\"1\" class=\"dataframe\">\n",
       "  <thead>\n",
       "    <tr style=\"text-align: right;\">\n",
       "      <th></th>\n",
       "      <th>age</th>\n",
       "      <th>weight</th>\n",
       "      <th>label</th>\n",
       "    </tr>\n",
       "  </thead>\n",
       "  <tbody>\n",
       "    <tr>\n",
       "      <th>0</th>\n",
       "      <td>1.417513</td>\n",
       "      <td>0.137848</td>\n",
       "      <td>A</td>\n",
       "    </tr>\n",
       "    <tr>\n",
       "      <th>2</th>\n",
       "      <td>0.292572</td>\n",
       "      <td>1.530484</td>\n",
       "      <td>A</td>\n",
       "    </tr>\n",
       "    <tr>\n",
       "      <th>5</th>\n",
       "      <td>0.460830</td>\n",
       "      <td>-1.095967</td>\n",
       "      <td>A</td>\n",
       "    </tr>\n",
       "    <tr>\n",
       "      <th>6</th>\n",
       "      <td>0.106969</td>\n",
       "      <td>0.988291</td>\n",
       "      <td>A</td>\n",
       "    </tr>\n",
       "    <tr>\n",
       "      <th>1</th>\n",
       "      <td>0.339048</td>\n",
       "      <td>-0.056721</td>\n",
       "      <td>B</td>\n",
       "    </tr>\n",
       "    <tr>\n",
       "      <th>7</th>\n",
       "      <td>-0.220163</td>\n",
       "      <td>-0.680833</td>\n",
       "      <td>B</td>\n",
       "    </tr>\n",
       "    <tr>\n",
       "      <th>9</th>\n",
       "      <td>-0.580887</td>\n",
       "      <td>-0.261870</td>\n",
       "      <td>B</td>\n",
       "    </tr>\n",
       "    <tr>\n",
       "      <th>3</th>\n",
       "      <td>0.647861</td>\n",
       "      <td>0.663967</td>\n",
       "      <td>C</td>\n",
       "    </tr>\n",
       "    <tr>\n",
       "      <th>4</th>\n",
       "      <td>0.906914</td>\n",
       "      <td>0.066362</td>\n",
       "      <td>C</td>\n",
       "    </tr>\n",
       "    <tr>\n",
       "      <th>8</th>\n",
       "      <td>-0.013878</td>\n",
       "      <td>-0.120724</td>\n",
       "      <td>C</td>\n",
       "    </tr>\n",
       "  </tbody>\n",
       "</table>\n",
       "</div>"
      ],
      "text/plain": [
       "        age    weight label\n",
       "0  1.417513  0.137848     A\n",
       "2  0.292572  1.530484     A\n",
       "5  0.460830 -1.095967     A\n",
       "6  0.106969  0.988291     A\n",
       "1  0.339048 -0.056721     B\n",
       "7 -0.220163 -0.680833     B\n",
       "9 -0.580887 -0.261870     B\n",
       "3  0.647861  0.663967     C\n",
       "4  0.906914  0.066362     C\n",
       "8 -0.013878 -0.120724     C"
      ]
     },
     "execution_count": 18,
     "metadata": {
      "tags": []
     },
     "output_type": "execute_result"
    }
   ],
   "source": [
    "data.sort_values(['label'],ascending=[True]) # data가 바뀌지는 않는다.  inplace=True 해야 바뀐다."
   ]
  },
  {
   "cell_type": "code",
   "execution_count": null,
   "metadata": {
    "id": "ZyxqSe_DY0nC"
   },
   "outputs": [],
   "source": [
    "pd.set_option('display.max_columns', None)\n",
    "pd.set_option('display.max_rows', None)\n",
    "pd.set_option('precision', 3)"
   ]
  },
  {
   "cell_type": "code",
   "execution_count": null,
   "metadata": {
    "colab": {
     "base_uri": "https://localhost:8080/",
     "height": 348
    },
    "executionInfo": {
     "elapsed": 645,
     "status": "ok",
     "timestamp": 1606360057115,
     "user": {
      "displayName": "Heecheol Cho",
      "photoUrl": "https://lh3.googleusercontent.com/a-/AOh14GjX329YmmK5EOCLjZGYupvhhyKPjyr-kS3DftPICg=s64",
      "userId": "11416361730564561965"
     },
     "user_tz": -540
    },
    "id": "IhHfH8luY0nC",
    "outputId": "70848add-e174-4d94-c788-8415e6287831"
   },
   "outputs": [
    {
     "data": {
      "text/html": [
       "<div>\n",
       "<style scoped>\n",
       "    .dataframe tbody tr th:only-of-type {\n",
       "        vertical-align: middle;\n",
       "    }\n",
       "\n",
       "    .dataframe tbody tr th {\n",
       "        vertical-align: top;\n",
       "    }\n",
       "\n",
       "    .dataframe thead th {\n",
       "        text-align: right;\n",
       "    }\n",
       "</style>\n",
       "<table border=\"1\" class=\"dataframe\">\n",
       "  <thead>\n",
       "    <tr style=\"text-align: right;\">\n",
       "      <th></th>\n",
       "      <th>age</th>\n",
       "      <th>weight</th>\n",
       "      <th>label</th>\n",
       "    </tr>\n",
       "  </thead>\n",
       "  <tbody>\n",
       "    <tr>\n",
       "      <th>0</th>\n",
       "      <td>1.418</td>\n",
       "      <td>0.138</td>\n",
       "      <td>A</td>\n",
       "    </tr>\n",
       "    <tr>\n",
       "      <th>1</th>\n",
       "      <td>0.339</td>\n",
       "      <td>-0.057</td>\n",
       "      <td>B</td>\n",
       "    </tr>\n",
       "    <tr>\n",
       "      <th>2</th>\n",
       "      <td>0.293</td>\n",
       "      <td>1.530</td>\n",
       "      <td>A</td>\n",
       "    </tr>\n",
       "    <tr>\n",
       "      <th>3</th>\n",
       "      <td>0.648</td>\n",
       "      <td>0.664</td>\n",
       "      <td>C</td>\n",
       "    </tr>\n",
       "    <tr>\n",
       "      <th>4</th>\n",
       "      <td>0.907</td>\n",
       "      <td>0.066</td>\n",
       "      <td>C</td>\n",
       "    </tr>\n",
       "    <tr>\n",
       "      <th>5</th>\n",
       "      <td>0.461</td>\n",
       "      <td>-1.096</td>\n",
       "      <td>A</td>\n",
       "    </tr>\n",
       "    <tr>\n",
       "      <th>6</th>\n",
       "      <td>0.107</td>\n",
       "      <td>0.988</td>\n",
       "      <td>A</td>\n",
       "    </tr>\n",
       "    <tr>\n",
       "      <th>7</th>\n",
       "      <td>-0.220</td>\n",
       "      <td>-0.681</td>\n",
       "      <td>B</td>\n",
       "    </tr>\n",
       "    <tr>\n",
       "      <th>8</th>\n",
       "      <td>-0.014</td>\n",
       "      <td>-0.121</td>\n",
       "      <td>C</td>\n",
       "    </tr>\n",
       "    <tr>\n",
       "      <th>9</th>\n",
       "      <td>-0.581</td>\n",
       "      <td>-0.262</td>\n",
       "      <td>B</td>\n",
       "    </tr>\n",
       "  </tbody>\n",
       "</table>\n",
       "</div>"
      ],
      "text/plain": [
       "     age  weight label\n",
       "0  1.418   0.138     A\n",
       "1  0.339  -0.057     B\n",
       "2  0.293   1.530     A\n",
       "3  0.648   0.664     C\n",
       "4  0.907   0.066     C\n",
       "5  0.461  -1.096     A\n",
       "6  0.107   0.988     A\n",
       "7 -0.220  -0.681     B\n",
       "8 -0.014  -0.121     C\n",
       "9 -0.581  -0.262     B"
      ]
     },
     "execution_count": 20,
     "metadata": {
      "tags": []
     },
     "output_type": "execute_result"
    }
   ],
   "source": [
    "data"
   ]
  },
  {
   "cell_type": "code",
   "execution_count": null,
   "metadata": {
    "colab": {
     "base_uri": "https://localhost:8080/",
     "height": 168
    },
    "executionInfo": {
     "elapsed": 685,
     "status": "ok",
     "timestamp": 1606360066977,
     "user": {
      "displayName": "Heecheol Cho",
      "photoUrl": "https://lh3.googleusercontent.com/a-/AOh14GjX329YmmK5EOCLjZGYupvhhyKPjyr-kS3DftPICg=s64",
      "userId": "11416361730564561965"
     },
     "user_tz": -540
    },
    "id": "lpCQ5RPJY0nC",
    "outputId": "2e7ec4b1-2027-4826-df86-43a790bef2ed"
   },
   "outputs": [
    {
     "data": {
      "text/html": [
       "<div>\n",
       "<style scoped>\n",
       "    .dataframe tbody tr th:only-of-type {\n",
       "        vertical-align: middle;\n",
       "    }\n",
       "\n",
       "    .dataframe tbody tr th {\n",
       "        vertical-align: top;\n",
       "    }\n",
       "\n",
       "    .dataframe thead th {\n",
       "        text-align: right;\n",
       "    }\n",
       "</style>\n",
       "<table border=\"1\" class=\"dataframe\">\n",
       "  <thead>\n",
       "    <tr style=\"text-align: right;\">\n",
       "      <th></th>\n",
       "      <th>age</th>\n",
       "      <th>weight</th>\n",
       "    </tr>\n",
       "    <tr>\n",
       "      <th>label</th>\n",
       "      <th></th>\n",
       "      <th></th>\n",
       "    </tr>\n",
       "  </thead>\n",
       "  <tbody>\n",
       "    <tr>\n",
       "      <th>A</th>\n",
       "      <td>4</td>\n",
       "      <td>4</td>\n",
       "    </tr>\n",
       "    <tr>\n",
       "      <th>B</th>\n",
       "      <td>3</td>\n",
       "      <td>3</td>\n",
       "    </tr>\n",
       "    <tr>\n",
       "      <th>C</th>\n",
       "      <td>3</td>\n",
       "      <td>3</td>\n",
       "    </tr>\n",
       "  </tbody>\n",
       "</table>\n",
       "</div>"
      ],
      "text/plain": [
       "       age  weight\n",
       "label             \n",
       "A        4       4\n",
       "B        3       3\n",
       "C        3       3"
      ]
     },
     "execution_count": 21,
     "metadata": {
      "tags": []
     },
     "output_type": "execute_result"
    }
   ],
   "source": [
    "# count()\n",
    "data.groupby('label').count()\n"
   ]
  },
  {
   "cell_type": "code",
   "execution_count": null,
   "metadata": {
    "colab": {
     "base_uri": "https://localhost:8080/"
    },
    "executionInfo": {
     "elapsed": 629,
     "status": "ok",
     "timestamp": 1606360079678,
     "user": {
      "displayName": "Heecheol Cho",
      "photoUrl": "https://lh3.googleusercontent.com/a-/AOh14GjX329YmmK5EOCLjZGYupvhhyKPjyr-kS3DftPICg=s64",
      "userId": "11416361730564561965"
     },
     "user_tz": -540
    },
    "id": "b4mk7iIMY0nC",
    "outputId": "705057f0-3997-4e2c-c6e5-db3b96f34976"
   },
   "outputs": [
    {
     "data": {
      "text/plain": [
       "A    4\n",
       "B    3\n",
       "C    3\n",
       "Name: label, dtype: int64"
      ]
     },
     "execution_count": 22,
     "metadata": {
      "tags": []
     },
     "output_type": "execute_result"
    }
   ],
   "source": [
    "# column 1개인 경우.\n",
    "# from collections import Counter    ---->   Counter(data['label'])  ---->  Counter({'A': 4, 'B': 3, 'C': 3})\n",
    "\n",
    "data['label'].value_counts()"
   ]
  },
  {
   "cell_type": "markdown",
   "metadata": {
    "id": "q4gvO4O6Y0nC"
   },
   "source": [
    "# IRIS Dataset From sklearn"
   ]
  },
  {
   "cell_type": "code",
   "execution_count": null,
   "metadata": {
    "id": "-tBQM0z7Y0nC"
   },
   "outputs": [],
   "source": [
    "from sklearn import datasets"
   ]
  },
  {
   "cell_type": "code",
   "execution_count": null,
   "metadata": {
    "id": "tRLO2gr3Y0nC"
   },
   "outputs": [],
   "source": [
    "iris = datasets.load_iris()  # dict_keys(['data', 'target', 'frame', 'target_names', 'DESCR', 'feature_names', 'filename'])"
   ]
  },
  {
   "cell_type": "code",
   "execution_count": null,
   "metadata": {
    "colab": {
     "base_uri": "https://localhost:8080/"
    },
    "executionInfo": {
     "elapsed": 670,
     "status": "ok",
     "timestamp": 1606360218726,
     "user": {
      "displayName": "Heecheol Cho",
      "photoUrl": "https://lh3.googleusercontent.com/a-/AOh14GjX329YmmK5EOCLjZGYupvhhyKPjyr-kS3DftPICg=s64",
      "userId": "11416361730564561965"
     },
     "user_tz": -540
    },
    "id": "fVY_-OHEY0nC",
    "outputId": "83029b71-122b-4f08-cf86-d91575ef1f20"
   },
   "outputs": [
    {
     "data": {
      "text/plain": [
       "((150, 4), (150,))"
      ]
     },
     "execution_count": 28,
     "metadata": {
      "tags": []
     },
     "output_type": "execute_result"
    }
   ],
   "source": [
    "iris['data'].shape, iris['target'].shape"
   ]
  },
  {
   "cell_type": "code",
   "execution_count": null,
   "metadata": {
    "colab": {
     "base_uri": "https://localhost:8080/"
    },
    "executionInfo": {
     "elapsed": 702,
     "status": "ok",
     "timestamp": 1606360220413,
     "user": {
      "displayName": "Heecheol Cho",
      "photoUrl": "https://lh3.googleusercontent.com/a-/AOh14GjX329YmmK5EOCLjZGYupvhhyKPjyr-kS3DftPICg=s64",
      "userId": "11416361730564561965"
     },
     "user_tz": -540
    },
    "id": "m9vDFKcmY0nC",
    "outputId": "197242e8-ed7d-4c3b-8f76-b76225af8998"
   },
   "outputs": [
    {
     "data": {
      "text/plain": [
       "('/usr/local/lib/python3.6/dist-packages/sklearn/datasets/data/iris.csv',\n",
       " array(['setosa', 'versicolor', 'virginica'], dtype='<U10'))"
      ]
     },
     "execution_count": 29,
     "metadata": {
      "tags": []
     },
     "output_type": "execute_result"
    }
   ],
   "source": [
    "iris['filename'], iris['target_names']"
   ]
  },
  {
   "cell_type": "code",
   "execution_count": null,
   "metadata": {
    "id": "iiowMI4SY0nC"
   },
   "outputs": [],
   "source": [
    "data = pd.DataFrame(data= np.c_[iris['data'], iris['target']],columns= iris['feature_names'] + ['target'])"
   ]
  },
  {
   "cell_type": "code",
   "execution_count": null,
   "metadata": {
    "colab": {
     "base_uri": "https://localhost:8080/",
     "height": 348
    },
    "executionInfo": {
     "elapsed": 661,
     "status": "ok",
     "timestamp": 1606360229331,
     "user": {
      "displayName": "Heecheol Cho",
      "photoUrl": "https://lh3.googleusercontent.com/a-/AOh14GjX329YmmK5EOCLjZGYupvhhyKPjyr-kS3DftPICg=s64",
      "userId": "11416361730564561965"
     },
     "user_tz": -540
    },
    "id": "TYCRdjkPY0nC",
    "outputId": "470e5086-81d8-41b8-c25a-b7ff0fe7b55b"
   },
   "outputs": [
    {
     "data": {
      "text/html": [
       "<div>\n",
       "<style scoped>\n",
       "    .dataframe tbody tr th:only-of-type {\n",
       "        vertical-align: middle;\n",
       "    }\n",
       "\n",
       "    .dataframe tbody tr th {\n",
       "        vertical-align: top;\n",
       "    }\n",
       "\n",
       "    .dataframe thead th {\n",
       "        text-align: right;\n",
       "    }\n",
       "</style>\n",
       "<table border=\"1\" class=\"dataframe\">\n",
       "  <thead>\n",
       "    <tr style=\"text-align: right;\">\n",
       "      <th></th>\n",
       "      <th>sepal length (cm)</th>\n",
       "      <th>sepal width (cm)</th>\n",
       "      <th>petal length (cm)</th>\n",
       "      <th>petal width (cm)</th>\n",
       "      <th>target</th>\n",
       "    </tr>\n",
       "  </thead>\n",
       "  <tbody>\n",
       "    <tr>\n",
       "      <th>0</th>\n",
       "      <td>5.1</td>\n",
       "      <td>3.5</td>\n",
       "      <td>1.4</td>\n",
       "      <td>0.2</td>\n",
       "      <td>0.0</td>\n",
       "    </tr>\n",
       "    <tr>\n",
       "      <th>1</th>\n",
       "      <td>4.9</td>\n",
       "      <td>3.0</td>\n",
       "      <td>1.4</td>\n",
       "      <td>0.2</td>\n",
       "      <td>0.0</td>\n",
       "    </tr>\n",
       "    <tr>\n",
       "      <th>2</th>\n",
       "      <td>4.7</td>\n",
       "      <td>3.2</td>\n",
       "      <td>1.3</td>\n",
       "      <td>0.2</td>\n",
       "      <td>0.0</td>\n",
       "    </tr>\n",
       "    <tr>\n",
       "      <th>3</th>\n",
       "      <td>4.6</td>\n",
       "      <td>3.1</td>\n",
       "      <td>1.5</td>\n",
       "      <td>0.2</td>\n",
       "      <td>0.0</td>\n",
       "    </tr>\n",
       "    <tr>\n",
       "      <th>4</th>\n",
       "      <td>5.0</td>\n",
       "      <td>3.6</td>\n",
       "      <td>1.4</td>\n",
       "      <td>0.2</td>\n",
       "      <td>0.0</td>\n",
       "    </tr>\n",
       "    <tr>\n",
       "      <th>5</th>\n",
       "      <td>5.4</td>\n",
       "      <td>3.9</td>\n",
       "      <td>1.7</td>\n",
       "      <td>0.4</td>\n",
       "      <td>0.0</td>\n",
       "    </tr>\n",
       "    <tr>\n",
       "      <th>6</th>\n",
       "      <td>4.6</td>\n",
       "      <td>3.4</td>\n",
       "      <td>1.4</td>\n",
       "      <td>0.3</td>\n",
       "      <td>0.0</td>\n",
       "    </tr>\n",
       "    <tr>\n",
       "      <th>7</th>\n",
       "      <td>5.0</td>\n",
       "      <td>3.4</td>\n",
       "      <td>1.5</td>\n",
       "      <td>0.2</td>\n",
       "      <td>0.0</td>\n",
       "    </tr>\n",
       "    <tr>\n",
       "      <th>8</th>\n",
       "      <td>4.4</td>\n",
       "      <td>2.9</td>\n",
       "      <td>1.4</td>\n",
       "      <td>0.2</td>\n",
       "      <td>0.0</td>\n",
       "    </tr>\n",
       "    <tr>\n",
       "      <th>9</th>\n",
       "      <td>4.9</td>\n",
       "      <td>3.1</td>\n",
       "      <td>1.5</td>\n",
       "      <td>0.1</td>\n",
       "      <td>0.0</td>\n",
       "    </tr>\n",
       "  </tbody>\n",
       "</table>\n",
       "</div>"
      ],
      "text/plain": [
       "   sepal length (cm)  sepal width (cm)  petal length (cm)  petal width (cm)  \\\n",
       "0                5.1               3.5                1.4               0.2   \n",
       "1                4.9               3.0                1.4               0.2   \n",
       "2                4.7               3.2                1.3               0.2   \n",
       "3                4.6               3.1                1.5               0.2   \n",
       "4                5.0               3.6                1.4               0.2   \n",
       "5                5.4               3.9                1.7               0.4   \n",
       "6                4.6               3.4                1.4               0.3   \n",
       "7                5.0               3.4                1.5               0.2   \n",
       "8                4.4               2.9                1.4               0.2   \n",
       "9                4.9               3.1                1.5               0.1   \n",
       "\n",
       "   target  \n",
       "0     0.0  \n",
       "1     0.0  \n",
       "2     0.0  \n",
       "3     0.0  \n",
       "4     0.0  \n",
       "5     0.0  \n",
       "6     0.0  \n",
       "7     0.0  \n",
       "8     0.0  \n",
       "9     0.0  "
      ]
     },
     "execution_count": 31,
     "metadata": {
      "tags": []
     },
     "output_type": "execute_result"
    }
   ],
   "source": [
    "data.head(10)"
   ]
  },
  {
   "cell_type": "code",
   "execution_count": null,
   "metadata": {
    "id": "U2lYAMVaY0nC"
   },
   "outputs": [],
   "source": [
    "data = data.sample(frac = 1) # shffle"
   ]
  },
  {
   "cell_type": "code",
   "execution_count": null,
   "metadata": {
    "colab": {
     "base_uri": "https://localhost:8080/",
     "height": 348
    },
    "executionInfo": {
     "elapsed": 691,
     "status": "ok",
     "timestamp": 1606360265100,
     "user": {
      "displayName": "Heecheol Cho",
      "photoUrl": "https://lh3.googleusercontent.com/a-/AOh14GjX329YmmK5EOCLjZGYupvhhyKPjyr-kS3DftPICg=s64",
      "userId": "11416361730564561965"
     },
     "user_tz": -540
    },
    "id": "UPNn-M6IY0nC",
    "outputId": "09764435-7095-4f04-a2db-b7fb08e5b5ce"
   },
   "outputs": [
    {
     "data": {
      "text/html": [
       "<div>\n",
       "<style scoped>\n",
       "    .dataframe tbody tr th:only-of-type {\n",
       "        vertical-align: middle;\n",
       "    }\n",
       "\n",
       "    .dataframe tbody tr th {\n",
       "        vertical-align: top;\n",
       "    }\n",
       "\n",
       "    .dataframe thead th {\n",
       "        text-align: right;\n",
       "    }\n",
       "</style>\n",
       "<table border=\"1\" class=\"dataframe\">\n",
       "  <thead>\n",
       "    <tr style=\"text-align: right;\">\n",
       "      <th></th>\n",
       "      <th>sepal length (cm)</th>\n",
       "      <th>sepal width (cm)</th>\n",
       "      <th>petal length (cm)</th>\n",
       "      <th>petal width (cm)</th>\n",
       "      <th>target</th>\n",
       "    </tr>\n",
       "  </thead>\n",
       "  <tbody>\n",
       "    <tr>\n",
       "      <th>80</th>\n",
       "      <td>5.5</td>\n",
       "      <td>2.4</td>\n",
       "      <td>3.8</td>\n",
       "      <td>1.1</td>\n",
       "      <td>1.0</td>\n",
       "    </tr>\n",
       "    <tr>\n",
       "      <th>121</th>\n",
       "      <td>5.6</td>\n",
       "      <td>2.8</td>\n",
       "      <td>4.9</td>\n",
       "      <td>2.0</td>\n",
       "      <td>2.0</td>\n",
       "    </tr>\n",
       "    <tr>\n",
       "      <th>115</th>\n",
       "      <td>6.4</td>\n",
       "      <td>3.2</td>\n",
       "      <td>5.3</td>\n",
       "      <td>2.3</td>\n",
       "      <td>2.0</td>\n",
       "    </tr>\n",
       "    <tr>\n",
       "      <th>29</th>\n",
       "      <td>4.7</td>\n",
       "      <td>3.2</td>\n",
       "      <td>1.6</td>\n",
       "      <td>0.2</td>\n",
       "      <td>0.0</td>\n",
       "    </tr>\n",
       "    <tr>\n",
       "      <th>60</th>\n",
       "      <td>5.0</td>\n",
       "      <td>2.0</td>\n",
       "      <td>3.5</td>\n",
       "      <td>1.0</td>\n",
       "      <td>1.0</td>\n",
       "    </tr>\n",
       "    <tr>\n",
       "      <th>75</th>\n",
       "      <td>6.6</td>\n",
       "      <td>3.0</td>\n",
       "      <td>4.4</td>\n",
       "      <td>1.4</td>\n",
       "      <td>1.0</td>\n",
       "    </tr>\n",
       "    <tr>\n",
       "      <th>130</th>\n",
       "      <td>7.4</td>\n",
       "      <td>2.8</td>\n",
       "      <td>6.1</td>\n",
       "      <td>1.9</td>\n",
       "      <td>2.0</td>\n",
       "    </tr>\n",
       "    <tr>\n",
       "      <th>36</th>\n",
       "      <td>5.5</td>\n",
       "      <td>3.5</td>\n",
       "      <td>1.3</td>\n",
       "      <td>0.2</td>\n",
       "      <td>0.0</td>\n",
       "    </tr>\n",
       "    <tr>\n",
       "      <th>99</th>\n",
       "      <td>5.7</td>\n",
       "      <td>2.8</td>\n",
       "      <td>4.1</td>\n",
       "      <td>1.3</td>\n",
       "      <td>1.0</td>\n",
       "    </tr>\n",
       "    <tr>\n",
       "      <th>128</th>\n",
       "      <td>6.4</td>\n",
       "      <td>2.8</td>\n",
       "      <td>5.6</td>\n",
       "      <td>2.1</td>\n",
       "      <td>2.0</td>\n",
       "    </tr>\n",
       "  </tbody>\n",
       "</table>\n",
       "</div>"
      ],
      "text/plain": [
       "     sepal length (cm)  sepal width (cm)  petal length (cm)  petal width (cm)  \\\n",
       "80                 5.5               2.4                3.8               1.1   \n",
       "121                5.6               2.8                4.9               2.0   \n",
       "115                6.4               3.2                5.3               2.3   \n",
       "29                 4.7               3.2                1.6               0.2   \n",
       "60                 5.0               2.0                3.5               1.0   \n",
       "75                 6.6               3.0                4.4               1.4   \n",
       "130                7.4               2.8                6.1               1.9   \n",
       "36                 5.5               3.5                1.3               0.2   \n",
       "99                 5.7               2.8                4.1               1.3   \n",
       "128                6.4               2.8                5.6               2.1   \n",
       "\n",
       "     target  \n",
       "80      1.0  \n",
       "121     2.0  \n",
       "115     2.0  \n",
       "29      0.0  \n",
       "60      1.0  \n",
       "75      1.0  \n",
       "130     2.0  \n",
       "36      0.0  \n",
       "99      1.0  \n",
       "128     2.0  "
      ]
     },
     "execution_count": 34,
     "metadata": {
      "tags": []
     },
     "output_type": "execute_result"
    }
   ],
   "source": [
    "data.head(10)"
   ]
  },
  {
   "cell_type": "code",
   "execution_count": null,
   "metadata": {
    "colab": {
     "base_uri": "https://localhost:8080/"
    },
    "executionInfo": {
     "elapsed": 630,
     "status": "ok",
     "timestamp": 1606360268364,
     "user": {
      "displayName": "Heecheol Cho",
      "photoUrl": "https://lh3.googleusercontent.com/a-/AOh14GjX329YmmK5EOCLjZGYupvhhyKPjyr-kS3DftPICg=s64",
      "userId": "11416361730564561965"
     },
     "user_tz": -540
    },
    "id": "_bfuq8t3Y0nC",
    "outputId": "abbfb268-3d98-4c0f-c7f8-8e5b6c1ba608"
   },
   "outputs": [
    {
     "data": {
      "text/plain": [
       "array([[5.5, 2.4, 3.8],\n",
       "       [5.6, 2.8, 4.9],\n",
       "       [6.4, 3.2, 5.3],\n",
       "       [4.7, 3.2, 1.6],\n",
       "       [5. , 2. , 3.5],\n",
       "       [6.6, 3. , 4.4],\n",
       "       [7.4, 2.8, 6.1],\n",
       "       [5.5, 3.5, 1.3],\n",
       "       [5.7, 2.8, 4.1],\n",
       "       [6.4, 2.8, 5.6],\n",
       "       [6.7, 2.5, 5.8],\n",
       "       [5.2, 4.1, 1.5],\n",
       "       [5.1, 2.5, 3. ],\n",
       "       [5.8, 2.7, 5.1],\n",
       "       [6.1, 2.9, 4.7],\n",
       "       [5.1, 3.8, 1.5],\n",
       "       [5.6, 3. , 4.5],\n",
       "       [7.2, 3.2, 6. ],\n",
       "       [5.6, 2.7, 4.2],\n",
       "       [5. , 3.2, 1.2],\n",
       "       [6. , 2.9, 4.5],\n",
       "       [5.7, 2.5, 5. ],\n",
       "       [6.3, 2.7, 4.9],\n",
       "       [5.6, 2.5, 3.9],\n",
       "       [6. , 3. , 4.8],\n",
       "       [5.1, 3.8, 1.6],\n",
       "       [5.8, 2.8, 5.1],\n",
       "       [5.7, 3. , 4.2],\n",
       "       [4.9, 2.5, 4.5],\n",
       "       [5. , 3.5, 1.6],\n",
       "       [5. , 3.4, 1.6],\n",
       "       [5.5, 2.5, 4. ],\n",
       "       [6.7, 3.3, 5.7],\n",
       "       [4.9, 2.4, 3.3],\n",
       "       [5.9, 3. , 4.2],\n",
       "       [4.7, 3.2, 1.3],\n",
       "       [4.8, 3. , 1.4],\n",
       "       [5. , 2.3, 3.3],\n",
       "       [6.3, 3.3, 4.7],\n",
       "       [4.8, 3.4, 1.9],\n",
       "       [6.6, 2.9, 4.6],\n",
       "       [4.9, 3.6, 1.4],\n",
       "       [5.6, 3. , 4.1],\n",
       "       [7.7, 3. , 6.1],\n",
       "       [5.8, 2.6, 4. ],\n",
       "       [5.2, 3.4, 1.4],\n",
       "       [5.7, 2.6, 3.5],\n",
       "       [6.9, 3.1, 5.4],\n",
       "       [5.1, 3.7, 1.5],\n",
       "       [5.2, 3.5, 1.5],\n",
       "       [5.9, 3.2, 4.8],\n",
       "       [6.3, 2.3, 4.4],\n",
       "       [5.7, 4.4, 1.5],\n",
       "       [5.4, 3.4, 1.7],\n",
       "       [6.8, 2.8, 4.8],\n",
       "       [6.1, 2.8, 4. ],\n",
       "       [6.5, 3. , 5.8],\n",
       "       [4.6, 3.2, 1.4],\n",
       "       [6. , 2.2, 4. ],\n",
       "       [6.2, 2.9, 4.3],\n",
       "       [5.7, 3.8, 1.7],\n",
       "       [6.7, 3. , 5.2],\n",
       "       [5.1, 3.5, 1.4],\n",
       "       [6.9, 3.1, 4.9],\n",
       "       [6.1, 2.6, 5.6],\n",
       "       [6.2, 2.2, 4.5],\n",
       "       [4.8, 3. , 1.4],\n",
       "       [6.9, 3.2, 5.7],\n",
       "       [6.4, 2.9, 4.3],\n",
       "       [5.5, 2.3, 4. ],\n",
       "       [5. , 3. , 1.6],\n",
       "       [6.7, 3.3, 5.7],\n",
       "       [6.4, 3.1, 5.5],\n",
       "       [5.2, 2.7, 3.9],\n",
       "       [5.1, 3.5, 1.4],\n",
       "       [6.4, 3.2, 4.5],\n",
       "       [7. , 3.2, 4.7],\n",
       "       [6.3, 2.5, 5. ],\n",
       "       [5.4, 3.4, 1.5],\n",
       "       [6.1, 3. , 4.6],\n",
       "       [5.3, 3.7, 1.5],\n",
       "       [4.9, 3. , 1.4],\n",
       "       [7.7, 2.8, 6.7],\n",
       "       [4.8, 3.4, 1.6],\n",
       "       [5.8, 2.7, 5.1],\n",
       "       [6.3, 2.9, 5.6],\n",
       "       [6.2, 3.4, 5.4],\n",
       "       [7.9, 3.8, 6.4],\n",
       "       [6.5, 3.2, 5.1],\n",
       "       [4.8, 3.1, 1.6],\n",
       "       [5.5, 2.6, 4.4],\n",
       "       [5. , 3.6, 1.4],\n",
       "       [5. , 3.5, 1.3],\n",
       "       [4.6, 3.6, 1. ],\n",
       "       [4.4, 2.9, 1.4],\n",
       "       [4.9, 3.1, 1.5],\n",
       "       [6.4, 2.8, 5.6],\n",
       "       [5.4, 3.9, 1.7],\n",
       "       [5. , 3.4, 1.5],\n",
       "       [4.4, 3. , 1.3],\n",
       "       [6.8, 3. , 5.5],\n",
       "       [6.5, 3. , 5.2],\n",
       "       [4.4, 3.2, 1.3],\n",
       "       [6.7, 3.1, 5.6],\n",
       "       [4.3, 3. , 1.1],\n",
       "       [6. , 2.7, 5.1],\n",
       "       [5.8, 2.7, 3.9],\n",
       "       [7.3, 2.9, 6.3],\n",
       "       [5.6, 2.9, 3.6],\n",
       "       [5.4, 3.7, 1.5],\n",
       "       [6.7, 3. , 5. ],\n",
       "       [4.5, 2.3, 1.3],\n",
       "       [6.3, 3.4, 5.6],\n",
       "       [5.5, 4.2, 1.4],\n",
       "       [5.8, 4. , 1.2],\n",
       "       [6.5, 2.8, 4.6],\n",
       "       [6.1, 3. , 4.9],\n",
       "       [6.5, 3. , 5.5],\n",
       "       [7.2, 3. , 5.8],\n",
       "       [6.2, 2.8, 4.8],\n",
       "       [6.7, 3.1, 4.4],\n",
       "       [6.3, 3.3, 6. ],\n",
       "       [5.1, 3.4, 1.5],\n",
       "       [5.4, 3.9, 1.3],\n",
       "       [6.3, 2.5, 4.9],\n",
       "       [5.7, 2.9, 4.2],\n",
       "       [6.4, 2.7, 5.3],\n",
       "       [7.2, 3.6, 6.1],\n",
       "       [5.1, 3.3, 1.7],\n",
       "       [6.3, 2.8, 5.1],\n",
       "       [5.5, 2.4, 3.7],\n",
       "       [7.7, 2.6, 6.9],\n",
       "       [6. , 3.4, 4.5],\n",
       "       [4.6, 3.4, 1.4],\n",
       "       [6.8, 3.2, 5.9],\n",
       "       [4.9, 3.1, 1.5],\n",
       "       [7.6, 3. , 6.6],\n",
       "       [5.9, 3. , 5.1],\n",
       "       [5. , 3.3, 1.4],\n",
       "       [6.7, 3.1, 4.7],\n",
       "       [6.1, 2.8, 4.7],\n",
       "       [6.9, 3.1, 5.1],\n",
       "       [5.1, 3.8, 1.9],\n",
       "       [5.7, 2.8, 4.5],\n",
       "       [5.4, 3. , 4.5],\n",
       "       [6. , 2.2, 5. ],\n",
       "       [7.7, 3.8, 6.7],\n",
       "       [5.8, 2.7, 4.1],\n",
       "       [7.1, 3. , 5.9],\n",
       "       [4.6, 3.1, 1.5]])"
      ]
     },
     "execution_count": 35,
     "metadata": {
      "tags": []
     },
     "output_type": "execute_result"
    }
   ],
   "source": [
    "data.values[:,:3]"
   ]
  },
  {
   "cell_type": "code",
   "execution_count": null,
   "metadata": {
    "id": "es-ge6uYY0nC"
   },
   "outputs": [],
   "source": []
  },
  {
   "cell_type": "markdown",
   "metadata": {
    "id": "45E7hDvYY0nC"
   },
   "source": [
    "## Simple Deep Lerning Model with Tensorflow(IRIS)"
   ]
  },
  {
   "cell_type": "code",
   "execution_count": null,
   "metadata": {
    "id": "f8B976hHY0nC"
   },
   "outputs": [],
   "source": [
    "from sklearn import datasets\n",
    "import tensorflow as tf\n",
    "import matplotlib.pyplot as plt\n",
    "iris = datasets.load_iris()"
   ]
  },
  {
   "cell_type": "code",
   "execution_count": null,
   "metadata": {
    "colab": {
     "base_uri": "https://localhost:8080/"
    },
    "executionInfo": {
     "elapsed": 888,
     "status": "ok",
     "timestamp": 1606360283428,
     "user": {
      "displayName": "Heecheol Cho",
      "photoUrl": "https://lh3.googleusercontent.com/a-/AOh14GjX329YmmK5EOCLjZGYupvhhyKPjyr-kS3DftPICg=s64",
      "userId": "11416361730564561965"
     },
     "user_tz": -540
    },
    "id": "snMtqYtwY0nC",
    "outputId": "a7a31eb8-9589-4667-8c77-fafac8b50ebd"
   },
   "outputs": [
    {
     "name": "stdout",
     "output_type": "stream",
     "text": [
      "Model: \"sequential\"\n",
      "_________________________________________________________________\n",
      "Layer (type)                 Output Shape              Param #   \n",
      "=================================================================\n",
      "dense (Dense)                (None, 10)                50        \n",
      "_________________________________________________________________\n",
      "dense_1 (Dense)              (None, 10)                110       \n",
      "_________________________________________________________________\n",
      "dense_2 (Dense)              (None, 3)                 33        \n",
      "=================================================================\n",
      "Total params: 193\n",
      "Trainable params: 193\n",
      "Non-trainable params: 0\n",
      "_________________________________________________________________\n"
     ]
    }
   ],
   "source": [
    "model = tf.keras.Sequential([\n",
    "    tf.keras.layers.Dense(10,input_shape=(4,), activation='relu'),\n",
    "    tf.keras.layers.Dense(10, activation='relu'),      \n",
    "    tf.keras.layers.Dense(3, activation='softmax')\n",
    "])\n",
    "optimiser = tf.keras.optimizers.Adam(learning_rate=0.001)  # pytorch와 달리, 0.01 또는 0.001일 때, 잘된다. 0.0001이면 별로...\n",
    "# tf.keras.losses.categorical_crossentropy(y_true, y_pred, from_logits=False, label_smoothing=0)  ---> default: logit이 아니 확률\n",
    "model.compile(optimizer=optimiser, loss='sparse_categorical_crossentropy', metrics=['accuracy'])  # sparse ---> target이 onthot이 아니어도 된다.\n",
    "model.summary()"
   ]
  },
  {
   "cell_type": "code",
   "execution_count": null,
   "metadata": {
    "colab": {
     "base_uri": "https://localhost:8080/"
    },
    "executionInfo": {
     "elapsed": 4282,
     "status": "ok",
     "timestamp": 1606360288822,
     "user": {
      "displayName": "Heecheol Cho",
      "photoUrl": "https://lh3.googleusercontent.com/a-/AOh14GjX329YmmK5EOCLjZGYupvhhyKPjyr-kS3DftPICg=s64",
      "userId": "11416361730564561965"
     },
     "user_tz": -540
    },
    "id": "EBO15v5qY0nC",
    "outputId": "c2d9070e-9cf4-4c36-bffe-641cf129f5ba"
   },
   "outputs": [
    {
     "name": "stdout",
     "output_type": "stream",
     "text": [
      "Epoch 1/200\n",
      "5/5 [==============================] - 0s 2ms/step - loss: 1.7463 - accuracy: 0.3333\n",
      "Epoch 2/200\n",
      "5/5 [==============================] - 0s 2ms/step - loss: 1.6397 - accuracy: 0.3333\n",
      "Epoch 3/200\n",
      "5/5 [==============================] - 0s 2ms/step - loss: 1.5481 - accuracy: 0.3333\n",
      "Epoch 4/200\n",
      "5/5 [==============================] - 0s 2ms/step - loss: 1.4598 - accuracy: 0.3333\n",
      "Epoch 5/200\n",
      "5/5 [==============================] - 0s 2ms/step - loss: 1.3917 - accuracy: 0.3333\n",
      "Epoch 6/200\n",
      "5/5 [==============================] - 0s 2ms/step - loss: 1.3485 - accuracy: 0.3333\n",
      "Epoch 7/200\n",
      "5/5 [==============================] - 0s 2ms/step - loss: 1.3060 - accuracy: 0.3333\n",
      "Epoch 8/200\n",
      "5/5 [==============================] - 0s 2ms/step - loss: 1.2708 - accuracy: 0.3333\n",
      "Epoch 9/200\n",
      "5/5 [==============================] - 0s 2ms/step - loss: 1.2416 - accuracy: 0.3333\n",
      "Epoch 10/200\n",
      "5/5 [==============================] - 0s 2ms/step - loss: 1.2130 - accuracy: 0.3333\n",
      "Epoch 11/200\n",
      "5/5 [==============================] - 0s 2ms/step - loss: 1.1892 - accuracy: 0.3333\n",
      "Epoch 12/200\n",
      "5/5 [==============================] - 0s 2ms/step - loss: 1.1707 - accuracy: 0.3333\n",
      "Epoch 13/200\n",
      "5/5 [==============================] - 0s 2ms/step - loss: 1.1491 - accuracy: 0.3333\n",
      "Epoch 14/200\n",
      "5/5 [==============================] - 0s 2ms/step - loss: 1.1329 - accuracy: 0.3333\n",
      "Epoch 15/200\n",
      "5/5 [==============================] - 0s 2ms/step - loss: 1.1176 - accuracy: 0.3333\n",
      "Epoch 16/200\n",
      "5/5 [==============================] - 0s 2ms/step - loss: 1.1048 - accuracy: 0.3333\n",
      "Epoch 17/200\n",
      "5/5 [==============================] - 0s 2ms/step - loss: 1.0928 - accuracy: 0.3333\n",
      "Epoch 18/200\n",
      "5/5 [==============================] - 0s 2ms/step - loss: 1.0808 - accuracy: 0.3333\n",
      "Epoch 19/200\n",
      "5/5 [==============================] - 0s 2ms/step - loss: 1.0706 - accuracy: 0.3333\n",
      "Epoch 20/200\n",
      "5/5 [==============================] - 0s 2ms/step - loss: 1.0614 - accuracy: 0.3333\n",
      "Epoch 21/200\n",
      "5/5 [==============================] - 0s 3ms/step - loss: 1.0511 - accuracy: 0.3333\n",
      "Epoch 22/200\n",
      "5/5 [==============================] - 0s 2ms/step - loss: 1.0423 - accuracy: 0.3333\n",
      "Epoch 23/200\n",
      "5/5 [==============================] - 0s 2ms/step - loss: 1.0336 - accuracy: 0.3333\n",
      "Epoch 24/200\n",
      "5/5 [==============================] - 0s 2ms/step - loss: 1.0246 - accuracy: 0.3600\n",
      "Epoch 25/200\n",
      "5/5 [==============================] - 0s 2ms/step - loss: 1.0161 - accuracy: 0.3800\n",
      "Epoch 26/200\n",
      "5/5 [==============================] - 0s 2ms/step - loss: 1.0080 - accuracy: 0.4067\n",
      "Epoch 27/200\n",
      "5/5 [==============================] - 0s 2ms/step - loss: 0.9995 - accuracy: 0.4533\n",
      "Epoch 28/200\n",
      "5/5 [==============================] - 0s 2ms/step - loss: 0.9911 - accuracy: 0.4600\n",
      "Epoch 29/200\n",
      "5/5 [==============================] - 0s 2ms/step - loss: 0.9830 - accuracy: 0.4667\n",
      "Epoch 30/200\n",
      "5/5 [==============================] - 0s 2ms/step - loss: 0.9752 - accuracy: 0.4933\n",
      "Epoch 31/200\n",
      "5/5 [==============================] - 0s 2ms/step - loss: 0.9678 - accuracy: 0.5067\n",
      "Epoch 32/200\n",
      "5/5 [==============================] - 0s 2ms/step - loss: 0.9606 - accuracy: 0.5333\n",
      "Epoch 33/200\n",
      "5/5 [==============================] - 0s 3ms/step - loss: 0.9536 - accuracy: 0.5667\n",
      "Epoch 34/200\n",
      "5/5 [==============================] - 0s 2ms/step - loss: 0.9459 - accuracy: 0.5667\n",
      "Epoch 35/200\n",
      "5/5 [==============================] - 0s 2ms/step - loss: 0.9389 - accuracy: 0.6600\n",
      "Epoch 36/200\n",
      "5/5 [==============================] - 0s 3ms/step - loss: 0.9321 - accuracy: 0.7133\n",
      "Epoch 37/200\n",
      "5/5 [==============================] - 0s 2ms/step - loss: 0.9245 - accuracy: 0.7333\n",
      "Epoch 38/200\n",
      "5/5 [==============================] - 0s 4ms/step - loss: 0.9171 - accuracy: 0.7533\n",
      "Epoch 39/200\n",
      "5/5 [==============================] - 0s 2ms/step - loss: 0.9102 - accuracy: 0.7600\n",
      "Epoch 40/200\n",
      "5/5 [==============================] - 0s 2ms/step - loss: 0.9031 - accuracy: 0.7667\n",
      "Epoch 41/200\n",
      "5/5 [==============================] - 0s 2ms/step - loss: 0.8959 - accuracy: 0.7733\n",
      "Epoch 42/200\n",
      "5/5 [==============================] - 0s 2ms/step - loss: 0.8882 - accuracy: 0.7600\n",
      "Epoch 43/200\n",
      "5/5 [==============================] - 0s 2ms/step - loss: 0.8808 - accuracy: 0.7733\n",
      "Epoch 44/200\n",
      "5/5 [==============================] - 0s 2ms/step - loss: 0.8741 - accuracy: 0.7667\n",
      "Epoch 45/200\n",
      "5/5 [==============================] - 0s 2ms/step - loss: 0.8665 - accuracy: 0.7800\n",
      "Epoch 46/200\n",
      "5/5 [==============================] - 0s 2ms/step - loss: 0.8595 - accuracy: 0.7733\n",
      "Epoch 47/200\n",
      "5/5 [==============================] - 0s 2ms/step - loss: 0.8518 - accuracy: 0.7867\n",
      "Epoch 48/200\n",
      "5/5 [==============================] - 0s 2ms/step - loss: 0.8450 - accuracy: 0.8067\n",
      "Epoch 49/200\n",
      "5/5 [==============================] - 0s 2ms/step - loss: 0.8381 - accuracy: 0.8333\n",
      "Epoch 50/200\n",
      "5/5 [==============================] - 0s 2ms/step - loss: 0.8309 - accuracy: 0.8200\n",
      "Epoch 51/200\n",
      "5/5 [==============================] - 0s 2ms/step - loss: 0.8243 - accuracy: 0.8333\n",
      "Epoch 52/200\n",
      "5/5 [==============================] - 0s 2ms/step - loss: 0.8179 - accuracy: 0.8067\n",
      "Epoch 53/200\n",
      "5/5 [==============================] - 0s 2ms/step - loss: 0.8115 - accuracy: 0.8200\n",
      "Epoch 54/200\n",
      "5/5 [==============================] - 0s 2ms/step - loss: 0.8056 - accuracy: 0.8000\n",
      "Epoch 55/200\n",
      "5/5 [==============================] - 0s 2ms/step - loss: 0.7996 - accuracy: 0.8000\n",
      "Epoch 56/200\n",
      "5/5 [==============================] - 0s 1ms/step - loss: 0.7937 - accuracy: 0.8067\n",
      "Epoch 57/200\n",
      "5/5 [==============================] - 0s 2ms/step - loss: 0.7886 - accuracy: 0.8000\n",
      "Epoch 58/200\n",
      "5/5 [==============================] - 0s 2ms/step - loss: 0.7830 - accuracy: 0.8000\n",
      "Epoch 59/200\n",
      "5/5 [==============================] - 0s 2ms/step - loss: 0.7778 - accuracy: 0.8133\n",
      "Epoch 60/200\n",
      "5/5 [==============================] - 0s 2ms/step - loss: 0.7729 - accuracy: 0.8200\n",
      "Epoch 61/200\n",
      "5/5 [==============================] - 0s 2ms/step - loss: 0.7681 - accuracy: 0.8200\n",
      "Epoch 62/200\n",
      "5/5 [==============================] - 0s 2ms/step - loss: 0.7634 - accuracy: 0.8267\n",
      "Epoch 63/200\n",
      "5/5 [==============================] - 0s 2ms/step - loss: 0.7588 - accuracy: 0.8333\n",
      "Epoch 64/200\n",
      "5/5 [==============================] - 0s 2ms/step - loss: 0.7543 - accuracy: 0.8533\n",
      "Epoch 65/200\n",
      "5/5 [==============================] - 0s 2ms/step - loss: 0.7501 - accuracy: 0.8400\n",
      "Epoch 66/200\n",
      "5/5 [==============================] - 0s 2ms/step - loss: 0.7460 - accuracy: 0.8133\n",
      "Epoch 67/200\n",
      "5/5 [==============================] - 0s 2ms/step - loss: 0.7421 - accuracy: 0.8200\n",
      "Epoch 68/200\n",
      "5/5 [==============================] - 0s 2ms/step - loss: 0.7380 - accuracy: 0.8400\n",
      "Epoch 69/200\n",
      "5/5 [==============================] - 0s 2ms/step - loss: 0.7346 - accuracy: 0.8467\n",
      "Epoch 70/200\n",
      "5/5 [==============================] - 0s 1ms/step - loss: 0.7308 - accuracy: 0.8533\n",
      "Epoch 71/200\n",
      "5/5 [==============================] - 0s 2ms/step - loss: 0.7273 - accuracy: 0.8467\n",
      "Epoch 72/200\n",
      "5/5 [==============================] - 0s 2ms/step - loss: 0.7239 - accuracy: 0.8400\n",
      "Epoch 73/200\n",
      "5/5 [==============================] - 0s 2ms/step - loss: 0.7210 - accuracy: 0.8267\n",
      "Epoch 74/200\n",
      "5/5 [==============================] - 0s 2ms/step - loss: 0.7176 - accuracy: 0.8400\n",
      "Epoch 75/200\n",
      "5/5 [==============================] - 0s 2ms/step - loss: 0.7144 - accuracy: 0.8600\n",
      "Epoch 76/200\n",
      "5/5 [==============================] - 0s 2ms/step - loss: 0.7115 - accuracy: 0.8533\n",
      "Epoch 77/200\n",
      "5/5 [==============================] - 0s 2ms/step - loss: 0.7085 - accuracy: 0.8533\n",
      "Epoch 78/200\n",
      "5/5 [==============================] - 0s 2ms/step - loss: 0.7056 - accuracy: 0.8467\n",
      "Epoch 79/200\n",
      "5/5 [==============================] - 0s 2ms/step - loss: 0.7027 - accuracy: 0.8467\n",
      "Epoch 80/200\n",
      "5/5 [==============================] - 0s 2ms/step - loss: 0.6999 - accuracy: 0.8400\n",
      "Epoch 81/200\n",
      "5/5 [==============================] - 0s 2ms/step - loss: 0.6972 - accuracy: 0.8400\n",
      "Epoch 82/200\n",
      "5/5 [==============================] - 0s 2ms/step - loss: 0.6947 - accuracy: 0.8467\n",
      "Epoch 83/200\n",
      "5/5 [==============================] - 0s 2ms/step - loss: 0.6920 - accuracy: 0.8600\n",
      "Epoch 84/200\n",
      "5/5 [==============================] - 0s 2ms/step - loss: 0.6894 - accuracy: 0.8533\n",
      "Epoch 85/200\n",
      "5/5 [==============================] - 0s 3ms/step - loss: 0.6870 - accuracy: 0.8467\n",
      "Epoch 86/200\n",
      "5/5 [==============================] - 0s 2ms/step - loss: 0.6846 - accuracy: 0.8600\n",
      "Epoch 87/200\n",
      "5/5 [==============================] - 0s 1ms/step - loss: 0.6822 - accuracy: 0.8600\n",
      "Epoch 88/200\n",
      "5/5 [==============================] - 0s 2ms/step - loss: 0.6800 - accuracy: 0.8600\n",
      "Epoch 89/200\n",
      "5/5 [==============================] - 0s 3ms/step - loss: 0.6777 - accuracy: 0.8533\n",
      "Epoch 90/200\n",
      "5/5 [==============================] - 0s 2ms/step - loss: 0.6754 - accuracy: 0.8667\n",
      "Epoch 91/200\n",
      "5/5 [==============================] - 0s 2ms/step - loss: 0.6732 - accuracy: 0.8533\n",
      "Epoch 92/200\n",
      "5/5 [==============================] - 0s 2ms/step - loss: 0.6711 - accuracy: 0.8467\n",
      "Epoch 93/200\n",
      "5/5 [==============================] - 0s 3ms/step - loss: 0.6690 - accuracy: 0.8667\n",
      "Epoch 94/200\n",
      "5/5 [==============================] - 0s 2ms/step - loss: 0.6669 - accuracy: 0.8667\n",
      "Epoch 95/200\n",
      "5/5 [==============================] - 0s 2ms/step - loss: 0.6648 - accuracy: 0.8733\n",
      "Epoch 96/200\n",
      "5/5 [==============================] - 0s 2ms/step - loss: 0.6628 - accuracy: 0.8733\n",
      "Epoch 97/200\n",
      "5/5 [==============================] - 0s 2ms/step - loss: 0.6608 - accuracy: 0.8667\n",
      "Epoch 98/200\n",
      "5/5 [==============================] - 0s 2ms/step - loss: 0.6588 - accuracy: 0.8667\n",
      "Epoch 99/200\n",
      "5/5 [==============================] - 0s 2ms/step - loss: 0.6569 - accuracy: 0.8733\n",
      "Epoch 100/200\n",
      "5/5 [==============================] - 0s 2ms/step - loss: 0.6550 - accuracy: 0.8733\n",
      "Epoch 101/200\n",
      "5/5 [==============================] - 0s 2ms/step - loss: 0.6531 - accuracy: 0.8733\n",
      "Epoch 102/200\n",
      "5/5 [==============================] - 0s 2ms/step - loss: 0.6513 - accuracy: 0.8733\n",
      "Epoch 103/200\n",
      "5/5 [==============================] - 0s 2ms/step - loss: 0.6494 - accuracy: 0.8867\n",
      "Epoch 104/200\n",
      "5/5 [==============================] - 0s 2ms/step - loss: 0.6476 - accuracy: 0.8867\n",
      "Epoch 105/200\n",
      "5/5 [==============================] - 0s 2ms/step - loss: 0.6458 - accuracy: 0.8867\n",
      "Epoch 106/200\n",
      "5/5 [==============================] - 0s 2ms/step - loss: 0.6440 - accuracy: 0.8867\n",
      "Epoch 107/200\n",
      "5/5 [==============================] - 0s 2ms/step - loss: 0.6422 - accuracy: 0.8867\n",
      "Epoch 108/200\n",
      "5/5 [==============================] - 0s 2ms/step - loss: 0.6404 - accuracy: 0.8933\n",
      "Epoch 109/200\n",
      "5/5 [==============================] - 0s 2ms/step - loss: 0.6387 - accuracy: 0.8933\n",
      "Epoch 110/200\n",
      "5/5 [==============================] - 0s 2ms/step - loss: 0.6370 - accuracy: 0.8933\n",
      "Epoch 111/200\n",
      "5/5 [==============================] - 0s 2ms/step - loss: 0.6352 - accuracy: 0.8933\n",
      "Epoch 112/200\n",
      "5/5 [==============================] - 0s 2ms/step - loss: 0.6335 - accuracy: 0.8933\n",
      "Epoch 113/200\n",
      "5/5 [==============================] - 0s 2ms/step - loss: 0.6318 - accuracy: 0.8933\n",
      "Epoch 114/200\n",
      "5/5 [==============================] - 0s 3ms/step - loss: 0.6301 - accuracy: 0.8933\n",
      "Epoch 115/200\n",
      "5/5 [==============================] - 0s 2ms/step - loss: 0.6284 - accuracy: 0.8933\n",
      "Epoch 116/200\n",
      "5/5 [==============================] - 0s 3ms/step - loss: 0.6267 - accuracy: 0.8933\n",
      "Epoch 117/200\n",
      "5/5 [==============================] - 0s 2ms/step - loss: 0.6250 - accuracy: 0.8933\n",
      "Epoch 118/200\n",
      "5/5 [==============================] - 0s 2ms/step - loss: 0.6233 - accuracy: 0.8933\n",
      "Epoch 119/200\n",
      "5/5 [==============================] - 0s 2ms/step - loss: 0.6217 - accuracy: 0.8933\n",
      "Epoch 120/200\n",
      "5/5 [==============================] - 0s 2ms/step - loss: 0.6200 - accuracy: 0.9000\n",
      "Epoch 121/200\n",
      "5/5 [==============================] - 0s 2ms/step - loss: 0.6184 - accuracy: 0.8933\n",
      "Epoch 122/200\n",
      "5/5 [==============================] - 0s 2ms/step - loss: 0.6167 - accuracy: 0.9000\n",
      "Epoch 123/200\n",
      "5/5 [==============================] - 0s 2ms/step - loss: 0.6150 - accuracy: 0.9000\n",
      "Epoch 124/200\n",
      "5/5 [==============================] - 0s 2ms/step - loss: 0.6134 - accuracy: 0.9000\n",
      "Epoch 125/200\n",
      "5/5 [==============================] - 0s 2ms/step - loss: 0.6117 - accuracy: 0.9067\n",
      "Epoch 126/200\n",
      "5/5 [==============================] - 0s 2ms/step - loss: 0.6100 - accuracy: 0.9000\n",
      "Epoch 127/200\n",
      "5/5 [==============================] - 0s 2ms/step - loss: 0.6084 - accuracy: 0.9000\n",
      "Epoch 128/200\n",
      "5/5 [==============================] - 0s 2ms/step - loss: 0.6067 - accuracy: 0.9000\n",
      "Epoch 129/200\n",
      "5/5 [==============================] - 0s 2ms/step - loss: 0.6054 - accuracy: 0.9200\n",
      "Epoch 130/200\n",
      "5/5 [==============================] - 0s 2ms/step - loss: 0.6037 - accuracy: 0.9333\n",
      "Epoch 131/200\n",
      "5/5 [==============================] - 0s 2ms/step - loss: 0.6017 - accuracy: 0.9333\n",
      "Epoch 132/200\n",
      "5/5 [==============================] - 0s 3ms/step - loss: 0.6003 - accuracy: 0.9067\n",
      "Epoch 133/200\n",
      "5/5 [==============================] - 0s 2ms/step - loss: 0.5987 - accuracy: 0.9067\n",
      "Epoch 134/200\n",
      "5/5 [==============================] - 0s 3ms/step - loss: 0.5967 - accuracy: 0.9200\n",
      "Epoch 135/200\n",
      "5/5 [==============================] - 0s 2ms/step - loss: 0.5951 - accuracy: 0.9333\n",
      "Epoch 136/200\n",
      "5/5 [==============================] - 0s 2ms/step - loss: 0.5933 - accuracy: 0.9333\n",
      "Epoch 137/200\n",
      "5/5 [==============================] - 0s 2ms/step - loss: 0.5916 - accuracy: 0.9333\n",
      "Epoch 138/200\n",
      "5/5 [==============================] - 0s 2ms/step - loss: 0.5899 - accuracy: 0.9333\n",
      "Epoch 139/200\n",
      "5/5 [==============================] - 0s 2ms/step - loss: 0.5881 - accuracy: 0.9333\n",
      "Epoch 140/200\n",
      "5/5 [==============================] - 0s 2ms/step - loss: 0.5865 - accuracy: 0.9333\n",
      "Epoch 141/200\n",
      "5/5 [==============================] - 0s 2ms/step - loss: 0.5848 - accuracy: 0.9400\n",
      "Epoch 142/200\n",
      "5/5 [==============================] - 0s 1ms/step - loss: 0.5832 - accuracy: 0.9333\n",
      "Epoch 143/200\n",
      "5/5 [==============================] - 0s 2ms/step - loss: 0.5813 - accuracy: 0.9333\n",
      "Epoch 144/200\n",
      "5/5 [==============================] - 0s 3ms/step - loss: 0.5796 - accuracy: 0.9467\n",
      "Epoch 145/200\n",
      "5/5 [==============================] - 0s 4ms/step - loss: 0.5784 - accuracy: 0.9400\n",
      "Epoch 146/200\n",
      "5/5 [==============================] - 0s 2ms/step - loss: 0.5764 - accuracy: 0.9333\n",
      "Epoch 147/200\n",
      "5/5 [==============================] - 0s 2ms/step - loss: 0.5746 - accuracy: 0.9400\n",
      "Epoch 148/200\n",
      "5/5 [==============================] - 0s 2ms/step - loss: 0.5727 - accuracy: 0.9467\n",
      "Epoch 149/200\n",
      "5/5 [==============================] - 0s 2ms/step - loss: 0.5707 - accuracy: 0.9467\n",
      "Epoch 150/200\n",
      "5/5 [==============================] - 0s 2ms/step - loss: 0.5691 - accuracy: 0.9400\n",
      "Epoch 151/200\n",
      "5/5 [==============================] - 0s 2ms/step - loss: 0.5674 - accuracy: 0.9400\n",
      "Epoch 152/200\n",
      "5/5 [==============================] - 0s 3ms/step - loss: 0.5659 - accuracy: 0.9533\n",
      "Epoch 153/200\n",
      "5/5 [==============================] - 0s 2ms/step - loss: 0.5637 - accuracy: 0.9533\n",
      "Epoch 154/200\n",
      "5/5 [==============================] - 0s 2ms/step - loss: 0.5619 - accuracy: 0.9533\n",
      "Epoch 155/200\n",
      "5/5 [==============================] - 0s 2ms/step - loss: 0.5604 - accuracy: 0.9400\n",
      "Epoch 156/200\n",
      "5/5 [==============================] - 0s 2ms/step - loss: 0.5589 - accuracy: 0.9467\n",
      "Epoch 157/200\n",
      "5/5 [==============================] - 0s 2ms/step - loss: 0.5570 - accuracy: 0.9467\n",
      "Epoch 158/200\n",
      "5/5 [==============================] - 0s 2ms/step - loss: 0.5547 - accuracy: 0.9467\n",
      "Epoch 159/200\n",
      "5/5 [==============================] - 0s 3ms/step - loss: 0.5531 - accuracy: 0.9600\n",
      "Epoch 160/200\n",
      "5/5 [==============================] - 0s 2ms/step - loss: 0.5511 - accuracy: 0.9600\n",
      "Epoch 161/200\n",
      "5/5 [==============================] - 0s 2ms/step - loss: 0.5497 - accuracy: 0.9533\n",
      "Epoch 162/200\n",
      "5/5 [==============================] - 0s 2ms/step - loss: 0.5473 - accuracy: 0.9600\n",
      "Epoch 163/200\n",
      "5/5 [==============================] - 0s 2ms/step - loss: 0.5459 - accuracy: 0.9333\n",
      "Epoch 164/200\n",
      "5/5 [==============================] - 0s 2ms/step - loss: 0.5440 - accuracy: 0.9333\n",
      "Epoch 165/200\n",
      "5/5 [==============================] - 0s 2ms/step - loss: 0.5420 - accuracy: 0.9467\n",
      "Epoch 166/200\n",
      "5/5 [==============================] - 0s 1ms/step - loss: 0.5403 - accuracy: 0.9467\n",
      "Epoch 167/200\n",
      "5/5 [==============================] - 0s 2ms/step - loss: 0.5386 - accuracy: 0.9533\n",
      "Epoch 168/200\n",
      "5/5 [==============================] - 0s 2ms/step - loss: 0.5363 - accuracy: 0.9533\n",
      "Epoch 169/200\n",
      "5/5 [==============================] - 0s 2ms/step - loss: 0.5345 - accuracy: 0.9533\n",
      "Epoch 170/200\n",
      "5/5 [==============================] - 0s 3ms/step - loss: 0.5332 - accuracy: 0.9600\n",
      "Epoch 171/200\n",
      "5/5 [==============================] - 0s 1ms/step - loss: 0.5308 - accuracy: 0.9600\n",
      "Epoch 172/200\n",
      "5/5 [==============================] - 0s 2ms/step - loss: 0.5289 - accuracy: 0.9467\n",
      "Epoch 173/200\n",
      "5/5 [==============================] - 0s 1ms/step - loss: 0.5270 - accuracy: 0.9400\n",
      "Epoch 174/200\n",
      "5/5 [==============================] - 0s 2ms/step - loss: 0.5250 - accuracy: 0.9400\n",
      "Epoch 175/200\n",
      "5/5 [==============================] - 0s 2ms/step - loss: 0.5234 - accuracy: 0.9400\n",
      "Epoch 176/200\n",
      "5/5 [==============================] - 0s 2ms/step - loss: 0.5212 - accuracy: 0.9467\n",
      "Epoch 177/200\n",
      "5/5 [==============================] - 0s 2ms/step - loss: 0.5204 - accuracy: 0.9533\n",
      "Epoch 178/200\n",
      "5/5 [==============================] - 0s 1ms/step - loss: 0.5176 - accuracy: 0.9533\n",
      "Epoch 179/200\n",
      "5/5 [==============================] - 0s 2ms/step - loss: 0.5164 - accuracy: 0.9333\n",
      "Epoch 180/200\n",
      "5/5 [==============================] - 0s 2ms/step - loss: 0.5139 - accuracy: 0.9400\n",
      "Epoch 181/200\n",
      "5/5 [==============================] - 0s 2ms/step - loss: 0.5120 - accuracy: 0.9533\n",
      "Epoch 182/200\n",
      "5/5 [==============================] - 0s 2ms/step - loss: 0.5103 - accuracy: 0.9600\n",
      "Epoch 183/200\n",
      "5/5 [==============================] - 0s 2ms/step - loss: 0.5082 - accuracy: 0.9467\n",
      "Epoch 184/200\n",
      "5/5 [==============================] - 0s 2ms/step - loss: 0.5064 - accuracy: 0.9400\n",
      "Epoch 185/200\n",
      "5/5 [==============================] - 0s 2ms/step - loss: 0.5043 - accuracy: 0.9467\n",
      "Epoch 186/200\n",
      "5/5 [==============================] - 0s 2ms/step - loss: 0.5025 - accuracy: 0.9467\n",
      "Epoch 187/200\n",
      "5/5 [==============================] - 0s 2ms/step - loss: 0.5007 - accuracy: 0.9467\n",
      "Epoch 188/200\n",
      "5/5 [==============================] - 0s 2ms/step - loss: 0.4988 - accuracy: 0.9533\n",
      "Epoch 189/200\n",
      "5/5 [==============================] - 0s 2ms/step - loss: 0.4971 - accuracy: 0.9667\n",
      "Epoch 190/200\n",
      "5/5 [==============================] - 0s 2ms/step - loss: 0.4952 - accuracy: 0.9600\n",
      "Epoch 191/200\n",
      "5/5 [==============================] - 0s 3ms/step - loss: 0.4936 - accuracy: 0.9533\n",
      "Epoch 192/200\n",
      "5/5 [==============================] - 0s 3ms/step - loss: 0.4913 - accuracy: 0.9600\n",
      "Epoch 193/200\n",
      "5/5 [==============================] - 0s 2ms/step - loss: 0.4894 - accuracy: 0.9600\n",
      "Epoch 194/200\n",
      "5/5 [==============================] - 0s 2ms/step - loss: 0.4879 - accuracy: 0.9533\n",
      "Epoch 195/200\n",
      "5/5 [==============================] - 0s 2ms/step - loss: 0.4858 - accuracy: 0.9600\n",
      "Epoch 196/200\n",
      "5/5 [==============================] - 0s 2ms/step - loss: 0.4842 - accuracy: 0.9600\n",
      "Epoch 197/200\n",
      "5/5 [==============================] - 0s 2ms/step - loss: 0.4830 - accuracy: 0.9667\n",
      "Epoch 198/200\n",
      "5/5 [==============================] - 0s 2ms/step - loss: 0.4810 - accuracy: 0.9733\n",
      "Epoch 199/200\n",
      "5/5 [==============================] - 0s 2ms/step - loss: 0.4793 - accuracy: 0.9467\n",
      "Epoch 200/200\n",
      "5/5 [==============================] - 0s 2ms/step - loss: 0.4775 - accuracy: 0.9467\n"
     ]
    }
   ],
   "source": [
    "history = model.fit(iris['data'], iris['target'], batch_size=32, epochs=200)"
   ]
  },
  {
   "cell_type": "code",
   "execution_count": null,
   "metadata": {
    "colab": {
     "base_uri": "https://localhost:8080/",
     "height": 342
    },
    "executionInfo": {
     "elapsed": 977,
     "status": "ok",
     "timestamp": 1606360399670,
     "user": {
      "displayName": "Heecheol Cho",
      "photoUrl": "https://lh3.googleusercontent.com/a-/AOh14GjX329YmmK5EOCLjZGYupvhhyKPjyr-kS3DftPICg=s64",
      "userId": "11416361730564561965"
     },
     "user_tz": -540
    },
    "id": "D8E_LYEhY0nC",
    "outputId": "42865915-0a81-4457-cac7-24fe2c75a1ac"
   },
   "outputs": [
    {
     "data": {
      "text/plain": [
       "[<matplotlib.lines.Line2D at 0x7fc804bc8438>]"
      ]
     },
     "execution_count": 44,
     "metadata": {
      "tags": []
     },
     "output_type": "execute_result"
    },
    {
     "data": {
      "image/png": "[encoded data removed]",
      "text/plain": [
       "<Figure size 1440x360 with 2 Axes>"
      ]
     },
     "metadata": {
      "needs_background": "light",
      "tags": []
     },
     "output_type": "display_data"
    }
   ],
   "source": [
    "plt.figure(figsize=(20,5))\n",
    "plt.subplot(1,2,1)\n",
    "plt.plot(history.history[\"accuracy\"], label=\"train accuracy\")\n",
    "plt.ylim([0,1])\n",
    "plt.subplot(1,2,2)\n",
    "plt.plot(history.history[\"loss\"], label=\"train loss\")"
   ]
  },
  {
   "cell_type": "code",
   "execution_count": null,
   "metadata": {
    "id": "Cm85-sekY0nC"
   },
   "outputs": [],
   "source": []
  },
  {
   "cell_type": "markdown",
   "metadata": {
    "id": "ETddkxv9Y0nC"
   },
   "source": [
    "## Simple Deep Lerning Model with Pytorch(IRIS)\n",
    "  * tensorflow 보다 learning rate에 더 민감하다.\n",
    "  * weight 초기화는 효과가 없다.\n",
    "  * learning rate을 낮게 하고, train 횟수를 늘이면, 수렴은 한다."
   ]
  },
  {
   "cell_type": "code",
   "execution_count": null,
   "metadata": {
    "id": "UMy-k4rsY0nC"
   },
   "outputs": [],
   "source": [
    "from sklearn import datasets\n",
    "import torch\n",
    "from torch import nn,optim\n",
    "from torch.utils.data import Dataset, DataLoader, TensorDataset\n",
    "import numpy as np\n",
    "import tqdm\n",
    "from sklearn import preprocessing\n",
    "import matplotlib.pyplot as plt\n",
    "iris = datasets.load_iris()"
   ]
  },
  {
   "cell_type": "code",
   "execution_count": null,
   "metadata": {
    "id": "MPSwcOanY0nC"
   },
   "outputs": [],
   "source": [
    "def weights_init(m):\n",
    "    if type(m) == nn.Linear:\n",
    "        #torch.nn.init.xavier_normal_(m.weight)\n",
    "        torch.nn.init.normal_(m.weight, mean=0.0, std=0.1)\n",
    "        torch.nn.init.zeros_(m.bias)  # m.bias.data.fill_(0.)  \n",
    "    elif isinstance(m, nn.Conv2d):\n",
    "        torch.nn.init.xavier_uniform_(m.weight)\n",
    "        torch.nn.init.zeros_(m.bias) \n",
    "\n",
    "model = nn.Sequential(nn.Linear(4,10),nn.ReLU(),nn.Linear(10,10),nn.ReLU(),nn.Linear(10,3))\n",
    "#model.apply(weights_init)  # apply는 nn.Module로 부터 상속."
   ]
  },
  {
   "cell_type": "code",
   "execution_count": null,
   "metadata": {
    "id": "ihCAjBKNY0nC"
   },
   "outputs": [],
   "source": [
    "normal_flag = False\n",
    "\n",
    "if normal_flag:\n",
    "    stdand_scaler = preprocessing.StandardScaler()\n",
    "    data_x = stdand_scaler.fit_transform(iris['data'])  # ---> numpy array\n",
    "else:\n",
    "    data_x = iris['data']\n",
    "\n",
    "X = torch.tensor(data_x, dtype=torch.float32)\n",
    "Y = torch.tensor(iris['target'],dtype=torch.long)\n",
    "ds = TensorDataset(X,Y)  # tensor가 들어가야 한다.\n",
    "loader = DataLoader(ds, batch_size=64, shuffle=True)"
   ]
  },
  {
   "cell_type": "code",
   "execution_count": null,
   "metadata": {
    "colab": {
     "base_uri": "https://localhost:8080/"
    },
    "executionInfo": {
     "elapsed": 659,
     "status": "ok",
     "timestamp": 1606360457866,
     "user": {
      "displayName": "Heecheol Cho",
      "photoUrl": "https://lh3.googleusercontent.com/a-/AOh14GjX329YmmK5EOCLjZGYupvhhyKPjyr-kS3DftPICg=s64",
      "userId": "11416361730564561965"
     },
     "user_tz": -540
    },
    "id": "wDkXrUTBY0nC",
    "outputId": "04d9b6ed-376d-4f57-e880-6b6b5ad1a166"
   },
   "outputs": [
    {
     "name": "stdout",
     "output_type": "stream",
     "text": [
      "Sequential(\n",
      "  (0): Linear(in_features=4, out_features=10, bias=True)\n",
      "  (1): ReLU()\n",
      "  (2): Linear(in_features=10, out_features=10, bias=True)\n",
      "  (3): ReLU()\n",
      "  (4): Linear(in_features=10, out_features=3, bias=True)\n",
      ")\n"
     ]
    }
   ],
   "source": [
    "print(model)"
   ]
  },
  {
   "cell_type": "code",
   "execution_count": null,
   "metadata": {
    "id": "hH9NiD7lY0nC"
   },
   "outputs": [],
   "source": [
    "loss_fn = nn.CrossEntropyLoss()  # 넘길 때, (N,C), (N,)  <--- one_hot으로 변환하지 않는 target을 넘긴다.\n",
    "optimizer = optim.Adam(model.parameters(),lr=0.001)   # tensorflow와 달리 lr=0.0001일 때, 잘된다."
   ]
  },
  {
   "cell_type": "code",
   "execution_count": null,
   "metadata": {
    "colab": {
     "base_uri": "https://localhost:8080/"
    },
    "executionInfo": {
     "elapsed": 1675,
     "status": "ok",
     "timestamp": 1606360462306,
     "user": {
      "displayName": "Heecheol Cho",
      "photoUrl": "https://lh3.googleusercontent.com/a-/AOh14GjX329YmmK5EOCLjZGYupvhhyKPjyr-kS3DftPICg=s64",
      "userId": "11416361730564561965"
     },
     "user_tz": -540
    },
    "id": "lbm84JUBY0nC",
    "outputId": "2e115a0a-029a-44ed-bae5-863f09582a9b"
   },
   "outputs": [
    {
     "name": "stdout",
     "output_type": "stream",
     "text": [
      "cpu\n",
      "epoch: 1/200, loss: 1.0933, acc: 0.2467\n",
      "epoch: 2/200, loss: 1.0898, acc: 0.2733\n",
      "epoch: 3/200, loss: 1.0880, acc: 0.2533\n",
      "epoch: 4/200, loss: 1.0820, acc: 0.2400\n",
      "epoch: 5/200, loss: 1.0843, acc: 0.2600\n",
      "epoch: 6/200, loss: 1.0782, acc: 0.2867\n",
      "epoch: 7/200, loss: 1.0763, acc: 0.3067\n",
      "epoch: 8/200, loss: 1.0684, acc: 0.3067\n",
      "epoch: 9/200, loss: 1.0645, acc: 0.3067\n",
      "epoch: 10/200, loss: 1.0652, acc: 0.2800\n",
      "epoch: 11/200, loss: 1.0616, acc: 0.1933\n",
      "epoch: 12/200, loss: 1.0541, acc: 0.1600\n",
      "epoch: 13/200, loss: 1.0493, acc: 0.1800\n",
      "epoch: 14/200, loss: 1.0519, acc: 0.2600\n",
      "epoch: 15/200, loss: 1.0465, acc: 0.3333\n",
      "epoch: 16/200, loss: 1.0383, acc: 0.3333\n",
      "epoch: 17/200, loss: 1.0419, acc: 0.3333\n",
      "epoch: 18/200, loss: 1.0370, acc: 0.3333\n",
      "epoch: 19/200, loss: 1.0177, acc: 0.3333\n",
      "epoch: 20/200, loss: 1.0147, acc: 0.3333\n",
      "epoch: 21/200, loss: 1.0157, acc: 0.3333\n",
      "epoch: 22/200, loss: 0.9943, acc: 0.3333\n",
      "epoch: 23/200, loss: 1.0067, acc: 0.3333\n",
      "epoch: 24/200, loss: 1.0040, acc: 0.3333\n",
      "epoch: 25/200, loss: 0.9863, acc: 0.3333\n",
      "epoch: 26/200, loss: 0.9730, acc: 0.3333\n",
      "epoch: 27/200, loss: 0.9661, acc: 0.3333\n",
      "epoch: 28/200, loss: 0.9639, acc: 0.3467\n",
      "epoch: 29/200, loss: 0.9405, acc: 0.3667\n",
      "epoch: 30/200, loss: 0.9478, acc: 0.4000\n",
      "epoch: 31/200, loss: 0.9211, acc: 0.4533\n",
      "epoch: 32/200, loss: 0.9156, acc: 0.5267\n",
      "epoch: 33/200, loss: 0.9034, acc: 0.6067\n",
      "epoch: 34/200, loss: 0.9038, acc: 0.6467\n",
      "epoch: 35/200, loss: 0.8871, acc: 0.7867\n",
      "epoch: 36/200, loss: 0.8711, acc: 0.6333\n",
      "epoch: 37/200, loss: 0.8620, acc: 0.6467\n",
      "epoch: 38/200, loss: 0.8537, acc: 0.6467\n",
      "epoch: 39/200, loss: 0.8437, acc: 0.6467\n",
      "epoch: 40/200, loss: 0.8251, acc: 0.5800\n",
      "epoch: 41/200, loss: 0.8230, acc: 0.4733\n",
      "epoch: 42/200, loss: 0.7983, acc: 0.5600\n",
      "epoch: 43/200, loss: 0.7889, acc: 0.6667\n",
      "epoch: 44/200, loss: 0.7768, acc: 0.6667\n",
      "epoch: 45/200, loss: 0.7706, acc: 0.6667\n",
      "epoch: 46/200, loss: 0.7664, acc: 0.6667\n",
      "epoch: 47/200, loss: 0.7203, acc: 0.6667\n",
      "epoch: 48/200, loss: 0.7496, acc: 0.6667\n",
      "epoch: 49/200, loss: 0.7150, acc: 0.6667\n",
      "epoch: 50/200, loss: 0.7179, acc: 0.6667\n",
      "epoch: 51/200, loss: 0.7106, acc: 0.6667\n",
      "epoch: 52/200, loss: 0.7257, acc: 0.6667\n",
      "epoch: 53/200, loss: 0.6605, acc: 0.6667\n",
      "epoch: 54/200, loss: 0.6480, acc: 0.6667\n",
      "epoch: 55/200, loss: 0.6668, acc: 0.6667\n",
      "epoch: 56/200, loss: 0.6283, acc: 0.6667\n",
      "epoch: 57/200, loss: 0.6010, acc: 0.6667\n",
      "epoch: 58/200, loss: 0.5881, acc: 0.6667\n",
      "epoch: 59/200, loss: 0.5871, acc: 0.6667\n",
      "epoch: 60/200, loss: 0.5685, acc: 0.6667\n",
      "epoch: 61/200, loss: 0.5523, acc: 0.6667\n",
      "epoch: 62/200, loss: 0.5218, acc: 0.7667\n",
      "epoch: 63/200, loss: 0.5474, acc: 0.7133\n",
      "epoch: 64/200, loss: 0.5697, acc: 0.6667\n",
      "epoch: 65/200, loss: 0.5141, acc: 0.6667\n",
      "epoch: 66/200, loss: 0.5478, acc: 0.6667\n",
      "epoch: 67/200, loss: 0.5228, acc: 0.6667\n",
      "epoch: 68/200, loss: 0.5409, acc: 0.6667\n",
      "epoch: 69/200, loss: 0.5304, acc: 0.6667\n",
      "epoch: 70/200, loss: 0.5173, acc: 0.6667\n",
      "epoch: 71/200, loss: 0.5251, acc: 0.6667\n",
      "epoch: 72/200, loss: 0.4983, acc: 0.6667\n",
      "epoch: 73/200, loss: 0.4704, acc: 0.6667\n",
      "epoch: 74/200, loss: 0.4772, acc: 0.6733\n",
      "epoch: 75/200, loss: 0.4808, acc: 0.7267\n",
      "epoch: 76/200, loss: 0.4728, acc: 0.8733\n",
      "epoch: 77/200, loss: 0.4512, acc: 0.9000\n",
      "epoch: 78/200, loss: 0.4565, acc: 0.7467\n",
      "epoch: 79/200, loss: 0.4596, acc: 0.6933\n",
      "epoch: 80/200, loss: 0.4580, acc: 0.6733\n",
      "epoch: 81/200, loss: 0.4808, acc: 0.6667\n",
      "epoch: 82/200, loss: 0.4461, acc: 0.6667\n",
      "epoch: 83/200, loss: 0.4500, acc: 0.6667\n",
      "epoch: 84/200, loss: 0.4496, acc: 0.6667\n",
      "epoch: 85/200, loss: 0.4784, acc: 0.6667\n",
      "epoch: 86/200, loss: 0.4730, acc: 0.6667\n",
      "epoch: 87/200, loss: 0.4766, acc: 0.6667\n",
      "epoch: 88/200, loss: 0.4916, acc: 0.6667\n",
      "epoch: 89/200, loss: 0.4833, acc: 0.6667\n",
      "epoch: 90/200, loss: 0.5035, acc: 0.6667\n",
      "epoch: 91/200, loss: 0.5033, acc: 0.6667\n",
      "epoch: 92/200, loss: 0.4738, acc: 0.6667\n",
      "epoch: 93/200, loss: 0.4640, acc: 0.6667\n",
      "epoch: 94/200, loss: 0.4520, acc: 0.6667\n",
      "epoch: 95/200, loss: 0.4426, acc: 0.6667\n",
      "epoch: 96/200, loss: 0.4084, acc: 0.6667\n",
      "epoch: 97/200, loss: 0.4159, acc: 0.6733\n",
      "epoch: 98/200, loss: 0.3990, acc: 0.7000\n",
      "epoch: 99/200, loss: 0.3914, acc: 0.7000\n",
      "epoch: 100/200, loss: 0.3799, acc: 0.7667\n",
      "epoch: 101/200, loss: 0.3773, acc: 0.8600\n",
      "epoch: 102/200, loss: 0.3893, acc: 0.9667\n",
      "epoch: 103/200, loss: 0.3922, acc: 0.9333\n",
      "epoch: 104/200, loss: 0.3885, acc: 0.8600\n",
      "epoch: 105/200, loss: 0.4139, acc: 0.7333\n",
      "epoch: 106/200, loss: 0.4421, acc: 0.6867\n",
      "epoch: 107/200, loss: 0.4664, acc: 0.6733\n",
      "epoch: 108/200, loss: 0.4275, acc: 0.6600\n",
      "epoch: 109/200, loss: 0.4885, acc: 0.6600\n",
      "epoch: 110/200, loss: 0.4618, acc: 0.6600\n",
      "epoch: 111/200, loss: 0.4811, acc: 0.6600\n",
      "epoch: 112/200, loss: 0.4955, acc: 0.6600\n",
      "epoch: 113/200, loss: 0.4976, acc: 0.6600\n",
      "epoch: 114/200, loss: 0.5212, acc: 0.6600\n",
      "epoch: 115/200, loss: 0.5309, acc: 0.6600\n",
      "epoch: 116/200, loss: 0.4827, acc: 0.6600\n",
      "epoch: 117/200, loss: 0.4657, acc: 0.6600\n",
      "epoch: 118/200, loss: 0.4438, acc: 0.6667\n",
      "epoch: 119/200, loss: 0.4524, acc: 0.6733\n",
      "epoch: 120/200, loss: 0.3701, acc: 0.6933\n",
      "epoch: 121/200, loss: 0.3897, acc: 0.7867\n",
      "epoch: 122/200, loss: 0.3683, acc: 0.8867\n",
      "epoch: 123/200, loss: 0.3567, acc: 0.9400\n",
      "epoch: 124/200, loss: 0.3512, acc: 0.9600\n",
      "epoch: 125/200, loss: 0.3499, acc: 0.9133\n",
      "epoch: 126/200, loss: 0.3253, acc: 0.8600\n",
      "epoch: 127/200, loss: 0.3658, acc: 0.8067\n",
      "epoch: 128/200, loss: 0.3526, acc: 0.7333\n",
      "epoch: 129/200, loss: 0.3691, acc: 0.7000\n",
      "epoch: 130/200, loss: 0.3909, acc: 0.7000\n",
      "epoch: 131/200, loss: 0.4642, acc: 0.7000\n",
      "epoch: 132/200, loss: 0.4134, acc: 0.7000\n",
      "epoch: 133/200, loss: 0.4847, acc: 0.6933\n",
      "epoch: 134/200, loss: 0.4763, acc: 0.6800\n",
      "epoch: 135/200, loss: 0.5291, acc: 0.6733\n",
      "epoch: 136/200, loss: 0.4942, acc: 0.6733\n",
      "epoch: 137/200, loss: 0.5142, acc: 0.6733\n",
      "epoch: 138/200, loss: 0.4738, acc: 0.6867\n",
      "epoch: 139/200, loss: 0.4773, acc: 0.6933\n",
      "epoch: 140/200, loss: 0.4573, acc: 0.7000\n",
      "epoch: 141/200, loss: 0.3974, acc: 0.7000\n",
      "epoch: 142/200, loss: 0.3947, acc: 0.7000\n",
      "epoch: 143/200, loss: 0.4028, acc: 0.7067\n",
      "epoch: 144/200, loss: 0.3675, acc: 0.7200\n",
      "epoch: 145/200, loss: 0.3338, acc: 0.8067\n",
      "epoch: 146/200, loss: 0.2881, acc: 0.8467\n",
      "epoch: 147/200, loss: 0.2906, acc: 0.8733\n",
      "epoch: 148/200, loss: 0.3109, acc: 0.8800\n",
      "epoch: 149/200, loss: 0.2888, acc: 0.9333\n",
      "epoch: 150/200, loss: 0.3035, acc: 0.9400\n",
      "epoch: 151/200, loss: 0.3444, acc: 0.9267\n",
      "epoch: 152/200, loss: 0.3501, acc: 0.9000\n",
      "epoch: 153/200, loss: 0.4068, acc: 0.8467\n",
      "epoch: 154/200, loss: 0.4289, acc: 0.8200\n",
      "epoch: 155/200, loss: 0.5104, acc: 0.7333\n",
      "epoch: 156/200, loss: 0.5053, acc: 0.6733\n",
      "epoch: 157/200, loss: 0.5841, acc: 0.6467\n",
      "epoch: 158/200, loss: 0.5389, acc: 0.6533\n",
      "epoch: 159/200, loss: 0.6052, acc: 0.6533\n",
      "epoch: 160/200, loss: 0.5529, acc: 0.6667\n",
      "epoch: 161/200, loss: 0.5732, acc: 0.6800\n",
      "epoch: 162/200, loss: 0.5180, acc: 0.6800\n",
      "epoch: 163/200, loss: 0.5581, acc: 0.6800\n",
      "epoch: 164/200, loss: 0.4457, acc: 0.7067\n",
      "epoch: 165/200, loss: 0.4768, acc: 0.7333\n",
      "epoch: 166/200, loss: 0.4357, acc: 0.7600\n",
      "epoch: 167/200, loss: 0.3590, acc: 0.7800\n",
      "epoch: 168/200, loss: 0.3843, acc: 0.8133\n",
      "epoch: 169/200, loss: 0.3086, acc: 0.8600\n",
      "epoch: 170/200, loss: 0.2738, acc: 0.9000\n",
      "epoch: 171/200, loss: 0.2607, acc: 0.9267\n",
      "epoch: 172/200, loss: 0.2296, acc: 0.9467\n",
      "epoch: 173/200, loss: 0.2038, acc: 0.9667\n",
      "epoch: 174/200, loss: 0.2165, acc: 0.9800\n",
      "epoch: 175/200, loss: 0.1999, acc: 0.9667\n",
      "epoch: 176/200, loss: 0.2645, acc: 0.9133\n",
      "epoch: 177/200, loss: 0.2586, acc: 0.8733\n",
      "epoch: 178/200, loss: 0.3005, acc: 0.8333\n",
      "epoch: 179/200, loss: 0.3034, acc: 0.7867\n",
      "epoch: 180/200, loss: 0.4256, acc: 0.7533\n",
      "epoch: 181/200, loss: 0.4698, acc: 0.7067\n",
      "epoch: 182/200, loss: 0.5005, acc: 0.7067\n",
      "epoch: 183/200, loss: 0.6183, acc: 0.7000\n",
      "epoch: 184/200, loss: 0.5562, acc: 0.7000\n",
      "epoch: 185/200, loss: 0.6342, acc: 0.6933\n",
      "epoch: 186/200, loss: 0.7375, acc: 0.6933\n",
      "epoch: 187/200, loss: 0.8436, acc: 0.6933\n",
      "epoch: 188/200, loss: 0.7918, acc: 0.6933\n",
      "epoch: 189/200, loss: 0.6882, acc: 0.6933\n",
      "epoch: 190/200, loss: 0.5967, acc: 0.7000\n",
      "epoch: 191/200, loss: 0.6457, acc: 0.7000\n",
      "epoch: 192/200, loss: 0.5177, acc: 0.7000\n",
      "epoch: 193/200, loss: 0.4656, acc: 0.7067\n",
      "epoch: 194/200, loss: 0.4298, acc: 0.7533\n",
      "epoch: 195/200, loss: 0.3151, acc: 0.7933\n",
      "epoch: 196/200, loss: 0.2488, acc: 0.8533\n",
      "epoch: 197/200, loss: 0.2590, acc: 0.9133\n",
      "epoch: 198/200, loss: 0.2052, acc: 0.9667\n",
      "epoch: 199/200, loss: 0.2011, acc: 0.9600\n",
      "epoch: 200/200, loss: 0.2010, acc: 0.9467\n"
     ]
    }
   ],
   "source": [
    "n_epoch = 200\n",
    "\n",
    "device = torch.device('cuda' if torch.cuda.is_available() else 'cpu')\n",
    "print(device)\n",
    "model.to(device)\n",
    "history_loss = []\n",
    "history_acc  = []\n",
    "for epoch in range(n_epoch):\n",
    "    model.train()\n",
    "    running_loss = []\n",
    "    acc = 0\n",
    "    n = 0\n",
    "    for i,(x,y) in enumerate(loader):\n",
    "        x = x.to(device)\n",
    "        y = y.to(device)\n",
    "        pred = model(x)\n",
    "        loss = loss_fn(pred,y)\n",
    "        loss.backward()\n",
    "        optimizer.step()\n",
    "        running_loss.append(loss.item())\n",
    "        _,pred = pred.max(1)\n",
    "        acc += (pred==y).float().sum().item()\n",
    "        n += len(y)\n",
    "    \n",
    "    history_loss.append(np.mean(running_loss))\n",
    "    history_acc.append(acc/n)\n",
    "    print('epoch: {}/{}, loss: {:.4f}, acc: {:.4f}'.format(epoch+1,n_epoch,history_loss[-1],history_acc[-1]))\n",
    "    "
   ]
  },
  {
   "cell_type": "code",
   "execution_count": null,
   "metadata": {
    "colab": {
     "base_uri": "https://localhost:8080/",
     "height": 342
    },
    "executionInfo": {
     "elapsed": 1071,
     "status": "ok",
     "timestamp": 1606360544401,
     "user": {
      "displayName": "Heecheol Cho",
      "photoUrl": "https://lh3.googleusercontent.com/a-/AOh14GjX329YmmK5EOCLjZGYupvhhyKPjyr-kS3DftPICg=s64",
      "userId": "11416361730564561965"
     },
     "user_tz": -540
    },
    "id": "DF4UOMk5Y0nD",
    "outputId": "fa3d6241-4be2-4ac5-aca3-cabc81f0ad0e"
   },
   "outputs": [
    {
     "data": {
      "text/plain": [
       "[<matplotlib.lines.Line2D at 0x7fc775dd8080>]"
      ]
     },
     "execution_count": 53,
     "metadata": {
      "tags": []
     },
     "output_type": "execute_result"
    },
    {
     "data": {
      "image/png": "[encoded data removed]",
      "text/plain": [
       "<Figure size 1440x360 with 2 Axes>"
      ]
     },
     "metadata": {
      "needs_background": "light",
      "tags": []
     },
     "output_type": "display_data"
    }
   ],
   "source": [
    "plt.figure(figsize=(20,5))\n",
    "plt.subplot(1,2,1)\n",
    "plt.plot(history_acc, label=\"train accuracy\")\n",
    "plt.ylim([0,1])\n",
    "plt.subplot(1,2,2)\n",
    "plt.plot(history_loss, label=\"train loss\")"
   ]
  },
  {
   "cell_type": "code",
   "execution_count": null,
   "metadata": {
    "id": "5WAfWZP7Y0nD"
   },
   "outputs": [],
   "source": []
  },
  {
   "cell_type": "markdown",
   "metadata": {
    "id": "v1TQ1lobY0nD"
   },
   "source": [
    "## Logitic Regression"
   ]
  },
  {
   "cell_type": "code",
   "execution_count": null,
   "metadata": {
    "id": "XBjl26ywY0nD"
   },
   "outputs": [],
   "source": [
    "import numpy as np\n",
    "import matplotlib.pyplot as plt\n",
    "import time\n",
    "import datetime\n",
    "import sys\n",
    "import seaborn as sns\n",
    "import pandas as pd\n",
    "import tensorflow as tf"
   ]
  },
  {
   "cell_type": "code",
   "execution_count": null,
   "metadata": {
    "colab": {
     "base_uri": "https://localhost:8080/",
     "height": 501
    },
    "executionInfo": {
     "elapsed": 1446,
     "status": "ok",
     "timestamp": 1606360624932,
     "user": {
      "displayName": "Heecheol Cho",
      "photoUrl": "https://lh3.googleusercontent.com/a-/AOh14GjX329YmmK5EOCLjZGYupvhhyKPjyr-kS3DftPICg=s64",
      "userId": "11416361730564561965"
     },
     "user_tz": -540
    },
    "id": "7XZmPkPBY0nD",
    "outputId": "e274e2b7-802b-49a0-f427-c52e729530a4"
   },
   "outputs": [
    {
     "data": {
      "text/plain": [
       "<matplotlib.collections.PathCollection at 0x7fc775c84978>"
      ]
     },
     "execution_count": 56,
     "metadata": {
      "tags": []
     },
     "output_type": "execute_result"
    },
    {
     "data": {
      "image/png": "[encoded data removed]",
      "text/plain": [
       "<Figure size 1080x576 with 2 Axes>"
      ]
     },
     "metadata": {
      "needs_background": "light",
      "tags": []
     },
     "output_type": "display_data"
    }
   ],
   "source": [
    "url = 'https://github.com/hccho2/hccho2FirstGitProject/raw/master/mydata2.txt'\n",
    "mydata = np.genfromtxt(url,delimiter=',',dtype=np.float32)\n",
    "A = mydata[:,0:2]\n",
    "B = mydata[:,-1].reshape(-1,1)  # mydata[:,2:3]\n",
    "plt.figure(figsize=(15,8))\n",
    "plt.subplot(1,2,1)\n",
    "plt.scatter(A[:, 0], A[:, 1], c=B[:,0],marker=\">\")\n",
    "plt.subplot(1,2,2)\n",
    "plt.scatter(A[:, 0], A[:, 1], c=B[:,0],marker=\"o\")\n",
    "\n",
    "#A = (A-np.mean(A,0))/np.std(A,0)"
   ]
  },
  {
   "cell_type": "code",
   "execution_count": null,
   "metadata": {
    "colab": {
     "base_uri": "https://localhost:8080/"
    },
    "executionInfo": {
     "elapsed": 618,
     "status": "ok",
     "timestamp": 1606360672113,
     "user": {
      "displayName": "Heecheol Cho",
      "photoUrl": "https://lh3.googleusercontent.com/a-/AOh14GjX329YmmK5EOCLjZGYupvhhyKPjyr-kS3DftPICg=s64",
      "userId": "11416361730564561965"
     },
     "user_tz": -540
    },
    "id": "Cj2LxFybY0nD",
    "outputId": "281a1a3e-2f45-4207-e621-b0c718ae312f"
   },
   "outputs": [
    {
     "name": "stdout",
     "output_type": "stream",
     "text": [
      "data 갯수:  118\n"
     ]
    }
   ],
   "source": [
    "df=pd.DataFrame(data=mydata,columns=['x','y','c'])\n",
    "df.head(5)\n",
    "print(\"data 갯수: \",len(df))"
   ]
  },
  {
   "cell_type": "code",
   "execution_count": null,
   "metadata": {
    "colab": {
     "base_uri": "https://localhost:8080/",
     "height": 297
    },
    "executionInfo": {
     "elapsed": 1023,
     "status": "ok",
     "timestamp": 1606360674527,
     "user": {
      "displayName": "Heecheol Cho",
      "photoUrl": "https://lh3.googleusercontent.com/a-/AOh14GjX329YmmK5EOCLjZGYupvhhyKPjyr-kS3DftPICg=s64",
      "userId": "11416361730564561965"
     },
     "user_tz": -540
    },
    "id": "ar2BvN6aY0nD",
    "outputId": "c60d0666-38ed-402d-b951-bff90e44426a"
   },
   "outputs": [
    {
     "data": {
      "text/plain": [
       "<matplotlib.axes._subplots.AxesSubplot at 0x7fc775c240b8>"
      ]
     },
     "execution_count": 58,
     "metadata": {
      "tags": []
     },
     "output_type": "execute_result"
    },
    {
     "data": {
      "image/png": "[encoded data removed]",
      "text/plain": [
       "<Figure size 432x288 with 1 Axes>"
      ]
     },
     "metadata": {
      "needs_background": "light",
      "tags": []
     },
     "output_type": "display_data"
    }
   ],
   "source": [
    "# pandas dataframe을 넘겨주면 좋다.\n",
    "sns.scatterplot(x='x', \n",
    "                y='y', \n",
    "                hue='c', # different colors by group\n",
    "                style='c', # different shapes by group\n",
    "                s=50, # marker size\n",
    "                data=df)"
   ]
  },
  {
   "cell_type": "code",
   "execution_count": null,
   "metadata": {
    "colab": {
     "base_uri": "https://localhost:8080/"
    },
    "executionInfo": {
     "elapsed": 645,
     "status": "ok",
     "timestamp": 1606360676750,
     "user": {
      "displayName": "Heecheol Cho",
      "photoUrl": "https://lh3.googleusercontent.com/a-/AOh14GjX329YmmK5EOCLjZGYupvhhyKPjyr-kS3DftPICg=s64",
      "userId": "11416361730564561965"
     },
     "user_tz": -540
    },
    "id": "0TPY9MRIY0nD",
    "outputId": "8d6a8245-1f6d-485a-e297-d9095aae2760"
   },
   "outputs": [
    {
     "name": "stdout",
     "output_type": "stream",
     "text": [
      "Model: \"sequential_1\"\n",
      "_________________________________________________________________\n",
      "Layer (type)                 Output Shape              Param #   \n",
      "=================================================================\n",
      "dense_3 (Dense)              (None, 10)                30        \n",
      "_________________________________________________________________\n",
      "dense_4 (Dense)              (None, 1)                 11        \n",
      "=================================================================\n",
      "Total params: 41\n",
      "Trainable params: 41\n",
      "Non-trainable params: 0\n",
      "_________________________________________________________________\n"
     ]
    }
   ],
   "source": [
    "model = tf.keras.Sequential([\n",
    "    tf.keras.layers.Dense(10,input_shape=(2,), activation='relu'),  \n",
    "    tf.keras.layers.Dense(1, activation='sigmoid')\n",
    "])\n",
    "optimiser = tf.keras.optimizers.Adam(learning_rate=0.01)  # pytorch와 달리, 0.01 또는 0.001일 때, 잘된다. 0.0001이면 별로...\n",
    "# tf.keras.losses.categorical_crossentropy(y_true, y_pred, from_logits=False, label_smoothing=0)  ---> default: logit이 아니 확률\n",
    "model.compile(optimizer=optimiser, loss=tf.keras.losses.BinaryCrossentropy(), metrics=['accuracy'])  # sparse ---> target이 onthot이 아니어도 된다.\n",
    "model.summary()"
   ]
  },
  {
   "cell_type": "code",
   "execution_count": null,
   "metadata": {
    "colab": {
     "base_uri": "https://localhost:8080/",
     "height": 1000
    },
    "executionInfo": {
     "elapsed": 2429,
     "status": "ok",
     "timestamp": 1606360680605,
     "user": {
      "displayName": "Heecheol Cho",
      "photoUrl": "https://lh3.googleusercontent.com/a-/AOh14GjX329YmmK5EOCLjZGYupvhhyKPjyr-kS3DftPICg=s64",
      "userId": "11416361730564561965"
     },
     "user_tz": -540
    },
    "id": "9y2JFMkFY0nD",
    "outputId": "233a5541-9369-42ec-c748-fc3be6f5c157"
   },
   "outputs": [
    {
     "name": "stdout",
     "output_type": "stream",
     "text": [
      "Epoch 1/100\n",
      "2/2 [==============================] - 0s 3ms/step - loss: 0.7267 - accuracy: 0.4915\n",
      "Epoch 2/100\n",
      "2/2 [==============================] - 0s 2ms/step - loss: 0.7179 - accuracy: 0.4661\n",
      "Epoch 3/100\n",
      "2/2 [==============================] - 0s 2ms/step - loss: 0.7106 - accuracy: 0.3983\n",
      "Epoch 4/100\n",
      "2/2 [==============================] - 0s 992us/step - loss: 0.7058 - accuracy: 0.3814\n",
      "Epoch 5/100\n",
      "2/2 [==============================] - 0s 2ms/step - loss: 0.7018 - accuracy: 0.4322\n",
      "Epoch 6/100\n",
      "2/2 [==============================] - 0s 2ms/step - loss: 0.6986 - accuracy: 0.4915\n",
      "Epoch 7/100\n",
      "2/2 [==============================] - 0s 2ms/step - loss: 0.6969 - accuracy: 0.4831\n",
      "Epoch 8/100\n",
      "2/2 [==============================] - 0s 2ms/step - loss: 0.6946 - accuracy: 0.4915\n",
      "Epoch 9/100\n",
      "2/2 [==============================] - 0s 1ms/step - loss: 0.6929 - accuracy: 0.5000\n",
      "Epoch 10/100\n",
      "2/2 [==============================] - 0s 2ms/step - loss: 0.6906 - accuracy: 0.5169\n",
      "Epoch 11/100\n",
      "2/2 [==============================] - 0s 2ms/step - loss: 0.6887 - accuracy: 0.5085\n",
      "Epoch 12/100\n",
      "2/2 [==============================] - 0s 3ms/step - loss: 0.6869 - accuracy: 0.5085\n",
      "Epoch 13/100\n",
      "2/2 [==============================] - 0s 2ms/step - loss: 0.6847 - accuracy: 0.5254\n",
      "Epoch 14/100\n",
      "2/2 [==============================] - 0s 3ms/step - loss: 0.6828 - accuracy: 0.5508\n",
      "Epoch 15/100\n",
      "2/2 [==============================] - 0s 1ms/step - loss: 0.6808 - accuracy: 0.5508\n",
      "Epoch 16/100\n",
      "2/2 [==============================] - 0s 2ms/step - loss: 0.6787 - accuracy: 0.5508\n",
      "Epoch 17/100\n",
      "2/2 [==============================] - 0s 1ms/step - loss: 0.6774 - accuracy: 0.5508\n",
      "Epoch 18/100\n",
      "2/2 [==============================] - 0s 2ms/step - loss: 0.6754 - accuracy: 0.5593\n",
      "Epoch 19/100\n",
      "2/2 [==============================] - 0s 2ms/step - loss: 0.6740 - accuracy: 0.5593\n",
      "Epoch 20/100\n",
      "2/2 [==============================] - 0s 2ms/step - loss: 0.6728 - accuracy: 0.5763\n",
      "Epoch 21/100\n",
      "2/2 [==============================] - 0s 2ms/step - loss: 0.6708 - accuracy: 0.5847\n",
      "Epoch 22/100\n",
      "2/2 [==============================] - 0s 2ms/step - loss: 0.6690 - accuracy: 0.5847\n",
      "Epoch 23/100\n",
      "2/2 [==============================] - 0s 2ms/step - loss: 0.6673 - accuracy: 0.5847\n",
      "Epoch 24/100\n",
      "2/2 [==============================] - 0s 1ms/step - loss: 0.6659 - accuracy: 0.5763\n",
      "Epoch 25/100\n",
      "2/2 [==============================] - 0s 2ms/step - loss: 0.6643 - accuracy: 0.5847\n",
      "Epoch 26/100\n",
      "2/2 [==============================] - 0s 2ms/step - loss: 0.6624 - accuracy: 0.5932\n",
      "Epoch 27/100\n",
      "2/2 [==============================] - 0s 2ms/step - loss: 0.6605 - accuracy: 0.6017\n",
      "Epoch 28/100\n",
      "2/2 [==============================] - 0s 2ms/step - loss: 0.6588 - accuracy: 0.6017\n",
      "Epoch 29/100\n",
      "2/2 [==============================] - 0s 2ms/step - loss: 0.6571 - accuracy: 0.6102\n",
      "Epoch 30/100\n",
      "2/2 [==============================] - 0s 2ms/step - loss: 0.6557 - accuracy: 0.6017\n",
      "Epoch 31/100\n",
      "2/2 [==============================] - 0s 2ms/step - loss: 0.6533 - accuracy: 0.6102\n",
      "Epoch 32/100\n",
      "2/2 [==============================] - 0s 2ms/step - loss: 0.6516 - accuracy: 0.6102\n",
      "Epoch 33/100\n",
      "2/2 [==============================] - 0s 2ms/step - loss: 0.6499 - accuracy: 0.6017\n",
      "Epoch 34/100\n",
      "2/2 [==============================] - 0s 2ms/step - loss: 0.6483 - accuracy: 0.6102\n",
      "Epoch 35/100\n",
      "2/2 [==============================] - 0s 2ms/step - loss: 0.6460 - accuracy: 0.6356\n",
      "Epoch 36/100\n",
      "2/2 [==============================] - 0s 2ms/step - loss: 0.6442 - accuracy: 0.6356\n",
      "Epoch 37/100\n",
      "2/2 [==============================] - 0s 1ms/step - loss: 0.6422 - accuracy: 0.6356\n",
      "Epoch 38/100\n",
      "2/2 [==============================] - 0s 2ms/step - loss: 0.6401 - accuracy: 0.6271\n",
      "Epoch 39/100\n",
      "2/2 [==============================] - 0s 2ms/step - loss: 0.6379 - accuracy: 0.6271\n",
      "Epoch 40/100\n",
      "2/2 [==============================] - 0s 2ms/step - loss: 0.6358 - accuracy: 0.6356\n",
      "Epoch 41/100\n",
      "2/2 [==============================] - 0s 2ms/step - loss: 0.6342 - accuracy: 0.6441\n",
      "Epoch 42/100\n",
      "2/2 [==============================] - 0s 2ms/step - loss: 0.6318 - accuracy: 0.6356\n",
      "Epoch 43/100\n",
      "2/2 [==============================] - 0s 4ms/step - loss: 0.6301 - accuracy: 0.6441\n",
      "Epoch 44/100\n",
      "2/2 [==============================] - 0s 2ms/step - loss: 0.6280 - accuracy: 0.6610\n",
      "Epoch 45/100\n",
      "2/2 [==============================] - 0s 2ms/step - loss: 0.6253 - accuracy: 0.6695\n",
      "Epoch 46/100\n",
      "2/2 [==============================] - 0s 2ms/step - loss: 0.6234 - accuracy: 0.6780\n",
      "Epoch 47/100\n",
      "2/2 [==============================] - 0s 2ms/step - loss: 0.6212 - accuracy: 0.6864\n",
      "Epoch 48/100\n",
      "2/2 [==============================] - 0s 2ms/step - loss: 0.6191 - accuracy: 0.6864\n",
      "Epoch 49/100\n",
      "2/2 [==============================] - 0s 2ms/step - loss: 0.6168 - accuracy: 0.6864\n",
      "Epoch 50/100\n",
      "2/2 [==============================] - 0s 2ms/step - loss: 0.6143 - accuracy: 0.6864\n",
      "Epoch 51/100\n",
      "2/2 [==============================] - 0s 2ms/step - loss: 0.6124 - accuracy: 0.6949\n",
      "Epoch 52/100\n",
      "2/2 [==============================] - 0s 2ms/step - loss: 0.6101 - accuracy: 0.6949\n",
      "Epoch 53/100\n",
      "2/2 [==============================] - 0s 2ms/step - loss: 0.6072 - accuracy: 0.7203\n",
      "Epoch 54/100\n",
      "2/2 [==============================] - 0s 2ms/step - loss: 0.6048 - accuracy: 0.7203\n",
      "Epoch 55/100\n",
      "2/2 [==============================] - 0s 2ms/step - loss: 0.6024 - accuracy: 0.7203\n",
      "Epoch 56/100\n",
      "2/2 [==============================] - 0s 2ms/step - loss: 0.5994 - accuracy: 0.7119\n",
      "Epoch 57/100\n",
      "2/2 [==============================] - 0s 2ms/step - loss: 0.5970 - accuracy: 0.7119\n",
      "Epoch 58/100\n",
      "2/2 [==============================] - 0s 2ms/step - loss: 0.5941 - accuracy: 0.7119\n",
      "Epoch 59/100\n",
      "2/2 [==============================] - 0s 3ms/step - loss: 0.5912 - accuracy: 0.7119\n",
      "Epoch 60/100\n",
      "2/2 [==============================] - 0s 2ms/step - loss: 0.5884 - accuracy: 0.7119\n",
      "Epoch 61/100\n",
      "2/2 [==============================] - 0s 2ms/step - loss: 0.5853 - accuracy: 0.7034\n",
      "Epoch 62/100\n",
      "2/2 [==============================] - 0s 2ms/step - loss: 0.5824 - accuracy: 0.7119\n",
      "Epoch 63/100\n",
      "2/2 [==============================] - 0s 2ms/step - loss: 0.5786 - accuracy: 0.7203\n",
      "Epoch 64/100\n",
      "2/2 [==============================] - 0s 3ms/step - loss: 0.5754 - accuracy: 0.7203\n",
      "Epoch 65/100\n",
      "2/2 [==============================] - 0s 2ms/step - loss: 0.5720 - accuracy: 0.7288\n",
      "Epoch 66/100\n",
      "2/2 [==============================] - 0s 2ms/step - loss: 0.5690 - accuracy: 0.7627\n",
      "Epoch 67/100\n",
      "2/2 [==============================] - 0s 2ms/step - loss: 0.5654 - accuracy: 0.7627\n",
      "Epoch 68/100\n",
      "2/2 [==============================] - 0s 2ms/step - loss: 0.5617 - accuracy: 0.7542\n",
      "Epoch 69/100\n",
      "2/2 [==============================] - 0s 2ms/step - loss: 0.5587 - accuracy: 0.7458\n",
      "Epoch 70/100\n",
      "2/2 [==============================] - 0s 2ms/step - loss: 0.5550 - accuracy: 0.7373\n",
      "Epoch 71/100\n",
      "2/2 [==============================] - 0s 2ms/step - loss: 0.5518 - accuracy: 0.7458\n",
      "Epoch 72/100\n",
      "2/2 [==============================] - 0s 2ms/step - loss: 0.5476 - accuracy: 0.7458\n",
      "Epoch 73/100\n",
      "2/2 [==============================] - 0s 1ms/step - loss: 0.5450 - accuracy: 0.7458\n",
      "Epoch 74/100\n",
      "2/2 [==============================] - 0s 4ms/step - loss: 0.5404 - accuracy: 0.7627\n",
      "Epoch 75/100\n",
      "2/2 [==============================] - 0s 2ms/step - loss: 0.5370 - accuracy: 0.7627\n",
      "Epoch 76/100\n",
      "2/2 [==============================] - 0s 1ms/step - loss: 0.5337 - accuracy: 0.7712\n",
      "Epoch 77/100\n",
      "2/2 [==============================] - 0s 2ms/step - loss: 0.5295 - accuracy: 0.7881\n",
      "Epoch 78/100\n",
      "2/2 [==============================] - 0s 2ms/step - loss: 0.5258 - accuracy: 0.8051\n",
      "Epoch 79/100\n",
      "2/2 [==============================] - 0s 2ms/step - loss: 0.5226 - accuracy: 0.7881\n",
      "Epoch 80/100\n",
      "2/2 [==============================] - 0s 2ms/step - loss: 0.5189 - accuracy: 0.7966\n",
      "Epoch 81/100\n",
      "2/2 [==============================] - 0s 3ms/step - loss: 0.5153 - accuracy: 0.8136\n",
      "Epoch 82/100\n",
      "2/2 [==============================] - 0s 2ms/step - loss: 0.5118 - accuracy: 0.8220\n",
      "Epoch 83/100\n",
      "2/2 [==============================] - 0s 2ms/step - loss: 0.5082 - accuracy: 0.8390\n",
      "Epoch 84/100\n",
      "2/2 [==============================] - 0s 2ms/step - loss: 0.5047 - accuracy: 0.8390\n",
      "Epoch 85/100\n",
      "2/2 [==============================] - 0s 2ms/step - loss: 0.5009 - accuracy: 0.8390\n",
      "Epoch 86/100\n",
      "2/2 [==============================] - 0s 2ms/step - loss: 0.4973 - accuracy: 0.8475\n",
      "Epoch 87/100\n",
      "2/2 [==============================] - 0s 2ms/step - loss: 0.4941 - accuracy: 0.8475\n",
      "Epoch 88/100\n",
      "2/2 [==============================] - 0s 2ms/step - loss: 0.4905 - accuracy: 0.8475\n",
      "Epoch 89/100\n",
      "2/2 [==============================] - 0s 2ms/step - loss: 0.4874 - accuracy: 0.8559\n",
      "Epoch 90/100\n",
      "2/2 [==============================] - 0s 2ms/step - loss: 0.4840 - accuracy: 0.8559\n",
      "Epoch 91/100\n",
      "2/2 [==============================] - 0s 2ms/step - loss: 0.4801 - accuracy: 0.8475\n",
      "Epoch 92/100\n",
      "2/2 [==============================] - 0s 2ms/step - loss: 0.4767 - accuracy: 0.8390\n",
      "Epoch 93/100\n",
      "2/2 [==============================] - 0s 2ms/step - loss: 0.4745 - accuracy: 0.8390\n",
      "Epoch 94/100\n",
      "2/2 [==============================] - 0s 2ms/step - loss: 0.4703 - accuracy: 0.8559\n",
      "Epoch 95/100\n",
      "2/2 [==============================] - 0s 2ms/step - loss: 0.4669 - accuracy: 0.8390\n",
      "Epoch 96/100\n",
      "2/2 [==============================] - 0s 2ms/step - loss: 0.4656 - accuracy: 0.8390\n",
      "Epoch 97/100\n",
      "2/2 [==============================] - 0s 5ms/step - loss: 0.4609 - accuracy: 0.8475\n",
      "Epoch 98/100\n",
      "2/2 [==============================] - 0s 2ms/step - loss: 0.4581 - accuracy: 0.8390\n",
      "Epoch 99/100\n",
      "2/2 [==============================] - 0s 2ms/step - loss: 0.4553 - accuracy: 0.8390\n",
      "Epoch 100/100\n",
      "2/2 [==============================] - 0s 3ms/step - loss: 0.4527 - accuracy: 0.8475\n"
     ]
    },
    {
     "data": {
      "text/plain": [
       "[<matplotlib.lines.Line2D at 0x7fc775a53908>]"
      ]
     },
     "execution_count": 60,
     "metadata": {
      "tags": []
     },
     "output_type": "execute_result"
    },
    {
     "data": {
      "image/png": "[encoded data removed]",
      "text/plain": [
       "<Figure size 1080x576 with 2 Axes>"
      ]
     },
     "metadata": {
      "needs_background": "light",
      "tags": []
     },
     "output_type": "display_data"
    }
   ],
   "source": [
    "# 모델의 output이 (N,1) 이므로, target도 (N,1)이 되어야 한다. target이 (N,)이면 안된다.\n",
    "\n",
    "history = model.fit(A, B, batch_size=64, epochs=100)  # 출력: (N,1), target: (N,1)\n",
    "\n",
    "plt.figure(figsize=(15,8))\n",
    "plt.subplot(1,2,1)\n",
    "plt.plot(history.history[\"accuracy\"], label=\"train accuracy\")\n",
    "plt.ylim([0,1])\n",
    "plt.subplot(1,2,2)\n",
    "plt.plot(history.history[\"loss\"], label=\"train loss\")"
   ]
  },
  {
   "cell_type": "code",
   "execution_count": null,
   "metadata": {
    "colab": {
     "base_uri": "https://localhost:8080/",
     "height": 531
    },
    "executionInfo": {
     "elapsed": 1426,
     "status": "ok",
     "timestamp": 1606360691669,
     "user": {
      "displayName": "Heecheol Cho",
      "photoUrl": "https://lh3.googleusercontent.com/a-/AOh14GjX329YmmK5EOCLjZGYupvhhyKPjyr-kS3DftPICg=s64",
      "userId": "11416361730564561965"
     },
     "user_tz": -540
    },
    "id": "YFrWJH9LY0nD",
    "outputId": "fde0f0ea-d678-4ef8-e7a6-f83eb324a39c"
   },
   "outputs": [
    {
     "data": {
      "text/plain": [
       "Text(0.5, 1.0, 'tf prediction')"
      ]
     },
     "execution_count": 61,
     "metadata": {
      "tags": []
     },
     "output_type": "execute_result"
    },
    {
     "data": {
      "image/png": "[encoded data removed]",
      "text/plain": [
       "<Figure size 1080x576 with 2 Axes>"
      ]
     },
     "metadata": {
      "needs_background": "light",
      "tags": []
     },
     "output_type": "display_data"
    }
   ],
   "source": [
    "df1=pd.DataFrame(data=mydata,columns=['x','y','target'])\n",
    "\n",
    "prediction = (model.predict(A) > 0.5).astype(np.int)\n",
    "  # np.concatenate([A,prediction],axis=-1)\n",
    "df2=pd.DataFrame(data=np.c_[A,prediction],columns=['x','y','prediction'])\n",
    "# pandas dataframe을 넘겨주어면 좋다.\n",
    "\n",
    "\n",
    "plt.figure(figsize=(15,8))\n",
    "plt.subplot(1,2,1)\n",
    "sns.scatterplot(x='x', \n",
    "                y='y', \n",
    "                hue='target', # different colors by group\n",
    "                style='target', # different shapes by group\n",
    "                s=50, # marker size\n",
    "                data=df1)\n",
    "plt.title('data')\n",
    "\n",
    "\n",
    "plt.subplot(1,2,2)\n",
    "sns.scatterplot(x='x', \n",
    "                y='y', \n",
    "                hue='prediction', # different colors by group\n",
    "                style='prediction', # different shapes by group\n",
    "                s=50, # marker size\n",
    "                data=df2)\n",
    "plt.title('tf prediction')"
   ]
  },
  {
   "cell_type": "markdown",
   "metadata": {
    "id": "kxdzzFKCY0nD"
   },
   "source": [
    "## xgboost for iris dataset"
   ]
  },
  {
   "cell_type": "code",
   "execution_count": null,
   "metadata": {
    "id": "hxV0WYRlY0nD"
   },
   "outputs": [],
   "source": [
    "import pandas as pd\n",
    "from sklearn import datasets\n",
    "from sklearn import preprocessing\n",
    "from xgboost import XGBClassifier, XGBRFClassifier\n",
    "import numpy as np\n",
    "import matplotlib.pyplot as plt\n",
    "import seaborn as sns"
   ]
  },
  {
   "cell_type": "code",
   "execution_count": null,
   "metadata": {
    "colab": {
     "base_uri": "https://localhost:8080/"
    },
    "executionInfo": {
     "elapsed": 629,
     "status": "ok",
     "timestamp": 1606360699250,
     "user": {
      "displayName": "Heecheol Cho",
      "photoUrl": "https://lh3.googleusercontent.com/a-/AOh14GjX329YmmK5EOCLjZGYupvhhyKPjyr-kS3DftPICg=s64",
      "userId": "11416361730564561965"
     },
     "user_tz": -540
    },
    "id": "zKvvSg1HY0nD",
    "outputId": "fb99e6a1-2fbc-465a-bd19-5044fb492bd2"
   },
   "outputs": [
    {
     "name": "stdout",
     "output_type": "stream",
     "text": [
      "   sepal length (cm)  sepal width (cm)  petal length (cm)  petal width (cm)\n",
      "0              0.222             0.625              0.068             0.042\n",
      "1              0.167             0.417              0.068             0.042\n",
      "2              0.111             0.500              0.051             0.042\n",
      "3              0.083             0.458              0.085             0.042\n",
      "4              0.194             0.667              0.068             0.042\n",
      "0    setosa\n",
      "1    setosa\n",
      "2    setosa\n",
      "3    setosa\n",
      "4    setosa\n",
      "dtype: object\n"
     ]
    }
   ],
   "source": [
    "iris = datasets.load_iris()  # dict_keys(['data', 'target', 'frame', 'target_names', 'DESCR', 'feature_names', 'filename'])\n",
    "labels=['setosa','versicolor','virginica']\n",
    "\n",
    "min_max_scaler = preprocessing.MinMaxScaler()\n",
    "X = min_max_scaler.fit_transform(iris['data'])\n",
    "Y = [labels[y] for y in iris['target']]\n",
    "\n",
    "x_train = pd.DataFrame(data= X,columns= iris['feature_names'] )\n",
    "y_train = pd.Series(data= Y)\n",
    "print(x_train.head(5))\n",
    "print(y_train.head(5))"
   ]
  },
  {
   "cell_type": "code",
   "execution_count": null,
   "metadata": {
    "colab": {
     "base_uri": "https://localhost:8080/"
    },
    "executionInfo": {
     "elapsed": 623,
     "status": "ok",
     "timestamp": 1606360728128,
     "user": {
      "displayName": "Heecheol Cho",
      "photoUrl": "https://lh3.googleusercontent.com/a-/AOh14GjX329YmmK5EOCLjZGYupvhhyKPjyr-kS3DftPICg=s64",
      "userId": "11416361730564561965"
     },
     "user_tz": -540
    },
    "id": "jporn3s1Y0nD",
    "outputId": "7b5ce294-ebd5-4b2f-bfdc-c96dcbc55038"
   },
   "outputs": [
    {
     "data": {
      "text/plain": [
       "XGBClassifier(base_score=0.5, booster='gbtree', colsample_bylevel=1,\n",
       "              colsample_bynode=1, colsample_bytree=1, gamma=0,\n",
       "              learning_rate=0.05, max_delta_step=0, max_depth=3,\n",
       "              min_child_weight=1, missing=None, n_estimators=150, n_jobs=1,\n",
       "              nthread=None, objective='multi:softprob', random_state=0,\n",
       "              reg_alpha=0, reg_lambda=1, scale_pos_weight=1, seed=None,\n",
       "              silent=None, subsample=1, verbosity=1)"
      ]
     },
     "execution_count": 68,
     "metadata": {
      "tags": []
     },
     "output_type": "execute_result"
    }
   ],
   "source": [
    "xgb = XGBClassifier(n_estimators=150, learning_rate=0.05)\n",
    "xgb.fit(x_train, y_train)"
   ]
  },
  {
   "cell_type": "code",
   "execution_count": null,
   "metadata": {
    "colab": {
     "base_uri": "https://localhost:8080/"
    },
    "executionInfo": {
     "elapsed": 690,
     "status": "ok",
     "timestamp": 1606360729779,
     "user": {
      "displayName": "Heecheol Cho",
      "photoUrl": "https://lh3.googleusercontent.com/a-/AOh14GjX329YmmK5EOCLjZGYupvhhyKPjyr-kS3DftPICg=s64",
      "userId": "11416361730564561965"
     },
     "user_tz": -540
    },
    "id": "XTzPhoEAY0nD",
    "outputId": "f62bc93a-27c0-451d-9125-d5bca5fd1804"
   },
   "outputs": [
    {
     "data": {
      "text/plain": [
       "1.0"
      ]
     },
     "execution_count": 69,
     "metadata": {
      "tags": []
     },
     "output_type": "execute_result"
    }
   ],
   "source": [
    "pred = xgb.predict(x_train)\n",
    "np.mean(pred==Y)"
   ]
  },
  {
   "cell_type": "markdown",
   "metadata": {
    "id": "qMu63JUDY0nD"
   },
   "source": [
    "## xgboost for mydata"
   ]
  },
  {
   "cell_type": "code",
   "execution_count": null,
   "metadata": {
    "colab": {
     "base_uri": "https://localhost:8080/",
     "height": 198
    },
    "executionInfo": {
     "elapsed": 643,
     "status": "ok",
     "timestamp": 1606360797475,
     "user": {
      "displayName": "Heecheol Cho",
      "photoUrl": "https://lh3.googleusercontent.com/a-/AOh14GjX329YmmK5EOCLjZGYupvhhyKPjyr-kS3DftPICg=s64",
      "userId": "11416361730564561965"
     },
     "user_tz": -540
    },
    "id": "SgqA8sipY0nD",
    "outputId": "50a48683-c76f-4b72-88e3-fb119cc02630"
   },
   "outputs": [
    {
     "data": {
      "text/html": [
       "<div>\n",
       "<style scoped>\n",
       "    .dataframe tbody tr th:only-of-type {\n",
       "        vertical-align: middle;\n",
       "    }\n",
       "\n",
       "    .dataframe tbody tr th {\n",
       "        vertical-align: top;\n",
       "    }\n",
       "\n",
       "    .dataframe thead th {\n",
       "        text-align: right;\n",
       "    }\n",
       "</style>\n",
       "<table border=\"1\" class=\"dataframe\">\n",
       "  <thead>\n",
       "    <tr style=\"text-align: right;\">\n",
       "      <th></th>\n",
       "      <th>x</th>\n",
       "      <th>y</th>\n",
       "      <th>label</th>\n",
       "    </tr>\n",
       "  </thead>\n",
       "  <tbody>\n",
       "    <tr>\n",
       "      <th>0</th>\n",
       "      <td>0.051</td>\n",
       "      <td>0.700</td>\n",
       "      <td>1</td>\n",
       "    </tr>\n",
       "    <tr>\n",
       "      <th>1</th>\n",
       "      <td>-0.093</td>\n",
       "      <td>0.685</td>\n",
       "      <td>1</td>\n",
       "    </tr>\n",
       "    <tr>\n",
       "      <th>2</th>\n",
       "      <td>-0.214</td>\n",
       "      <td>0.692</td>\n",
       "      <td>1</td>\n",
       "    </tr>\n",
       "    <tr>\n",
       "      <th>3</th>\n",
       "      <td>-0.375</td>\n",
       "      <td>0.502</td>\n",
       "      <td>1</td>\n",
       "    </tr>\n",
       "    <tr>\n",
       "      <th>4</th>\n",
       "      <td>-0.513</td>\n",
       "      <td>0.466</td>\n",
       "      <td>1</td>\n",
       "    </tr>\n",
       "  </tbody>\n",
       "</table>\n",
       "</div>"
      ],
      "text/plain": [
       "       x      y  label\n",
       "0  0.051  0.700      1\n",
       "1 -0.093  0.685      1\n",
       "2 -0.214  0.692      1\n",
       "3 -0.375  0.502      1\n",
       "4 -0.513  0.466      1"
      ]
     },
     "execution_count": 71,
     "metadata": {
      "tags": []
     },
     "output_type": "execute_result"
    }
   ],
   "source": [
    "url = 'https://github.com/hccho2/hccho2FirstGitProject/raw/master/mydata2.txt'\n",
    "df = pd.read_csv(url, header=None,names=['x','y','label'])\n",
    "df.head()"
   ]
  },
  {
   "cell_type": "code",
   "execution_count": null,
   "metadata": {
    "id": "UywQqADgY0nD"
   },
   "outputs": [],
   "source": [
    "X = df.loc[:, df.columns != 'label']\n",
    "Y = df['label']  # Series"
   ]
  },
  {
   "cell_type": "code",
   "execution_count": null,
   "metadata": {
    "colab": {
     "base_uri": "https://localhost:8080/"
    },
    "executionInfo": {
     "elapsed": 630,
     "status": "ok",
     "timestamp": 1606360847278,
     "user": {
      "displayName": "Heecheol Cho",
      "photoUrl": "https://lh3.googleusercontent.com/a-/AOh14GjX329YmmK5EOCLjZGYupvhhyKPjyr-kS3DftPICg=s64",
      "userId": "11416361730564561965"
     },
     "user_tz": -540
    },
    "id": "Su2SY-0oY0nD",
    "outputId": "2813cfa6-c1c4-411d-a4a3-da10005d97a2"
   },
   "outputs": [
    {
     "data": {
      "text/plain": [
       "XGBClassifier(base_score=0.5, booster='gbtree', colsample_bylevel=1,\n",
       "              colsample_bynode=1, colsample_bytree=1, gamma=0,\n",
       "              learning_rate=0.05, max_delta_step=0, max_depth=3,\n",
       "              min_child_weight=1, missing=None, n_estimators=100, n_jobs=1,\n",
       "              nthread=None, objective='binary:logistic', random_state=0,\n",
       "              reg_alpha=0, reg_lambda=1, scale_pos_weight=1, seed=None,\n",
       "              silent=None, subsample=1, verbosity=1)"
      ]
     },
     "execution_count": 73,
     "metadata": {
      "tags": []
     },
     "output_type": "execute_result"
    }
   ],
   "source": [
    "xgb = XGBClassifier(n_estimators=100, learning_rate=0.05)\n",
    "xgb.fit(X, Y)"
   ]
  },
  {
   "cell_type": "code",
   "execution_count": null,
   "metadata": {
    "colab": {
     "base_uri": "https://localhost:8080/"
    },
    "executionInfo": {
     "elapsed": 719,
     "status": "ok",
     "timestamp": 1606360849247,
     "user": {
      "displayName": "Heecheol Cho",
      "photoUrl": "https://lh3.googleusercontent.com/a-/AOh14GjX329YmmK5EOCLjZGYupvhhyKPjyr-kS3DftPICg=s64",
      "userId": "11416361730564561965"
     },
     "user_tz": -540
    },
    "id": "eFylp9o3Y0nD",
    "outputId": "2d81ce22-4153-4a30-f2f9-c289e99868a8"
   },
   "outputs": [
    {
     "data": {
      "text/plain": [
       "0.9152542372881356"
      ]
     },
     "execution_count": 74,
     "metadata": {
      "tags": []
     },
     "output_type": "execute_result"
    }
   ],
   "source": [
    "prediction = xgb.predict(X)\n",
    "np.mean(prediction==Y)"
   ]
  },
  {
   "cell_type": "code",
   "execution_count": null,
   "metadata": {
    "colab": {
     "base_uri": "https://localhost:8080/",
     "height": 531
    },
    "executionInfo": {
     "elapsed": 1422,
     "status": "ok",
     "timestamp": 1606360852175,
     "user": {
      "displayName": "Heecheol Cho",
      "photoUrl": "https://lh3.googleusercontent.com/a-/AOh14GjX329YmmK5EOCLjZGYupvhhyKPjyr-kS3DftPICg=s64",
      "userId": "11416361730564561965"
     },
     "user_tz": -540
    },
    "id": "0Mvx61rMY0nD",
    "outputId": "dd247a69-f90f-49e9-8603-ab4a689bc773"
   },
   "outputs": [
    {
     "data": {
      "text/plain": [
       "Text(0.5, 1.0, 'xgboost prediction')"
      ]
     },
     "execution_count": 75,
     "metadata": {
      "tags": []
     },
     "output_type": "execute_result"
    },
    {
     "data": {
      "image/png": "[encoded data removed]",
      "text/plain": [
       "<Figure size 1080x576 with 2 Axes>"
      ]
     },
     "metadata": {
      "needs_background": "light",
      "tags": []
     },
     "output_type": "display_data"
    }
   ],
   "source": [
    "df_pred=pd.DataFrame(data=np.c_[X.values,Y.values, prediction],columns=['x','y','label','prediction'])\n",
    "df_pred['misprediction']=df_pred['label'] != df_pred['prediction']\n",
    "plt.figure(figsize=(15,8))\n",
    "plt.subplot(1,2,1)\n",
    "sns.scatterplot(x='x', \n",
    "                y='y', \n",
    "                hue='label', # different colors by group\n",
    "                style='label', # different shapes by group\n",
    "                s=50, # marker size\n",
    "                data=df)\n",
    "plt.title('data')\n",
    "\n",
    "\n",
    "plt.subplot(1,2,2)\n",
    "sns.scatterplot(x='x', \n",
    "                y='y', \n",
    "                hue='prediction', # different colors by group\n",
    "                style='misprediction', # different shapes by group\n",
    "                s=50, # marker size\n",
    "                data=df_pred)\n",
    "plt.title('xgboost prediction')"
   ]
  },
  {
   "cell_type": "code",
   "execution_count": null,
   "metadata": {
    "colab": {
     "base_uri": "https://localhost:8080/",
     "height": 348
    },
    "executionInfo": {
     "elapsed": 655,
     "status": "ok",
     "timestamp": 1606360857625,
     "user": {
      "displayName": "Heecheol Cho",
      "photoUrl": "https://lh3.googleusercontent.com/a-/AOh14GjX329YmmK5EOCLjZGYupvhhyKPjyr-kS3DftPICg=s64",
      "userId": "11416361730564561965"
     },
     "user_tz": -540
    },
    "id": "kO2PZsEdY0nD",
    "outputId": "2cb1bf9e-de58-476d-ff97-acd54d964321"
   },
   "outputs": [
    {
     "data": {
      "text/html": [
       "<div>\n",
       "<style scoped>\n",
       "    .dataframe tbody tr th:only-of-type {\n",
       "        vertical-align: middle;\n",
       "    }\n",
       "\n",
       "    .dataframe tbody tr th {\n",
       "        vertical-align: top;\n",
       "    }\n",
       "\n",
       "    .dataframe thead th {\n",
       "        text-align: right;\n",
       "    }\n",
       "</style>\n",
       "<table border=\"1\" class=\"dataframe\">\n",
       "  <thead>\n",
       "    <tr style=\"text-align: right;\">\n",
       "      <th></th>\n",
       "      <th>x</th>\n",
       "      <th>y</th>\n",
       "      <th>label</th>\n",
       "      <th>prediction</th>\n",
       "      <th>misprediction</th>\n",
       "    </tr>\n",
       "  </thead>\n",
       "  <tbody>\n",
       "    <tr>\n",
       "      <th>23</th>\n",
       "      <td>-0.421</td>\n",
       "      <td>-0.273</td>\n",
       "      <td>1.0</td>\n",
       "      <td>0.0</td>\n",
       "      <td>True</td>\n",
       "    </tr>\n",
       "    <tr>\n",
       "      <th>25</th>\n",
       "      <td>0.201</td>\n",
       "      <td>-0.602</td>\n",
       "      <td>1.0</td>\n",
       "      <td>0.0</td>\n",
       "      <td>True</td>\n",
       "    </tr>\n",
       "    <tr>\n",
       "      <th>30</th>\n",
       "      <td>-0.266</td>\n",
       "      <td>0.963</td>\n",
       "      <td>1.0</td>\n",
       "      <td>0.0</td>\n",
       "      <td>True</td>\n",
       "    </tr>\n",
       "    <tr>\n",
       "      <th>60</th>\n",
       "      <td>0.299</td>\n",
       "      <td>0.619</td>\n",
       "      <td>0.0</td>\n",
       "      <td>1.0</td>\n",
       "      <td>True</td>\n",
       "    </tr>\n",
       "    <tr>\n",
       "      <th>76</th>\n",
       "      <td>0.466</td>\n",
       "      <td>-0.419</td>\n",
       "      <td>0.0</td>\n",
       "      <td>1.0</td>\n",
       "      <td>True</td>\n",
       "    </tr>\n",
       "    <tr>\n",
       "      <th>81</th>\n",
       "      <td>-0.133</td>\n",
       "      <td>-0.448</td>\n",
       "      <td>0.0</td>\n",
       "      <td>1.0</td>\n",
       "      <td>True</td>\n",
       "    </tr>\n",
       "    <tr>\n",
       "      <th>104</th>\n",
       "      <td>-0.150</td>\n",
       "      <td>-0.368</td>\n",
       "      <td>0.0</td>\n",
       "      <td>1.0</td>\n",
       "      <td>True</td>\n",
       "    </tr>\n",
       "    <tr>\n",
       "      <th>107</th>\n",
       "      <td>-0.289</td>\n",
       "      <td>-0.061</td>\n",
       "      <td>0.0</td>\n",
       "      <td>1.0</td>\n",
       "      <td>True</td>\n",
       "    </tr>\n",
       "    <tr>\n",
       "      <th>114</th>\n",
       "      <td>-0.594</td>\n",
       "      <td>0.495</td>\n",
       "      <td>0.0</td>\n",
       "      <td>1.0</td>\n",
       "      <td>True</td>\n",
       "    </tr>\n",
       "    <tr>\n",
       "      <th>117</th>\n",
       "      <td>0.633</td>\n",
       "      <td>-0.031</td>\n",
       "      <td>0.0</td>\n",
       "      <td>1.0</td>\n",
       "      <td>True</td>\n",
       "    </tr>\n",
       "  </tbody>\n",
       "</table>\n",
       "</div>"
      ],
      "text/plain": [
       "         x      y  label  prediction  misprediction\n",
       "23  -0.421 -0.273    1.0         0.0           True\n",
       "25   0.201 -0.602    1.0         0.0           True\n",
       "30  -0.266  0.963    1.0         0.0           True\n",
       "60   0.299  0.619    0.0         1.0           True\n",
       "76   0.466 -0.419    0.0         1.0           True\n",
       "81  -0.133 -0.448    0.0         1.0           True\n",
       "104 -0.150 -0.368    0.0         1.0           True\n",
       "107 -0.289 -0.061    0.0         1.0           True\n",
       "114 -0.594  0.495    0.0         1.0           True\n",
       "117  0.633 -0.031    0.0         1.0           True"
      ]
     },
     "execution_count": 76,
     "metadata": {
      "tags": []
     },
     "output_type": "execute_result"
    }
   ],
   "source": [
    "df_pred[df_pred['label'] != df_pred['prediction']]"
   ]
  },
  {
   "cell_type": "code",
   "execution_count": null,
   "metadata": {
    "colab": {
     "base_uri": "https://localhost:8080/",
     "height": 1000
    },
    "executionInfo": {
     "elapsed": 847,
     "status": "ok",
     "timestamp": 1606360859585,
     "user": {
      "displayName": "Heecheol Cho",
      "photoUrl": "https://lh3.googleusercontent.com/a-/AOh14GjX329YmmK5EOCLjZGYupvhhyKPjyr-kS3DftPICg=s64",
      "userId": "11416361730564561965"
     },
     "user_tz": -540
    },
    "id": "0QhKipI_Y0nD",
    "outputId": "b2be6c22-55ea-4d2b-a1fb-016171526b1a"
   },
   "outputs": [
    {
     "data": {
      "text/html": [
       "<div>\n",
       "<style scoped>\n",
       "    .dataframe tbody tr th:only-of-type {\n",
       "        vertical-align: middle;\n",
       "    }\n",
       "\n",
       "    .dataframe tbody tr th {\n",
       "        vertical-align: top;\n",
       "    }\n",
       "\n",
       "    .dataframe thead th {\n",
       "        text-align: right;\n",
       "    }\n",
       "</style>\n",
       "<table border=\"1\" class=\"dataframe\">\n",
       "  <thead>\n",
       "    <tr style=\"text-align: right;\">\n",
       "      <th></th>\n",
       "      <th>x</th>\n",
       "      <th>y</th>\n",
       "      <th>label</th>\n",
       "      <th>prediction</th>\n",
       "      <th>misprediction</th>\n",
       "    </tr>\n",
       "  </thead>\n",
       "  <tbody>\n",
       "    <tr>\n",
       "      <th>0</th>\n",
       "      <td>0.051</td>\n",
       "      <td>0.700</td>\n",
       "      <td>1.0</td>\n",
       "      <td>1.0</td>\n",
       "      <td>False</td>\n",
       "    </tr>\n",
       "    <tr>\n",
       "      <th>1</th>\n",
       "      <td>-0.093</td>\n",
       "      <td>0.685</td>\n",
       "      <td>1.0</td>\n",
       "      <td>1.0</td>\n",
       "      <td>False</td>\n",
       "    </tr>\n",
       "    <tr>\n",
       "      <th>2</th>\n",
       "      <td>-0.214</td>\n",
       "      <td>0.692</td>\n",
       "      <td>1.0</td>\n",
       "      <td>1.0</td>\n",
       "      <td>False</td>\n",
       "    </tr>\n",
       "    <tr>\n",
       "      <th>3</th>\n",
       "      <td>-0.375</td>\n",
       "      <td>0.502</td>\n",
       "      <td>1.0</td>\n",
       "      <td>1.0</td>\n",
       "      <td>False</td>\n",
       "    </tr>\n",
       "    <tr>\n",
       "      <th>4</th>\n",
       "      <td>-0.513</td>\n",
       "      <td>0.466</td>\n",
       "      <td>1.0</td>\n",
       "      <td>1.0</td>\n",
       "      <td>False</td>\n",
       "    </tr>\n",
       "    <tr>\n",
       "      <th>5</th>\n",
       "      <td>-0.525</td>\n",
       "      <td>0.210</td>\n",
       "      <td>1.0</td>\n",
       "      <td>1.0</td>\n",
       "      <td>False</td>\n",
       "    </tr>\n",
       "    <tr>\n",
       "      <th>6</th>\n",
       "      <td>-0.398</td>\n",
       "      <td>0.034</td>\n",
       "      <td>1.0</td>\n",
       "      <td>1.0</td>\n",
       "      <td>False</td>\n",
       "    </tr>\n",
       "    <tr>\n",
       "      <th>7</th>\n",
       "      <td>-0.306</td>\n",
       "      <td>-0.192</td>\n",
       "      <td>1.0</td>\n",
       "      <td>1.0</td>\n",
       "      <td>False</td>\n",
       "    </tr>\n",
       "    <tr>\n",
       "      <th>8</th>\n",
       "      <td>0.017</td>\n",
       "      <td>-0.404</td>\n",
       "      <td>1.0</td>\n",
       "      <td>1.0</td>\n",
       "      <td>False</td>\n",
       "    </tr>\n",
       "    <tr>\n",
       "      <th>9</th>\n",
       "      <td>0.132</td>\n",
       "      <td>-0.514</td>\n",
       "      <td>1.0</td>\n",
       "      <td>1.0</td>\n",
       "      <td>False</td>\n",
       "    </tr>\n",
       "    <tr>\n",
       "      <th>10</th>\n",
       "      <td>0.385</td>\n",
       "      <td>-0.565</td>\n",
       "      <td>1.0</td>\n",
       "      <td>1.0</td>\n",
       "      <td>False</td>\n",
       "    </tr>\n",
       "    <tr>\n",
       "      <th>11</th>\n",
       "      <td>0.529</td>\n",
       "      <td>-0.521</td>\n",
       "      <td>1.0</td>\n",
       "      <td>1.0</td>\n",
       "      <td>False</td>\n",
       "    </tr>\n",
       "    <tr>\n",
       "      <th>12</th>\n",
       "      <td>0.639</td>\n",
       "      <td>-0.243</td>\n",
       "      <td>1.0</td>\n",
       "      <td>1.0</td>\n",
       "      <td>False</td>\n",
       "    </tr>\n",
       "    <tr>\n",
       "      <th>13</th>\n",
       "      <td>0.737</td>\n",
       "      <td>-0.185</td>\n",
       "      <td>1.0</td>\n",
       "      <td>1.0</td>\n",
       "      <td>False</td>\n",
       "    </tr>\n",
       "    <tr>\n",
       "      <th>14</th>\n",
       "      <td>0.547</td>\n",
       "      <td>0.488</td>\n",
       "      <td>1.0</td>\n",
       "      <td>1.0</td>\n",
       "      <td>False</td>\n",
       "    </tr>\n",
       "    <tr>\n",
       "      <th>15</th>\n",
       "      <td>0.322</td>\n",
       "      <td>0.583</td>\n",
       "      <td>1.0</td>\n",
       "      <td>1.0</td>\n",
       "      <td>False</td>\n",
       "    </tr>\n",
       "    <tr>\n",
       "      <th>16</th>\n",
       "      <td>0.166</td>\n",
       "      <td>0.539</td>\n",
       "      <td>1.0</td>\n",
       "      <td>1.0</td>\n",
       "      <td>False</td>\n",
       "    </tr>\n",
       "    <tr>\n",
       "      <th>17</th>\n",
       "      <td>-0.047</td>\n",
       "      <td>0.817</td>\n",
       "      <td>1.0</td>\n",
       "      <td>1.0</td>\n",
       "      <td>False</td>\n",
       "    </tr>\n",
       "    <tr>\n",
       "      <th>18</th>\n",
       "      <td>-0.173</td>\n",
       "      <td>0.700</td>\n",
       "      <td>1.0</td>\n",
       "      <td>1.0</td>\n",
       "      <td>False</td>\n",
       "    </tr>\n",
       "    <tr>\n",
       "      <th>19</th>\n",
       "      <td>-0.479</td>\n",
       "      <td>0.634</td>\n",
       "      <td>1.0</td>\n",
       "      <td>1.0</td>\n",
       "      <td>False</td>\n",
       "    </tr>\n",
       "    <tr>\n",
       "      <th>20</th>\n",
       "      <td>-0.605</td>\n",
       "      <td>0.597</td>\n",
       "      <td>1.0</td>\n",
       "      <td>1.0</td>\n",
       "      <td>False</td>\n",
       "    </tr>\n",
       "    <tr>\n",
       "      <th>21</th>\n",
       "      <td>-0.628</td>\n",
       "      <td>0.334</td>\n",
       "      <td>1.0</td>\n",
       "      <td>1.0</td>\n",
       "      <td>False</td>\n",
       "    </tr>\n",
       "    <tr>\n",
       "      <th>22</th>\n",
       "      <td>-0.594</td>\n",
       "      <td>0.005</td>\n",
       "      <td>1.0</td>\n",
       "      <td>1.0</td>\n",
       "      <td>False</td>\n",
       "    </tr>\n",
       "    <tr>\n",
       "      <th>23</th>\n",
       "      <td>-0.421</td>\n",
       "      <td>-0.273</td>\n",
       "      <td>1.0</td>\n",
       "      <td>0.0</td>\n",
       "      <td>True</td>\n",
       "    </tr>\n",
       "    <tr>\n",
       "      <th>24</th>\n",
       "      <td>-0.116</td>\n",
       "      <td>-0.397</td>\n",
       "      <td>1.0</td>\n",
       "      <td>1.0</td>\n",
       "      <td>False</td>\n",
       "    </tr>\n",
       "    <tr>\n",
       "      <th>25</th>\n",
       "      <td>0.201</td>\n",
       "      <td>-0.602</td>\n",
       "      <td>1.0</td>\n",
       "      <td>0.0</td>\n",
       "      <td>True</td>\n",
       "    </tr>\n",
       "    <tr>\n",
       "      <th>26</th>\n",
       "      <td>0.466</td>\n",
       "      <td>-0.536</td>\n",
       "      <td>1.0</td>\n",
       "      <td>1.0</td>\n",
       "      <td>False</td>\n",
       "    </tr>\n",
       "    <tr>\n",
       "      <th>27</th>\n",
       "      <td>0.673</td>\n",
       "      <td>-0.536</td>\n",
       "      <td>1.0</td>\n",
       "      <td>1.0</td>\n",
       "      <td>False</td>\n",
       "    </tr>\n",
       "    <tr>\n",
       "      <th>28</th>\n",
       "      <td>-0.139</td>\n",
       "      <td>0.546</td>\n",
       "      <td>1.0</td>\n",
       "      <td>1.0</td>\n",
       "      <td>False</td>\n",
       "    </tr>\n",
       "    <tr>\n",
       "      <th>29</th>\n",
       "      <td>-0.294</td>\n",
       "      <td>0.780</td>\n",
       "      <td>1.0</td>\n",
       "      <td>1.0</td>\n",
       "      <td>False</td>\n",
       "    </tr>\n",
       "    <tr>\n",
       "      <th>30</th>\n",
       "      <td>-0.266</td>\n",
       "      <td>0.963</td>\n",
       "      <td>1.0</td>\n",
       "      <td>0.0</td>\n",
       "      <td>True</td>\n",
       "    </tr>\n",
       "    <tr>\n",
       "      <th>31</th>\n",
       "      <td>-0.162</td>\n",
       "      <td>0.802</td>\n",
       "      <td>1.0</td>\n",
       "      <td>1.0</td>\n",
       "      <td>False</td>\n",
       "    </tr>\n",
       "    <tr>\n",
       "      <th>32</th>\n",
       "      <td>-0.173</td>\n",
       "      <td>0.648</td>\n",
       "      <td>1.0</td>\n",
       "      <td>1.0</td>\n",
       "      <td>False</td>\n",
       "    </tr>\n",
       "    <tr>\n",
       "      <th>33</th>\n",
       "      <td>-0.283</td>\n",
       "      <td>0.473</td>\n",
       "      <td>1.0</td>\n",
       "      <td>1.0</td>\n",
       "      <td>False</td>\n",
       "    </tr>\n",
       "    <tr>\n",
       "      <th>34</th>\n",
       "      <td>-0.363</td>\n",
       "      <td>0.312</td>\n",
       "      <td>1.0</td>\n",
       "      <td>1.0</td>\n",
       "      <td>False</td>\n",
       "    </tr>\n",
       "    <tr>\n",
       "      <th>35</th>\n",
       "      <td>-0.300</td>\n",
       "      <td>0.027</td>\n",
       "      <td>1.0</td>\n",
       "      <td>1.0</td>\n",
       "      <td>False</td>\n",
       "    </tr>\n",
       "    <tr>\n",
       "      <th>36</th>\n",
       "      <td>-0.237</td>\n",
       "      <td>-0.214</td>\n",
       "      <td>1.0</td>\n",
       "      <td>1.0</td>\n",
       "      <td>False</td>\n",
       "    </tr>\n",
       "    <tr>\n",
       "      <th>37</th>\n",
       "      <td>-0.064</td>\n",
       "      <td>-0.185</td>\n",
       "      <td>1.0</td>\n",
       "      <td>1.0</td>\n",
       "      <td>False</td>\n",
       "    </tr>\n",
       "    <tr>\n",
       "      <th>38</th>\n",
       "      <td>0.063</td>\n",
       "      <td>-0.163</td>\n",
       "      <td>1.0</td>\n",
       "      <td>1.0</td>\n",
       "      <td>False</td>\n",
       "    </tr>\n",
       "    <tr>\n",
       "      <th>39</th>\n",
       "      <td>0.230</td>\n",
       "      <td>-0.412</td>\n",
       "      <td>1.0</td>\n",
       "      <td>1.0</td>\n",
       "      <td>False</td>\n",
       "    </tr>\n",
       "    <tr>\n",
       "      <th>40</th>\n",
       "      <td>0.293</td>\n",
       "      <td>-0.229</td>\n",
       "      <td>1.0</td>\n",
       "      <td>1.0</td>\n",
       "      <td>False</td>\n",
       "    </tr>\n",
       "    <tr>\n",
       "      <th>41</th>\n",
       "      <td>0.483</td>\n",
       "      <td>-0.185</td>\n",
       "      <td>1.0</td>\n",
       "      <td>1.0</td>\n",
       "      <td>False</td>\n",
       "    </tr>\n",
       "    <tr>\n",
       "      <th>42</th>\n",
       "      <td>0.645</td>\n",
       "      <td>-0.141</td>\n",
       "      <td>1.0</td>\n",
       "      <td>1.0</td>\n",
       "      <td>False</td>\n",
       "    </tr>\n",
       "    <tr>\n",
       "      <th>43</th>\n",
       "      <td>0.460</td>\n",
       "      <td>0.012</td>\n",
       "      <td>1.0</td>\n",
       "      <td>1.0</td>\n",
       "      <td>False</td>\n",
       "    </tr>\n",
       "    <tr>\n",
       "      <th>44</th>\n",
       "      <td>0.627</td>\n",
       "      <td>0.159</td>\n",
       "      <td>1.0</td>\n",
       "      <td>1.0</td>\n",
       "      <td>False</td>\n",
       "    </tr>\n",
       "    <tr>\n",
       "      <th>45</th>\n",
       "      <td>0.575</td>\n",
       "      <td>0.268</td>\n",
       "      <td>1.0</td>\n",
       "      <td>1.0</td>\n",
       "      <td>False</td>\n",
       "    </tr>\n",
       "    <tr>\n",
       "      <th>46</th>\n",
       "      <td>0.725</td>\n",
       "      <td>0.444</td>\n",
       "      <td>1.0</td>\n",
       "      <td>1.0</td>\n",
       "      <td>False</td>\n",
       "    </tr>\n",
       "    <tr>\n",
       "      <th>47</th>\n",
       "      <td>0.224</td>\n",
       "      <td>0.524</td>\n",
       "      <td>1.0</td>\n",
       "      <td>1.0</td>\n",
       "      <td>False</td>\n",
       "    </tr>\n",
       "    <tr>\n",
       "      <th>48</th>\n",
       "      <td>0.443</td>\n",
       "      <td>0.670</td>\n",
       "      <td>1.0</td>\n",
       "      <td>1.0</td>\n",
       "      <td>False</td>\n",
       "    </tr>\n",
       "    <tr>\n",
       "      <th>49</th>\n",
       "      <td>0.322</td>\n",
       "      <td>0.692</td>\n",
       "      <td>1.0</td>\n",
       "      <td>1.0</td>\n",
       "      <td>False</td>\n",
       "    </tr>\n",
       "    <tr>\n",
       "      <th>50</th>\n",
       "      <td>0.138</td>\n",
       "      <td>0.575</td>\n",
       "      <td>1.0</td>\n",
       "      <td>1.0</td>\n",
       "      <td>False</td>\n",
       "    </tr>\n",
       "    <tr>\n",
       "      <th>51</th>\n",
       "      <td>-0.006</td>\n",
       "      <td>0.400</td>\n",
       "      <td>1.0</td>\n",
       "      <td>1.0</td>\n",
       "      <td>False</td>\n",
       "    </tr>\n",
       "    <tr>\n",
       "      <th>52</th>\n",
       "      <td>-0.093</td>\n",
       "      <td>0.553</td>\n",
       "      <td>1.0</td>\n",
       "      <td>1.0</td>\n",
       "      <td>False</td>\n",
       "    </tr>\n",
       "    <tr>\n",
       "      <th>53</th>\n",
       "      <td>-0.208</td>\n",
       "      <td>0.356</td>\n",
       "      <td>1.0</td>\n",
       "      <td>1.0</td>\n",
       "      <td>False</td>\n",
       "    </tr>\n",
       "    <tr>\n",
       "      <th>54</th>\n",
       "      <td>-0.208</td>\n",
       "      <td>0.173</td>\n",
       "      <td>1.0</td>\n",
       "      <td>1.0</td>\n",
       "      <td>False</td>\n",
       "    </tr>\n",
       "    <tr>\n",
       "      <th>55</th>\n",
       "      <td>-0.438</td>\n",
       "      <td>0.217</td>\n",
       "      <td>1.0</td>\n",
       "      <td>1.0</td>\n",
       "      <td>False</td>\n",
       "    </tr>\n",
       "    <tr>\n",
       "      <th>56</th>\n",
       "      <td>-0.219</td>\n",
       "      <td>-0.017</td>\n",
       "      <td>1.0</td>\n",
       "      <td>1.0</td>\n",
       "      <td>False</td>\n",
       "    </tr>\n",
       "    <tr>\n",
       "      <th>57</th>\n",
       "      <td>-0.139</td>\n",
       "      <td>-0.273</td>\n",
       "      <td>1.0</td>\n",
       "      <td>1.0</td>\n",
       "      <td>False</td>\n",
       "    </tr>\n",
       "    <tr>\n",
       "      <th>58</th>\n",
       "      <td>0.184</td>\n",
       "      <td>0.933</td>\n",
       "      <td>0.0</td>\n",
       "      <td>0.0</td>\n",
       "      <td>False</td>\n",
       "    </tr>\n",
       "    <tr>\n",
       "      <th>59</th>\n",
       "      <td>0.224</td>\n",
       "      <td>0.780</td>\n",
       "      <td>0.0</td>\n",
       "      <td>0.0</td>\n",
       "      <td>False</td>\n",
       "    </tr>\n",
       "    <tr>\n",
       "      <th>60</th>\n",
       "      <td>0.299</td>\n",
       "      <td>0.619</td>\n",
       "      <td>0.0</td>\n",
       "      <td>1.0</td>\n",
       "      <td>True</td>\n",
       "    </tr>\n",
       "    <tr>\n",
       "      <th>61</th>\n",
       "      <td>0.506</td>\n",
       "      <td>0.758</td>\n",
       "      <td>0.0</td>\n",
       "      <td>0.0</td>\n",
       "      <td>False</td>\n",
       "    </tr>\n",
       "    <tr>\n",
       "      <th>62</th>\n",
       "      <td>0.616</td>\n",
       "      <td>0.729</td>\n",
       "      <td>0.0</td>\n",
       "      <td>0.0</td>\n",
       "      <td>False</td>\n",
       "    </tr>\n",
       "    <tr>\n",
       "      <th>63</th>\n",
       "      <td>0.604</td>\n",
       "      <td>0.597</td>\n",
       "      <td>0.0</td>\n",
       "      <td>0.0</td>\n",
       "      <td>False</td>\n",
       "    </tr>\n",
       "    <tr>\n",
       "      <th>64</th>\n",
       "      <td>0.766</td>\n",
       "      <td>0.502</td>\n",
       "      <td>0.0</td>\n",
       "      <td>0.0</td>\n",
       "      <td>False</td>\n",
       "    </tr>\n",
       "    <tr>\n",
       "      <th>65</th>\n",
       "      <td>0.927</td>\n",
       "      <td>0.363</td>\n",
       "      <td>0.0</td>\n",
       "      <td>0.0</td>\n",
       "      <td>False</td>\n",
       "    </tr>\n",
       "    <tr>\n",
       "      <th>66</th>\n",
       "      <td>0.823</td>\n",
       "      <td>0.276</td>\n",
       "      <td>0.0</td>\n",
       "      <td>0.0</td>\n",
       "      <td>False</td>\n",
       "    </tr>\n",
       "    <tr>\n",
       "      <th>67</th>\n",
       "      <td>0.961</td>\n",
       "      <td>0.086</td>\n",
       "      <td>0.0</td>\n",
       "      <td>0.0</td>\n",
       "      <td>False</td>\n",
       "    </tr>\n",
       "    <tr>\n",
       "      <th>68</th>\n",
       "      <td>0.938</td>\n",
       "      <td>0.012</td>\n",
       "      <td>0.0</td>\n",
       "      <td>0.0</td>\n",
       "      <td>False</td>\n",
       "    </tr>\n",
       "    <tr>\n",
       "      <th>69</th>\n",
       "      <td>0.863</td>\n",
       "      <td>-0.083</td>\n",
       "      <td>0.0</td>\n",
       "      <td>0.0</td>\n",
       "      <td>False</td>\n",
       "    </tr>\n",
       "    <tr>\n",
       "      <th>70</th>\n",
       "      <td>0.898</td>\n",
       "      <td>-0.207</td>\n",
       "      <td>0.0</td>\n",
       "      <td>0.0</td>\n",
       "      <td>False</td>\n",
       "    </tr>\n",
       "    <tr>\n",
       "      <th>71</th>\n",
       "      <td>0.852</td>\n",
       "      <td>-0.368</td>\n",
       "      <td>0.0</td>\n",
       "      <td>0.0</td>\n",
       "      <td>False</td>\n",
       "    </tr>\n",
       "    <tr>\n",
       "      <th>72</th>\n",
       "      <td>0.829</td>\n",
       "      <td>-0.521</td>\n",
       "      <td>0.0</td>\n",
       "      <td>0.0</td>\n",
       "      <td>False</td>\n",
       "    </tr>\n",
       "    <tr>\n",
       "      <th>73</th>\n",
       "      <td>0.794</td>\n",
       "      <td>-0.558</td>\n",
       "      <td>0.0</td>\n",
       "      <td>0.0</td>\n",
       "      <td>False</td>\n",
       "    </tr>\n",
       "    <tr>\n",
       "      <th>74</th>\n",
       "      <td>0.593</td>\n",
       "      <td>-0.741</td>\n",
       "      <td>0.0</td>\n",
       "      <td>0.0</td>\n",
       "      <td>False</td>\n",
       "    </tr>\n",
       "    <tr>\n",
       "      <th>75</th>\n",
       "      <td>0.518</td>\n",
       "      <td>-0.594</td>\n",
       "      <td>0.0</td>\n",
       "      <td>0.0</td>\n",
       "      <td>False</td>\n",
       "    </tr>\n",
       "    <tr>\n",
       "      <th>76</th>\n",
       "      <td>0.466</td>\n",
       "      <td>-0.419</td>\n",
       "      <td>0.0</td>\n",
       "      <td>1.0</td>\n",
       "      <td>True</td>\n",
       "    </tr>\n",
       "    <tr>\n",
       "      <th>77</th>\n",
       "      <td>0.351</td>\n",
       "      <td>-0.580</td>\n",
       "      <td>0.0</td>\n",
       "      <td>0.0</td>\n",
       "      <td>False</td>\n",
       "    </tr>\n",
       "    <tr>\n",
       "      <th>78</th>\n",
       "      <td>0.287</td>\n",
       "      <td>-0.770</td>\n",
       "      <td>0.0</td>\n",
       "      <td>0.0</td>\n",
       "      <td>False</td>\n",
       "    </tr>\n",
       "    <tr>\n",
       "      <th>79</th>\n",
       "      <td>0.086</td>\n",
       "      <td>-0.755</td>\n",
       "      <td>0.0</td>\n",
       "      <td>0.0</td>\n",
       "      <td>False</td>\n",
       "    </tr>\n",
       "    <tr>\n",
       "      <th>80</th>\n",
       "      <td>0.149</td>\n",
       "      <td>-0.580</td>\n",
       "      <td>0.0</td>\n",
       "      <td>0.0</td>\n",
       "      <td>False</td>\n",
       "    </tr>\n",
       "    <tr>\n",
       "      <th>81</th>\n",
       "      <td>-0.133</td>\n",
       "      <td>-0.448</td>\n",
       "      <td>0.0</td>\n",
       "      <td>1.0</td>\n",
       "      <td>True</td>\n",
       "    </tr>\n",
       "    <tr>\n",
       "      <th>82</th>\n",
       "      <td>-0.410</td>\n",
       "      <td>-0.412</td>\n",
       "      <td>0.0</td>\n",
       "      <td>0.0</td>\n",
       "      <td>False</td>\n",
       "    </tr>\n",
       "    <tr>\n",
       "      <th>83</th>\n",
       "      <td>-0.392</td>\n",
       "      <td>-0.258</td>\n",
       "      <td>0.0</td>\n",
       "      <td>0.0</td>\n",
       "      <td>False</td>\n",
       "    </tr>\n",
       "    <tr>\n",
       "      <th>84</th>\n",
       "      <td>-0.744</td>\n",
       "      <td>-0.258</td>\n",
       "      <td>0.0</td>\n",
       "      <td>0.0</td>\n",
       "      <td>False</td>\n",
       "    </tr>\n",
       "    <tr>\n",
       "      <th>85</th>\n",
       "      <td>-0.698</td>\n",
       "      <td>0.042</td>\n",
       "      <td>0.0</td>\n",
       "      <td>0.0</td>\n",
       "      <td>False</td>\n",
       "    </tr>\n",
       "    <tr>\n",
       "      <th>86</th>\n",
       "      <td>-0.755</td>\n",
       "      <td>0.290</td>\n",
       "      <td>0.0</td>\n",
       "      <td>0.0</td>\n",
       "      <td>False</td>\n",
       "    </tr>\n",
       "    <tr>\n",
       "      <th>87</th>\n",
       "      <td>-0.698</td>\n",
       "      <td>0.685</td>\n",
       "      <td>0.0</td>\n",
       "      <td>0.0</td>\n",
       "      <td>False</td>\n",
       "    </tr>\n",
       "    <tr>\n",
       "      <th>88</th>\n",
       "      <td>-0.404</td>\n",
       "      <td>0.707</td>\n",
       "      <td>0.0</td>\n",
       "      <td>0.0</td>\n",
       "      <td>False</td>\n",
       "    </tr>\n",
       "    <tr>\n",
       "      <th>89</th>\n",
       "      <td>-0.381</td>\n",
       "      <td>0.919</td>\n",
       "      <td>0.0</td>\n",
       "      <td>0.0</td>\n",
       "      <td>False</td>\n",
       "    </tr>\n",
       "    <tr>\n",
       "      <th>90</th>\n",
       "      <td>-0.507</td>\n",
       "      <td>0.904</td>\n",
       "      <td>0.0</td>\n",
       "      <td>0.0</td>\n",
       "      <td>False</td>\n",
       "    </tr>\n",
       "    <tr>\n",
       "      <th>91</th>\n",
       "      <td>-0.548</td>\n",
       "      <td>0.707</td>\n",
       "      <td>0.0</td>\n",
       "      <td>0.0</td>\n",
       "      <td>False</td>\n",
       "    </tr>\n",
       "    <tr>\n",
       "      <th>92</th>\n",
       "      <td>0.103</td>\n",
       "      <td>0.780</td>\n",
       "      <td>0.0</td>\n",
       "      <td>0.0</td>\n",
       "      <td>False</td>\n",
       "    </tr>\n",
       "    <tr>\n",
       "      <th>93</th>\n",
       "      <td>0.057</td>\n",
       "      <td>0.919</td>\n",
       "      <td>0.0</td>\n",
       "      <td>0.0</td>\n",
       "      <td>False</td>\n",
       "    </tr>\n",
       "    <tr>\n",
       "      <th>94</th>\n",
       "      <td>-0.104</td>\n",
       "      <td>0.992</td>\n",
       "      <td>0.0</td>\n",
       "      <td>0.0</td>\n",
       "      <td>False</td>\n",
       "    </tr>\n",
       "    <tr>\n",
       "      <th>95</th>\n",
       "      <td>-0.081</td>\n",
       "      <td>1.109</td>\n",
       "      <td>0.0</td>\n",
       "      <td>0.0</td>\n",
       "      <td>False</td>\n",
       "    </tr>\n",
       "    <tr>\n",
       "      <th>96</th>\n",
       "      <td>0.287</td>\n",
       "      <td>1.087</td>\n",
       "      <td>0.0</td>\n",
       "      <td>0.0</td>\n",
       "      <td>False</td>\n",
       "    </tr>\n",
       "    <tr>\n",
       "      <th>97</th>\n",
       "      <td>0.397</td>\n",
       "      <td>0.824</td>\n",
       "      <td>0.0</td>\n",
       "      <td>0.0</td>\n",
       "      <td>False</td>\n",
       "    </tr>\n",
       "    <tr>\n",
       "      <th>98</th>\n",
       "      <td>0.639</td>\n",
       "      <td>0.890</td>\n",
       "      <td>0.0</td>\n",
       "      <td>0.0</td>\n",
       "      <td>False</td>\n",
       "    </tr>\n",
       "    <tr>\n",
       "      <th>99</th>\n",
       "      <td>0.823</td>\n",
       "      <td>0.663</td>\n",
       "      <td>0.0</td>\n",
       "      <td>0.0</td>\n",
       "      <td>False</td>\n",
       "    </tr>\n",
       "    <tr>\n",
       "      <th>100</th>\n",
       "      <td>0.673</td>\n",
       "      <td>0.641</td>\n",
       "      <td>0.0</td>\n",
       "      <td>0.0</td>\n",
       "      <td>False</td>\n",
       "    </tr>\n",
       "    <tr>\n",
       "      <th>101</th>\n",
       "      <td>1.071</td>\n",
       "      <td>0.100</td>\n",
       "      <td>0.0</td>\n",
       "      <td>0.0</td>\n",
       "      <td>False</td>\n",
       "    </tr>\n",
       "    <tr>\n",
       "      <th>102</th>\n",
       "      <td>-0.047</td>\n",
       "      <td>-0.580</td>\n",
       "      <td>0.0</td>\n",
       "      <td>0.0</td>\n",
       "      <td>False</td>\n",
       "    </tr>\n",
       "    <tr>\n",
       "      <th>103</th>\n",
       "      <td>-0.237</td>\n",
       "      <td>-0.638</td>\n",
       "      <td>0.0</td>\n",
       "      <td>0.0</td>\n",
       "      <td>False</td>\n",
       "    </tr>\n",
       "    <tr>\n",
       "      <th>104</th>\n",
       "      <td>-0.150</td>\n",
       "      <td>-0.368</td>\n",
       "      <td>0.0</td>\n",
       "      <td>1.0</td>\n",
       "      <td>True</td>\n",
       "    </tr>\n",
       "    <tr>\n",
       "      <th>105</th>\n",
       "      <td>-0.490</td>\n",
       "      <td>-0.302</td>\n",
       "      <td>0.0</td>\n",
       "      <td>0.0</td>\n",
       "      <td>False</td>\n",
       "    </tr>\n",
       "    <tr>\n",
       "      <th>106</th>\n",
       "      <td>-0.467</td>\n",
       "      <td>-0.134</td>\n",
       "      <td>0.0</td>\n",
       "      <td>0.0</td>\n",
       "      <td>False</td>\n",
       "    </tr>\n",
       "    <tr>\n",
       "      <th>107</th>\n",
       "      <td>-0.289</td>\n",
       "      <td>-0.061</td>\n",
       "      <td>0.0</td>\n",
       "      <td>1.0</td>\n",
       "      <td>True</td>\n",
       "    </tr>\n",
       "    <tr>\n",
       "      <th>108</th>\n",
       "      <td>-0.611</td>\n",
       "      <td>-0.068</td>\n",
       "      <td>0.0</td>\n",
       "      <td>0.0</td>\n",
       "      <td>False</td>\n",
       "    </tr>\n",
       "    <tr>\n",
       "      <th>109</th>\n",
       "      <td>-0.663</td>\n",
       "      <td>-0.214</td>\n",
       "      <td>0.0</td>\n",
       "      <td>0.0</td>\n",
       "      <td>False</td>\n",
       "    </tr>\n",
       "    <tr>\n",
       "      <th>110</th>\n",
       "      <td>-0.600</td>\n",
       "      <td>-0.419</td>\n",
       "      <td>0.0</td>\n",
       "      <td>0.0</td>\n",
       "      <td>False</td>\n",
       "    </tr>\n",
       "    <tr>\n",
       "      <th>111</th>\n",
       "      <td>-0.726</td>\n",
       "      <td>-0.083</td>\n",
       "      <td>0.0</td>\n",
       "      <td>0.0</td>\n",
       "      <td>False</td>\n",
       "    </tr>\n",
       "    <tr>\n",
       "      <th>112</th>\n",
       "      <td>-0.830</td>\n",
       "      <td>0.312</td>\n",
       "      <td>0.0</td>\n",
       "      <td>0.0</td>\n",
       "      <td>False</td>\n",
       "    </tr>\n",
       "    <tr>\n",
       "      <th>113</th>\n",
       "      <td>-0.721</td>\n",
       "      <td>0.539</td>\n",
       "      <td>0.0</td>\n",
       "      <td>0.0</td>\n",
       "      <td>False</td>\n",
       "    </tr>\n",
       "    <tr>\n",
       "      <th>114</th>\n",
       "      <td>-0.594</td>\n",
       "      <td>0.495</td>\n",
       "      <td>0.0</td>\n",
       "      <td>1.0</td>\n",
       "      <td>True</td>\n",
       "    </tr>\n",
       "    <tr>\n",
       "      <th>115</th>\n",
       "      <td>-0.484</td>\n",
       "      <td>0.999</td>\n",
       "      <td>0.0</td>\n",
       "      <td>0.0</td>\n",
       "      <td>False</td>\n",
       "    </tr>\n",
       "    <tr>\n",
       "      <th>116</th>\n",
       "      <td>-0.006</td>\n",
       "      <td>0.999</td>\n",
       "      <td>0.0</td>\n",
       "      <td>0.0</td>\n",
       "      <td>False</td>\n",
       "    </tr>\n",
       "    <tr>\n",
       "      <th>117</th>\n",
       "      <td>0.633</td>\n",
       "      <td>-0.031</td>\n",
       "      <td>0.0</td>\n",
       "      <td>1.0</td>\n",
       "      <td>True</td>\n",
       "    </tr>\n",
       "  </tbody>\n",
       "</table>\n",
       "</div>"
      ],
      "text/plain": [
       "         x      y  label  prediction  misprediction\n",
       "0    0.051  0.700    1.0         1.0          False\n",
       "1   -0.093  0.685    1.0         1.0          False\n",
       "2   -0.214  0.692    1.0         1.0          False\n",
       "3   -0.375  0.502    1.0         1.0          False\n",
       "4   -0.513  0.466    1.0         1.0          False\n",
       "5   -0.525  0.210    1.0         1.0          False\n",
       "6   -0.398  0.034    1.0         1.0          False\n",
       "7   -0.306 -0.192    1.0         1.0          False\n",
       "8    0.017 -0.404    1.0         1.0          False\n",
       "9    0.132 -0.514    1.0         1.0          False\n",
       "10   0.385 -0.565    1.0         1.0          False\n",
       "11   0.529 -0.521    1.0         1.0          False\n",
       "12   0.639 -0.243    1.0         1.0          False\n",
       "13   0.737 -0.185    1.0         1.0          False\n",
       "14   0.547  0.488    1.0         1.0          False\n",
       "15   0.322  0.583    1.0         1.0          False\n",
       "16   0.166  0.539    1.0         1.0          False\n",
       "17  -0.047  0.817    1.0         1.0          False\n",
       "18  -0.173  0.700    1.0         1.0          False\n",
       "19  -0.479  0.634    1.0         1.0          False\n",
       "20  -0.605  0.597    1.0         1.0          False\n",
       "21  -0.628  0.334    1.0         1.0          False\n",
       "22  -0.594  0.005    1.0         1.0          False\n",
       "23  -0.421 -0.273    1.0         0.0           True\n",
       "24  -0.116 -0.397    1.0         1.0          False\n",
       "25   0.201 -0.602    1.0         0.0           True\n",
       "26   0.466 -0.536    1.0         1.0          False\n",
       "27   0.673 -0.536    1.0         1.0          False\n",
       "28  -0.139  0.546    1.0         1.0          False\n",
       "29  -0.294  0.780    1.0         1.0          False\n",
       "30  -0.266  0.963    1.0         0.0           True\n",
       "31  -0.162  0.802    1.0         1.0          False\n",
       "32  -0.173  0.648    1.0         1.0          False\n",
       "33  -0.283  0.473    1.0         1.0          False\n",
       "34  -0.363  0.312    1.0         1.0          False\n",
       "35  -0.300  0.027    1.0         1.0          False\n",
       "36  -0.237 -0.214    1.0         1.0          False\n",
       "37  -0.064 -0.185    1.0         1.0          False\n",
       "38   0.063 -0.163    1.0         1.0          False\n",
       "39   0.230 -0.412    1.0         1.0          False\n",
       "40   0.293 -0.229    1.0         1.0          False\n",
       "41   0.483 -0.185    1.0         1.0          False\n",
       "42   0.645 -0.141    1.0         1.0          False\n",
       "43   0.460  0.012    1.0         1.0          False\n",
       "44   0.627  0.159    1.0         1.0          False\n",
       "45   0.575  0.268    1.0         1.0          False\n",
       "46   0.725  0.444    1.0         1.0          False\n",
       "47   0.224  0.524    1.0         1.0          False\n",
       "48   0.443  0.670    1.0         1.0          False\n",
       "49   0.322  0.692    1.0         1.0          False\n",
       "50   0.138  0.575    1.0         1.0          False\n",
       "51  -0.006  0.400    1.0         1.0          False\n",
       "52  -0.093  0.553    1.0         1.0          False\n",
       "53  -0.208  0.356    1.0         1.0          False\n",
       "54  -0.208  0.173    1.0         1.0          False\n",
       "55  -0.438  0.217    1.0         1.0          False\n",
       "56  -0.219 -0.017    1.0         1.0          False\n",
       "57  -0.139 -0.273    1.0         1.0          False\n",
       "58   0.184  0.933    0.0         0.0          False\n",
       "59   0.224  0.780    0.0         0.0          False\n",
       "60   0.299  0.619    0.0         1.0           True\n",
       "61   0.506  0.758    0.0         0.0          False\n",
       "62   0.616  0.729    0.0         0.0          False\n",
       "63   0.604  0.597    0.0         0.0          False\n",
       "64   0.766  0.502    0.0         0.0          False\n",
       "65   0.927  0.363    0.0         0.0          False\n",
       "66   0.823  0.276    0.0         0.0          False\n",
       "67   0.961  0.086    0.0         0.0          False\n",
       "68   0.938  0.012    0.0         0.0          False\n",
       "69   0.863 -0.083    0.0         0.0          False\n",
       "70   0.898 -0.207    0.0         0.0          False\n",
       "71   0.852 -0.368    0.0         0.0          False\n",
       "72   0.829 -0.521    0.0         0.0          False\n",
       "73   0.794 -0.558    0.0         0.0          False\n",
       "74   0.593 -0.741    0.0         0.0          False\n",
       "75   0.518 -0.594    0.0         0.0          False\n",
       "76   0.466 -0.419    0.0         1.0           True\n",
       "77   0.351 -0.580    0.0         0.0          False\n",
       "78   0.287 -0.770    0.0         0.0          False\n",
       "79   0.086 -0.755    0.0         0.0          False\n",
       "80   0.149 -0.580    0.0         0.0          False\n",
       "81  -0.133 -0.448    0.0         1.0           True\n",
       "82  -0.410 -0.412    0.0         0.0          False\n",
       "83  -0.392 -0.258    0.0         0.0          False\n",
       "84  -0.744 -0.258    0.0         0.0          False\n",
       "85  -0.698  0.042    0.0         0.0          False\n",
       "86  -0.755  0.290    0.0         0.0          False\n",
       "87  -0.698  0.685    0.0         0.0          False\n",
       "88  -0.404  0.707    0.0         0.0          False\n",
       "89  -0.381  0.919    0.0         0.0          False\n",
       "90  -0.507  0.904    0.0         0.0          False\n",
       "91  -0.548  0.707    0.0         0.0          False\n",
       "92   0.103  0.780    0.0         0.0          False\n",
       "93   0.057  0.919    0.0         0.0          False\n",
       "94  -0.104  0.992    0.0         0.0          False\n",
       "95  -0.081  1.109    0.0         0.0          False\n",
       "96   0.287  1.087    0.0         0.0          False\n",
       "97   0.397  0.824    0.0         0.0          False\n",
       "98   0.639  0.890    0.0         0.0          False\n",
       "99   0.823  0.663    0.0         0.0          False\n",
       "100  0.673  0.641    0.0         0.0          False\n",
       "101  1.071  0.100    0.0         0.0          False\n",
       "102 -0.047 -0.580    0.0         0.0          False\n",
       "103 -0.237 -0.638    0.0         0.0          False\n",
       "104 -0.150 -0.368    0.0         1.0           True\n",
       "105 -0.490 -0.302    0.0         0.0          False\n",
       "106 -0.467 -0.134    0.0         0.0          False\n",
       "107 -0.289 -0.061    0.0         1.0           True\n",
       "108 -0.611 -0.068    0.0         0.0          False\n",
       "109 -0.663 -0.214    0.0         0.0          False\n",
       "110 -0.600 -0.419    0.0         0.0          False\n",
       "111 -0.726 -0.083    0.0         0.0          False\n",
       "112 -0.830  0.312    0.0         0.0          False\n",
       "113 -0.721  0.539    0.0         0.0          False\n",
       "114 -0.594  0.495    0.0         1.0           True\n",
       "115 -0.484  0.999    0.0         0.0          False\n",
       "116 -0.006  0.999    0.0         0.0          False\n",
       "117  0.633 -0.031    0.0         1.0           True"
      ]
     },
     "execution_count": 77,
     "metadata": {
      "tags": []
     },
     "output_type": "execute_result"
    }
   ],
   "source": [
    "df_pred"
   ]
  },
  {
   "cell_type": "code",
   "execution_count": null,
   "metadata": {
    "id": "3iuKOD67Y0nD",
    "scrolled": true
   },
   "outputs": [],
   "source": [
    "prediction==Y"
   ]
  },
  {
   "cell_type": "code",
   "execution_count": null,
   "metadata": {
    "id": "780OXfeNY0nD"
   },
   "outputs": [],
   "source": [
    "5+4"
   ]
  }
 ],
 "metadata": {
  "colab": {
   "collapsed_sections": [],
   "name": "pandas_basic_iris.ipynb",
   "provenance": []
  },
  "kernelspec": {
   "display_name": "Python 3",
   "language": "python",
   "name": "python3"
  },
  "language_info": {
   "codemirror_mode": {
    "name": "ipython",
    "version": 3
   },
   "file_extension": ".py",
   "mimetype": "text/x-python",
   "name": "python",
   "nbconvert_exporter": "python",
   "pygments_lexer": "ipython3",
   "version": "3.6.10"
  }
 },
 "nbformat": 4,
 "nbformat_minor": 1
}
