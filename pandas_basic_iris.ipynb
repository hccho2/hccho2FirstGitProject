{
 "cells": [
  {
   "cell_type": "code",
   "execution_count": 1,
   "metadata": {},
   "outputs": [],
   "source": [
    "import pandas as pd\n",
    "import numpy as np\n",
    "import matplotlib.pyplot as plt\n",
    "import seaborn as sns"
   ]
  },
  {
   "cell_type": "markdown",
   "metadata": {},
   "source": [
    "# IRIS example"
   ]
  },
  {
   "cell_type": "markdown",
   "metadata": {},
   "source": [
    "iris_training.csv\n",
    "\n",
    "120,4,setosa,versicolor,virginica\n",
    "6.4,2.8,5.6,2.2,2\n",
    "5.0,2.3,3.3,1.0,1\n",
    "4.9,2.5,4.5,1.7,2\n",
    "4.9,3.1,1.5,0.1,0\n",
    "5.7,3.8,1.7,0.3,0"
   ]
  },
  {
   "cell_type": "code",
   "execution_count": 4,
   "metadata": {},
   "outputs": [
    {
     "name": "stdout",
     "output_type": "stream",
     "text": [
      "(150, 5)\n"
     ]
    },
    {
     "data": {
      "text/html": [
       "<div>\n",
       "<style scoped>\n",
       "    .dataframe tbody tr th:only-of-type {\n",
       "        vertical-align: middle;\n",
       "    }\n",
       "\n",
       "    .dataframe tbody tr th {\n",
       "        vertical-align: top;\n",
       "    }\n",
       "\n",
       "    .dataframe thead th {\n",
       "        text-align: right;\n",
       "    }\n",
       "</style>\n",
       "<table border=\"1\" class=\"dataframe\">\n",
       "  <thead>\n",
       "    <tr style=\"text-align: right;\">\n",
       "      <th></th>\n",
       "      <th>feaure1</th>\n",
       "      <th>feaure2</th>\n",
       "      <th>feaure3</th>\n",
       "      <th>features4</th>\n",
       "      <th>label</th>\n",
       "    </tr>\n",
       "  </thead>\n",
       "  <tbody>\n",
       "    <tr>\n",
       "      <th>0</th>\n",
       "      <td>5.1</td>\n",
       "      <td>3.5</td>\n",
       "      <td>1.4</td>\n",
       "      <td>0.2</td>\n",
       "      <td>0</td>\n",
       "    </tr>\n",
       "    <tr>\n",
       "      <th>1</th>\n",
       "      <td>4.9</td>\n",
       "      <td>3.0</td>\n",
       "      <td>1.4</td>\n",
       "      <td>0.2</td>\n",
       "      <td>0</td>\n",
       "    </tr>\n",
       "    <tr>\n",
       "      <th>2</th>\n",
       "      <td>4.7</td>\n",
       "      <td>3.2</td>\n",
       "      <td>1.3</td>\n",
       "      <td>0.2</td>\n",
       "      <td>0</td>\n",
       "    </tr>\n",
       "    <tr>\n",
       "      <th>3</th>\n",
       "      <td>4.6</td>\n",
       "      <td>3.1</td>\n",
       "      <td>1.5</td>\n",
       "      <td>0.2</td>\n",
       "      <td>0</td>\n",
       "    </tr>\n",
       "    <tr>\n",
       "      <th>4</th>\n",
       "      <td>5.0</td>\n",
       "      <td>3.6</td>\n",
       "      <td>1.4</td>\n",
       "      <td>0.2</td>\n",
       "      <td>0</td>\n",
       "    </tr>\n",
       "  </tbody>\n",
       "</table>\n",
       "</div>"
      ],
      "text/plain": [
       "   feaure1  feaure2  feaure3  features4  label\n",
       "0      5.1      3.5      1.4        0.2      0\n",
       "1      4.9      3.0      1.4        0.2      0\n",
       "2      4.7      3.2      1.3        0.2      0\n",
       "3      4.6      3.1      1.5        0.2      0\n",
       "4      5.0      3.6      1.4        0.2      0"
      ]
     },
     "execution_count": 4,
     "metadata": {},
     "output_type": "execute_result"
    }
   ],
   "source": [
    "csv_filenamme = r\"D:\\hccho\\CommonDataset\\iris\\iris.csv\"\n",
    "data = pd.read_csv(csv_filenamme,header=None,skiprows=1,names=['feaure1','feaure2','feaure3','features4','label'])\n",
    "print(data.shape)\n",
    "data.head(5)"
   ]
  },
  {
   "cell_type": "code",
   "execution_count": 20,
   "metadata": {},
   "outputs": [
    {
     "name": "stdout",
     "output_type": "stream",
     "text": [
      "   feaure1  feaure2  feaure3  features4  label\n",
      "0      5.1      3.5      1.4        0.2      0\n",
      "1      4.9      3.0      1.4        0.2      0\n",
      "2      4.7      3.2      1.3        0.2      0\n",
      "3      4.6      3.1      1.5        0.2      0\n",
      "4      5.0      3.6      1.4        0.2      0\n",
      "cols:  Index(['feaure1', 'feaure2', 'feaure3', 'features4'], dtype='object')\n",
      "[[-0.90068117  1.01900435 -1.34022653 -1.3154443 ]\n",
      " [-1.14301691 -0.13197948 -1.34022653 -1.3154443 ]\n",
      " [-1.38535265  0.32841405 -1.39706395 -1.3154443 ]\n",
      " [-1.50652052  0.09821729 -1.2833891  -1.3154443 ]\n",
      " [-1.02184904  1.24920112 -1.34022653 -1.3154443 ]\n",
      " [-0.53717756  1.93979142 -1.16971425 -1.05217993]\n",
      " [-1.50652052  0.78880759 -1.34022653 -1.18381211]\n",
      " [-1.02184904  0.78880759 -1.2833891  -1.3154443 ]\n",
      " [-1.74885626 -0.36217625 -1.34022653 -1.3154443 ]\n",
      " [-1.14301691  0.09821729 -1.2833891  -1.44707648]]\n"
     ]
    }
   ],
   "source": [
    "from mpl_toolkits.mplot3d import Axes3D\n",
    "from sklearn.decomposition import PCA\n",
    "from sklearn import preprocessing\n",
    "labels=['setosa','versicolor','virginica']\n",
    "csv_filenamme = r\"D:\\hccho\\CommonDataset\\iris\\iris.csv\"\n",
    "data = pd.read_csv(csv_filenamme,header=None,skiprows=1,names=['feaure1','feaure2','feaure3','features4','label'])\n",
    "\n",
    "print(data.head(5))\n",
    "\n",
    "y = data['label'] # genre variable.\n",
    "X = data.loc[:, data.columns != 'label'] #select all columns but not the labels ---> pandas\n",
    "\n",
    "\n",
    "#### NORMALIZE X ####\n",
    "cols = X.columns\n",
    "print(\"cols: \", cols)\n",
    "\n",
    "stdand_scaler = preprocessing.StandardScaler()\n",
    "X = stdand_scaler.fit_transform(X)  # ---> numpy array\n",
    "print(X[:10])"
   ]
  },
  {
   "cell_type": "code",
   "execution_count": 21,
   "metadata": {},
   "outputs": [
    {
     "name": "stdout",
     "output_type": "stream",
     "text": [
      "[0.72962445 0.22850762 0.03668922] 0.9948212908928451\n"
     ]
    },
    {
     "data": {
      "text/plain": [
       "Text(0.5, 0, 'Principal Component 3')"
      ]
     },
     "execution_count": 21,
     "metadata": {},
     "output_type": "execute_result"
    },
    {
     "data": {
      "image/png": "[encoded data removed]",
      "text/plain": [
       "<Figure size 576x288 with 1 Axes>"
      ]
     },
     "metadata": {
      "needs_background": "light"
     },
     "output_type": "display_data"
    }
   ],
   "source": [
    "#### PCA 3 COMPONENTS ####\n",
    "pca = PCA(n_components=3)\n",
    "principalComponents = pca.fit_transform(X)\n",
    "principalDf = pd.DataFrame(data = principalComponents, columns = ['principal component 1', 'principal component 2','principal component 3'])\n",
    "\n",
    "\n",
    "# concatenate with target label\n",
    "finalDf = pd.concat([principalDf, y], axis = 1)\n",
    "\n",
    "print(pca.explained_variance_ratio_, np.sum(pca.explained_variance_ratio_))\n",
    "\n",
    "fig = plt.figure(figsize = (8, 4))\n",
    "ax = Axes3D(fig)\n",
    "\n",
    "\n",
    "for grp_name, grp_idx in finalDf.groupby('label').groups.items():\n",
    "    y = finalDf.iloc[grp_idx,1]\n",
    "    x = finalDf.iloc[grp_idx,0]\n",
    "    z = finalDf.iloc[grp_idx,2]\n",
    "    ax.scatter(x,y,z, label=labels[grp_name])  # this way you can control color/marker/size of each group freely\n",
    "ax.legend()\n",
    "plt.title('PCA on IRIS', fontsize = 10)\n",
    "plt.xticks(fontsize = 7)\n",
    "plt.yticks(fontsize = 5);\n",
    "ax.set_xlabel(\"Principal Component 1\", fontsize = 7)\n",
    "ax.set_ylabel(\"Principal Component 2\", fontsize = 7)\n",
    "ax.set_zlabel(\"Principal Component 3\", fontsize = 7)"
   ]
  },
  {
   "cell_type": "markdown",
   "metadata": {},
   "source": [
    "# simaple example"
   ]
  },
  {
   "cell_type": "code",
   "execution_count": null,
   "metadata": {},
   "outputs": [],
   "source": [
    "x1=np.array([ 1.41751313,  0.33904833,  0.29257167,  0.6478606 ,  0.90691377, 0.46082986,  0.10696884, -0.22016277, -0.01387787, -0.58088736])\n",
    "x2=np.array([ 0.13784849, -0.05672081,  1.53048402,  0.6639671 ,  0.06636203,-1.09596719,  0.98829064, -0.68083318, -0.1207237 , -0.26187014])\n",
    "x3 =['A','B','A','C','C','A','A','B','C','B']\n",
    "data=pd.DataFrame(data=list(zip(x1,x2,x3)),columns=['age','weight','label'])"
   ]
  },
  {
   "cell_type": "code",
   "execution_count": 4,
   "metadata": {},
   "outputs": [],
   "source": [
    "data.to_csv('xxx.csv',index=False)   # pd.read_csv"
   ]
  },
  {
   "cell_type": "code",
   "execution_count": 5,
   "metadata": {},
   "outputs": [
    {
     "data": {
      "text/html": [
       "<div>\n",
       "<style scoped>\n",
       "    .dataframe tbody tr th:only-of-type {\n",
       "        vertical-align: middle;\n",
       "    }\n",
       "\n",
       "    .dataframe tbody tr th {\n",
       "        vertical-align: top;\n",
       "    }\n",
       "\n",
       "    .dataframe thead th {\n",
       "        text-align: right;\n",
       "    }\n",
       "</style>\n",
       "<table border=\"1\" class=\"dataframe\">\n",
       "  <thead>\n",
       "    <tr style=\"text-align: right;\">\n",
       "      <th></th>\n",
       "      <th>age</th>\n",
       "      <th>weight</th>\n",
       "      <th>label</th>\n",
       "    </tr>\n",
       "  </thead>\n",
       "  <tbody>\n",
       "    <tr>\n",
       "      <th>0</th>\n",
       "      <td>1.417513</td>\n",
       "      <td>0.137848</td>\n",
       "      <td>A</td>\n",
       "    </tr>\n",
       "    <tr>\n",
       "      <th>2</th>\n",
       "      <td>0.292572</td>\n",
       "      <td>1.530484</td>\n",
       "      <td>A</td>\n",
       "    </tr>\n",
       "    <tr>\n",
       "      <th>5</th>\n",
       "      <td>0.460830</td>\n",
       "      <td>-1.095967</td>\n",
       "      <td>A</td>\n",
       "    </tr>\n",
       "    <tr>\n",
       "      <th>6</th>\n",
       "      <td>0.106969</td>\n",
       "      <td>0.988291</td>\n",
       "      <td>A</td>\n",
       "    </tr>\n",
       "  </tbody>\n",
       "</table>\n",
       "</div>"
      ],
      "text/plain": [
       "        age    weight label\n",
       "0  1.417513  0.137848     A\n",
       "2  0.292572  1.530484     A\n",
       "5  0.460830 -1.095967     A\n",
       "6  0.106969  0.988291     A"
      ]
     },
     "execution_count": 5,
     "metadata": {},
     "output_type": "execute_result"
    }
   ],
   "source": [
    "data.loc[data['label']=='A']"
   ]
  },
  {
   "cell_type": "code",
   "execution_count": 6,
   "metadata": {},
   "outputs": [
    {
     "data": {
      "text/html": [
       "<div>\n",
       "<style scoped>\n",
       "    .dataframe tbody tr th:only-of-type {\n",
       "        vertical-align: middle;\n",
       "    }\n",
       "\n",
       "    .dataframe tbody tr th {\n",
       "        vertical-align: top;\n",
       "    }\n",
       "\n",
       "    .dataframe thead th {\n",
       "        text-align: right;\n",
       "    }\n",
       "</style>\n",
       "<table border=\"1\" class=\"dataframe\">\n",
       "  <thead>\n",
       "    <tr style=\"text-align: right;\">\n",
       "      <th></th>\n",
       "      <th>age</th>\n",
       "      <th>weight</th>\n",
       "    </tr>\n",
       "    <tr>\n",
       "      <th>label</th>\n",
       "      <th></th>\n",
       "      <th></th>\n",
       "    </tr>\n",
       "  </thead>\n",
       "  <tbody>\n",
       "    <tr>\n",
       "      <th>A</th>\n",
       "      <td>0.569471</td>\n",
       "      <td>0.390164</td>\n",
       "    </tr>\n",
       "    <tr>\n",
       "      <th>B</th>\n",
       "      <td>-0.154001</td>\n",
       "      <td>-0.333141</td>\n",
       "    </tr>\n",
       "    <tr>\n",
       "      <th>C</th>\n",
       "      <td>0.513632</td>\n",
       "      <td>0.203202</td>\n",
       "    </tr>\n",
       "  </tbody>\n",
       "</table>\n",
       "</div>"
      ],
      "text/plain": [
       "            age    weight\n",
       "label                    \n",
       "A      0.569471  0.390164\n",
       "B     -0.154001 -0.333141\n",
       "C      0.513632  0.203202"
      ]
     },
     "execution_count": 6,
     "metadata": {},
     "output_type": "execute_result"
    }
   ],
   "source": [
    "data.groupby('label').mean()"
   ]
  },
  {
   "cell_type": "code",
   "execution_count": 7,
   "metadata": {},
   "outputs": [
    {
     "data": {
      "image/png": "[encoded data removed]",
      "text/plain": [
       "<Figure size 720x432 with 1 Axes>"
      ]
     },
     "metadata": {
      "needs_background": "light"
     },
     "output_type": "display_data"
    }
   ],
   "source": [
    "plt.figure(figsize = (10, 6))\n",
    "sns.scatterplot(x = \"age\", y = \"weight\", data = data, hue = \"label\", alpha = 0.7, s = 50); # s=size\n",
    "\n",
    "plt.title('PCA on data', fontsize = 25)\n",
    "plt.xticks(fontsize = 14)\n",
    "plt.yticks(fontsize = 10);\n",
    "plt.xlabel(\"age\", fontsize = 15)\n",
    "plt.ylabel(\"weight\", fontsize = 15)\n",
    "plt.show()"
   ]
  },
  {
   "cell_type": "code",
   "execution_count": 8,
   "metadata": {},
   "outputs": [
    {
     "data": {
      "text/plain": [
       "array([[1.41751313, 0.13784849, 'A'],\n",
       "       [0.33904833, -0.05672081, 'B'],\n",
       "       [0.29257167, 1.53048402, 'A'],\n",
       "       [0.6478606, 0.6639671, 'C'],\n",
       "       [0.90691377, 0.06636203, 'C'],\n",
       "       [0.46082986, -1.09596719, 'A'],\n",
       "       [0.10696884, 0.98829064, 'A'],\n",
       "       [-0.22016277, -0.68083318, 'B'],\n",
       "       [-0.01387787, -0.1207237, 'C'],\n",
       "       [-0.58088736, -0.26187014, 'B']], dtype=object)"
      ]
     },
     "execution_count": 8,
     "metadata": {},
     "output_type": "execute_result"
    }
   ],
   "source": [
    "data.values"
   ]
  },
  {
   "cell_type": "code",
   "execution_count": 9,
   "metadata": {},
   "outputs": [
    {
     "data": {
      "text/plain": [
       "array([ 1.41751313,  0.33904833,  0.29257167,  0.6478606 ,  0.90691377,\n",
       "        0.46082986,  0.10696884, -0.22016277, -0.01387787, -0.58088736])"
      ]
     },
     "execution_count": 9,
     "metadata": {},
     "output_type": "execute_result"
    }
   ],
   "source": [
    "data['age'].values"
   ]
  },
  {
   "cell_type": "code",
   "execution_count": 10,
   "metadata": {},
   "outputs": [
    {
     "data": {
      "text/html": [
       "<div>\n",
       "<style scoped>\n",
       "    .dataframe tbody tr th:only-of-type {\n",
       "        vertical-align: middle;\n",
       "    }\n",
       "\n",
       "    .dataframe tbody tr th {\n",
       "        vertical-align: top;\n",
       "    }\n",
       "\n",
       "    .dataframe thead th {\n",
       "        text-align: right;\n",
       "    }\n",
       "</style>\n",
       "<table border=\"1\" class=\"dataframe\">\n",
       "  <thead>\n",
       "    <tr style=\"text-align: right;\">\n",
       "      <th></th>\n",
       "      <th>age</th>\n",
       "      <th>weight</th>\n",
       "      <th>label</th>\n",
       "    </tr>\n",
       "  </thead>\n",
       "  <tbody>\n",
       "    <tr>\n",
       "      <th>0</th>\n",
       "      <td>1.417513</td>\n",
       "      <td>0.137848</td>\n",
       "      <td>A</td>\n",
       "    </tr>\n",
       "    <tr>\n",
       "      <th>2</th>\n",
       "      <td>0.292572</td>\n",
       "      <td>1.530484</td>\n",
       "      <td>A</td>\n",
       "    </tr>\n",
       "    <tr>\n",
       "      <th>5</th>\n",
       "      <td>0.460830</td>\n",
       "      <td>-1.095967</td>\n",
       "      <td>A</td>\n",
       "    </tr>\n",
       "    <tr>\n",
       "      <th>6</th>\n",
       "      <td>0.106969</td>\n",
       "      <td>0.988291</td>\n",
       "      <td>A</td>\n",
       "    </tr>\n",
       "    <tr>\n",
       "      <th>1</th>\n",
       "      <td>0.339048</td>\n",
       "      <td>-0.056721</td>\n",
       "      <td>B</td>\n",
       "    </tr>\n",
       "    <tr>\n",
       "      <th>7</th>\n",
       "      <td>-0.220163</td>\n",
       "      <td>-0.680833</td>\n",
       "      <td>B</td>\n",
       "    </tr>\n",
       "    <tr>\n",
       "      <th>9</th>\n",
       "      <td>-0.580887</td>\n",
       "      <td>-0.261870</td>\n",
       "      <td>B</td>\n",
       "    </tr>\n",
       "    <tr>\n",
       "      <th>3</th>\n",
       "      <td>0.647861</td>\n",
       "      <td>0.663967</td>\n",
       "      <td>C</td>\n",
       "    </tr>\n",
       "    <tr>\n",
       "      <th>4</th>\n",
       "      <td>0.906914</td>\n",
       "      <td>0.066362</td>\n",
       "      <td>C</td>\n",
       "    </tr>\n",
       "    <tr>\n",
       "      <th>8</th>\n",
       "      <td>-0.013878</td>\n",
       "      <td>-0.120724</td>\n",
       "      <td>C</td>\n",
       "    </tr>\n",
       "  </tbody>\n",
       "</table>\n",
       "</div>"
      ],
      "text/plain": [
       "        age    weight label\n",
       "0  1.417513  0.137848     A\n",
       "2  0.292572  1.530484     A\n",
       "5  0.460830 -1.095967     A\n",
       "6  0.106969  0.988291     A\n",
       "1  0.339048 -0.056721     B\n",
       "7 -0.220163 -0.680833     B\n",
       "9 -0.580887 -0.261870     B\n",
       "3  0.647861  0.663967     C\n",
       "4  0.906914  0.066362     C\n",
       "8 -0.013878 -0.120724     C"
      ]
     },
     "execution_count": 10,
     "metadata": {},
     "output_type": "execute_result"
    }
   ],
   "source": [
    "data.sort_values(['label'],ascending=[True]) # data가 바뀌지는 않는다.  inplace=True 해야 바뀐다."
   ]
  },
  {
   "cell_type": "code",
   "execution_count": 11,
   "metadata": {},
   "outputs": [],
   "source": [
    "pd.set_option('display.max_columns', None)\n",
    "pd.set_option('display.max_rows', None)\n",
    "pd.set_option('precision', 3)"
   ]
  },
  {
   "cell_type": "code",
   "execution_count": 12,
   "metadata": {},
   "outputs": [
    {
     "data": {
      "text/html": [
       "<div>\n",
       "<style scoped>\n",
       "    .dataframe tbody tr th:only-of-type {\n",
       "        vertical-align: middle;\n",
       "    }\n",
       "\n",
       "    .dataframe tbody tr th {\n",
       "        vertical-align: top;\n",
       "    }\n",
       "\n",
       "    .dataframe thead th {\n",
       "        text-align: right;\n",
       "    }\n",
       "</style>\n",
       "<table border=\"1\" class=\"dataframe\">\n",
       "  <thead>\n",
       "    <tr style=\"text-align: right;\">\n",
       "      <th></th>\n",
       "      <th>age</th>\n",
       "      <th>weight</th>\n",
       "      <th>label</th>\n",
       "    </tr>\n",
       "  </thead>\n",
       "  <tbody>\n",
       "    <tr>\n",
       "      <th>0</th>\n",
       "      <td>1.418</td>\n",
       "      <td>0.138</td>\n",
       "      <td>A</td>\n",
       "    </tr>\n",
       "    <tr>\n",
       "      <th>1</th>\n",
       "      <td>0.339</td>\n",
       "      <td>-0.057</td>\n",
       "      <td>B</td>\n",
       "    </tr>\n",
       "    <tr>\n",
       "      <th>2</th>\n",
       "      <td>0.293</td>\n",
       "      <td>1.530</td>\n",
       "      <td>A</td>\n",
       "    </tr>\n",
       "    <tr>\n",
       "      <th>3</th>\n",
       "      <td>0.648</td>\n",
       "      <td>0.664</td>\n",
       "      <td>C</td>\n",
       "    </tr>\n",
       "    <tr>\n",
       "      <th>4</th>\n",
       "      <td>0.907</td>\n",
       "      <td>0.066</td>\n",
       "      <td>C</td>\n",
       "    </tr>\n",
       "    <tr>\n",
       "      <th>5</th>\n",
       "      <td>0.461</td>\n",
       "      <td>-1.096</td>\n",
       "      <td>A</td>\n",
       "    </tr>\n",
       "    <tr>\n",
       "      <th>6</th>\n",
       "      <td>0.107</td>\n",
       "      <td>0.988</td>\n",
       "      <td>A</td>\n",
       "    </tr>\n",
       "    <tr>\n",
       "      <th>7</th>\n",
       "      <td>-0.220</td>\n",
       "      <td>-0.681</td>\n",
       "      <td>B</td>\n",
       "    </tr>\n",
       "    <tr>\n",
       "      <th>8</th>\n",
       "      <td>-0.014</td>\n",
       "      <td>-0.121</td>\n",
       "      <td>C</td>\n",
       "    </tr>\n",
       "    <tr>\n",
       "      <th>9</th>\n",
       "      <td>-0.581</td>\n",
       "      <td>-0.262</td>\n",
       "      <td>B</td>\n",
       "    </tr>\n",
       "  </tbody>\n",
       "</table>\n",
       "</div>"
      ],
      "text/plain": [
       "     age  weight label\n",
       "0  1.418   0.138     A\n",
       "1  0.339  -0.057     B\n",
       "2  0.293   1.530     A\n",
       "3  0.648   0.664     C\n",
       "4  0.907   0.066     C\n",
       "5  0.461  -1.096     A\n",
       "6  0.107   0.988     A\n",
       "7 -0.220  -0.681     B\n",
       "8 -0.014  -0.121     C\n",
       "9 -0.581  -0.262     B"
      ]
     },
     "execution_count": 12,
     "metadata": {},
     "output_type": "execute_result"
    }
   ],
   "source": [
    "data"
   ]
  },
  {
   "cell_type": "code",
   "execution_count": 13,
   "metadata": {},
   "outputs": [
    {
     "data": {
      "text/html": [
       "<div>\n",
       "<style scoped>\n",
       "    .dataframe tbody tr th:only-of-type {\n",
       "        vertical-align: middle;\n",
       "    }\n",
       "\n",
       "    .dataframe tbody tr th {\n",
       "        vertical-align: top;\n",
       "    }\n",
       "\n",
       "    .dataframe thead th {\n",
       "        text-align: right;\n",
       "    }\n",
       "</style>\n",
       "<table border=\"1\" class=\"dataframe\">\n",
       "  <thead>\n",
       "    <tr style=\"text-align: right;\">\n",
       "      <th></th>\n",
       "      <th>age</th>\n",
       "      <th>weight</th>\n",
       "    </tr>\n",
       "    <tr>\n",
       "      <th>label</th>\n",
       "      <th></th>\n",
       "      <th></th>\n",
       "    </tr>\n",
       "  </thead>\n",
       "  <tbody>\n",
       "    <tr>\n",
       "      <th>A</th>\n",
       "      <td>4</td>\n",
       "      <td>4</td>\n",
       "    </tr>\n",
       "    <tr>\n",
       "      <th>B</th>\n",
       "      <td>3</td>\n",
       "      <td>3</td>\n",
       "    </tr>\n",
       "    <tr>\n",
       "      <th>C</th>\n",
       "      <td>3</td>\n",
       "      <td>3</td>\n",
       "    </tr>\n",
       "  </tbody>\n",
       "</table>\n",
       "</div>"
      ],
      "text/plain": [
       "       age  weight\n",
       "label             \n",
       "A        4       4\n",
       "B        3       3\n",
       "C        3       3"
      ]
     },
     "execution_count": 13,
     "metadata": {},
     "output_type": "execute_result"
    }
   ],
   "source": [
    "# count()\n",
    "data.groupby('label').count()\n"
   ]
  },
  {
   "cell_type": "code",
   "execution_count": 14,
   "metadata": {},
   "outputs": [
    {
     "data": {
      "text/plain": [
       "A    4\n",
       "B    3\n",
       "C    3\n",
       "Name: label, dtype: int64"
      ]
     },
     "execution_count": 14,
     "metadata": {},
     "output_type": "execute_result"
    }
   ],
   "source": [
    "# column 1개인 경우.\n",
    "# from collections import Counter    ---->   Counter(data['label'])  ---->  Counter({'A': 4, 'B': 3, 'C': 3})\n",
    "\n",
    "data['label'].value_counts()"
   ]
  },
  {
   "cell_type": "markdown",
   "metadata": {},
   "source": [
    "## Panda From numpy array"
   ]
  },
  {
   "cell_type": "code",
   "execution_count": 2,
   "metadata": {},
   "outputs": [],
   "source": [
    "from sklearn import datasets"
   ]
  },
  {
   "cell_type": "code",
   "execution_count": 3,
   "metadata": {},
   "outputs": [],
   "source": [
    "iris = datasets.load_iris()  # dict_keys(['data', 'target', 'frame', 'target_names', 'DESCR', 'feature_names', 'filename'])"
   ]
  },
  {
   "cell_type": "code",
   "execution_count": 9,
   "metadata": {},
   "outputs": [
    {
     "data": {
      "text/plain": [
       "((150, 4), (150,))"
      ]
     },
     "execution_count": 9,
     "metadata": {},
     "output_type": "execute_result"
    }
   ],
   "source": [
    "iris['data'].shape, iris['target'].shape"
   ]
  },
  {
   "cell_type": "code",
   "execution_count": 15,
   "metadata": {},
   "outputs": [
    {
     "data": {
      "text/plain": [
       "'C:\\\\Anaconda3\\\\envs\\\\tf2\\\\lib\\\\site-packages\\\\sklearn\\\\datasets\\\\data\\\\iris.csv'"
      ]
     },
     "execution_count": 15,
     "metadata": {},
     "output_type": "execute_result"
    }
   ],
   "source": [
    "iris['filename']"
   ]
  },
  {
   "cell_type": "code",
   "execution_count": 16,
   "metadata": {},
   "outputs": [],
   "source": [
    "data = pd.DataFrame(data= np.c_[iris['data'], iris['target']],columns= iris['feature_names'] + ['target'])"
   ]
  },
  {
   "cell_type": "code",
   "execution_count": 21,
   "metadata": {},
   "outputs": [
    {
     "data": {
      "text/html": [
       "<div>\n",
       "<style scoped>\n",
       "    .dataframe tbody tr th:only-of-type {\n",
       "        vertical-align: middle;\n",
       "    }\n",
       "\n",
       "    .dataframe tbody tr th {\n",
       "        vertical-align: top;\n",
       "    }\n",
       "\n",
       "    .dataframe thead th {\n",
       "        text-align: right;\n",
       "    }\n",
       "</style>\n",
       "<table border=\"1\" class=\"dataframe\">\n",
       "  <thead>\n",
       "    <tr style=\"text-align: right;\">\n",
       "      <th></th>\n",
       "      <th>sepal length (cm)</th>\n",
       "      <th>sepal width (cm)</th>\n",
       "      <th>petal length (cm)</th>\n",
       "      <th>petal width (cm)</th>\n",
       "      <th>target</th>\n",
       "    </tr>\n",
       "  </thead>\n",
       "  <tbody>\n",
       "    <tr>\n",
       "      <th>0</th>\n",
       "      <td>5.1</td>\n",
       "      <td>3.5</td>\n",
       "      <td>1.4</td>\n",
       "      <td>0.2</td>\n",
       "      <td>0.0</td>\n",
       "    </tr>\n",
       "    <tr>\n",
       "      <th>1</th>\n",
       "      <td>4.9</td>\n",
       "      <td>3.0</td>\n",
       "      <td>1.4</td>\n",
       "      <td>0.2</td>\n",
       "      <td>0.0</td>\n",
       "    </tr>\n",
       "    <tr>\n",
       "      <th>2</th>\n",
       "      <td>4.7</td>\n",
       "      <td>3.2</td>\n",
       "      <td>1.3</td>\n",
       "      <td>0.2</td>\n",
       "      <td>0.0</td>\n",
       "    </tr>\n",
       "    <tr>\n",
       "      <th>3</th>\n",
       "      <td>4.6</td>\n",
       "      <td>3.1</td>\n",
       "      <td>1.5</td>\n",
       "      <td>0.2</td>\n",
       "      <td>0.0</td>\n",
       "    </tr>\n",
       "    <tr>\n",
       "      <th>4</th>\n",
       "      <td>5.0</td>\n",
       "      <td>3.6</td>\n",
       "      <td>1.4</td>\n",
       "      <td>0.2</td>\n",
       "      <td>0.0</td>\n",
       "    </tr>\n",
       "    <tr>\n",
       "      <th>5</th>\n",
       "      <td>5.4</td>\n",
       "      <td>3.9</td>\n",
       "      <td>1.7</td>\n",
       "      <td>0.4</td>\n",
       "      <td>0.0</td>\n",
       "    </tr>\n",
       "    <tr>\n",
       "      <th>6</th>\n",
       "      <td>4.6</td>\n",
       "      <td>3.4</td>\n",
       "      <td>1.4</td>\n",
       "      <td>0.3</td>\n",
       "      <td>0.0</td>\n",
       "    </tr>\n",
       "    <tr>\n",
       "      <th>7</th>\n",
       "      <td>5.0</td>\n",
       "      <td>3.4</td>\n",
       "      <td>1.5</td>\n",
       "      <td>0.2</td>\n",
       "      <td>0.0</td>\n",
       "    </tr>\n",
       "    <tr>\n",
       "      <th>8</th>\n",
       "      <td>4.4</td>\n",
       "      <td>2.9</td>\n",
       "      <td>1.4</td>\n",
       "      <td>0.2</td>\n",
       "      <td>0.0</td>\n",
       "    </tr>\n",
       "    <tr>\n",
       "      <th>9</th>\n",
       "      <td>4.9</td>\n",
       "      <td>3.1</td>\n",
       "      <td>1.5</td>\n",
       "      <td>0.1</td>\n",
       "      <td>0.0</td>\n",
       "    </tr>\n",
       "  </tbody>\n",
       "</table>\n",
       "</div>"
      ],
      "text/plain": [
       "   sepal length (cm)  sepal width (cm)  petal length (cm)  petal width (cm)  \\\n",
       "0                5.1               3.5                1.4               0.2   \n",
       "1                4.9               3.0                1.4               0.2   \n",
       "2                4.7               3.2                1.3               0.2   \n",
       "3                4.6               3.1                1.5               0.2   \n",
       "4                5.0               3.6                1.4               0.2   \n",
       "5                5.4               3.9                1.7               0.4   \n",
       "6                4.6               3.4                1.4               0.3   \n",
       "7                5.0               3.4                1.5               0.2   \n",
       "8                4.4               2.9                1.4               0.2   \n",
       "9                4.9               3.1                1.5               0.1   \n",
       "\n",
       "   target  \n",
       "0     0.0  \n",
       "1     0.0  \n",
       "2     0.0  \n",
       "3     0.0  \n",
       "4     0.0  \n",
       "5     0.0  \n",
       "6     0.0  \n",
       "7     0.0  \n",
       "8     0.0  \n",
       "9     0.0  "
      ]
     },
     "execution_count": 21,
     "metadata": {},
     "output_type": "execute_result"
    }
   ],
   "source": [
    "data.head(10)"
   ]
  },
  {
   "cell_type": "code",
   "execution_count": 22,
   "metadata": {},
   "outputs": [],
   "source": [
    "data = data.sample(frac = 1) "
   ]
  },
  {
   "cell_type": "code",
   "execution_count": 23,
   "metadata": {},
   "outputs": [
    {
     "data": {
      "text/html": [
       "<div>\n",
       "<style scoped>\n",
       "    .dataframe tbody tr th:only-of-type {\n",
       "        vertical-align: middle;\n",
       "    }\n",
       "\n",
       "    .dataframe tbody tr th {\n",
       "        vertical-align: top;\n",
       "    }\n",
       "\n",
       "    .dataframe thead th {\n",
       "        text-align: right;\n",
       "    }\n",
       "</style>\n",
       "<table border=\"1\" class=\"dataframe\">\n",
       "  <thead>\n",
       "    <tr style=\"text-align: right;\">\n",
       "      <th></th>\n",
       "      <th>sepal length (cm)</th>\n",
       "      <th>sepal width (cm)</th>\n",
       "      <th>petal length (cm)</th>\n",
       "      <th>petal width (cm)</th>\n",
       "      <th>target</th>\n",
       "    </tr>\n",
       "  </thead>\n",
       "  <tbody>\n",
       "    <tr>\n",
       "      <th>71</th>\n",
       "      <td>6.1</td>\n",
       "      <td>2.8</td>\n",
       "      <td>4.0</td>\n",
       "      <td>1.3</td>\n",
       "      <td>1.0</td>\n",
       "    </tr>\n",
       "    <tr>\n",
       "      <th>132</th>\n",
       "      <td>6.4</td>\n",
       "      <td>2.8</td>\n",
       "      <td>5.6</td>\n",
       "      <td>2.2</td>\n",
       "      <td>2.0</td>\n",
       "    </tr>\n",
       "    <tr>\n",
       "      <th>45</th>\n",
       "      <td>4.8</td>\n",
       "      <td>3.0</td>\n",
       "      <td>1.4</td>\n",
       "      <td>0.3</td>\n",
       "      <td>0.0</td>\n",
       "    </tr>\n",
       "    <tr>\n",
       "      <th>41</th>\n",
       "      <td>4.5</td>\n",
       "      <td>2.3</td>\n",
       "      <td>1.3</td>\n",
       "      <td>0.3</td>\n",
       "      <td>0.0</td>\n",
       "    </tr>\n",
       "    <tr>\n",
       "      <th>98</th>\n",
       "      <td>5.1</td>\n",
       "      <td>2.5</td>\n",
       "      <td>3.0</td>\n",
       "      <td>1.1</td>\n",
       "      <td>1.0</td>\n",
       "    </tr>\n",
       "    <tr>\n",
       "      <th>60</th>\n",
       "      <td>5.0</td>\n",
       "      <td>2.0</td>\n",
       "      <td>3.5</td>\n",
       "      <td>1.0</td>\n",
       "      <td>1.0</td>\n",
       "    </tr>\n",
       "    <tr>\n",
       "      <th>121</th>\n",
       "      <td>5.6</td>\n",
       "      <td>2.8</td>\n",
       "      <td>4.9</td>\n",
       "      <td>2.0</td>\n",
       "      <td>2.0</td>\n",
       "    </tr>\n",
       "    <tr>\n",
       "      <th>131</th>\n",
       "      <td>7.9</td>\n",
       "      <td>3.8</td>\n",
       "      <td>6.4</td>\n",
       "      <td>2.0</td>\n",
       "      <td>2.0</td>\n",
       "    </tr>\n",
       "    <tr>\n",
       "      <th>42</th>\n",
       "      <td>4.4</td>\n",
       "      <td>3.2</td>\n",
       "      <td>1.3</td>\n",
       "      <td>0.2</td>\n",
       "      <td>0.0</td>\n",
       "    </tr>\n",
       "    <tr>\n",
       "      <th>63</th>\n",
       "      <td>6.1</td>\n",
       "      <td>2.9</td>\n",
       "      <td>4.7</td>\n",
       "      <td>1.4</td>\n",
       "      <td>1.0</td>\n",
       "    </tr>\n",
       "  </tbody>\n",
       "</table>\n",
       "</div>"
      ],
      "text/plain": [
       "     sepal length (cm)  sepal width (cm)  petal length (cm)  petal width (cm)  \\\n",
       "71                 6.1               2.8                4.0               1.3   \n",
       "132                6.4               2.8                5.6               2.2   \n",
       "45                 4.8               3.0                1.4               0.3   \n",
       "41                 4.5               2.3                1.3               0.3   \n",
       "98                 5.1               2.5                3.0               1.1   \n",
       "60                 5.0               2.0                3.5               1.0   \n",
       "121                5.6               2.8                4.9               2.0   \n",
       "131                7.9               3.8                6.4               2.0   \n",
       "42                 4.4               3.2                1.3               0.2   \n",
       "63                 6.1               2.9                4.7               1.4   \n",
       "\n",
       "     target  \n",
       "71      1.0  \n",
       "132     2.0  \n",
       "45      0.0  \n",
       "41      0.0  \n",
       "98      1.0  \n",
       "60      1.0  \n",
       "121     2.0  \n",
       "131     2.0  \n",
       "42      0.0  \n",
       "63      1.0  "
      ]
     },
     "execution_count": 23,
     "metadata": {},
     "output_type": "execute_result"
    }
   ],
   "source": [
    "data.head(10)"
   ]
  },
  {
   "cell_type": "code",
   "execution_count": 26,
   "metadata": {},
   "outputs": [
    {
     "data": {
      "text/plain": [
       "array([[6.1, 2.8, 4. ],\n",
       "       [6.4, 2.8, 5.6],\n",
       "       [4.8, 3. , 1.4],\n",
       "       [4.5, 2.3, 1.3],\n",
       "       [5.1, 2.5, 3. ],\n",
       "       [5. , 2. , 3.5],\n",
       "       [5.6, 2.8, 4.9],\n",
       "       [7.9, 3.8, 6.4],\n",
       "       [4.4, 3.2, 1.3],\n",
       "       [6.1, 2.9, 4.7],\n",
       "       [5.1, 3.3, 1.7],\n",
       "       [5.6, 2.7, 4.2],\n",
       "       [6.9, 3.1, 5.4],\n",
       "       [6. , 2.2, 5. ],\n",
       "       [5. , 3.4, 1.6],\n",
       "       [7.7, 2.8, 6.7],\n",
       "       [6.7, 3.3, 5.7],\n",
       "       [4.9, 3.1, 1.5],\n",
       "       [7.1, 3. , 5.9],\n",
       "       [5.7, 4.4, 1.5],\n",
       "       [6.9, 3.1, 5.1],\n",
       "       [6.5, 2.8, 4.6],\n",
       "       [4.8, 3.4, 1.6],\n",
       "       [5.4, 3.4, 1.5],\n",
       "       [7.6, 3. , 6.6],\n",
       "       [5. , 3. , 1.6],\n",
       "       [5.7, 2.8, 4.1],\n",
       "       [7.7, 3. , 6.1],\n",
       "       [5.6, 2.9, 3.6],\n",
       "       [5. , 3.6, 1.4],\n",
       "       [6. , 3.4, 4.5],\n",
       "       [6.8, 3. , 5.5],\n",
       "       [4.9, 2.4, 3.3],\n",
       "       [5.7, 2.9, 4.2],\n",
       "       [4.8, 3.1, 1.6],\n",
       "       [5.1, 3.8, 1.5],\n",
       "       [6. , 2.7, 5.1],\n",
       "       [5. , 3.5, 1.3],\n",
       "       [5.2, 3.4, 1.4],\n",
       "       [6.1, 3. , 4.9],\n",
       "       [6. , 2.2, 4. ],\n",
       "       [6.3, 2.9, 5.6],\n",
       "       [4.7, 3.2, 1.6],\n",
       "       [4.8, 3. , 1.4],\n",
       "       [4.6, 3.4, 1.4],\n",
       "       [5.6, 2.5, 3.9],\n",
       "       [5.9, 3. , 4.2],\n",
       "       [6.4, 2.9, 4.3],\n",
       "       [6.4, 3.2, 4.5],\n",
       "       [5.5, 2.6, 4.4],\n",
       "       [6.3, 2.8, 5.1],\n",
       "       [5.5, 2.4, 3.7],\n",
       "       [4.6, 3.1, 1.5],\n",
       "       [4.7, 3.2, 1.3],\n",
       "       [7.4, 2.8, 6.1],\n",
       "       [6.3, 3.3, 4.7],\n",
       "       [5.1, 3.4, 1.5],\n",
       "       [5.2, 4.1, 1.5],\n",
       "       [5.8, 2.7, 4.1],\n",
       "       [5.9, 3. , 5.1],\n",
       "       [7.2, 3.2, 6. ],\n",
       "       [6.7, 2.5, 5.8],\n",
       "       [5.5, 3.5, 1.3],\n",
       "       [7.3, 2.9, 6.3],\n",
       "       [4.6, 3.2, 1.4],\n",
       "       [6.7, 3. , 5.2],\n",
       "       [5.1, 3.5, 1.4],\n",
       "       [7.2, 3. , 5.8],\n",
       "       [4.9, 3.6, 1.4],\n",
       "       [5.1, 3.8, 1.6],\n",
       "       [5.7, 2.8, 4.5],\n",
       "       [5.6, 3. , 4.1],\n",
       "       [5.9, 3.2, 4.8],\n",
       "       [6.9, 3.1, 4.9],\n",
       "       [4.6, 3.6, 1. ],\n",
       "       [7. , 3.2, 4.7],\n",
       "       [4.4, 2.9, 1.4],\n",
       "       [5.8, 2.8, 5.1],\n",
       "       [5.2, 2.7, 3.9],\n",
       "       [5.1, 3.5, 1.4],\n",
       "       [5. , 3.3, 1.4],\n",
       "       [6.4, 2.8, 5.6],\n",
       "       [4.4, 3. , 1.3],\n",
       "       [5.5, 4.2, 1.4],\n",
       "       [5.7, 3. , 4.2],\n",
       "       [6.3, 2.5, 4.9],\n",
       "       [5.6, 3. , 4.5],\n",
       "       [6.5, 3. , 5.2],\n",
       "       [6.8, 2.8, 4.8],\n",
       "       [4.3, 3. , 1.1],\n",
       "       [5.5, 2.3, 4. ],\n",
       "       [6.1, 3. , 4.6],\n",
       "       [6.3, 3.4, 5.6],\n",
       "       [6.4, 3.2, 5.3],\n",
       "       [6.6, 2.9, 4.6],\n",
       "       [7.2, 3.6, 6.1],\n",
       "       [5. , 2.3, 3.3],\n",
       "       [6.2, 2.9, 4.3],\n",
       "       [6.5, 3. , 5.5],\n",
       "       [5.5, 2.5, 4. ],\n",
       "       [6.1, 2.6, 5.6],\n",
       "       [5.7, 2.6, 3.5],\n",
       "       [5.1, 3.8, 1.9],\n",
       "       [6.8, 3.2, 5.9],\n",
       "       [6.7, 3.1, 4.4],\n",
       "       [6.2, 3.4, 5.4],\n",
       "       [6.2, 2.8, 4.8],\n",
       "       [4.9, 3. , 1.4],\n",
       "       [6.4, 3.1, 5.5],\n",
       "       [4.9, 3.1, 1.5],\n",
       "       [5.7, 3.8, 1.7],\n",
       "       [6.7, 3.3, 5.7],\n",
       "       [6.7, 3. , 5. ],\n",
       "       [5.8, 2.6, 4. ],\n",
       "       [5. , 3.5, 1.6],\n",
       "       [5.8, 2.7, 5.1],\n",
       "       [5.4, 3.4, 1.7],\n",
       "       [6.3, 2.5, 5. ],\n",
       "       [5. , 3.2, 1.2],\n",
       "       [5. , 3.4, 1.5],\n",
       "       [5.3, 3.7, 1.5],\n",
       "       [6. , 2.9, 4.5],\n",
       "       [6. , 3. , 4.8],\n",
       "       [6.2, 2.2, 4.5],\n",
       "       [6.7, 3.1, 4.7],\n",
       "       [4.9, 2.5, 4.5],\n",
       "       [7.7, 2.6, 6.9],\n",
       "       [5.4, 3.7, 1.5],\n",
       "       [5.7, 2.5, 5. ],\n",
       "       [7.7, 3.8, 6.7],\n",
       "       [6.4, 2.7, 5.3],\n",
       "       [6.5, 3. , 5.8],\n",
       "       [5.5, 2.4, 3.8],\n",
       "       [5.8, 2.7, 3.9],\n",
       "       [5.4, 3.9, 1.3],\n",
       "       [5.4, 3.9, 1.7],\n",
       "       [6.7, 3.1, 5.6],\n",
       "       [5.1, 3.7, 1.5],\n",
       "       [6.3, 2.7, 4.9],\n",
       "       [5.8, 4. , 1.2],\n",
       "       [5.4, 3. , 4.5],\n",
       "       [6.6, 3. , 4.4],\n",
       "       [6.9, 3.2, 5.7],\n",
       "       [5.8, 2.7, 5.1],\n",
       "       [6.1, 2.8, 4.7],\n",
       "       [6.3, 3.3, 6. ],\n",
       "       [5.2, 3.5, 1.5],\n",
       "       [4.8, 3.4, 1.9],\n",
       "       [6.3, 2.3, 4.4],\n",
       "       [6.5, 3.2, 5.1]])"
      ]
     },
     "execution_count": 26,
     "metadata": {},
     "output_type": "execute_result"
    }
   ],
   "source": [
    "data.values[:,:3]"
   ]
  },
  {
   "cell_type": "code",
   "execution_count": null,
   "metadata": {},
   "outputs": [],
   "source": []
  },
  {
   "cell_type": "markdown",
   "metadata": {},
   "source": [
    "## Simple Deep Lerning Model with Tensorflow(IRIS)"
   ]
  },
  {
   "cell_type": "code",
   "execution_count": 98,
   "metadata": {},
   "outputs": [],
   "source": [
    "from sklearn import datasets\n",
    "import tensorflow as tf\n",
    "import matplotlib.pyplot as plt\n",
    "iris = datasets.load_iris()"
   ]
  },
  {
   "cell_type": "code",
   "execution_count": 107,
   "metadata": {},
   "outputs": [
    {
     "name": "stdout",
     "output_type": "stream",
     "text": [
      "Model: \"sequential_10\"\n",
      "_________________________________________________________________\n",
      "Layer (type)                 Output Shape              Param #   \n",
      "=================================================================\n",
      "dense_30 (Dense)             (None, 10)                50        \n",
      "_________________________________________________________________\n",
      "dense_31 (Dense)             (None, 10)                110       \n",
      "_________________________________________________________________\n",
      "dense_32 (Dense)             (None, 3)                 33        \n",
      "=================================================================\n",
      "Total params: 193\n",
      "Trainable params: 193\n",
      "Non-trainable params: 0\n",
      "_________________________________________________________________\n"
     ]
    }
   ],
   "source": [
    "model = tf.keras.Sequential([\n",
    "    tf.keras.layers.Dense(10,input_shape=(4,), activation='relu'),\n",
    "    tf.keras.layers.Dense(10, activation='relu'),      \n",
    "    tf.keras.layers.Dense(3, activation='softmax')\n",
    "])\n",
    "optimiser = tf.keras.optimizers.Adam(learning_rate=0.001)  # pytorch와 달리, 0.01 또는 0.001일 때, 잘된다. 0.0001이면 별로...\n",
    "# tf.keras.losses.categorical_crossentropy(y_true, y_pred, from_logits=False, label_smoothing=0)  ---> default: logit이 아니 확률\n",
    "model.compile(optimizer=optimiser, loss='sparse_categorical_crossentropy', metrics=['accuracy'])  # sparse ---> target이 onthot이 아니어도 된다.\n",
    "model.summary()"
   ]
  },
  {
   "cell_type": "code",
   "execution_count": 108,
   "metadata": {},
   "outputs": [
    {
     "name": "stdout",
     "output_type": "stream",
     "text": [
      "Epoch 1/200\n",
      "5/5 [==============================] - 0s 2ms/step - loss: 2.6167 - accuracy: 0.3333\n",
      "Epoch 2/200\n",
      "5/5 [==============================] - 0s 2ms/step - loss: 2.5720 - accuracy: 0.3333\n",
      "Epoch 3/200\n",
      "5/5 [==============================] - 0s 2ms/step - loss: 2.5283 - accuracy: 0.3333\n",
      "Epoch 4/200\n",
      "5/5 [==============================] - 0s 2ms/step - loss: 2.4844 - accuracy: 0.3333\n",
      "Epoch 5/200\n",
      "5/5 [==============================] - 0s 2ms/step - loss: 2.4402 - accuracy: 0.3333\n",
      "Epoch 6/200\n",
      "5/5 [==============================] - 0s 1ms/step - loss: 2.3968 - accuracy: 0.3333\n",
      "Epoch 7/200\n",
      "5/5 [==============================] - 0s 1ms/step - loss: 2.3542 - accuracy: 0.3333\n",
      "Epoch 8/200\n",
      "5/5 [==============================] - 0s 1ms/step - loss: 2.3128 - accuracy: 0.3333\n",
      "Epoch 9/200\n",
      "5/5 [==============================] - 0s 1ms/step - loss: 2.2705 - accuracy: 0.3333\n",
      "Epoch 10/200\n",
      "5/5 [==============================] - 0s 1ms/step - loss: 2.2289 - accuracy: 0.3333\n",
      "Epoch 11/200\n",
      "5/5 [==============================] - 0s 1ms/step - loss: 2.1880 - accuracy: 0.3333\n",
      "Epoch 12/200\n",
      "5/5 [==============================] - 0s 1ms/step - loss: 2.1481 - accuracy: 0.3333\n",
      "Epoch 13/200\n",
      "5/5 [==============================] - 0s 1ms/step - loss: 2.1080 - accuracy: 0.3333\n",
      "Epoch 14/200\n",
      "5/5 [==============================] - 0s 1ms/step - loss: 2.0678 - accuracy: 0.3333\n",
      "Epoch 15/200\n",
      "5/5 [==============================] - 0s 1ms/step - loss: 2.0292 - accuracy: 0.3333\n",
      "Epoch 16/200\n",
      "5/5 [==============================] - 0s 1ms/step - loss: 1.9910 - accuracy: 0.3333\n",
      "Epoch 17/200\n",
      "5/5 [==============================] - 0s 1ms/step - loss: 1.9533 - accuracy: 0.3333\n",
      "Epoch 18/200\n",
      "5/5 [==============================] - 0s 1ms/step - loss: 1.9151 - accuracy: 0.3333\n",
      "Epoch 19/200\n",
      "5/5 [==============================] - 0s 1ms/step - loss: 1.8791 - accuracy: 0.3333\n",
      "Epoch 20/200\n",
      "5/5 [==============================] - 0s 1ms/step - loss: 1.8436 - accuracy: 0.3333\n",
      "Epoch 21/200\n",
      "5/5 [==============================] - 0s 1ms/step - loss: 1.8076 - accuracy: 0.3333\n",
      "Epoch 22/200\n",
      "5/5 [==============================] - 0s 1ms/step - loss: 1.7738 - accuracy: 0.3333\n",
      "Epoch 23/200\n",
      "5/5 [==============================] - 0s 1ms/step - loss: 1.7400 - accuracy: 0.3333\n",
      "Epoch 24/200\n",
      "5/5 [==============================] - 0s 1ms/step - loss: 1.7079 - accuracy: 0.3333\n",
      "Epoch 25/200\n",
      "5/5 [==============================] - 0s 1ms/step - loss: 1.6755 - accuracy: 0.3333\n",
      "Epoch 26/200\n",
      "5/5 [==============================] - 0s 1ms/step - loss: 1.6438 - accuracy: 0.3333\n",
      "Epoch 27/200\n",
      "5/5 [==============================] - 0s 1ms/step - loss: 1.6133 - accuracy: 0.3333\n",
      "Epoch 28/200\n",
      "5/5 [==============================] - 0s 1ms/step - loss: 1.5822 - accuracy: 0.3333\n",
      "Epoch 29/200\n",
      "5/5 [==============================] - 0s 1ms/step - loss: 1.5535 - accuracy: 0.3333\n",
      "Epoch 30/200\n",
      "5/5 [==============================] - 0s 1ms/step - loss: 1.5251 - accuracy: 0.3333\n",
      "Epoch 31/200\n",
      "5/5 [==============================] - 0s 1ms/step - loss: 1.4976 - accuracy: 0.3333\n",
      "Epoch 32/200\n",
      "5/5 [==============================] - 0s 1ms/step - loss: 1.4702 - accuracy: 0.3333\n",
      "Epoch 33/200\n",
      "5/5 [==============================] - 0s 1ms/step - loss: 1.4453 - accuracy: 0.3333\n",
      "Epoch 34/200\n",
      "5/5 [==============================] - 0s 1ms/step - loss: 1.4185 - accuracy: 0.3333\n",
      "Epoch 35/200\n",
      "5/5 [==============================] - 0s 1ms/step - loss: 1.3955 - accuracy: 0.3333\n",
      "Epoch 36/200\n",
      "5/5 [==============================] - 0s 1ms/step - loss: 1.3717 - accuracy: 0.3333\n",
      "Epoch 37/200\n",
      "5/5 [==============================] - 0s 1ms/step - loss: 1.3487 - accuracy: 0.3333\n",
      "Epoch 38/200\n",
      "5/5 [==============================] - 0s 1ms/step - loss: 1.3273 - accuracy: 0.3333\n",
      "Epoch 39/200\n",
      "5/5 [==============================] - 0s 1ms/step - loss: 1.3066 - accuracy: 0.3333\n",
      "Epoch 40/200\n",
      "5/5 [==============================] - 0s 1ms/step - loss: 1.2873 - accuracy: 0.3333\n",
      "Epoch 41/200\n",
      "5/5 [==============================] - 0s 1ms/step - loss: 1.2681 - accuracy: 0.3333\n",
      "Epoch 42/200\n",
      "5/5 [==============================] - 0s 1ms/step - loss: 1.2496 - accuracy: 0.3333\n",
      "Epoch 43/200\n",
      "5/5 [==============================] - 0s 1ms/step - loss: 1.2319 - accuracy: 0.3333\n",
      "Epoch 44/200\n",
      "5/5 [==============================] - 0s 1ms/step - loss: 1.2147 - accuracy: 0.3333\n",
      "Epoch 45/200\n",
      "5/5 [==============================] - 0s 1ms/step - loss: 1.1978 - accuracy: 0.3333\n",
      "Epoch 46/200\n",
      "5/5 [==============================] - 0s 1ms/step - loss: 1.1816 - accuracy: 0.3333\n",
      "Epoch 47/200\n",
      "5/5 [==============================] - 0s 1ms/step - loss: 1.1659 - accuracy: 0.3333\n",
      "Epoch 48/200\n",
      "5/5 [==============================] - 0s 1ms/step - loss: 1.1506 - accuracy: 0.3333\n",
      "Epoch 49/200\n",
      "5/5 [==============================] - 0s 1ms/step - loss: 1.1367 - accuracy: 0.3333\n",
      "Epoch 50/200\n",
      "5/5 [==============================] - 0s 1ms/step - loss: 1.1223 - accuracy: 0.3333\n",
      "Epoch 51/200\n",
      "5/5 [==============================] - 0s 1ms/step - loss: 1.1085 - accuracy: 0.3333\n",
      "Epoch 52/200\n",
      "5/5 [==============================] - 0s 1ms/step - loss: 1.0947 - accuracy: 0.3333\n",
      "Epoch 53/200\n",
      "5/5 [==============================] - 0s 1ms/step - loss: 1.0820 - accuracy: 0.3333\n",
      "Epoch 54/200\n",
      "5/5 [==============================] - 0s 1ms/step - loss: 1.0694 - accuracy: 0.3333\n",
      "Epoch 55/200\n",
      "5/5 [==============================] - 0s 1ms/step - loss: 1.0571 - accuracy: 0.3333\n",
      "Epoch 56/200\n",
      "5/5 [==============================] - 0s 1ms/step - loss: 1.0457 - accuracy: 0.3333\n",
      "Epoch 57/200\n",
      "5/5 [==============================] - 0s 1ms/step - loss: 1.0347 - accuracy: 0.3333\n",
      "Epoch 58/200\n",
      "5/5 [==============================] - 0s 1ms/step - loss: 1.0233 - accuracy: 0.3333\n",
      "Epoch 59/200\n",
      "5/5 [==============================] - 0s 1ms/step - loss: 1.0130 - accuracy: 0.3333\n",
      "Epoch 60/200\n",
      "5/5 [==============================] - 0s 1ms/step - loss: 1.0023 - accuracy: 0.3333\n",
      "Epoch 61/200\n",
      "5/5 [==============================] - 0s 1ms/step - loss: 0.9926 - accuracy: 0.3333\n",
      "Epoch 62/200\n",
      "5/5 [==============================] - 0s 1ms/step - loss: 0.9825 - accuracy: 0.3333\n",
      "Epoch 63/200\n",
      "5/5 [==============================] - 0s 1ms/step - loss: 0.9737 - accuracy: 0.3333\n",
      "Epoch 64/200\n",
      "5/5 [==============================] - 0s 1ms/step - loss: 0.9648 - accuracy: 0.3333\n",
      "Epoch 65/200\n",
      "5/5 [==============================] - 0s 1ms/step - loss: 0.9560 - accuracy: 0.3400\n",
      "Epoch 66/200\n",
      "5/5 [==============================] - 0s 1ms/step - loss: 0.9474 - accuracy: 0.3400\n",
      "Epoch 67/200\n",
      "5/5 [==============================] - 0s 1ms/step - loss: 0.9395 - accuracy: 0.3400\n",
      "Epoch 68/200\n",
      "5/5 [==============================] - 0s 1ms/step - loss: 0.9317 - accuracy: 0.3400\n",
      "Epoch 69/200\n",
      "5/5 [==============================] - 0s 1ms/step - loss: 0.9242 - accuracy: 0.3467\n",
      "Epoch 70/200\n",
      "5/5 [==============================] - 0s 1ms/step - loss: 0.9170 - accuracy: 0.3467\n",
      "Epoch 71/200\n",
      "5/5 [==============================] - 0s 1ms/step - loss: 0.9098 - accuracy: 0.3533\n",
      "Epoch 72/200\n",
      "5/5 [==============================] - 0s 1ms/step - loss: 0.9032 - accuracy: 0.3600\n",
      "Epoch 73/200\n",
      "5/5 [==============================] - 0s 1ms/step - loss: 0.8970 - accuracy: 0.3667\n",
      "Epoch 74/200\n",
      "5/5 [==============================] - 0s 1ms/step - loss: 0.8906 - accuracy: 0.3667\n",
      "Epoch 75/200\n",
      "5/5 [==============================] - 0s 1ms/step - loss: 0.8844 - accuracy: 0.3667\n",
      "Epoch 76/200\n",
      "5/5 [==============================] - 0s 1ms/step - loss: 0.8782 - accuracy: 0.3867\n",
      "Epoch 77/200\n",
      "5/5 [==============================] - 0s 997us/step - loss: 0.8725 - accuracy: 0.3933\n",
      "Epoch 78/200\n",
      "5/5 [==============================] - 0s 1ms/step - loss: 0.8669 - accuracy: 0.3933\n",
      "Epoch 79/200\n",
      "5/5 [==============================] - 0s 1ms/step - loss: 0.8616 - accuracy: 0.3933\n",
      "Epoch 80/200\n",
      "5/5 [==============================] - 0s 1ms/step - loss: 0.8562 - accuracy: 0.4000\n",
      "Epoch 81/200\n",
      "5/5 [==============================] - 0s 1ms/step - loss: 0.8509 - accuracy: 0.4067\n",
      "Epoch 82/200\n",
      "5/5 [==============================] - 0s 1ms/step - loss: 0.8460 - accuracy: 0.4133\n",
      "Epoch 83/200\n",
      "5/5 [==============================] - 0s 1ms/step - loss: 0.8411 - accuracy: 0.4267\n",
      "Epoch 84/200\n",
      "5/5 [==============================] - 0s 1ms/step - loss: 0.8363 - accuracy: 0.4400\n",
      "Epoch 85/200\n",
      "5/5 [==============================] - 0s 1ms/step - loss: 0.8318 - accuracy: 0.4467\n",
      "Epoch 86/200\n",
      "5/5 [==============================] - 0s 1ms/step - loss: 0.8272 - accuracy: 0.4533\n",
      "Epoch 87/200\n",
      "5/5 [==============================] - 0s 1ms/step - loss: 0.8228 - accuracy: 0.4600\n",
      "Epoch 88/200\n",
      "5/5 [==============================] - 0s 1ms/step - loss: 0.8187 - accuracy: 0.4667\n",
      "Epoch 89/200\n",
      "5/5 [==============================] - 0s 1ms/step - loss: 0.8142 - accuracy: 0.4800\n",
      "Epoch 90/200\n",
      "5/5 [==============================] - 0s 1ms/step - loss: 0.8101 - accuracy: 0.4867\n",
      "Epoch 91/200\n",
      "5/5 [==============================] - 0s 1ms/step - loss: 0.8062 - accuracy: 0.4867\n",
      "Epoch 92/200\n",
      "5/5 [==============================] - 0s 1ms/step - loss: 0.8023 - accuracy: 0.4933\n",
      "Epoch 93/200\n",
      "5/5 [==============================] - 0s 1ms/step - loss: 0.7984 - accuracy: 0.5067\n",
      "Epoch 94/200\n",
      "5/5 [==============================] - 0s 1ms/step - loss: 0.7945 - accuracy: 0.5133\n",
      "Epoch 95/200\n",
      "5/5 [==============================] - 0s 1ms/step - loss: 0.7909 - accuracy: 0.5133\n",
      "Epoch 96/200\n",
      "5/5 [==============================] - 0s 1ms/step - loss: 0.7871 - accuracy: 0.5133\n",
      "Epoch 97/200\n",
      "5/5 [==============================] - 0s 1ms/step - loss: 0.7836 - accuracy: 0.5133\n",
      "Epoch 98/200\n",
      "5/5 [==============================] - 0s 1ms/step - loss: 0.7800 - accuracy: 0.5467\n",
      "Epoch 99/200\n",
      "5/5 [==============================] - 0s 992us/step - loss: 0.7765 - accuracy: 0.5533\n",
      "Epoch 100/200\n",
      "5/5 [==============================] - 0s 1ms/step - loss: 0.7730 - accuracy: 0.5733\n",
      "Epoch 101/200\n",
      "5/5 [==============================] - 0s 1ms/step - loss: 0.7697 - accuracy: 0.5733\n",
      "Epoch 102/200\n",
      "5/5 [==============================] - 0s 1ms/step - loss: 0.7664 - accuracy: 0.5867\n",
      "Epoch 103/200\n",
      "5/5 [==============================] - 0s 1ms/step - loss: 0.7631 - accuracy: 0.6000\n",
      "Epoch 104/200\n",
      "5/5 [==============================] - 0s 1ms/step - loss: 0.7599 - accuracy: 0.6067\n",
      "Epoch 105/200\n",
      "5/5 [==============================] - 0s 1ms/step - loss: 0.7568 - accuracy: 0.6267\n",
      "Epoch 106/200\n",
      "5/5 [==============================] - 0s 1ms/step - loss: 0.7538 - accuracy: 0.6400\n",
      "Epoch 107/200\n",
      "5/5 [==============================] - 0s 1ms/step - loss: 0.7507 - accuracy: 0.6467\n",
      "Epoch 108/200\n",
      "5/5 [==============================] - 0s 1ms/step - loss: 0.7477 - accuracy: 0.6533\n",
      "Epoch 109/200\n",
      "5/5 [==============================] - 0s 2ms/step - loss: 0.7448 - accuracy: 0.6533\n",
      "Epoch 110/200\n",
      "5/5 [==============================] - 0s 997us/step - loss: 0.7420 - accuracy: 0.6533\n",
      "Epoch 111/200\n",
      "5/5 [==============================] - 0s 1ms/step - loss: 0.7391 - accuracy: 0.6467\n",
      "Epoch 112/200\n",
      "5/5 [==============================] - 0s 1ms/step - loss: 0.7364 - accuracy: 0.6533\n",
      "Epoch 113/200\n",
      "5/5 [==============================] - 0s 1ms/step - loss: 0.7336 - accuracy: 0.6600\n",
      "Epoch 114/200\n",
      "5/5 [==============================] - 0s 1ms/step - loss: 0.7309 - accuracy: 0.6667\n",
      "Epoch 115/200\n",
      "5/5 [==============================] - 0s 1ms/step - loss: 0.7282 - accuracy: 0.6933\n",
      "Epoch 116/200\n",
      "5/5 [==============================] - 0s 997us/step - loss: 0.7256 - accuracy: 0.7067\n",
      "Epoch 117/200\n",
      "5/5 [==============================] - 0s 1ms/step - loss: 0.7230 - accuracy: 0.7067\n",
      "Epoch 118/200\n",
      "5/5 [==============================] - 0s 997us/step - loss: 0.7204 - accuracy: 0.7267\n",
      "Epoch 119/200\n",
      "5/5 [==============================] - 0s 1ms/step - loss: 0.7180 - accuracy: 0.7333\n",
      "Epoch 120/200\n",
      "5/5 [==============================] - 0s 1ms/step - loss: 0.7155 - accuracy: 0.7400\n",
      "Epoch 121/200\n",
      "5/5 [==============================] - 0s 1ms/step - loss: 0.7130 - accuracy: 0.7533\n",
      "Epoch 122/200\n",
      "5/5 [==============================] - 0s 1ms/step - loss: 0.7107 - accuracy: 0.7667\n",
      "Epoch 123/200\n",
      "5/5 [==============================] - 0s 1ms/step - loss: 0.7083 - accuracy: 0.7733\n",
      "Epoch 124/200\n",
      "5/5 [==============================] - 0s 1ms/step - loss: 0.7059 - accuracy: 0.7733\n",
      "Epoch 125/200\n",
      "5/5 [==============================] - 0s 997us/step - loss: 0.7035 - accuracy: 0.7800\n",
      "Epoch 126/200\n",
      "5/5 [==============================] - 0s 1ms/step - loss: 0.7014 - accuracy: 0.7867\n",
      "Epoch 127/200\n",
      "5/5 [==============================] - 0s 1ms/step - loss: 0.6991 - accuracy: 0.7867\n",
      "Epoch 128/200\n",
      "5/5 [==============================] - 0s 1ms/step - loss: 0.6968 - accuracy: 0.7867\n",
      "Epoch 129/200\n",
      "5/5 [==============================] - 0s 997us/step - loss: 0.6946 - accuracy: 0.7800\n",
      "Epoch 130/200\n",
      "5/5 [==============================] - 0s 1ms/step - loss: 0.6924 - accuracy: 0.7933\n",
      "Epoch 131/200\n",
      "5/5 [==============================] - 0s 1ms/step - loss: 0.6904 - accuracy: 0.8000\n",
      "Epoch 132/200\n",
      "5/5 [==============================] - 0s 1ms/step - loss: 0.6883 - accuracy: 0.8067\n",
      "Epoch 133/200\n",
      "5/5 [==============================] - 0s 1ms/step - loss: 0.6861 - accuracy: 0.8067\n",
      "Epoch 134/200\n",
      "5/5 [==============================] - 0s 1ms/step - loss: 0.6842 - accuracy: 0.8067\n",
      "Epoch 135/200\n",
      "5/5 [==============================] - 0s 1ms/step - loss: 0.6821 - accuracy: 0.8133\n",
      "Epoch 136/200\n",
      "5/5 [==============================] - 0s 1ms/step - loss: 0.6802 - accuracy: 0.8133\n",
      "Epoch 137/200\n",
      "5/5 [==============================] - 0s 1ms/step - loss: 0.6783 - accuracy: 0.8133\n",
      "Epoch 138/200\n",
      "5/5 [==============================] - 0s 1ms/step - loss: 0.6763 - accuracy: 0.8133\n",
      "Epoch 139/200\n",
      "5/5 [==============================] - 0s 1ms/step - loss: 0.6744 - accuracy: 0.8133\n",
      "Epoch 140/200\n",
      "5/5 [==============================] - 0s 1ms/step - loss: 0.6726 - accuracy: 0.8133\n",
      "Epoch 141/200\n",
      "5/5 [==============================] - 0s 1ms/step - loss: 0.6707 - accuracy: 0.8133\n",
      "Epoch 142/200\n",
      "5/5 [==============================] - 0s 1ms/step - loss: 0.6690 - accuracy: 0.8200\n",
      "Epoch 143/200\n",
      "5/5 [==============================] - 0s 1ms/step - loss: 0.6670 - accuracy: 0.8133\n",
      "Epoch 144/200\n",
      "5/5 [==============================] - 0s 1ms/step - loss: 0.6652 - accuracy: 0.8133\n",
      "Epoch 145/200\n",
      "5/5 [==============================] - 0s 1ms/step - loss: 0.6635 - accuracy: 0.8200\n",
      "Epoch 146/200\n",
      "5/5 [==============================] - 0s 1ms/step - loss: 0.6617 - accuracy: 0.8267\n",
      "Epoch 147/200\n",
      "5/5 [==============================] - 0s 1ms/step - loss: 0.6600 - accuracy: 0.8267\n",
      "Epoch 148/200\n",
      "5/5 [==============================] - 0s 1ms/step - loss: 0.6582 - accuracy: 0.8400\n",
      "Epoch 149/200\n",
      "5/5 [==============================] - 0s 999us/step - loss: 0.6567 - accuracy: 0.8400\n",
      "Epoch 150/200\n",
      "5/5 [==============================] - 0s 1ms/step - loss: 0.6550 - accuracy: 0.8400\n",
      "Epoch 151/200\n",
      "5/5 [==============================] - 0s 1ms/step - loss: 0.6533 - accuracy: 0.8400\n",
      "Epoch 152/200\n",
      "5/5 [==============================] - 0s 1ms/step - loss: 0.6516 - accuracy: 0.8400\n",
      "Epoch 153/200\n",
      "5/5 [==============================] - 0s 1ms/step - loss: 0.6500 - accuracy: 0.8467\n",
      "Epoch 154/200\n",
      "5/5 [==============================] - 0s 1ms/step - loss: 0.6486 - accuracy: 0.8467\n",
      "Epoch 155/200\n",
      "5/5 [==============================] - 0s 997us/step - loss: 0.6468 - accuracy: 0.8467\n",
      "Epoch 156/200\n",
      "5/5 [==============================] - 0s 1ms/step - loss: 0.6453 - accuracy: 0.8467\n",
      "Epoch 157/200\n",
      "5/5 [==============================] - 0s 997us/step - loss: 0.6437 - accuracy: 0.8533\n",
      "Epoch 158/200\n",
      "5/5 [==============================] - 0s 1ms/step - loss: 0.6421 - accuracy: 0.8533\n",
      "Epoch 159/200\n",
      "5/5 [==============================] - 0s 1ms/step - loss: 0.6406 - accuracy: 0.8533\n",
      "Epoch 160/200\n",
      "5/5 [==============================] - 0s 1ms/step - loss: 0.6391 - accuracy: 0.8533\n",
      "Epoch 161/200\n",
      "5/5 [==============================] - 0s 1ms/step - loss: 0.6377 - accuracy: 0.8533\n",
      "Epoch 162/200\n",
      "5/5 [==============================] - 0s 1ms/step - loss: 0.6362 - accuracy: 0.8533\n",
      "Epoch 163/200\n",
      "5/5 [==============================] - 0s 1ms/step - loss: 0.6347 - accuracy: 0.8533\n",
      "Epoch 164/200\n",
      "5/5 [==============================] - 0s 1ms/step - loss: 0.6333 - accuracy: 0.8600\n",
      "Epoch 165/200\n",
      "5/5 [==============================] - 0s 1ms/step - loss: 0.6318 - accuracy: 0.8667\n",
      "Epoch 166/200\n"
     ]
    },
    {
     "name": "stdout",
     "output_type": "stream",
     "text": [
      "5/5 [==============================] - 0s 1ms/step - loss: 0.6304 - accuracy: 0.8667\n",
      "Epoch 167/200\n",
      "5/5 [==============================] - 0s 1ms/step - loss: 0.6290 - accuracy: 0.8667\n",
      "Epoch 168/200\n",
      "5/5 [==============================] - 0s 1ms/step - loss: 0.6276 - accuracy: 0.8667\n",
      "Epoch 169/200\n",
      "5/5 [==============================] - 0s 1ms/step - loss: 0.6262 - accuracy: 0.8667\n",
      "Epoch 170/200\n",
      "5/5 [==============================] - 0s 1ms/step - loss: 0.6248 - accuracy: 0.8667\n",
      "Epoch 171/200\n",
      "5/5 [==============================] - 0s 1ms/step - loss: 0.6234 - accuracy: 0.8667\n",
      "Epoch 172/200\n",
      "5/5 [==============================] - 0s 1ms/step - loss: 0.6221 - accuracy: 0.8733\n",
      "Epoch 173/200\n",
      "5/5 [==============================] - 0s 1ms/step - loss: 0.6208 - accuracy: 0.8733\n",
      "Epoch 174/200\n",
      "5/5 [==============================] - 0s 1ms/step - loss: 0.6194 - accuracy: 0.8733\n",
      "Epoch 175/200\n",
      "5/5 [==============================] - 0s 1ms/step - loss: 0.6180 - accuracy: 0.8800\n",
      "Epoch 176/200\n",
      "5/5 [==============================] - 0s 1ms/step - loss: 0.6167 - accuracy: 0.8800\n",
      "Epoch 177/200\n",
      "5/5 [==============================] - 0s 1ms/step - loss: 0.6154 - accuracy: 0.8800\n",
      "Epoch 178/200\n",
      "5/5 [==============================] - 0s 1ms/step - loss: 0.6141 - accuracy: 0.8800\n",
      "Epoch 179/200\n",
      "5/5 [==============================] - 0s 1ms/step - loss: 0.6128 - accuracy: 0.8733\n",
      "Epoch 180/200\n",
      "5/5 [==============================] - 0s 1ms/step - loss: 0.6116 - accuracy: 0.8733\n",
      "Epoch 181/200\n",
      "5/5 [==============================] - 0s 1ms/step - loss: 0.6103 - accuracy: 0.8733\n",
      "Epoch 182/200\n",
      "5/5 [==============================] - 0s 1ms/step - loss: 0.6090 - accuracy: 0.8667\n",
      "Epoch 183/200\n",
      "5/5 [==============================] - 0s 1ms/step - loss: 0.6078 - accuracy: 0.8667\n",
      "Epoch 184/200\n",
      "5/5 [==============================] - 0s 1ms/step - loss: 0.6065 - accuracy: 0.8667\n",
      "Epoch 185/200\n",
      "5/5 [==============================] - 0s 1ms/step - loss: 0.6054 - accuracy: 0.8667\n",
      "Epoch 186/200\n",
      "5/5 [==============================] - 0s 1ms/step - loss: 0.6040 - accuracy: 0.8667\n",
      "Epoch 187/200\n",
      "5/5 [==============================] - 0s 1ms/step - loss: 0.6028 - accuracy: 0.8667\n",
      "Epoch 188/200\n",
      "5/5 [==============================] - 0s 1ms/step - loss: 0.6016 - accuracy: 0.8667\n",
      "Epoch 189/200\n",
      "5/5 [==============================] - 0s 1ms/step - loss: 0.6004 - accuracy: 0.8667\n",
      "Epoch 190/200\n",
      "5/5 [==============================] - 0s 1ms/step - loss: 0.5992 - accuracy: 0.8733\n",
      "Epoch 191/200\n",
      "5/5 [==============================] - 0s 1ms/step - loss: 0.5980 - accuracy: 0.8800\n",
      "Epoch 192/200\n",
      "5/5 [==============================] - 0s 1ms/step - loss: 0.5968 - accuracy: 0.8800\n",
      "Epoch 193/200\n",
      "5/5 [==============================] - 0s 1ms/step - loss: 0.5956 - accuracy: 0.8800\n",
      "Epoch 194/200\n",
      "5/5 [==============================] - 0s 1ms/step - loss: 0.5944 - accuracy: 0.8800\n",
      "Epoch 195/200\n",
      "5/5 [==============================] - 0s 1ms/step - loss: 0.5933 - accuracy: 0.8800\n",
      "Epoch 196/200\n",
      "5/5 [==============================] - 0s 1ms/step - loss: 0.5921 - accuracy: 0.8800\n",
      "Epoch 197/200\n",
      "5/5 [==============================] - 0s 1ms/step - loss: 0.5910 - accuracy: 0.8800\n",
      "Epoch 198/200\n",
      "5/5 [==============================] - 0s 1ms/step - loss: 0.5898 - accuracy: 0.8800\n",
      "Epoch 199/200\n",
      "5/5 [==============================] - 0s 1ms/step - loss: 0.5887 - accuracy: 0.8800\n",
      "Epoch 200/200\n",
      "5/5 [==============================] - 0s 1ms/step - loss: 0.5875 - accuracy: 0.8800\n"
     ]
    }
   ],
   "source": [
    "history = model.fit(iris['data'], iris['target'], batch_size=32, epochs=200)"
   ]
  },
  {
   "cell_type": "code",
   "execution_count": 109,
   "metadata": {},
   "outputs": [
    {
     "data": {
      "text/plain": [
       "(0, 1)"
      ]
     },
     "execution_count": 109,
     "metadata": {},
     "output_type": "execute_result"
    },
    {
     "data": {
      "image/png": "[encoded data removed]",
      "text/plain": [
       "<Figure size 432x288 with 1 Axes>"
      ]
     },
     "metadata": {
      "needs_background": "light"
     },
     "output_type": "display_data"
    }
   ],
   "source": [
    "plt.plot(history.history[\"accuracy\"], label=\"train accuracy\")\n",
    "plt.ylim([0,1])"
   ]
  },
  {
   "cell_type": "code",
   "execution_count": 110,
   "metadata": {},
   "outputs": [
    {
     "data": {
      "text/plain": [
       "[<matplotlib.lines.Line2D at 0x1a5753ee588>]"
      ]
     },
     "execution_count": 110,
     "metadata": {},
     "output_type": "execute_result"
    },
    {
     "data": {
      "image/png": "[encoded data removed]",
      "text/plain": [
       "<Figure size 432x288 with 1 Axes>"
      ]
     },
     "metadata": {
      "needs_background": "light"
     },
     "output_type": "display_data"
    }
   ],
   "source": [
    "plt.plot(history.history[\"loss\"], label=\"train loss\")"
   ]
  },
  {
   "cell_type": "code",
   "execution_count": null,
   "metadata": {},
   "outputs": [],
   "source": []
  },
  {
   "cell_type": "markdown",
   "metadata": {},
   "source": [
    "## Simple Deep Lerning Model with Pytorch(IRIS)\n",
    "  * tensorflow 보다 learning rate에 더 민감하다.\n",
    "  * weight 초기화는 효과가 없다.\n",
    "  * learning rate을 낮게 하고, train 횟수를 늘이면, 수렴은 한다."
   ]
  },
  {
   "cell_type": "code",
   "execution_count": 81,
   "metadata": {},
   "outputs": [],
   "source": [
    "from sklearn import datasets\n",
    "import torch\n",
    "from torch import nn,optim\n",
    "from torch.utils.data import Dataset, DataLoader, TensorDataset\n",
    "import numpy as np\n",
    "import tqdm\n",
    "from sklearn import preprocessing\n",
    "import matplotlib.pyplot as plt\n",
    "iris = datasets.load_iris()"
   ]
  },
  {
   "cell_type": "code",
   "execution_count": 124,
   "metadata": {},
   "outputs": [],
   "source": [
    "def weights_init(m):\n",
    "    if type(m) == nn.Linear:\n",
    "        #torch.nn.init.xavier_normal_(m.weight)\n",
    "        torch.nn.init.normal_(m.weight, mean=0.0, std=0.1)\n",
    "        torch.nn.init.zeros_(m.bias)  # m.bias.data.fill_(0.)  \n",
    "    elif isinstance(m, nn.Conv2d):\n",
    "        torch.nn.init.xavier_uniform_(m.weight)\n",
    "        torch.nn.init.zeros_(m.bias) \n",
    "\n",
    "model = nn.Sequential(nn.Linear(4,10),nn.ReLU(),nn.Linear(10,10),nn.ReLU(),nn.Linear(10,3))\n",
    "#model.apply(weights_init)  # apply는 nn.Module로 부터 상속."
   ]
  },
  {
   "cell_type": "code",
   "execution_count": 125,
   "metadata": {},
   "outputs": [],
   "source": [
    "normal_flag = False\n",
    "\n",
    "if normal_flag:\n",
    "    stdand_scaler = preprocessing.StandardScaler()\n",
    "    data_x = stdand_scaler.fit_transform(iris['data'])  # ---> numpy array\n",
    "else:\n",
    "    data_x = iris['data']\n",
    "\n",
    "X = torch.tensor(data_x, dtype=torch.float32)\n",
    "Y = torch.tensor(iris['target'],dtype=torch.long)\n",
    "ds = TensorDataset(X,Y)  # tensor가 들어가야 한다.\n",
    "loader = DataLoader(ds, batch_size=64, shuffle=True)"
   ]
  },
  {
   "cell_type": "code",
   "execution_count": 126,
   "metadata": {},
   "outputs": [
    {
     "name": "stdout",
     "output_type": "stream",
     "text": [
      "Sequential(\n",
      "  (0): Linear(in_features=4, out_features=10, bias=True)\n",
      "  (1): ReLU()\n",
      "  (2): Linear(in_features=10, out_features=10, bias=True)\n",
      "  (3): ReLU()\n",
      "  (4): Linear(in_features=10, out_features=3, bias=True)\n",
      ")\n"
     ]
    }
   ],
   "source": [
    "print(model)"
   ]
  },
  {
   "cell_type": "code",
   "execution_count": 127,
   "metadata": {},
   "outputs": [],
   "source": [
    "loss_fn = nn.CrossEntropyLoss()  # 넘길 때, (N,C), (N,)  <--- one_hot으로 변환하지 않는 target을 넘긴다.\n",
    "optimizer = optim.Adam(model.parameters(),lr=0.001)   # tensorflow와 달리 lr=0.0001일 때, 잘된다."
   ]
  },
  {
   "cell_type": "code",
   "execution_count": 134,
   "metadata": {},
   "outputs": [
    {
     "name": "stdout",
     "output_type": "stream",
     "text": [
      "cuda\n",
      "epoch: 1/200, loss: 0.0616, acc: 0.9800\n",
      "epoch: 2/200, loss: 0.0974, acc: 0.9800\n",
      "epoch: 3/200, loss: 0.0794, acc: 0.9800\n",
      "epoch: 4/200, loss: 0.0742, acc: 0.9667\n",
      "epoch: 5/200, loss: 0.0552, acc: 0.9667\n",
      "epoch: 6/200, loss: 0.0578, acc: 0.9667\n",
      "epoch: 7/200, loss: 0.0888, acc: 0.9733\n",
      "epoch: 8/200, loss: 0.0765, acc: 0.9733\n",
      "epoch: 9/200, loss: 0.0619, acc: 0.9733\n",
      "epoch: 10/200, loss: 0.0456, acc: 0.9733\n",
      "epoch: 11/200, loss: 0.0492, acc: 0.9733\n",
      "epoch: 12/200, loss: 0.0602, acc: 0.9733\n",
      "epoch: 13/200, loss: 0.0494, acc: 0.9733\n",
      "epoch: 14/200, loss: 0.0555, acc: 0.9667\n",
      "epoch: 15/200, loss: 0.0730, acc: 0.9667\n",
      "epoch: 16/200, loss: 0.0946, acc: 0.9667\n",
      "epoch: 17/200, loss: 0.0625, acc: 0.9667\n",
      "epoch: 18/200, loss: 0.0733, acc: 0.9667\n",
      "epoch: 19/200, loss: 0.0635, acc: 0.9667\n",
      "epoch: 20/200, loss: 0.0631, acc: 0.9667\n",
      "epoch: 21/200, loss: 0.0765, acc: 0.9667\n",
      "epoch: 22/200, loss: 0.0919, acc: 0.9667\n",
      "epoch: 23/200, loss: 0.0663, acc: 0.9600\n",
      "epoch: 24/200, loss: 0.0697, acc: 0.9600\n",
      "epoch: 25/200, loss: 0.1001, acc: 0.9600\n",
      "epoch: 26/200, loss: 0.0893, acc: 0.9600\n",
      "epoch: 27/200, loss: 0.0773, acc: 0.9600\n",
      "epoch: 28/200, loss: 0.0900, acc: 0.9533\n",
      "epoch: 29/200, loss: 0.1145, acc: 0.9533\n",
      "epoch: 30/200, loss: 0.1045, acc: 0.9533\n",
      "epoch: 31/200, loss: 0.1305, acc: 0.9533\n",
      "epoch: 32/200, loss: 0.0941, acc: 0.9533\n",
      "epoch: 33/200, loss: 0.1104, acc: 0.9600\n",
      "epoch: 34/200, loss: 0.1084, acc: 0.9533\n",
      "epoch: 35/200, loss: 0.1235, acc: 0.9533\n",
      "epoch: 36/200, loss: 0.1144, acc: 0.9467\n",
      "epoch: 37/200, loss: 0.1133, acc: 0.9467\n",
      "epoch: 38/200, loss: 0.1214, acc: 0.9467\n",
      "epoch: 39/200, loss: 0.1608, acc: 0.9467\n",
      "epoch: 40/200, loss: 0.1382, acc: 0.9467\n",
      "epoch: 41/200, loss: 0.1634, acc: 0.9467\n",
      "epoch: 42/200, loss: 0.1660, acc: 0.9467\n",
      "epoch: 43/200, loss: 0.2250, acc: 0.9467\n",
      "epoch: 44/200, loss: 0.1993, acc: 0.9400\n",
      "epoch: 45/200, loss: 0.1437, acc: 0.9400\n",
      "epoch: 46/200, loss: 0.1472, acc: 0.9400\n",
      "epoch: 47/200, loss: 0.1590, acc: 0.9400\n",
      "epoch: 48/200, loss: 0.1503, acc: 0.9400\n",
      "epoch: 49/200, loss: 0.1671, acc: 0.9400\n",
      "epoch: 50/200, loss: 0.2190, acc: 0.9400\n",
      "epoch: 51/200, loss: 0.1605, acc: 0.9400\n",
      "epoch: 52/200, loss: 0.1645, acc: 0.9400\n",
      "epoch: 53/200, loss: 0.2123, acc: 0.9400\n",
      "epoch: 54/200, loss: 0.2181, acc: 0.9400\n",
      "epoch: 55/200, loss: 0.1796, acc: 0.9400\n",
      "epoch: 56/200, loss: 0.2434, acc: 0.9400\n",
      "epoch: 57/200, loss: 0.1716, acc: 0.9400\n",
      "epoch: 58/200, loss: 0.1731, acc: 0.9400\n",
      "epoch: 59/200, loss: 0.2201, acc: 0.9400\n",
      "epoch: 60/200, loss: 0.2511, acc: 0.9400\n",
      "epoch: 61/200, loss: 0.1862, acc: 0.9400\n",
      "epoch: 62/200, loss: 0.2687, acc: 0.9400\n",
      "epoch: 63/200, loss: 0.2095, acc: 0.9400\n",
      "epoch: 64/200, loss: 0.1637, acc: 0.9400\n",
      "epoch: 65/200, loss: 0.1705, acc: 0.9400\n",
      "epoch: 66/200, loss: 0.2334, acc: 0.9400\n",
      "epoch: 67/200, loss: 0.2122, acc: 0.9400\n",
      "epoch: 68/200, loss: 0.2682, acc: 0.9400\n",
      "epoch: 69/200, loss: 0.2139, acc: 0.9400\n",
      "epoch: 70/200, loss: 0.2098, acc: 0.9400\n",
      "epoch: 71/200, loss: 0.1551, acc: 0.9400\n",
      "epoch: 72/200, loss: 0.2087, acc: 0.9400\n",
      "epoch: 73/200, loss: 0.1420, acc: 0.9400\n",
      "epoch: 74/200, loss: 0.1536, acc: 0.9400\n",
      "epoch: 75/200, loss: 0.1978, acc: 0.9400\n",
      "epoch: 76/200, loss: 0.1312, acc: 0.9467\n",
      "epoch: 77/200, loss: 0.1928, acc: 0.9467\n",
      "epoch: 78/200, loss: 0.1138, acc: 0.9467\n",
      "epoch: 79/200, loss: 0.2416, acc: 0.9467\n",
      "epoch: 80/200, loss: 0.1520, acc: 0.9533\n",
      "epoch: 81/200, loss: 0.1430, acc: 0.9600\n",
      "epoch: 82/200, loss: 0.0962, acc: 0.9600\n",
      "epoch: 83/200, loss: 0.0899, acc: 0.9533\n",
      "epoch: 84/200, loss: 0.0913, acc: 0.9533\n",
      "epoch: 85/200, loss: 0.1035, acc: 0.9533\n",
      "epoch: 86/200, loss: 0.0859, acc: 0.9533\n",
      "epoch: 87/200, loss: 0.0909, acc: 0.9600\n",
      "epoch: 88/200, loss: 0.1231, acc: 0.9600\n",
      "epoch: 89/200, loss: 0.0898, acc: 0.9600\n",
      "epoch: 90/200, loss: 0.0631, acc: 0.9667\n",
      "epoch: 91/200, loss: 0.0846, acc: 0.9667\n",
      "epoch: 92/200, loss: 0.0727, acc: 0.9667\n",
      "epoch: 93/200, loss: 0.0536, acc: 0.9667\n",
      "epoch: 94/200, loss: 0.0725, acc: 0.9667\n",
      "epoch: 95/200, loss: 0.0572, acc: 0.9667\n",
      "epoch: 96/200, loss: 0.0471, acc: 0.9667\n",
      "epoch: 97/200, loss: 0.0568, acc: 0.9733\n",
      "epoch: 98/200, loss: 0.0545, acc: 0.9733\n",
      "epoch: 99/200, loss: 0.0697, acc: 0.9733\n",
      "epoch: 100/200, loss: 0.0721, acc: 0.9800\n",
      "epoch: 101/200, loss: 0.0430, acc: 0.9733\n",
      "epoch: 102/200, loss: 0.0464, acc: 0.9733\n",
      "epoch: 103/200, loss: 0.0430, acc: 0.9733\n",
      "epoch: 104/200, loss: 0.0423, acc: 0.9867\n",
      "epoch: 105/200, loss: 0.0415, acc: 0.9867\n",
      "epoch: 106/200, loss: 0.0491, acc: 0.9867\n",
      "epoch: 107/200, loss: 0.0439, acc: 0.9867\n",
      "epoch: 108/200, loss: 0.0486, acc: 0.9867\n",
      "epoch: 109/200, loss: 0.0731, acc: 0.9800\n",
      "epoch: 110/200, loss: 0.0509, acc: 0.9800\n",
      "epoch: 111/200, loss: 0.0699, acc: 0.9800\n",
      "epoch: 112/200, loss: 0.0667, acc: 0.9733\n",
      "epoch: 113/200, loss: 0.0678, acc: 0.9667\n",
      "epoch: 114/200, loss: 0.0898, acc: 0.9667\n",
      "epoch: 115/200, loss: 0.1519, acc: 0.9667\n",
      "epoch: 116/200, loss: 0.0708, acc: 0.9667\n",
      "epoch: 117/200, loss: 0.0870, acc: 0.9667\n",
      "epoch: 118/200, loss: 0.1781, acc: 0.9667\n",
      "epoch: 119/200, loss: 0.1024, acc: 0.9667\n",
      "epoch: 120/200, loss: 0.1451, acc: 0.9667\n",
      "epoch: 121/200, loss: 0.0896, acc: 0.9667\n",
      "epoch: 122/200, loss: 0.1143, acc: 0.9667\n",
      "epoch: 123/200, loss: 0.1233, acc: 0.9667\n",
      "epoch: 124/200, loss: 0.1011, acc: 0.9667\n",
      "epoch: 125/200, loss: 0.1304, acc: 0.9667\n",
      "epoch: 126/200, loss: 0.1559, acc: 0.9667\n",
      "epoch: 127/200, loss: 0.1416, acc: 0.9667\n",
      "epoch: 128/200, loss: 0.1178, acc: 0.9667\n",
      "epoch: 129/200, loss: 0.1548, acc: 0.9667\n",
      "epoch: 130/200, loss: 0.1255, acc: 0.9667\n",
      "epoch: 131/200, loss: 0.1965, acc: 0.9667\n",
      "epoch: 132/200, loss: 0.1319, acc: 0.9667\n",
      "epoch: 133/200, loss: 0.2272, acc: 0.9667\n",
      "epoch: 134/200, loss: 0.1824, acc: 0.9667\n",
      "epoch: 135/200, loss: 0.1419, acc: 0.9667\n",
      "epoch: 136/200, loss: 0.1870, acc: 0.9667\n",
      "epoch: 137/200, loss: 0.2440, acc: 0.9667\n",
      "epoch: 138/200, loss: 0.1564, acc: 0.9667\n",
      "epoch: 139/200, loss: 0.2906, acc: 0.9667\n",
      "epoch: 140/200, loss: 0.2009, acc: 0.9667\n",
      "epoch: 141/200, loss: 0.2639, acc: 0.9667\n",
      "epoch: 142/200, loss: 0.1653, acc: 0.9667\n",
      "epoch: 143/200, loss: 0.2497, acc: 0.9667\n",
      "epoch: 144/200, loss: 0.2104, acc: 0.9667\n",
      "epoch: 145/200, loss: 0.3106, acc: 0.9667\n",
      "epoch: 146/200, loss: 0.2129, acc: 0.9667\n",
      "epoch: 147/200, loss: 0.1732, acc: 0.9667\n",
      "epoch: 148/200, loss: 0.2146, acc: 0.9667\n",
      "epoch: 149/200, loss: 0.1758, acc: 0.9667\n",
      "epoch: 150/200, loss: 0.1731, acc: 0.9667\n",
      "epoch: 151/200, loss: 0.1762, acc: 0.9667\n",
      "epoch: 152/200, loss: 0.3677, acc: 0.9667\n",
      "epoch: 153/200, loss: 0.2839, acc: 0.9667\n",
      "epoch: 154/200, loss: 0.1736, acc: 0.9667\n",
      "epoch: 155/200, loss: 0.2712, acc: 0.9667\n",
      "epoch: 156/200, loss: 0.2144, acc: 0.9667\n",
      "epoch: 157/200, loss: 0.2653, acc: 0.9667\n",
      "epoch: 158/200, loss: 0.2604, acc: 0.9667\n",
      "epoch: 159/200, loss: 0.1613, acc: 0.9667\n",
      "epoch: 160/200, loss: 0.1628, acc: 0.9667\n",
      "epoch: 161/200, loss: 0.1585, acc: 0.9667\n",
      "epoch: 162/200, loss: 0.1544, acc: 0.9667\n",
      "epoch: 163/200, loss: 0.1901, acc: 0.9667\n",
      "epoch: 164/200, loss: 0.1468, acc: 0.9667\n",
      "epoch: 165/200, loss: 0.1835, acc: 0.9667\n",
      "epoch: 166/200, loss: 0.1398, acc: 0.9667\n",
      "epoch: 167/200, loss: 0.1707, acc: 0.9667\n",
      "epoch: 168/200, loss: 0.1990, acc: 0.9667\n",
      "epoch: 169/200, loss: 0.2117, acc: 0.9667\n",
      "epoch: 170/200, loss: 0.1246, acc: 0.9667\n",
      "epoch: 171/200, loss: 0.1197, acc: 0.9667\n",
      "epoch: 172/200, loss: 0.1162, acc: 0.9667\n",
      "epoch: 173/200, loss: 0.1106, acc: 0.9667\n",
      "epoch: 174/200, loss: 0.1060, acc: 0.9667\n",
      "epoch: 175/200, loss: 0.1013, acc: 0.9667\n",
      "epoch: 176/200, loss: 0.0973, acc: 0.9667\n",
      "epoch: 177/200, loss: 0.0927, acc: 0.9667\n",
      "epoch: 178/200, loss: 0.0866, acc: 0.9667\n",
      "epoch: 179/200, loss: 0.0828, acc: 0.9667\n",
      "epoch: 180/200, loss: 0.1086, acc: 0.9667\n",
      "epoch: 181/200, loss: 0.1293, acc: 0.9667\n",
      "epoch: 182/200, loss: 0.1067, acc: 0.9667\n",
      "epoch: 183/200, loss: 0.0741, acc: 0.9667\n",
      "epoch: 184/200, loss: 0.0595, acc: 0.9667\n",
      "epoch: 185/200, loss: 0.0555, acc: 0.9667\n",
      "epoch: 186/200, loss: 0.0720, acc: 0.9733\n",
      "epoch: 187/200, loss: 0.0583, acc: 0.9867\n",
      "epoch: 188/200, loss: 0.1027, acc: 0.9867\n",
      "epoch: 189/200, loss: 0.0851, acc: 0.9867\n",
      "epoch: 190/200, loss: 0.0507, acc: 0.9867\n",
      "epoch: 191/200, loss: 0.0445, acc: 0.9867\n",
      "epoch: 192/200, loss: 0.0398, acc: 0.9800\n",
      "epoch: 193/200, loss: 0.0679, acc: 0.9733\n",
      "epoch: 194/200, loss: 0.0509, acc: 0.9800\n",
      "epoch: 195/200, loss: 0.0461, acc: 0.9800\n",
      "epoch: 196/200, loss: 0.0559, acc: 0.9733\n",
      "epoch: 197/200, loss: 0.0458, acc: 0.9667\n",
      "epoch: 198/200, loss: 0.0665, acc: 0.9667\n",
      "epoch: 199/200, loss: 0.0519, acc: 0.9667\n",
      "epoch: 200/200, loss: 0.0866, acc: 0.9667\n"
     ]
    }
   ],
   "source": [
    "n_epoch = 200\n",
    "\n",
    "device = torch.device('cuda' if torch.cuda.is_available() else 'cpu')\n",
    "print(device)\n",
    "model.to(device)\n",
    "history_loss = []\n",
    "history_acc  = []\n",
    "for epoch in range(n_epoch):\n",
    "    model.train()\n",
    "    running_loss = []\n",
    "    acc = 0\n",
    "    n = 0\n",
    "    for i,(x,y) in enumerate(loader):\n",
    "        x = x.to(device)\n",
    "        y = y.to(device)\n",
    "        pred = model(x)\n",
    "        loss = loss_fn(pred,y)\n",
    "        loss.backward()\n",
    "        optimizer.step()\n",
    "        running_loss.append(loss.item())\n",
    "        _,pred = pred.max(1)\n",
    "        acc += (pred==y).float().sum().item()\n",
    "        n += len(y)\n",
    "    \n",
    "    history_loss.append(np.mean(running_loss))\n",
    "    history_acc.append(acc/n)\n",
    "    print('epoch: {}/{}, loss: {:.4f}, acc: {:.4f}'.format(epoch+1,n_epoch,history_loss[-1],history_acc[-1]))\n",
    "    "
   ]
  },
  {
   "cell_type": "code",
   "execution_count": 135,
   "metadata": {},
   "outputs": [
    {
     "data": {
      "text/plain": [
       "(0, 1)"
      ]
     },
     "execution_count": 135,
     "metadata": {},
     "output_type": "execute_result"
    },
    {
     "data": {
      "image/png": "[encoded data removed]",
      "text/plain": [
       "<Figure size 432x288 with 1 Axes>"
      ]
     },
     "metadata": {
      "needs_background": "light"
     },
     "output_type": "display_data"
    }
   ],
   "source": [
    "plt.plot(history_acc, label=\"train accuracy\")\n",
    "plt.ylim([0,1])"
   ]
  },
  {
   "cell_type": "code",
   "execution_count": 89,
   "metadata": {},
   "outputs": [
    {
     "data": {
      "text/plain": [
       "[<matplotlib.lines.Line2D at 0x1faadf09390>]"
      ]
     },
     "execution_count": 89,
     "metadata": {},
     "output_type": "execute_result"
    },
    {
     "data": {
      "image/png": "[encoded data removed]",
      "text/plain": [
       "<Figure size 432x288 with 1 Axes>"
      ]
     },
     "metadata": {
      "needs_background": "light"
     },
     "output_type": "display_data"
    }
   ],
   "source": [
    "plt.plot(history_loss, label=\"train accuracy\")"
   ]
  },
  {
   "cell_type": "code",
   "execution_count": null,
   "metadata": {},
   "outputs": [],
   "source": []
  },
  {
   "cell_type": "markdown",
   "metadata": {},
   "source": [
    "## Logitic Regression"
   ]
  },
  {
   "cell_type": "code",
   "execution_count": 57,
   "metadata": {},
   "outputs": [],
   "source": [
    "import numpy as np\n",
    "import matplotlib.pyplot as plt\n",
    "import time\n",
    "import datetime\n",
    "import sys\n",
    "import seaborn as sns\n",
    "import pandas as pd\n",
    "import tensorflow as tf"
   ]
  },
  {
   "cell_type": "code",
   "execution_count": 58,
   "metadata": {},
   "outputs": [
    {
     "data": {
      "text/plain": [
       "<matplotlib.collections.PathCollection at 0x1cf30ad2198>"
      ]
     },
     "execution_count": 58,
     "metadata": {},
     "output_type": "execute_result"
    },
    {
     "data": {
      "image/png": "[encoded data removed]",
      "text/plain": [
       "<Figure size 1080x576 with 2 Axes>"
      ]
     },
     "metadata": {
      "needs_background": "light"
     },
     "output_type": "display_data"
    }
   ],
   "source": [
    "mydata = np.genfromtxt('mydata2.txt',delimiter=',',dtype=np.float32)\n",
    "A = mydata[:,0:2]\n",
    "B = mydata[:,-1].reshape(-1,1)  # mydata[:,2:3]\n",
    "plt.figure(figsize=(15,8))\n",
    "plt.subplot(1,2,1)\n",
    "plt.scatter(A[:, 0], A[:, 1], c=B[:,0],marker=\">\")\n",
    "plt.subplot(1,2,2)\n",
    "plt.scatter(A[:, 0], A[:, 1], c=B[:,0],marker=\"o\")\n",
    "\n",
    "#A = (A-np.mean(A,0))/np.std(A,0)"
   ]
  },
  {
   "cell_type": "code",
   "execution_count": 59,
   "metadata": {},
   "outputs": [
    {
     "name": "stdout",
     "output_type": "stream",
     "text": [
      "data 갯수:  118\n"
     ]
    }
   ],
   "source": [
    "df=pd.DataFrame(data=mydata,columns=['x','y','c'])\n",
    "df.head(5)\n",
    "print(\"data 갯수: \",len(df))"
   ]
  },
  {
   "cell_type": "code",
   "execution_count": 60,
   "metadata": {},
   "outputs": [
    {
     "data": {
      "text/plain": [
       "<matplotlib.axes._subplots.AxesSubplot at 0x1cf30b3a9e8>"
      ]
     },
     "execution_count": 60,
     "metadata": {},
     "output_type": "execute_result"
    },
    {
     "data": {
      "image/png": "[encoded data removed]",
      "text/plain": [
       "<Figure size 432x288 with 1 Axes>"
      ]
     },
     "metadata": {
      "needs_background": "light"
     },
     "output_type": "display_data"
    }
   ],
   "source": [
    "# pandas dataframe을 넘겨주면 좋다.\n",
    "sns.scatterplot(x='x', \n",
    "                y='y', \n",
    "                hue='c', # different colors by group\n",
    "                style='c', # different shapes by group\n",
    "                s=50, # marker size\n",
    "                data=df)"
   ]
  },
  {
   "cell_type": "code",
   "execution_count": 61,
   "metadata": {},
   "outputs": [
    {
     "name": "stdout",
     "output_type": "stream",
     "text": [
      "Model: \"sequential\"\n",
      "_________________________________________________________________\n",
      "Layer (type)                 Output Shape              Param #   \n",
      "=================================================================\n",
      "dense (Dense)                (None, 10)                30        \n",
      "_________________________________________________________________\n",
      "dense_1 (Dense)              (None, 1)                 11        \n",
      "=================================================================\n",
      "Total params: 41\n",
      "Trainable params: 41\n",
      "Non-trainable params: 0\n",
      "_________________________________________________________________\n"
     ]
    }
   ],
   "source": [
    "model = tf.keras.Sequential([\n",
    "    tf.keras.layers.Dense(10,input_shape=(2,), activation='relu'),  \n",
    "    tf.keras.layers.Dense(1, activation='sigmoid')\n",
    "])\n",
    "optimiser = tf.keras.optimizers.Adam(learning_rate=0.01)  # pytorch와 달리, 0.01 또는 0.001일 때, 잘된다. 0.0001이면 별로...\n",
    "# tf.keras.losses.categorical_crossentropy(y_true, y_pred, from_logits=False, label_smoothing=0)  ---> default: logit이 아니 확률\n",
    "model.compile(optimizer=optimiser, loss=tf.keras.losses.BinaryCrossentropy(), metrics=['accuracy'])  # sparse ---> target이 onthot이 아니어도 된다.\n",
    "model.summary()"
   ]
  },
  {
   "cell_type": "code",
   "execution_count": 62,
   "metadata": {},
   "outputs": [
    {
     "name": "stdout",
     "output_type": "stream",
     "text": [
      "Epoch 1/100\n",
      "2/2 [==============================] - 0s 2ms/step - loss: 0.7027 - accuracy: 0.5000\n",
      "Epoch 2/100\n",
      "2/2 [==============================] - 0s 1ms/step - loss: 0.6980 - accuracy: 0.4746\n",
      "Epoch 3/100\n",
      "2/2 [==============================] - 0s 1ms/step - loss: 0.6952 - accuracy: 0.5169\n",
      "Epoch 4/100\n",
      "2/2 [==============================] - 0s 1ms/step - loss: 0.6928 - accuracy: 0.5339\n",
      "Epoch 5/100\n",
      "2/2 [==============================] - 0s 2ms/step - loss: 0.6903 - accuracy: 0.5254\n",
      "Epoch 6/100\n",
      "2/2 [==============================] - 0s 1ms/step - loss: 0.6887 - accuracy: 0.5169\n",
      "Epoch 7/100\n",
      "2/2 [==============================] - 0s 1ms/step - loss: 0.6870 - accuracy: 0.5000\n",
      "Epoch 8/100\n",
      "2/2 [==============================] - 0s 1ms/step - loss: 0.6857 - accuracy: 0.4915\n",
      "Epoch 9/100\n",
      "2/2 [==============================] - 0s 1ms/step - loss: 0.6843 - accuracy: 0.5085\n",
      "Epoch 10/100\n",
      "2/2 [==============================] - 0s 1ms/step - loss: 0.6829 - accuracy: 0.5254\n",
      "Epoch 11/100\n",
      "2/2 [==============================] - 0s 1ms/step - loss: 0.6820 - accuracy: 0.5339\n",
      "Epoch 12/100\n",
      "2/2 [==============================] - 0s 1ms/step - loss: 0.6807 - accuracy: 0.5339\n",
      "Epoch 13/100\n",
      "2/2 [==============================] - 0s 1ms/step - loss: 0.6795 - accuracy: 0.5339\n",
      "Epoch 14/100\n",
      "2/2 [==============================] - 0s 2ms/step - loss: 0.6785 - accuracy: 0.5424\n",
      "Epoch 15/100\n",
      "2/2 [==============================] - 0s 997us/step - loss: 0.6775 - accuracy: 0.5678\n",
      "Epoch 16/100\n",
      "2/2 [==============================] - 0s 998us/step - loss: 0.6762 - accuracy: 0.5847\n",
      "Epoch 17/100\n",
      "2/2 [==============================] - 0s 2ms/step - loss: 0.6752 - accuracy: 0.6271\n",
      "Epoch 18/100\n",
      "2/2 [==============================] - 0s 1ms/step - loss: 0.6738 - accuracy: 0.6780\n",
      "Epoch 19/100\n",
      "2/2 [==============================] - 0s 1ms/step - loss: 0.6724 - accuracy: 0.7119\n",
      "Epoch 20/100\n",
      "2/2 [==============================] - 0s 2ms/step - loss: 0.6708 - accuracy: 0.7373\n",
      "Epoch 21/100\n",
      "2/2 [==============================] - 0s 2ms/step - loss: 0.6694 - accuracy: 0.7203\n",
      "Epoch 22/100\n",
      "2/2 [==============================] - 0s 1ms/step - loss: 0.6675 - accuracy: 0.7203\n",
      "Epoch 23/100\n",
      "2/2 [==============================] - 0s 1ms/step - loss: 0.6657 - accuracy: 0.7288\n",
      "Epoch 24/100\n",
      "2/2 [==============================] - 0s 1ms/step - loss: 0.6643 - accuracy: 0.7288\n",
      "Epoch 25/100\n",
      "2/2 [==============================] - 0s 1ms/step - loss: 0.6620 - accuracy: 0.7203\n",
      "Epoch 26/100\n",
      "2/2 [==============================] - 0s 1ms/step - loss: 0.6600 - accuracy: 0.7373\n",
      "Epoch 27/100\n",
      "2/2 [==============================] - 0s 1ms/step - loss: 0.6578 - accuracy: 0.7458\n",
      "Epoch 28/100\n",
      "2/2 [==============================] - 0s 1ms/step - loss: 0.6554 - accuracy: 0.7373\n",
      "Epoch 29/100\n",
      "2/2 [==============================] - 0s 1ms/step - loss: 0.6531 - accuracy: 0.7119\n",
      "Epoch 30/100\n",
      "2/2 [==============================] - 0s 997us/step - loss: 0.6505 - accuracy: 0.7203\n",
      "Epoch 31/100\n",
      "2/2 [==============================] - 0s 1ms/step - loss: 0.6477 - accuracy: 0.7034\n",
      "Epoch 32/100\n",
      "2/2 [==============================] - 0s 985us/step - loss: 0.6457 - accuracy: 0.6949\n",
      "Epoch 33/100\n",
      "2/2 [==============================] - 0s 1ms/step - loss: 0.6425 - accuracy: 0.6695\n",
      "Epoch 34/100\n",
      "2/2 [==============================] - 0s 998us/step - loss: 0.6403 - accuracy: 0.6610\n",
      "Epoch 35/100\n",
      "2/2 [==============================] - 0s 998us/step - loss: 0.6375 - accuracy: 0.6610\n",
      "Epoch 36/100\n",
      "2/2 [==============================] - 0s 997us/step - loss: 0.6345 - accuracy: 0.6525\n",
      "Epoch 37/100\n",
      "2/2 [==============================] - 0s 1ms/step - loss: 0.6320 - accuracy: 0.6610\n",
      "Epoch 38/100\n",
      "2/2 [==============================] - 0s 1ms/step - loss: 0.6286 - accuracy: 0.6610\n",
      "Epoch 39/100\n",
      "2/2 [==============================] - 0s 997us/step - loss: 0.6259 - accuracy: 0.6780\n",
      "Epoch 40/100\n",
      "2/2 [==============================] - 0s 1ms/step - loss: 0.6231 - accuracy: 0.6864\n",
      "Epoch 41/100\n",
      "2/2 [==============================] - 0s 1ms/step - loss: 0.6199 - accuracy: 0.6949\n",
      "Epoch 42/100\n",
      "2/2 [==============================] - 0s 998us/step - loss: 0.6171 - accuracy: 0.7034\n",
      "Epoch 43/100\n",
      "2/2 [==============================] - 0s 1ms/step - loss: 0.6140 - accuracy: 0.6949\n",
      "Epoch 44/100\n",
      "2/2 [==============================] - 0s 1ms/step - loss: 0.6110 - accuracy: 0.6949\n",
      "Epoch 45/100\n",
      "2/2 [==============================] - 0s 1ms/step - loss: 0.6079 - accuracy: 0.6949\n",
      "Epoch 46/100\n",
      "2/2 [==============================] - 0s 1ms/step - loss: 0.6045 - accuracy: 0.6949\n",
      "Epoch 47/100\n",
      "2/2 [==============================] - 0s 1ms/step - loss: 0.6014 - accuracy: 0.6949\n",
      "Epoch 48/100\n",
      "2/2 [==============================] - 0s 1ms/step - loss: 0.5981 - accuracy: 0.7119\n",
      "Epoch 49/100\n",
      "2/2 [==============================] - 0s 1ms/step - loss: 0.5945 - accuracy: 0.7119\n",
      "Epoch 50/100\n",
      "2/2 [==============================] - 0s 1ms/step - loss: 0.5913 - accuracy: 0.7203\n",
      "Epoch 51/100\n",
      "2/2 [==============================] - 0s 1ms/step - loss: 0.5878 - accuracy: 0.7203\n",
      "Epoch 52/100\n",
      "2/2 [==============================] - 0s 1ms/step - loss: 0.5849 - accuracy: 0.7203\n",
      "Epoch 53/100\n",
      "2/2 [==============================] - 0s 997us/step - loss: 0.5819 - accuracy: 0.7203\n",
      "Epoch 54/100\n",
      "2/2 [==============================] - 0s 996us/step - loss: 0.5785 - accuracy: 0.7373\n",
      "Epoch 55/100\n",
      "2/2 [==============================] - 0s 1ms/step - loss: 0.5752 - accuracy: 0.7373\n",
      "Epoch 56/100\n",
      "2/2 [==============================] - 0s 1ms/step - loss: 0.5719 - accuracy: 0.7373\n",
      "Epoch 57/100\n",
      "2/2 [==============================] - 0s 1ms/step - loss: 0.5690 - accuracy: 0.7458\n",
      "Epoch 58/100\n",
      "2/2 [==============================] - 0s 998us/step - loss: 0.5657 - accuracy: 0.7373\n",
      "Epoch 59/100\n",
      "2/2 [==============================] - 0s 1ms/step - loss: 0.5622 - accuracy: 0.7373\n",
      "Epoch 60/100\n",
      "2/2 [==============================] - 0s 998us/step - loss: 0.5588 - accuracy: 0.7373\n",
      "Epoch 61/100\n",
      "2/2 [==============================] - 0s 1ms/step - loss: 0.5555 - accuracy: 0.7373\n",
      "Epoch 62/100\n",
      "2/2 [==============================] - 0s 997us/step - loss: 0.5526 - accuracy: 0.7458\n",
      "Epoch 63/100\n",
      "2/2 [==============================] - 0s 1ms/step - loss: 0.5487 - accuracy: 0.7627\n",
      "Epoch 64/100\n",
      "2/2 [==============================] - 0s 1ms/step - loss: 0.5460 - accuracy: 0.7627\n",
      "Epoch 65/100\n",
      "2/2 [==============================] - 0s 1ms/step - loss: 0.5422 - accuracy: 0.7627\n",
      "Epoch 66/100\n",
      "2/2 [==============================] - 0s 1ms/step - loss: 0.5387 - accuracy: 0.7542\n",
      "Epoch 67/100\n",
      "2/2 [==============================] - 0s 986us/step - loss: 0.5354 - accuracy: 0.7627\n",
      "Epoch 68/100\n",
      "2/2 [==============================] - 0s 996us/step - loss: 0.5327 - accuracy: 0.7542\n",
      "Epoch 69/100\n",
      "2/2 [==============================] - 0s 1ms/step - loss: 0.5286 - accuracy: 0.7797\n",
      "Epoch 70/100\n",
      "2/2 [==============================] - 0s 998us/step - loss: 0.5262 - accuracy: 0.7881\n",
      "Epoch 71/100\n",
      "2/2 [==============================] - 0s 1ms/step - loss: 0.5222 - accuracy: 0.7966\n",
      "Epoch 72/100\n",
      "2/2 [==============================] - 0s 1ms/step - loss: 0.5184 - accuracy: 0.7966\n",
      "Epoch 73/100\n",
      "2/2 [==============================] - 0s 1ms/step - loss: 0.5151 - accuracy: 0.7881\n",
      "Epoch 74/100\n",
      "2/2 [==============================] - 0s 1ms/step - loss: 0.5121 - accuracy: 0.7966\n",
      "Epoch 75/100\n",
      "2/2 [==============================] - 0s 1ms/step - loss: 0.5095 - accuracy: 0.7966\n",
      "Epoch 76/100\n",
      "2/2 [==============================] - 0s 1ms/step - loss: 0.5055 - accuracy: 0.7881\n",
      "Epoch 77/100\n",
      "2/2 [==============================] - 0s 1ms/step - loss: 0.5027 - accuracy: 0.8051\n",
      "Epoch 78/100\n",
      "2/2 [==============================] - 0s 1ms/step - loss: 0.4992 - accuracy: 0.8305\n",
      "Epoch 79/100\n",
      "2/2 [==============================] - 0s 997us/step - loss: 0.4963 - accuracy: 0.8305\n",
      "Epoch 80/100\n",
      "2/2 [==============================] - 0s 1ms/step - loss: 0.4933 - accuracy: 0.8220\n",
      "Epoch 81/100\n",
      "2/2 [==============================] - 0s 1ms/step - loss: 0.4903 - accuracy: 0.8136\n",
      "Epoch 82/100\n",
      "2/2 [==============================] - 0s 1ms/step - loss: 0.4873 - accuracy: 0.8136\n",
      "Epoch 83/100\n",
      "2/2 [==============================] - 0s 998us/step - loss: 0.4844 - accuracy: 0.8220\n",
      "Epoch 84/100\n"
     ]
    },
    {
     "name": "stdout",
     "output_type": "stream",
     "text": [
      "2/2 [==============================] - 0s 1ms/step - loss: 0.4814 - accuracy: 0.8220\n",
      "Epoch 85/100\n",
      "2/2 [==============================] - 0s 997us/step - loss: 0.4795 - accuracy: 0.8220\n",
      "Epoch 86/100\n",
      "2/2 [==============================] - 0s 998us/step - loss: 0.4760 - accuracy: 0.8390\n",
      "Epoch 87/100\n",
      "2/2 [==============================] - 0s 1ms/step - loss: 0.4740 - accuracy: 0.8305\n",
      "Epoch 88/100\n",
      "2/2 [==============================] - 0s 997us/step - loss: 0.4700 - accuracy: 0.8305\n",
      "Epoch 89/100\n",
      "2/2 [==============================] - 0s 1ms/step - loss: 0.4681 - accuracy: 0.8220\n",
      "Epoch 90/100\n",
      "2/2 [==============================] - 0s 1ms/step - loss: 0.4652 - accuracy: 0.8390\n",
      "Epoch 91/100\n",
      "2/2 [==============================] - 0s 2ms/step - loss: 0.4626 - accuracy: 0.8390\n",
      "Epoch 92/100\n",
      "2/2 [==============================] - 0s 1ms/step - loss: 0.4600 - accuracy: 0.8305\n",
      "Epoch 93/100\n",
      "2/2 [==============================] - 0s 1ms/step - loss: 0.4576 - accuracy: 0.8136\n",
      "Epoch 94/100\n",
      "2/2 [==============================] - 0s 1ms/step - loss: 0.4555 - accuracy: 0.8220\n",
      "Epoch 95/100\n",
      "2/2 [==============================] - 0s 1ms/step - loss: 0.4530 - accuracy: 0.8136\n",
      "Epoch 96/100\n",
      "2/2 [==============================] - 0s 1ms/step - loss: 0.4512 - accuracy: 0.8136\n",
      "Epoch 97/100\n",
      "2/2 [==============================] - 0s 997us/step - loss: 0.4483 - accuracy: 0.8220\n",
      "Epoch 98/100\n",
      "2/2 [==============================] - 0s 1ms/step - loss: 0.4458 - accuracy: 0.8305\n",
      "Epoch 99/100\n",
      "2/2 [==============================] - 0s 998us/step - loss: 0.4441 - accuracy: 0.8390\n",
      "Epoch 100/100\n",
      "2/2 [==============================] - 0s 997us/step - loss: 0.4418 - accuracy: 0.8390\n"
     ]
    },
    {
     "data": {
      "text/plain": [
       "[<matplotlib.lines.Line2D at 0x1cf72a8c4e0>]"
      ]
     },
     "execution_count": 62,
     "metadata": {},
     "output_type": "execute_result"
    },
    {
     "data": {
      "image/png": "[encoded data removed]",
      "text/plain": [
       "<Figure size 1080x576 with 2 Axes>"
      ]
     },
     "metadata": {
      "needs_background": "light"
     },
     "output_type": "display_data"
    }
   ],
   "source": [
    "# 모델의 output이 (N,1) 이므로, target도 (N,1)이 되어야 한다. target이 (N,)이면 안된다.\n",
    "\n",
    "history = model.fit(A, B, batch_size=64, epochs=100)  # 출력: (N,1), target: (N,1)\n",
    "\n",
    "plt.figure(figsize=(15,8))\n",
    "plt.subplot(1,2,1)\n",
    "plt.plot(history.history[\"accuracy\"], label=\"train accuracy\")\n",
    "plt.ylim([0,1])\n",
    "plt.subplot(1,2,2)\n",
    "plt.plot(history.history[\"loss\"], label=\"train loss\")"
   ]
  },
  {
   "cell_type": "code",
   "execution_count": 173,
   "metadata": {},
   "outputs": [
    {
     "data": {
      "text/plain": [
       "Text(0.5, 1.0, 'tf prediction')"
      ]
     },
     "execution_count": 173,
     "metadata": {},
     "output_type": "execute_result"
    },
    {
     "data": {
      "image/png": "[encoded data removed]",
      "text/plain": [
       "<Figure size 1080x576 with 2 Axes>"
      ]
     },
     "metadata": {
      "needs_background": "light"
     },
     "output_type": "display_data"
    }
   ],
   "source": [
    "df1=pd.DataFrame(data=mydata,columns=['x','y','target'])\n",
    "\n",
    "prediction = (model.predict(A) > 0.5).astype(np.int)\n",
    "  # np.concatenate([A,prediction],axis=-1)\n",
    "df2=pd.DataFrame(data=np.c_[A,prediction],columns=['x','y','prediction'])\n",
    "# pandas dataframe을 넘겨주어면 좋다.\n",
    "\n",
    "\n",
    "plt.figure(figsize=(15,8))\n",
    "plt.subplot(1,2,1)\n",
    "sns.scatterplot(x='x', \n",
    "                y='y', \n",
    "                hue='target', # different colors by group\n",
    "                style='target', # different shapes by group\n",
    "                s=50, # marker size\n",
    "                data=df1)\n",
    "plt.title('data')\n",
    "\n",
    "\n",
    "plt.subplot(1,2,2)\n",
    "sns.scatterplot(x='x', \n",
    "                y='y', \n",
    "                hue='prediction', # different colors by group\n",
    "                style='prediction', # different shapes by group\n",
    "                s=50, # marker size\n",
    "                data=df2)\n",
    "plt.title('tf prediction')"
   ]
  },
  {
   "cell_type": "markdown",
   "metadata": {},
   "source": [
    "## xgboost for iris dataset"
   ]
  },
  {
   "cell_type": "code",
   "execution_count": 10,
   "metadata": {},
   "outputs": [],
   "source": [
    "import pandas as pd\n",
    "from sklearn import datasets\n",
    "from sklearn import preprocessing\n",
    "from xgboost import XGBClassifier, XGBRFClassifier\n",
    "import numpy as np\n",
    "import matplotlib.pyplot as plt\n",
    "import seaborn as sns"
   ]
  },
  {
   "cell_type": "code",
   "execution_count": 2,
   "metadata": {},
   "outputs": [
    {
     "name": "stdout",
     "output_type": "stream",
     "text": [
      "   sepal length (cm)  sepal width (cm)  petal length (cm)  petal width (cm)\n",
      "0           0.222222          0.625000           0.067797          0.041667\n",
      "1           0.166667          0.416667           0.067797          0.041667\n",
      "2           0.111111          0.500000           0.050847          0.041667\n",
      "3           0.083333          0.458333           0.084746          0.041667\n",
      "4           0.194444          0.666667           0.067797          0.041667\n",
      "0    setosa\n",
      "1    setosa\n",
      "2    setosa\n",
      "3    setosa\n",
      "4    setosa\n",
      "dtype: object\n"
     ]
    }
   ],
   "source": [
    "iris = datasets.load_iris()  # dict_keys(['data', 'target', 'frame', 'target_names', 'DESCR', 'feature_names', 'filename'])\n",
    "labels=['setosa','versicolor','virginica']\n",
    "\n",
    "min_max_scaler = preprocessing.MinMaxScaler()\n",
    "X = min_max_scaler.fit_transform(iris['data'])\n",
    "Y = [labels[y] for y in iris['target']]\n",
    "\n",
    "x_train = pd.DataFrame(data= X,columns= iris['feature_names'] )\n",
    "y_train = pd.Series(data= Y)\n",
    "print(x_train.head(5))\n",
    "print(y_train.head(5))"
   ]
  },
  {
   "cell_type": "code",
   "execution_count": 3,
   "metadata": {},
   "outputs": [
    {
     "data": {
      "text/plain": [
       "XGBClassifier(base_score=0.5, booster='gbtree', colsample_bylevel=1,\n",
       "              colsample_bynode=1, colsample_bytree=1, gamma=0, gpu_id=-1,\n",
       "              importance_type='gain', interaction_constraints='',\n",
       "              learning_rate=0.05, max_delta_step=0, max_depth=6,\n",
       "              min_child_weight=1, missing=nan, monotone_constraints='()',\n",
       "              n_estimators=100, n_jobs=0, num_parallel_tree=1,\n",
       "              objective='multi:softprob', random_state=0, reg_alpha=0,\n",
       "              reg_lambda=1, scale_pos_weight=None, subsample=1,\n",
       "              tree_method='exact', validate_parameters=1, verbosity=None)"
      ]
     },
     "execution_count": 3,
     "metadata": {},
     "output_type": "execute_result"
    }
   ],
   "source": [
    "xgb = XGBClassifier(n_estimators=100, learning_rate=0.05)\n",
    "xgb.fit(x_train, y_train)"
   ]
  },
  {
   "cell_type": "code",
   "execution_count": 4,
   "metadata": {},
   "outputs": [
    {
     "data": {
      "text/plain": [
       "1.0"
      ]
     },
     "execution_count": 4,
     "metadata": {},
     "output_type": "execute_result"
    }
   ],
   "source": [
    "pred = xgb.predict(x_train)\n",
    "np.mean(pred==Y)"
   ]
  },
  {
   "cell_type": "markdown",
   "metadata": {},
   "source": [
    "## xgboost for mydata"
   ]
  },
  {
   "cell_type": "code",
   "execution_count": 5,
   "metadata": {},
   "outputs": [
    {
     "data": {
      "text/html": [
       "<div>\n",
       "<style scoped>\n",
       "    .dataframe tbody tr th:only-of-type {\n",
       "        vertical-align: middle;\n",
       "    }\n",
       "\n",
       "    .dataframe tbody tr th {\n",
       "        vertical-align: top;\n",
       "    }\n",
       "\n",
       "    .dataframe thead th {\n",
       "        text-align: right;\n",
       "    }\n",
       "</style>\n",
       "<table border=\"1\" class=\"dataframe\">\n",
       "  <thead>\n",
       "    <tr style=\"text-align: right;\">\n",
       "      <th></th>\n",
       "      <th>x</th>\n",
       "      <th>y</th>\n",
       "      <th>label</th>\n",
       "    </tr>\n",
       "  </thead>\n",
       "  <tbody>\n",
       "    <tr>\n",
       "      <th>0</th>\n",
       "      <td>0.051267</td>\n",
       "      <td>0.69956</td>\n",
       "      <td>1</td>\n",
       "    </tr>\n",
       "    <tr>\n",
       "      <th>1</th>\n",
       "      <td>-0.092742</td>\n",
       "      <td>0.68494</td>\n",
       "      <td>1</td>\n",
       "    </tr>\n",
       "    <tr>\n",
       "      <th>2</th>\n",
       "      <td>0.183760</td>\n",
       "      <td>0.93348</td>\n",
       "      <td>0</td>\n",
       "    </tr>\n",
       "    <tr>\n",
       "      <th>3</th>\n",
       "      <td>0.224080</td>\n",
       "      <td>0.77997</td>\n",
       "      <td>0</td>\n",
       "    </tr>\n",
       "    <tr>\n",
       "      <th>4</th>\n",
       "      <td>-0.213710</td>\n",
       "      <td>0.69225</td>\n",
       "      <td>1</td>\n",
       "    </tr>\n",
       "  </tbody>\n",
       "</table>\n",
       "</div>"
      ],
      "text/plain": [
       "          x        y  label\n",
       "0  0.051267  0.69956      1\n",
       "1 -0.092742  0.68494      1\n",
       "2  0.183760  0.93348      0\n",
       "3  0.224080  0.77997      0\n",
       "4 -0.213710  0.69225      1"
      ]
     },
     "execution_count": 5,
     "metadata": {},
     "output_type": "execute_result"
    }
   ],
   "source": [
    "df = pd.read_csv(\"mydata2.txt\", header=None,names=['x','y','label'])\n",
    "df.head()"
   ]
  },
  {
   "cell_type": "code",
   "execution_count": 6,
   "metadata": {},
   "outputs": [],
   "source": [
    "X = df.loc[:, df.columns != 'label']\n",
    "Y = df['label']  # Series"
   ]
  },
  {
   "cell_type": "code",
   "execution_count": 7,
   "metadata": {},
   "outputs": [
    {
     "data": {
      "text/plain": [
       "XGBClassifier(base_score=0.5, booster='gbtree', colsample_bylevel=1,\n",
       "              colsample_bynode=1, colsample_bytree=1, gamma=0, gpu_id=-1,\n",
       "              importance_type='gain', interaction_constraints='',\n",
       "              learning_rate=0.05, max_delta_step=0, max_depth=6,\n",
       "              min_child_weight=1, missing=nan, monotone_constraints='()',\n",
       "              n_estimators=100, n_jobs=0, num_parallel_tree=1, random_state=0,\n",
       "              reg_alpha=0, reg_lambda=1, scale_pos_weight=1, subsample=1,\n",
       "              tree_method='exact', validate_parameters=1, verbosity=None)"
      ]
     },
     "execution_count": 7,
     "metadata": {},
     "output_type": "execute_result"
    }
   ],
   "source": [
    "xgb = XGBClassifier(n_estimators=100, learning_rate=0.05)\n",
    "xgb.fit(X, Y)"
   ]
  },
  {
   "cell_type": "code",
   "execution_count": 8,
   "metadata": {},
   "outputs": [
    {
     "data": {
      "text/plain": [
       "0.9322033898305084"
      ]
     },
     "execution_count": 8,
     "metadata": {},
     "output_type": "execute_result"
    }
   ],
   "source": [
    "prediction = xgb.predict(X)\n",
    "np.mean(prediction==Y)"
   ]
  },
  {
   "cell_type": "code",
   "execution_count": 17,
   "metadata": {},
   "outputs": [
    {
     "data": {
      "text/plain": [
       "Text(0.5, 1.0, 'xgboost prediction')"
      ]
     },
     "execution_count": 17,
     "metadata": {},
     "output_type": "execute_result"
    },
    {
     "data": {
      "image/png": "[encoded data removed]",
      "text/plain": [
       "<Figure size 1080x576 with 2 Axes>"
      ]
     },
     "metadata": {
      "needs_background": "light"
     },
     "output_type": "display_data"
    }
   ],
   "source": [
    "df_pred=pd.DataFrame(data=np.c_[X.values,Y.values, prediction],columns=['x','y','label','prediction'])\n",
    "df_pred['misprediction']=df_pred['label'] != df_pred['prediction']\n",
    "plt.figure(figsize=(15,8))\n",
    "plt.subplot(1,2,1)\n",
    "sns.scatterplot(x='x', \n",
    "                y='y', \n",
    "                hue='label', # different colors by group\n",
    "                style='label', # different shapes by group\n",
    "                s=50, # marker size\n",
    "                data=df)\n",
    "plt.title('data')\n",
    "\n",
    "\n",
    "plt.subplot(1,2,2)\n",
    "sns.scatterplot(x='x', \n",
    "                y='y', \n",
    "                hue='prediction', # different colors by group\n",
    "                style='misprediction', # different shapes by group\n",
    "                s=50, # marker size\n",
    "                data=df_pred)\n",
    "plt.title('xgboost prediction')"
   ]
  },
  {
   "cell_type": "code",
   "execution_count": 12,
   "metadata": {},
   "outputs": [
    {
     "data": {
      "text/html": [
       "<div>\n",
       "<style scoped>\n",
       "    .dataframe tbody tr th:only-of-type {\n",
       "        vertical-align: middle;\n",
       "    }\n",
       "\n",
       "    .dataframe tbody tr th {\n",
       "        vertical-align: top;\n",
       "    }\n",
       "\n",
       "    .dataframe thead th {\n",
       "        text-align: right;\n",
       "    }\n",
       "</style>\n",
       "<table border=\"1\" class=\"dataframe\">\n",
       "  <thead>\n",
       "    <tr style=\"text-align: right;\">\n",
       "      <th></th>\n",
       "      <th>x</th>\n",
       "      <th>y</th>\n",
       "      <th>label</th>\n",
       "      <th>prediction</th>\n",
       "      <th>correct</th>\n",
       "    </tr>\n",
       "  </thead>\n",
       "  <tbody>\n",
       "    <tr>\n",
       "      <th>25</th>\n",
       "      <td>-0.42108</td>\n",
       "      <td>-0.272660</td>\n",
       "      <td>1.0</td>\n",
       "      <td>0.0</td>\n",
       "      <td>True</td>\n",
       "    </tr>\n",
       "    <tr>\n",
       "      <th>27</th>\n",
       "      <td>0.20104</td>\n",
       "      <td>-0.601610</td>\n",
       "      <td>1.0</td>\n",
       "      <td>0.0</td>\n",
       "      <td>True</td>\n",
       "    </tr>\n",
       "    <tr>\n",
       "      <th>32</th>\n",
       "      <td>-0.26555</td>\n",
       "      <td>0.962720</td>\n",
       "      <td>1.0</td>\n",
       "      <td>0.0</td>\n",
       "      <td>True</td>\n",
       "    </tr>\n",
       "    <tr>\n",
       "      <th>60</th>\n",
       "      <td>0.29896</td>\n",
       "      <td>0.619150</td>\n",
       "      <td>0.0</td>\n",
       "      <td>1.0</td>\n",
       "      <td>True</td>\n",
       "    </tr>\n",
       "    <tr>\n",
       "      <th>76</th>\n",
       "      <td>0.46601</td>\n",
       "      <td>-0.418860</td>\n",
       "      <td>0.0</td>\n",
       "      <td>1.0</td>\n",
       "      <td>True</td>\n",
       "    </tr>\n",
       "    <tr>\n",
       "      <th>107</th>\n",
       "      <td>-0.28859</td>\n",
       "      <td>-0.060673</td>\n",
       "      <td>0.0</td>\n",
       "      <td>1.0</td>\n",
       "      <td>True</td>\n",
       "    </tr>\n",
       "    <tr>\n",
       "      <th>114</th>\n",
       "      <td>-0.59389</td>\n",
       "      <td>0.494880</td>\n",
       "      <td>0.0</td>\n",
       "      <td>1.0</td>\n",
       "      <td>True</td>\n",
       "    </tr>\n",
       "    <tr>\n",
       "      <th>117</th>\n",
       "      <td>0.63265</td>\n",
       "      <td>-0.030612</td>\n",
       "      <td>0.0</td>\n",
       "      <td>1.0</td>\n",
       "      <td>True</td>\n",
       "    </tr>\n",
       "  </tbody>\n",
       "</table>\n",
       "</div>"
      ],
      "text/plain": [
       "           x         y  label  prediction  correct\n",
       "25  -0.42108 -0.272660    1.0         0.0     True\n",
       "27   0.20104 -0.601610    1.0         0.0     True\n",
       "32  -0.26555  0.962720    1.0         0.0     True\n",
       "60   0.29896  0.619150    0.0         1.0     True\n",
       "76   0.46601 -0.418860    0.0         1.0     True\n",
       "107 -0.28859 -0.060673    0.0         1.0     True\n",
       "114 -0.59389  0.494880    0.0         1.0     True\n",
       "117  0.63265 -0.030612    0.0         1.0     True"
      ]
     },
     "execution_count": 12,
     "metadata": {},
     "output_type": "execute_result"
    }
   ],
   "source": [
    "df_pred[df_pred['label'] != df_pred['prediction']]"
   ]
  },
  {
   "cell_type": "code",
   "execution_count": 13,
   "metadata": {},
   "outputs": [
    {
     "data": {
      "text/html": [
       "<div>\n",
       "<style scoped>\n",
       "    .dataframe tbody tr th:only-of-type {\n",
       "        vertical-align: middle;\n",
       "    }\n",
       "\n",
       "    .dataframe tbody tr th {\n",
       "        vertical-align: top;\n",
       "    }\n",
       "\n",
       "    .dataframe thead th {\n",
       "        text-align: right;\n",
       "    }\n",
       "</style>\n",
       "<table border=\"1\" class=\"dataframe\">\n",
       "  <thead>\n",
       "    <tr style=\"text-align: right;\">\n",
       "      <th></th>\n",
       "      <th>x</th>\n",
       "      <th>y</th>\n",
       "      <th>label</th>\n",
       "      <th>prediction</th>\n",
       "      <th>correct</th>\n",
       "    </tr>\n",
       "  </thead>\n",
       "  <tbody>\n",
       "    <tr>\n",
       "      <th>0</th>\n",
       "      <td>0.051267</td>\n",
       "      <td>0.699560</td>\n",
       "      <td>1.0</td>\n",
       "      <td>1.0</td>\n",
       "      <td>False</td>\n",
       "    </tr>\n",
       "    <tr>\n",
       "      <th>1</th>\n",
       "      <td>-0.092742</td>\n",
       "      <td>0.684940</td>\n",
       "      <td>1.0</td>\n",
       "      <td>1.0</td>\n",
       "      <td>False</td>\n",
       "    </tr>\n",
       "    <tr>\n",
       "      <th>2</th>\n",
       "      <td>0.183760</td>\n",
       "      <td>0.933480</td>\n",
       "      <td>0.0</td>\n",
       "      <td>0.0</td>\n",
       "      <td>False</td>\n",
       "    </tr>\n",
       "    <tr>\n",
       "      <th>3</th>\n",
       "      <td>0.224080</td>\n",
       "      <td>0.779970</td>\n",
       "      <td>0.0</td>\n",
       "      <td>0.0</td>\n",
       "      <td>False</td>\n",
       "    </tr>\n",
       "    <tr>\n",
       "      <th>4</th>\n",
       "      <td>-0.213710</td>\n",
       "      <td>0.692250</td>\n",
       "      <td>1.0</td>\n",
       "      <td>1.0</td>\n",
       "      <td>False</td>\n",
       "    </tr>\n",
       "    <tr>\n",
       "      <th>...</th>\n",
       "      <td>...</td>\n",
       "      <td>...</td>\n",
       "      <td>...</td>\n",
       "      <td>...</td>\n",
       "      <td>...</td>\n",
       "    </tr>\n",
       "    <tr>\n",
       "      <th>113</th>\n",
       "      <td>-0.720620</td>\n",
       "      <td>0.538740</td>\n",
       "      <td>0.0</td>\n",
       "      <td>0.0</td>\n",
       "      <td>False</td>\n",
       "    </tr>\n",
       "    <tr>\n",
       "      <th>114</th>\n",
       "      <td>-0.593890</td>\n",
       "      <td>0.494880</td>\n",
       "      <td>0.0</td>\n",
       "      <td>1.0</td>\n",
       "      <td>True</td>\n",
       "    </tr>\n",
       "    <tr>\n",
       "      <th>115</th>\n",
       "      <td>-0.484450</td>\n",
       "      <td>0.999270</td>\n",
       "      <td>0.0</td>\n",
       "      <td>0.0</td>\n",
       "      <td>False</td>\n",
       "    </tr>\n",
       "    <tr>\n",
       "      <th>116</th>\n",
       "      <td>-0.006336</td>\n",
       "      <td>0.999270</td>\n",
       "      <td>0.0</td>\n",
       "      <td>0.0</td>\n",
       "      <td>False</td>\n",
       "    </tr>\n",
       "    <tr>\n",
       "      <th>117</th>\n",
       "      <td>0.632650</td>\n",
       "      <td>-0.030612</td>\n",
       "      <td>0.0</td>\n",
       "      <td>1.0</td>\n",
       "      <td>True</td>\n",
       "    </tr>\n",
       "  </tbody>\n",
       "</table>\n",
       "<p>118 rows × 5 columns</p>\n",
       "</div>"
      ],
      "text/plain": [
       "            x         y  label  prediction  correct\n",
       "0    0.051267  0.699560    1.0         1.0    False\n",
       "1   -0.092742  0.684940    1.0         1.0    False\n",
       "2    0.183760  0.933480    0.0         0.0    False\n",
       "3    0.224080  0.779970    0.0         0.0    False\n",
       "4   -0.213710  0.692250    1.0         1.0    False\n",
       "..        ...       ...    ...         ...      ...\n",
       "113 -0.720620  0.538740    0.0         0.0    False\n",
       "114 -0.593890  0.494880    0.0         1.0     True\n",
       "115 -0.484450  0.999270    0.0         0.0    False\n",
       "116 -0.006336  0.999270    0.0         0.0    False\n",
       "117  0.632650 -0.030612    0.0         1.0     True\n",
       "\n",
       "[118 rows x 5 columns]"
      ]
     },
     "execution_count": 13,
     "metadata": {},
     "output_type": "execute_result"
    }
   ],
   "source": [
    "df_pred"
   ]
  },
  {
   "cell_type": "code",
   "execution_count": 15,
   "metadata": {
    "scrolled": true
   },
   "outputs": [
    {
     "data": {
      "text/plain": [
       "0       True\n",
       "1       True\n",
       "2       True\n",
       "3       True\n",
       "4       True\n",
       "       ...  \n",
       "113     True\n",
       "114    False\n",
       "115     True\n",
       "116     True\n",
       "117    False\n",
       "Name: label, Length: 118, dtype: bool"
      ]
     },
     "execution_count": 15,
     "metadata": {},
     "output_type": "execute_result"
    }
   ],
   "source": [
    "prediction==Y"
   ]
  },
  {
   "cell_type": "code",
   "execution_count": null,
   "metadata": {},
   "outputs": [],
   "source": []
  }
 ],
 "metadata": {
  "kernelspec": {
   "display_name": "Python 3",
   "language": "python",
   "name": "python3"
  },
  "language_info": {
   "codemirror_mode": {
    "name": "ipython",
    "version": 3
   },
   "file_extension": ".py",
   "mimetype": "text/x-python",
   "name": "python",
   "nbconvert_exporter": "python",
   "pygments_lexer": "ipython3",
   "version": "3.6.10"
  }
 },
 "nbformat": 4,
 "nbformat_minor": 4
}
