{
 "cells": [
  {
   "cell_type": "markdown",
   "metadata": {},
   "source": [
    "[![Open In Colab](https://colab.research.google.com/assets/colab-badge.svg)](https://colab.research.google.com/drive/1X6WerwDVRWZ6xGltEvOPL8lT4ddlQc2M)\n",
    "\n",
    "\n",
    "[![Open In nbviewer](https://jupyter.org/assets/main-logo.svg)](https://nbviewer.jupyter.org/github/hccho2/hccho2FirstGitProject/blob/master/torch_files/MNIST_loading.ipynb)"
   ]
  },
  {
   "cell_type": "code",
   "execution_count": 15,
   "metadata": {
    "executionInfo": {
     "elapsed": 2274,
     "status": "ok",
     "timestamp": 1606390337711,
     "user": {
      "displayName": "Heecheol Cho",
      "photoUrl": "https://lh3.googleusercontent.com/a-/AOh14GjX329YmmK5EOCLjZGYupvhhyKPjyr-kS3DftPICg=s64",
      "userId": "11416361730564561965"
     },
     "user_tz": -540
    },
    "id": "N78FYSmvY0nA"
   },
   "outputs": [],
   "source": [
    "import pandas as pd\n",
    "import numpy as np\n",
    "import matplotlib.pyplot as plt\n",
    "import seaborn as sns\n",
    "\n",
    "# 한글 font\n",
    "import matplotlib\n",
    "import matplotlib.font_manager as fm\n",
    "# font_name = fm.FontProperties(fname=r'C:\\Users\\BRAIN\\AppData\\Local\\Microsoft\\Windows\\Fonts\\NanumGothic-Regular.ttf').get_name()\n",
    "# matplotlib.rc('font', family=font_name)\n",
    "# #fm._rebuild()  # cache update ---> 한번만\n",
    "plt.rcParams[\"font.family\"] = 'NanumGothic'\n",
    "matplotlib.rcParams['axes.unicode_minus'] = False  # 한글 설정후, '-' 마이너스 부호 깨짐 해결."
   ]
  },
  {
   "cell_type": "code",
   "execution_count": 31,
   "metadata": {},
   "outputs": [
    {
     "name": "stdout",
     "output_type": "stream",
     "text": [
      "설정 파일 위치:  C:\\Anaconda3\\envs\\tf2\\lib\\site-packages\\matplotlib\\mpl-data\\matplotlibrc\n"
     ]
    }
   ],
   "source": [
    "print ('설정 파일 위치: ', matplotlib.matplotlib_fname())"
   ]
  },
  {
   "cell_type": "markdown",
   "metadata": {
    "id": "dcObgKZjY0nA"
   },
   "source": [
    "# IRIS Dataset & Pandas"
   ]
  },
  {
   "cell_type": "markdown",
   "metadata": {
    "id": "sW3N41QQY0nA"
   },
   "source": [
    "<img src=\"https://s3.amazonaws.com/assets.datacamp.com/blog_assets/Machine+Learning+R/iris-machinelearning.png\" width=800 height=300 />\n",
    "\n",
    "iris.csv\n",
    "1. sepal(꽃받침) length in cm\n",
    "2. sepal width in cm\n",
    "3. petal(꽃잎) length in cm\n",
    "4. petal width in cm\n",
    "5. class:\n",
    "\n",
    "\n",
    "\n",
    "150,4,setosa(0),versicolor(1),virginica(2)\n",
    "\n",
    "6.4,2.8,5.6,2.2,2\n",
    "\n",
    "5.0,2.3,3.3,1.0,1\n",
    "\n",
    "4.9,2.5,4.5,1.7,2\n",
    "\n",
    "4.9,3.1,1.5,0.1,0\n",
    "\n",
    "5.7,3.8,1.7,0.3,0\n",
    "<img src=\"https://bishwamittra.github.io/images/imli/iris_dataset.png\" width=600 height=400 />"
   ]
  },
  {
   "cell_type": "code",
   "execution_count": null,
   "metadata": {
    "colab": {
     "base_uri": "https://localhost:8080/",
     "height": 216
    },
    "executionInfo": {
     "elapsed": 1923,
     "status": "ok",
     "timestamp": 1606390342980,
     "user": {
      "displayName": "Heecheol Cho",
      "photoUrl": "https://lh3.googleusercontent.com/a-/AOh14GjX329YmmK5EOCLjZGYupvhhyKPjyr-kS3DftPICg=s64",
      "userId": "11416361730564561965"
     },
     "user_tz": -540
    },
    "id": "_h1u1YVJY0nA",
    "outputId": "1c3d56c0-88c7-4b60-d801-96f7dbc754c5"
   },
   "outputs": [],
   "source": [
    "url = \"https://github.com/hccho2/hccho2FirstGitProject/raw/master/iris.csv\"  # sklearn에서 다운받은 파일\n",
    "data = pd.read_csv(url,header=None,skiprows=1,names=['feaure1','feaure2','feaure3','features4','label'])\n",
    "print(data.shape)\n",
    "data.head(5)"
   ]
  },
  {
   "cell_type": "code",
   "execution_count": null,
   "metadata": {
    "colab": {
     "base_uri": "https://localhost:8080/"
    },
    "executionInfo": {
     "elapsed": 1145,
     "status": "ok",
     "timestamp": 1606390351510,
     "user": {
      "displayName": "Heecheol Cho",
      "photoUrl": "https://lh3.googleusercontent.com/a-/AOh14GjX329YmmK5EOCLjZGYupvhhyKPjyr-kS3DftPICg=s64",
      "userId": "11416361730564561965"
     },
     "user_tz": -540
    },
    "id": "X0gQxE0lUw84",
    "outputId": "2ce15f4e-94b7-4e65-8d1d-2a4820977b11"
   },
   "outputs": [],
   "source": [
    "data.info()"
   ]
  },
  {
   "cell_type": "code",
   "execution_count": null,
   "metadata": {
    "colab": {
     "base_uri": "https://localhost:8080/",
     "height": 288
    },
    "executionInfo": {
     "elapsed": 1181,
     "status": "ok",
     "timestamp": 1606390372955,
     "user": {
      "displayName": "Heecheol Cho",
      "photoUrl": "https://lh3.googleusercontent.com/a-/AOh14GjX329YmmK5EOCLjZGYupvhhyKPjyr-kS3DftPICg=s64",
      "userId": "11416361730564561965"
     },
     "user_tz": -540
    },
    "id": "i70PtUrmU7pf",
    "outputId": "844e76b6-219e-4a82-f75c-31d50b8e4cd5"
   },
   "outputs": [],
   "source": [
    "data.describe()"
   ]
  },
  {
   "cell_type": "code",
   "execution_count": null,
   "metadata": {
    "colab": {
     "base_uri": "https://localhost:8080/"
    },
    "executionInfo": {
     "elapsed": 764,
     "status": "ok",
     "timestamp": 1606393628601,
     "user": {
      "displayName": "Heecheol Cho",
      "photoUrl": "https://lh3.googleusercontent.com/a-/AOh14GjX329YmmK5EOCLjZGYupvhhyKPjyr-kS3DftPICg=s64",
      "userId": "11416361730564561965"
     },
     "user_tz": -540
    },
    "id": "YplQ_AABY0nB",
    "outputId": "b9d6d636-fac6-492a-9bf2-85515a0c97e1"
   },
   "outputs": [],
   "source": [
    "#data갯수 확인\n",
    "#data.groupby('label').count()\n",
    "data['label'].value_counts()"
   ]
  },
  {
   "cell_type": "markdown",
   "metadata": {
    "id": "EdGUpY9wjtrm"
   },
   "source": [
    "## iris Data 변형하기(map)"
   ]
  },
  {
   "cell_type": "code",
   "execution_count": null,
   "metadata": {
    "colab": {
     "base_uri": "https://localhost:8080/",
     "height": 198
    },
    "executionInfo": {
     "elapsed": 658,
     "status": "ok",
     "timestamp": 1606394842947,
     "user": {
      "displayName": "Heecheol Cho",
      "photoUrl": "https://lh3.googleusercontent.com/a-/AOh14GjX329YmmK5EOCLjZGYupvhhyKPjyr-kS3DftPICg=s64",
      "userId": "11416361730564561965"
     },
     "user_tz": -540
    },
    "id": "Oj1Nwq0Hj3sO",
    "outputId": "b8bbfedc-8662-4873-d0f7-d4a11b881024"
   },
   "outputs": [],
   "source": [
    "url = \"https://github.com/hccho2/hccho2FirstGitProject/raw/master/iris2.csv\"  # sklearn에서 다운받은 파일\n",
    "data = pd.read_csv(url,header=None,skiprows=1,names=['feature1','feature2','feature3','feature4','label'])\n",
    "data.head()"
   ]
  },
  {
   "cell_type": "code",
   "execution_count": null,
   "metadata": {
    "executionInfo": {
     "elapsed": 648,
     "status": "ok",
     "timestamp": 1606394845037,
     "user": {
      "displayName": "Heecheol Cho",
      "photoUrl": "https://lh3.googleusercontent.com/a-/AOh14GjX329YmmK5EOCLjZGYupvhhyKPjyr-kS3DftPICg=s64",
      "userId": "11416361730564561965"
     },
     "user_tz": -540
    },
    "id": "TlP1eFjSj4Pq"
   },
   "outputs": [],
   "source": [
    "data['label'] = data['label'].map({'Setosa': 0,'Versicolor': 1, 'Virginica': 2})"
   ]
  },
  {
   "cell_type": "code",
   "execution_count": null,
   "metadata": {
    "colab": {
     "base_uri": "https://localhost:8080/",
     "height": 198
    },
    "executionInfo": {
     "elapsed": 653,
     "status": "ok",
     "timestamp": 1606394879926,
     "user": {
      "displayName": "Heecheol Cho",
      "photoUrl": "https://lh3.googleusercontent.com/a-/AOh14GjX329YmmK5EOCLjZGYupvhhyKPjyr-kS3DftPICg=s64",
      "userId": "11416361730564561965"
     },
     "user_tz": -540
    },
    "id": "l_GnK9WpmEL2",
    "outputId": "4baa3be3-67bd-4527-b377-1a74ab07d843"
   },
   "outputs": [],
   "source": [
    "data.sample(5)"
   ]
  },
  {
   "cell_type": "code",
   "execution_count": null,
   "metadata": {},
   "outputs": [],
   "source": [
    "plt.boxplot(data.values,labels = data.columns,showmeans=True)  # data의 각각의 column(axis=1)마다 box plot이 그려진다.\n",
    "plt.show()"
   ]
  },
  {
   "cell_type": "code",
   "execution_count": null,
   "metadata": {
    "scrolled": true
   },
   "outputs": [],
   "source": [
    "sns.boxplot(x='label',y='feature2',data = data, palette = 'PuBuGn');  # x로 넘어간 값에 따라, group 지어, y로 넘어간 값을 분석한다."
   ]
  },
  {
   "cell_type": "code",
   "execution_count": null,
   "metadata": {},
   "outputs": [],
   "source": [
    "sns.violinplot(data=data)  # 각 feature 별로 plot"
   ]
  },
  {
   "cell_type": "code",
   "execution_count": null,
   "metadata": {},
   "outputs": [],
   "source": [
    "sns.violinplot(x='label',y='feature1', data=data)  # 하나의 feature를 지정. x값 별로 나누어서."
   ]
  },
  {
   "cell_type": "code",
   "execution_count": null,
   "metadata": {},
   "outputs": [],
   "source": [
    "sns.stripplot(data=data)"
   ]
  },
  {
   "cell_type": "code",
   "execution_count": null,
   "metadata": {},
   "outputs": [],
   "source": [
    "sns.scatterplot(x='feature3',y='feature4', hue='label', style='label', s=100, data=data,palette=\"deep\")"
   ]
  },
  {
   "cell_type": "code",
   "execution_count": null,
   "metadata": {
    "scrolled": true
   },
   "outputs": [],
   "source": [
    "sns.lmplot(x='feature3',y='feature4', hue='label', data=data)"
   ]
  },
  {
   "cell_type": "markdown",
   "metadata": {
    "id": "WYF7JTgskFt6"
   },
   "source": [
    "# PCA: Principal Component Analysis(주성분 분석)"
   ]
  },
  {
   "cell_type": "code",
   "execution_count": null,
   "metadata": {},
   "outputs": [],
   "source": []
  },
  {
   "cell_type": "code",
   "execution_count": null,
   "metadata": {
    "colab": {
     "base_uri": "https://localhost:8080/"
    },
    "executionInfo": {
     "elapsed": 648,
     "status": "ok",
     "timestamp": 1606393694757,
     "user": {
      "displayName": "Heecheol Cho",
      "photoUrl": "https://lh3.googleusercontent.com/a-/AOh14GjX329YmmK5EOCLjZGYupvhhyKPjyr-kS3DftPICg=s64",
      "userId": "11416361730564561965"
     },
     "user_tz": -540
    },
    "id": "G-P6SDCcY0nB",
    "outputId": "65ed9c87-975d-46d8-9b3a-768b9a2949f4"
   },
   "outputs": [],
   "source": [
    "from mpl_toolkits.mplot3d import Axes3D\n",
    "from sklearn.decomposition import PCA\n",
    "from sklearn import preprocessing\n",
    "labels=['setosa','versicolor','virginica']\n",
    "url = \"https://github.com/hccho2/hccho2FirstGitProject/raw/master/iris.csv\"  # sklearn에서 다운받은 파일\n",
    "data = pd.read_csv(url,header=None,skiprows=1,names=['feaure1','feaure2','feaure3','features4','label'])\n",
    "\n",
    "print(data.head(5))\n",
    "\n",
    "y = data['label'] # genre variable.\n",
    "X = data.loc[:, data.columns != 'label'] #select all columns but not the labels ---> pandas\n",
    "\n",
    "\n",
    "#### NORMALIZE X ####\n",
    "cols = X.columns\n",
    "print(\"cols: \", cols)\n",
    "\n",
    "stdand_scaler = preprocessing.StandardScaler()\n",
    "X = stdand_scaler.fit_transform(X)  # 입력: dataframe ---> 출력: numpy array\n",
    "print(X[:10])"
   ]
  },
  {
   "cell_type": "code",
   "execution_count": null,
   "metadata": {
    "colab": {
     "base_uri": "https://localhost:8080/"
    },
    "executionInfo": {
     "elapsed": 1193,
     "status": "ok",
     "timestamp": 1606393990540,
     "user": {
      "displayName": "Heecheol Cho",
      "photoUrl": "https://lh3.googleusercontent.com/a-/AOh14GjX329YmmK5EOCLjZGYupvhhyKPjyr-kS3DftPICg=s64",
      "userId": "11416361730564561965"
     },
     "user_tz": -540
    },
    "id": "KZ7QKVmqh4HK",
    "outputId": "048b867e-187a-496d-f8ee-3415d0c3c9de"
   },
   "outputs": [],
   "source": [
    "print(stdand_scaler.n_samples_seen_)\n",
    "print(\"mean: \", stdand_scaler.mean_) # 평균\n",
    "print('std: ', stdand_scaler.scale_ )  # 표준편차"
   ]
  },
  {
   "cell_type": "code",
   "execution_count": null,
   "metadata": {
    "colab": {
     "base_uri": "https://localhost:8080/",
     "height": 355
    },
    "executionInfo": {
     "elapsed": 1280,
     "status": "ok",
     "timestamp": 1606359839743,
     "user": {
      "displayName": "Heecheol Cho",
      "photoUrl": "https://lh3.googleusercontent.com/a-/AOh14GjX329YmmK5EOCLjZGYupvhhyKPjyr-kS3DftPICg=s64",
      "userId": "11416361730564561965"
     },
     "user_tz": -540
    },
    "id": "-8Tuz7htY0nB",
    "outputId": "013b646c-e848-47a2-88e7-8c13f183a85d"
   },
   "outputs": [],
   "source": [
    "#### PCA 3 COMPONENTS ####\n",
    "pca = PCA(n_components=3)\n",
    "principalComponents = pca.fit_transform(X)  # principal componet 추출\n",
    "principalDf = pd.DataFrame(data = principalComponents, columns = ['principal component 1', 'principal component 2','principal component 3'])\n",
    "\n",
    "\n",
    "# concatenate with target label\n",
    "finalDf = pd.concat([principalDf, y], axis = 1)\n",
    "\n",
    "print(pca.explained_variance_ratio_, np.sum(pca.explained_variance_ratio_))\n",
    "\n",
    "fig = plt.figure(figsize = (8, 4))\n",
    "ax = Axes3D(fig)\n",
    "\n",
    "\n",
    "for grp_name, grp_idx in finalDf.groupby('label').groups.items():\n",
    "    y = finalDf.iloc[grp_idx,1]\n",
    "    x = finalDf.iloc[grp_idx,0]\n",
    "    z = finalDf.iloc[grp_idx,2]\n",
    "    ax.scatter(x,y,z, label=labels[grp_name])  # this way you can control color/marker/size of each group freely\n",
    "ax.legend()\n",
    "plt.title('PCA on IRIS', fontsize = 10)\n",
    "plt.xticks(fontsize = 7)\n",
    "plt.yticks(fontsize = 5);\n",
    "ax.set_xlabel(\"Principal Component 1\", fontsize = 7)\n",
    "ax.set_ylabel(\"Principal Component 2\", fontsize = 7)\n",
    "ax.set_zlabel(\"Principal Component 3\", fontsize = 7)"
   ]
  },
  {
   "cell_type": "markdown",
   "metadata": {
    "id": "Epw1DVfYY0nB"
   },
   "source": [
    "# simaple example(numpy array -> DataFrame)"
   ]
  },
  {
   "cell_type": "code",
   "execution_count": null,
   "metadata": {
    "id": "JfHX7OwxY0nB"
   },
   "outputs": [],
   "source": [
    "x1=np.array([ 1.4175,0.3390,0.2925,0.647,0.9069,0.4608,0.1069,-0.2201,-0.0138, -0.5808])\n",
    "x2=np.array([ 0.1378,-0.0567,1.5304, 0.663,0.0663,-1.0959,0.9882,-0.6808,-0.120,-0.2618])\n",
    "x3 =['A','B','A','C','C','A','A','B','C','B']\n",
    "data=pd.DataFrame(data=list(zip(x1,x2,x3)),columns=['age','weight','label'])\n",
    "data"
   ]
  },
  {
   "cell_type": "code",
   "execution_count": null,
   "metadata": {
    "id": "7eFMuVVAY0nB"
   },
   "outputs": [],
   "source": [
    "data.to_csv('xxx.csv',index=False)   # pd.read_csv"
   ]
  },
  {
   "cell_type": "code",
   "execution_count": null,
   "metadata": {
    "colab": {
     "base_uri": "https://localhost:8080/",
     "height": 168
    },
    "executionInfo": {
     "elapsed": 656,
     "status": "ok",
     "timestamp": 1606359963214,
     "user": {
      "displayName": "Heecheol Cho",
      "photoUrl": "https://lh3.googleusercontent.com/a-/AOh14GjX329YmmK5EOCLjZGYupvhhyKPjyr-kS3DftPICg=s64",
      "userId": "11416361730564561965"
     },
     "user_tz": -540
    },
    "id": "LNkT3UuNY0nB",
    "outputId": "9ed0bf2d-49db-4f43-d3a8-a08c98c5c9e6"
   },
   "outputs": [],
   "source": [
    "data[data['label']=='A']  # data.loc[data['label']=='A']"
   ]
  },
  {
   "cell_type": "code",
   "execution_count": null,
   "metadata": {
    "colab": {
     "base_uri": "https://localhost:8080/",
     "height": 168
    },
    "executionInfo": {
     "elapsed": 658,
     "status": "ok",
     "timestamp": 1606360016401,
     "user": {
      "displayName": "Heecheol Cho",
      "photoUrl": "https://lh3.googleusercontent.com/a-/AOh14GjX329YmmK5EOCLjZGYupvhhyKPjyr-kS3DftPICg=s64",
      "userId": "11416361730564561965"
     },
     "user_tz": -540
    },
    "id": "T3DufVQ3Y0nB",
    "outputId": "7b41e98f-ea74-4e9b-e956-2f3834685efb"
   },
   "outputs": [],
   "source": [
    "data.groupby('label').mean()"
   ]
  },
  {
   "cell_type": "code",
   "execution_count": null,
   "metadata": {
    "colab": {
     "base_uri": "https://localhost:8080/",
     "height": 422
    },
    "executionInfo": {
     "elapsed": 952,
     "status": "ok",
     "timestamp": 1606360022968,
     "user": {
      "displayName": "Heecheol Cho",
      "photoUrl": "https://lh3.googleusercontent.com/a-/AOh14GjX329YmmK5EOCLjZGYupvhhyKPjyr-kS3DftPICg=s64",
      "userId": "11416361730564561965"
     },
     "user_tz": -540
    },
    "id": "U_TK2i6EY0nB",
    "outputId": "02f63358-2b24-442a-94a9-9ee060349d22"
   },
   "outputs": [],
   "source": [
    "plt.figure(figsize = (10, 6))\n",
    "sns.scatterplot(x = \"age\", y = \"weight\", data = data, hue = \"label\", alpha = 0.7, s = 50); # s=size\n",
    "\n",
    "plt.title('PCA on data', fontsize = 25)\n",
    "plt.xticks(fontsize = 14)\n",
    "plt.yticks(fontsize = 10);\n",
    "plt.xlabel(\"age\", fontsize = 15)\n",
    "plt.ylabel(\"weight\", fontsize = 15)\n",
    "plt.show()"
   ]
  },
  {
   "cell_type": "code",
   "execution_count": null,
   "metadata": {
    "colab": {
     "base_uri": "https://localhost:8080/"
    },
    "executionInfo": {
     "elapsed": 742,
     "status": "ok",
     "timestamp": 1606360032907,
     "user": {
      "displayName": "Heecheol Cho",
      "photoUrl": "https://lh3.googleusercontent.com/a-/AOh14GjX329YmmK5EOCLjZGYupvhhyKPjyr-kS3DftPICg=s64",
      "userId": "11416361730564561965"
     },
     "user_tz": -540
    },
    "id": "YHoJAxixY0nB",
    "outputId": "b6cc241d-2ffc-46aa-8e23-681134de388f"
   },
   "outputs": [],
   "source": [
    "data.values"
   ]
  },
  {
   "cell_type": "code",
   "execution_count": null,
   "metadata": {
    "colab": {
     "base_uri": "https://localhost:8080/"
    },
    "executionInfo": {
     "elapsed": 616,
     "status": "ok",
     "timestamp": 1606360036134,
     "user": {
      "displayName": "Heecheol Cho",
      "photoUrl": "https://lh3.googleusercontent.com/a-/AOh14GjX329YmmK5EOCLjZGYupvhhyKPjyr-kS3DftPICg=s64",
      "userId": "11416361730564561965"
     },
     "user_tz": -540
    },
    "id": "pHEi0uQCY0nB",
    "outputId": "41bcc417-41ff-4f47-8320-675c81c9619d"
   },
   "outputs": [],
   "source": [
    "data['age'].values"
   ]
  },
  {
   "cell_type": "code",
   "execution_count": null,
   "metadata": {
    "colab": {
     "base_uri": "https://localhost:8080/",
     "height": 348
    },
    "executionInfo": {
     "elapsed": 639,
     "status": "ok",
     "timestamp": 1606360045526,
     "user": {
      "displayName": "Heecheol Cho",
      "photoUrl": "https://lh3.googleusercontent.com/a-/AOh14GjX329YmmK5EOCLjZGYupvhhyKPjyr-kS3DftPICg=s64",
      "userId": "11416361730564561965"
     },
     "user_tz": -540
    },
    "id": "NkX74P3lY0nB",
    "outputId": "5edf2d9f-06cb-4945-a77a-72fe7f19cac1"
   },
   "outputs": [],
   "source": [
    "data.sort_values(['label'],ascending=[True]) # data가 바뀌지는 않는다.  inplace=True 해야 바뀐다."
   ]
  },
  {
   "cell_type": "code",
   "execution_count": null,
   "metadata": {
    "id": "ZyxqSe_DY0nC"
   },
   "outputs": [],
   "source": [
    "pd.set_option('display.max_columns', None)\n",
    "pd.set_option('display.max_rows', None)\n",
    "pd.set_option('precision', 3)"
   ]
  },
  {
   "cell_type": "code",
   "execution_count": null,
   "metadata": {
    "colab": {
     "base_uri": "https://localhost:8080/",
     "height": 348
    },
    "executionInfo": {
     "elapsed": 645,
     "status": "ok",
     "timestamp": 1606360057115,
     "user": {
      "displayName": "Heecheol Cho",
      "photoUrl": "https://lh3.googleusercontent.com/a-/AOh14GjX329YmmK5EOCLjZGYupvhhyKPjyr-kS3DftPICg=s64",
      "userId": "11416361730564561965"
     },
     "user_tz": -540
    },
    "id": "IhHfH8luY0nC",
    "outputId": "70848add-e174-4d94-c788-8415e6287831"
   },
   "outputs": [],
   "source": [
    "data"
   ]
  },
  {
   "cell_type": "code",
   "execution_count": null,
   "metadata": {
    "colab": {
     "base_uri": "https://localhost:8080/",
     "height": 168
    },
    "executionInfo": {
     "elapsed": 685,
     "status": "ok",
     "timestamp": 1606360066977,
     "user": {
      "displayName": "Heecheol Cho",
      "photoUrl": "https://lh3.googleusercontent.com/a-/AOh14GjX329YmmK5EOCLjZGYupvhhyKPjyr-kS3DftPICg=s64",
      "userId": "11416361730564561965"
     },
     "user_tz": -540
    },
    "id": "lpCQ5RPJY0nC",
    "outputId": "2e7ec4b1-2027-4826-df86-43a790bef2ed"
   },
   "outputs": [],
   "source": [
    "# count()\n",
    "data.groupby('label').count()"
   ]
  },
  {
   "cell_type": "code",
   "execution_count": null,
   "metadata": {
    "colab": {
     "base_uri": "https://localhost:8080/"
    },
    "executionInfo": {
     "elapsed": 629,
     "status": "ok",
     "timestamp": 1606360079678,
     "user": {
      "displayName": "Heecheol Cho",
      "photoUrl": "https://lh3.googleusercontent.com/a-/AOh14GjX329YmmK5EOCLjZGYupvhhyKPjyr-kS3DftPICg=s64",
      "userId": "11416361730564561965"
     },
     "user_tz": -540
    },
    "id": "b4mk7iIMY0nC",
    "outputId": "705057f0-3997-4e2c-c6e5-db3b96f34976"
   },
   "outputs": [],
   "source": [
    "# column 1개인 경우.\n",
    "# from collections import Counter    ---->   Counter(data['label'])  ---->  Counter({'A': 4, 'B': 3, 'C': 3})\n",
    "\n",
    "data['label'].value_counts()"
   ]
  },
  {
   "cell_type": "markdown",
   "metadata": {},
   "source": [
    "## apply를 이용하여 feature(column) 정규화"
   ]
  },
  {
   "cell_type": "code",
   "execution_count": null,
   "metadata": {},
   "outputs": [],
   "source": [
    "data.describe()"
   ]
  },
  {
   "cell_type": "code",
   "execution_count": null,
   "metadata": {},
   "outputs": [],
   "source": [
    "data[['age','weight']] = data[['age','weight']].apply(lambda x: (x-x.mean())/x.std())"
   ]
  },
  {
   "cell_type": "code",
   "execution_count": null,
   "metadata": {},
   "outputs": [],
   "source": [
    "data.describe()"
   ]
  },
  {
   "cell_type": "markdown",
   "metadata": {
    "id": "q4gvO4O6Y0nC"
   },
   "source": [
    "# IRIS Dataset From sklearn"
   ]
  },
  {
   "cell_type": "code",
   "execution_count": null,
   "metadata": {
    "id": "-tBQM0z7Y0nC"
   },
   "outputs": [],
   "source": [
    "from sklearn import datasets"
   ]
  },
  {
   "cell_type": "code",
   "execution_count": null,
   "metadata": {
    "id": "tRLO2gr3Y0nC"
   },
   "outputs": [],
   "source": [
    "iris = datasets.load_iris()  # dict_keys(['data', 'target', 'frame', 'target_names', 'DESCR', 'feature_names', 'filename'])"
   ]
  },
  {
   "cell_type": "code",
   "execution_count": null,
   "metadata": {
    "colab": {
     "base_uri": "https://localhost:8080/"
    },
    "executionInfo": {
     "elapsed": 670,
     "status": "ok",
     "timestamp": 1606360218726,
     "user": {
      "displayName": "Heecheol Cho",
      "photoUrl": "https://lh3.googleusercontent.com/a-/AOh14GjX329YmmK5EOCLjZGYupvhhyKPjyr-kS3DftPICg=s64",
      "userId": "11416361730564561965"
     },
     "user_tz": -540
    },
    "id": "fVY_-OHEY0nC",
    "outputId": "83029b71-122b-4f08-cf86-d91575ef1f20"
   },
   "outputs": [],
   "source": [
    "iris['data'].shape, iris['target'].shape"
   ]
  },
  {
   "cell_type": "code",
   "execution_count": null,
   "metadata": {
    "colab": {
     "base_uri": "https://localhost:8080/"
    },
    "executionInfo": {
     "elapsed": 702,
     "status": "ok",
     "timestamp": 1606360220413,
     "user": {
      "displayName": "Heecheol Cho",
      "photoUrl": "https://lh3.googleusercontent.com/a-/AOh14GjX329YmmK5EOCLjZGYupvhhyKPjyr-kS3DftPICg=s64",
      "userId": "11416361730564561965"
     },
     "user_tz": -540
    },
    "id": "m9vDFKcmY0nC",
    "outputId": "197242e8-ed7d-4c3b-8f76-b76225af8998"
   },
   "outputs": [],
   "source": [
    "iris['filename'], iris['target_names'], iris['feature_names']"
   ]
  },
  {
   "cell_type": "code",
   "execution_count": null,
   "metadata": {
    "id": "iiowMI4SY0nC"
   },
   "outputs": [],
   "source": [
    "data = pd.DataFrame(data= np.c_[iris['data'], iris['target']],columns= iris['feature_names'] + ['target'])"
   ]
  },
  {
   "cell_type": "code",
   "execution_count": null,
   "metadata": {
    "colab": {
     "base_uri": "https://localhost:8080/",
     "height": 348
    },
    "executionInfo": {
     "elapsed": 661,
     "status": "ok",
     "timestamp": 1606360229331,
     "user": {
      "displayName": "Heecheol Cho",
      "photoUrl": "https://lh3.googleusercontent.com/a-/AOh14GjX329YmmK5EOCLjZGYupvhhyKPjyr-kS3DftPICg=s64",
      "userId": "11416361730564561965"
     },
     "user_tz": -540
    },
    "id": "TYCRdjkPY0nC",
    "outputId": "470e5086-81d8-41b8-c25a-b7ff0fe7b55b"
   },
   "outputs": [],
   "source": [
    "data.head(10)"
   ]
  },
  {
   "cell_type": "code",
   "execution_count": null,
   "metadata": {
    "id": "U2lYAMVaY0nC"
   },
   "outputs": [],
   "source": [
    "data = data.sample(frac = 1) # shffle"
   ]
  },
  {
   "cell_type": "code",
   "execution_count": null,
   "metadata": {
    "colab": {
     "base_uri": "https://localhost:8080/",
     "height": 348
    },
    "executionInfo": {
     "elapsed": 691,
     "status": "ok",
     "timestamp": 1606360265100,
     "user": {
      "displayName": "Heecheol Cho",
      "photoUrl": "https://lh3.googleusercontent.com/a-/AOh14GjX329YmmK5EOCLjZGYupvhhyKPjyr-kS3DftPICg=s64",
      "userId": "11416361730564561965"
     },
     "user_tz": -540
    },
    "id": "UPNn-M6IY0nC",
    "outputId": "09764435-7095-4f04-a2db-b7fb08e5b5ce"
   },
   "outputs": [],
   "source": [
    "data.head(10)"
   ]
  },
  {
   "cell_type": "code",
   "execution_count": null,
   "metadata": {
    "colab": {
     "base_uri": "https://localhost:8080/"
    },
    "executionInfo": {
     "elapsed": 630,
     "status": "ok",
     "timestamp": 1606360268364,
     "user": {
      "displayName": "Heecheol Cho",
      "photoUrl": "https://lh3.googleusercontent.com/a-/AOh14GjX329YmmK5EOCLjZGYupvhhyKPjyr-kS3DftPICg=s64",
      "userId": "11416361730564561965"
     },
     "user_tz": -540
    },
    "id": "_bfuq8t3Y0nC",
    "outputId": "abbfb268-3d98-4c0f-c7f8-8e5b6c1ba608"
   },
   "outputs": [],
   "source": [
    "data.values[:,:3]"
   ]
  },
  {
   "cell_type": "code",
   "execution_count": null,
   "metadata": {
    "id": "es-ge6uYY0nC"
   },
   "outputs": [],
   "source": []
  },
  {
   "cell_type": "markdown",
   "metadata": {
    "id": "45E7hDvYY0nC"
   },
   "source": [
    "## Simple Deep Lerning Model with Tensorflow(IRIS)"
   ]
  },
  {
   "cell_type": "code",
   "execution_count": null,
   "metadata": {
    "id": "f8B976hHY0nC"
   },
   "outputs": [],
   "source": [
    "from sklearn import datasets\n",
    "import tensorflow as tf\n",
    "import matplotlib.pyplot as plt\n",
    "iris = datasets.load_iris()"
   ]
  },
  {
   "cell_type": "code",
   "execution_count": null,
   "metadata": {
    "colab": {
     "base_uri": "https://localhost:8080/"
    },
    "executionInfo": {
     "elapsed": 888,
     "status": "ok",
     "timestamp": 1606360283428,
     "user": {
      "displayName": "Heecheol Cho",
      "photoUrl": "https://lh3.googleusercontent.com/a-/AOh14GjX329YmmK5EOCLjZGYupvhhyKPjyr-kS3DftPICg=s64",
      "userId": "11416361730564561965"
     },
     "user_tz": -540
    },
    "id": "snMtqYtwY0nC",
    "outputId": "a7a31eb8-9589-4667-8c77-fafac8b50ebd"
   },
   "outputs": [],
   "source": [
    "model = tf.keras.Sequential([\n",
    "    tf.keras.layers.Dense(10,input_shape=(4,), activation='relu'),\n",
    "    tf.keras.layers.Dense(10, activation='relu'),      \n",
    "    tf.keras.layers.Dense(3, activation='softmax')\n",
    "])\n",
    "optimiser = tf.keras.optimizers.Adam(learning_rate=0.001)  # pytorch와 달리, 0.01 또는 0.001일 때, 잘된다. 0.0001이면 별로...\n",
    "# tf.keras.losses.categorical_crossentropy(y_true, y_pred, from_logits=False, label_smoothing=0)  ---> default: logit이 아니 확률\n",
    "model.compile(optimizer=optimiser, loss='sparse_categorical_crossentropy', metrics=['accuracy'])  # sparse ---> target이 onthot이 아니어도 된다.\n",
    "model.summary()"
   ]
  },
  {
   "cell_type": "code",
   "execution_count": null,
   "metadata": {
    "colab": {
     "base_uri": "https://localhost:8080/"
    },
    "executionInfo": {
     "elapsed": 4282,
     "status": "ok",
     "timestamp": 1606360288822,
     "user": {
      "displayName": "Heecheol Cho",
      "photoUrl": "https://lh3.googleusercontent.com/a-/AOh14GjX329YmmK5EOCLjZGYupvhhyKPjyr-kS3DftPICg=s64",
      "userId": "11416361730564561965"
     },
     "user_tz": -540
    },
    "id": "EBO15v5qY0nC",
    "outputId": "c2d9070e-9cf4-4c36-bffe-641cf129f5ba"
   },
   "outputs": [],
   "source": [
    "history = model.fit(iris['data'], iris['target'], batch_size=32, epochs=200)"
   ]
  },
  {
   "cell_type": "code",
   "execution_count": null,
   "metadata": {
    "colab": {
     "base_uri": "https://localhost:8080/",
     "height": 342
    },
    "executionInfo": {
     "elapsed": 977,
     "status": "ok",
     "timestamp": 1606360399670,
     "user": {
      "displayName": "Heecheol Cho",
      "photoUrl": "https://lh3.googleusercontent.com/a-/AOh14GjX329YmmK5EOCLjZGYupvhhyKPjyr-kS3DftPICg=s64",
      "userId": "11416361730564561965"
     },
     "user_tz": -540
    },
    "id": "D8E_LYEhY0nC",
    "outputId": "42865915-0a81-4457-cac7-24fe2c75a1ac"
   },
   "outputs": [],
   "source": [
    "plt.figure(figsize=(20,5))\n",
    "plt.subplot(1,2,1)\n",
    "plt.plot(history.history[\"accuracy\"], label=\"train accuracy\")\n",
    "plt.ylim([0,1])\n",
    "plt.subplot(1,2,2)\n",
    "plt.plot(history.history[\"loss\"], label=\"train loss\")"
   ]
  },
  {
   "cell_type": "code",
   "execution_count": null,
   "metadata": {
    "id": "Cm85-sekY0nC"
   },
   "outputs": [],
   "source": []
  },
  {
   "cell_type": "markdown",
   "metadata": {
    "id": "ETddkxv9Y0nC"
   },
   "source": [
    "## Simple Deep Lerning Model with Pytorch(IRIS)\n",
    "  * tensorflow 보다 learning rate에 더 민감하다.\n",
    "  * weight 초기화는 효과가 없다.\n",
    "  * learning rate을 낮게 하고, train 횟수를 늘이면, 수렴은 한다."
   ]
  },
  {
   "cell_type": "code",
   "execution_count": null,
   "metadata": {
    "id": "UMy-k4rsY0nC"
   },
   "outputs": [],
   "source": [
    "from sklearn import datasets\n",
    "import torch\n",
    "from torch import nn,optim\n",
    "from torch.utils.data import Dataset, DataLoader, TensorDataset\n",
    "import numpy as np\n",
    "import tqdm\n",
    "from sklearn import preprocessing\n",
    "import matplotlib.pyplot as plt\n",
    "iris = datasets.load_iris()   # dict_keys(['data', 'target', 'frame', 'target_names', 'DESCR', 'feature_names', 'filename'])"
   ]
  },
  {
   "cell_type": "code",
   "execution_count": null,
   "metadata": {
    "id": "MPSwcOanY0nC"
   },
   "outputs": [],
   "source": [
    "def weights_init(m):\n",
    "    if type(m) == nn.Linear:\n",
    "        #torch.nn.init.xavier_normal_(m.weight)\n",
    "        torch.nn.init.normal_(m.weight, mean=0.0, std=0.1)\n",
    "        torch.nn.init.zeros_(m.bias)  # m.bias.data.fill_(0.)  \n",
    "    elif isinstance(m, nn.Conv2d):\n",
    "        torch.nn.init.xavier_uniform_(m.weight)\n",
    "        torch.nn.init.zeros_(m.bias) \n",
    "\n",
    "model = nn.Sequential(nn.Linear(4,10),nn.ReLU(),nn.Linear(10,10),nn.ReLU(),nn.Linear(10,3))\n",
    "#model.apply(weights_init)  # apply는 nn.Module로 부터 상속."
   ]
  },
  {
   "cell_type": "code",
   "execution_count": null,
   "metadata": {
    "id": "ihCAjBKNY0nC"
   },
   "outputs": [],
   "source": [
    "normal_flag = False\n",
    "\n",
    "if normal_flag:\n",
    "    stdand_scaler = preprocessing.StandardScaler()\n",
    "    data_x = stdand_scaler.fit_transform(iris['data'])  # ---> numpy array\n",
    "else:\n",
    "    data_x = iris['data']\n",
    "\n",
    "X = torch.tensor(data_x, dtype=torch.float32)\n",
    "Y = torch.tensor(iris['target'],dtype=torch.long)\n",
    "ds = TensorDataset(X,Y)  # tensor가 들어가야 한다.\n",
    "loader = DataLoader(ds, batch_size=32, shuffle=True)\n",
    "print(X.shape, Y.shape)"
   ]
  },
  {
   "cell_type": "code",
   "execution_count": null,
   "metadata": {
    "colab": {
     "base_uri": "https://localhost:8080/"
    },
    "executionInfo": {
     "elapsed": 659,
     "status": "ok",
     "timestamp": 1606360457866,
     "user": {
      "displayName": "Heecheol Cho",
      "photoUrl": "https://lh3.googleusercontent.com/a-/AOh14GjX329YmmK5EOCLjZGYupvhhyKPjyr-kS3DftPICg=s64",
      "userId": "11416361730564561965"
     },
     "user_tz": -540
    },
    "id": "wDkXrUTBY0nC",
    "outputId": "04d9b6ed-376d-4f57-e880-6b6b5ad1a166"
   },
   "outputs": [],
   "source": [
    "print(model)"
   ]
  },
  {
   "cell_type": "code",
   "execution_count": null,
   "metadata": {
    "id": "hH9NiD7lY0nC"
   },
   "outputs": [],
   "source": [
    "loss_fn = nn.CrossEntropyLoss()  # 넘길 때, (N,C), (N,)  <--- logit & one_hot으로 변환하지 않는 target을 넘긴다.\n",
    "optimizer = optim.Adam(model.parameters(),lr=0.001)   # tensorflow와 달리 lr=0.0001일 때, 잘된다."
   ]
  },
  {
   "cell_type": "code",
   "execution_count": null,
   "metadata": {
    "colab": {
     "base_uri": "https://localhost:8080/"
    },
    "executionInfo": {
     "elapsed": 1675,
     "status": "ok",
     "timestamp": 1606360462306,
     "user": {
      "displayName": "Heecheol Cho",
      "photoUrl": "https://lh3.googleusercontent.com/a-/AOh14GjX329YmmK5EOCLjZGYupvhhyKPjyr-kS3DftPICg=s64",
      "userId": "11416361730564561965"
     },
     "user_tz": -540
    },
    "id": "lbm84JUBY0nC",
    "outputId": "2e115a0a-029a-44ed-bae5-863f09582a9b",
    "scrolled": false
   },
   "outputs": [],
   "source": [
    "n_epoch = 200\n",
    "\n",
    "device = torch.device('cuda' if torch.cuda.is_available() else 'cpu')\n",
    "print(device)\n",
    "model.to(device)\n",
    "history_loss = []\n",
    "history_acc  = []\n",
    "for epoch in range(n_epoch):\n",
    "    model.train()\n",
    "    running_loss = []\n",
    "    acc = 0\n",
    "    n = 0\n",
    "    for i,(x,y) in enumerate(loader):\n",
    "        optimizer.zero_grad()\n",
    "        x = x.to(device)\n",
    "        y = y.to(device)\n",
    "        pred = model(x)\n",
    "        loss = loss_fn(pred,y)\n",
    "        loss.backward()\n",
    "        optimizer.step()\n",
    "        running_loss.append(loss.item())\n",
    "        _,pred = pred.max(1)\n",
    "        acc += (pred==y).float().sum().item()\n",
    "        n += len(y)\n",
    "    \n",
    "    history_loss.append(np.mean(running_loss))\n",
    "    history_acc.append(acc/n)\n",
    "    if epoch%10==0:\n",
    "        print('epoch: {}/{}, loss: {:.4f}, acc: {:.4f}'.format(epoch+1,n_epoch,history_loss[-1],history_acc[-1]))\n"
   ]
  },
  {
   "cell_type": "code",
   "execution_count": null,
   "metadata": {
    "colab": {
     "base_uri": "https://localhost:8080/",
     "height": 342
    },
    "executionInfo": {
     "elapsed": 1071,
     "status": "ok",
     "timestamp": 1606360544401,
     "user": {
      "displayName": "Heecheol Cho",
      "photoUrl": "https://lh3.googleusercontent.com/a-/AOh14GjX329YmmK5EOCLjZGYupvhhyKPjyr-kS3DftPICg=s64",
      "userId": "11416361730564561965"
     },
     "user_tz": -540
    },
    "id": "DF4UOMk5Y0nD",
    "outputId": "fa3d6241-4be2-4ac5-aca3-cabc81f0ad0e"
   },
   "outputs": [],
   "source": [
    "plt.figure(figsize=(20,5))\n",
    "plt.subplot(1,2,1)\n",
    "plt.plot(history_acc, label=\"train accuracy\")\n",
    "plt.ylim([0,1])\n",
    "plt.subplot(1,2,2)\n",
    "plt.plot(history_loss, label=\"train loss\")"
   ]
  },
  {
   "cell_type": "code",
   "execution_count": null,
   "metadata": {},
   "outputs": [],
   "source": [
    "data = pd.DataFrame(data= np.c_[iris['data'], iris['target']],columns= iris['feature_names'] + ['target'])\n",
    "data.iloc[:,0]"
   ]
  },
  {
   "cell_type": "code",
   "execution_count": null,
   "metadata": {},
   "outputs": [],
   "source": [
    "data"
   ]
  },
  {
   "cell_type": "code",
   "execution_count": null,
   "metadata": {
    "id": "5WAfWZP7Y0nD"
   },
   "outputs": [],
   "source": [
    "\n",
    "data[\"ratio\"] = data.iloc[:,0]/data.iloc[:,1]\n",
    "data['index'] = data.index\n",
    "#sns.lmplot(x=\"ID\", y=\"ratio\", data=iris, hue=\"species\", fit_reg=False, legend=False)\n",
    "#sns.lmplot(x='index',y=\"sepal length (cm)\",data=data,hue='target')\n",
    "sns.lmplot(x='index',y=\"ratio\",data=data,hue='target')\n",
    "plt.legend()\n",
    "plt.show()"
   ]
  },
  {
   "cell_type": "markdown",
   "metadata": {
    "id": "v1TQ1lobY0nD"
   },
   "source": [
    "## Logitic Regression"
   ]
  },
  {
   "cell_type": "code",
   "execution_count": 2,
   "metadata": {
    "id": "XBjl26ywY0nD"
   },
   "outputs": [],
   "source": [
    "import numpy as np\n",
    "import time\n",
    "import datetime\n",
    "import sys\n",
    "import seaborn as sns\n",
    "import pandas as pd\n",
    "import tensorflow as tf"
   ]
  },
  {
   "cell_type": "code",
   "execution_count": 3,
   "metadata": {
    "colab": {
     "base_uri": "https://localhost:8080/",
     "height": 501
    },
    "executionInfo": {
     "elapsed": 1446,
     "status": "ok",
     "timestamp": 1606360624932,
     "user": {
      "displayName": "Heecheol Cho",
      "photoUrl": "https://lh3.googleusercontent.com/a-/AOh14GjX329YmmK5EOCLjZGYupvhhyKPjyr-kS3DftPICg=s64",
      "userId": "11416361730564561965"
     },
     "user_tz": -540
    },
    "id": "7XZmPkPBY0nD",
    "outputId": "e274e2b7-802b-49a0-f427-c52e729530a4"
   },
   "outputs": [
    {
     "data": {
      "text/plain": [
       "<matplotlib.collections.PathCollection at 0x21cc3a74a90>"
      ]
     },
     "execution_count": 3,
     "metadata": {},
     "output_type": "execute_result"
    },
    {
     "data": {
      "image/png": "[encoded data removed]",
      "text/plain": [
       "<Figure size 1080x576 with 2 Axes>"
      ]
     },
     "metadata": {
      "needs_background": "light"
     },
     "output_type": "display_data"
    }
   ],
   "source": [
    "url = 'https://github.com/hccho2/hccho2FirstGitProject/raw/master/mydata2.txt'\n",
    "mydata = np.genfromtxt(url,delimiter=',',dtype=np.float32)\n",
    "A = mydata[:,0:2]   # (N,2)\n",
    "B = mydata[:,-1].reshape(-1,1)  # mydata[:,2:3]  ----> (N,1)\n",
    "plt.figure(figsize=(15,8))\n",
    "plt.subplot(1,2,1)\n",
    "plt.scatter(A[:, 0], A[:, 1], c=B[:,0],marker=\">\")\n",
    "plt.subplot(1,2,2)\n",
    "plt.scatter(A[:, 0], A[:, 1], c=B[:,0],marker=\"o\")\n",
    "\n",
    "#A = (A-np.mean(A,0))/np.std(A,0)"
   ]
  },
  {
   "cell_type": "code",
   "execution_count": 9,
   "metadata": {
    "colab": {
     "base_uri": "https://localhost:8080/"
    },
    "executionInfo": {
     "elapsed": 618,
     "status": "ok",
     "timestamp": 1606360672113,
     "user": {
      "displayName": "Heecheol Cho",
      "photoUrl": "https://lh3.googleusercontent.com/a-/AOh14GjX329YmmK5EOCLjZGYupvhhyKPjyr-kS3DftPICg=s64",
      "userId": "11416361730564561965"
     },
     "user_tz": -540
    },
    "id": "Cj2LxFybY0nD",
    "outputId": "281a1a3e-2f45-4207-e621-b0c718ae312f"
   },
   "outputs": [
    {
     "name": "stdout",
     "output_type": "stream",
     "text": [
      "data 갯수:  118\n",
      "<class 'pandas.core.frame.DataFrame'>\n",
      "RangeIndex: 118 entries, 0 to 117\n",
      "Data columns (total 3 columns):\n",
      " #   Column  Non-Null Count  Dtype  \n",
      "---  ------  --------------  -----  \n",
      " 0   x       118 non-null    float32\n",
      " 1   y       118 non-null    float32\n",
      " 2   c       118 non-null    float32\n",
      "dtypes: float32(3)\n",
      "memory usage: 1.5 KB\n"
     ]
    }
   ],
   "source": [
    "df=pd.DataFrame(data=mydata,columns=['x','y','c'])\n",
    "print(\"data 갯수: \",len(df))\n",
    "df.info()"
   ]
  },
  {
   "cell_type": "code",
   "execution_count": null,
   "metadata": {},
   "outputs": [],
   "source": [
    "df.sample(5)"
   ]
  },
  {
   "cell_type": "code",
   "execution_count": null,
   "metadata": {},
   "outputs": [],
   "source": [
    "df.describe()"
   ]
  },
  {
   "cell_type": "code",
   "execution_count": null,
   "metadata": {},
   "outputs": [],
   "source": [
    "df['c'] = df['c'].astype('int')"
   ]
  },
  {
   "cell_type": "code",
   "execution_count": null,
   "metadata": {},
   "outputs": [],
   "source": [
    "df.x\n",
    "df.groupby('c').count()"
   ]
  },
  {
   "cell_type": "code",
   "execution_count": 10,
   "metadata": {
    "colab": {
     "base_uri": "https://localhost:8080/",
     "height": 297
    },
    "executionInfo": {
     "elapsed": 1023,
     "status": "ok",
     "timestamp": 1606360674527,
     "user": {
      "displayName": "Heecheol Cho",
      "photoUrl": "https://lh3.googleusercontent.com/a-/AOh14GjX329YmmK5EOCLjZGYupvhhyKPjyr-kS3DftPICg=s64",
      "userId": "11416361730564561965"
     },
     "user_tz": -540
    },
    "id": "ar2BvN6aY0nD",
    "outputId": "c60d0666-38ed-402d-b951-bff90e44426a"
   },
   "outputs": [
    {
     "data": {
      "text/plain": [
       "<matplotlib.axes._subplots.AxesSubplot at 0x21cdf107908>"
      ]
     },
     "execution_count": 10,
     "metadata": {},
     "output_type": "execute_result"
    },
    {
     "data": {
      "image/png": "[encoded data removed]",
      "text/plain": [
       "<Figure size 432x288 with 1 Axes>"
      ]
     },
     "metadata": {
      "needs_background": "light"
     },
     "output_type": "display_data"
    }
   ],
   "source": [
    "# pandas dataframe을 넘겨주면 좋다.\n",
    "sns.scatterplot(x='x', \n",
    "                y='y', \n",
    "                hue='c', # different colors by group\n",
    "                style='c', # different shapes by group\n",
    "                s=50, # marker size\n",
    "                data=df)"
   ]
  },
  {
   "cell_type": "markdown",
   "metadata": {},
   "source": [
    "## tensorflow model(logistic)"
   ]
  },
  {
   "cell_type": "code",
   "execution_count": 4,
   "metadata": {
    "colab": {
     "base_uri": "https://localhost:8080/"
    },
    "executionInfo": {
     "elapsed": 645,
     "status": "ok",
     "timestamp": 1606360676750,
     "user": {
      "displayName": "Heecheol Cho",
      "photoUrl": "https://lh3.googleusercontent.com/a-/AOh14GjX329YmmK5EOCLjZGYupvhhyKPjyr-kS3DftPICg=s64",
      "userId": "11416361730564561965"
     },
     "user_tz": -540
    },
    "id": "0TPY9MRIY0nD",
    "outputId": "8d6a8245-1f6d-485a-e297-d9095aae2760"
   },
   "outputs": [
    {
     "name": "stdout",
     "output_type": "stream",
     "text": [
      "Model: \"sequential\"\n",
      "_________________________________________________________________\n",
      "Layer (type)                 Output Shape              Param #   \n",
      "=================================================================\n",
      "dense (Dense)                (None, 10)                30        \n",
      "_________________________________________________________________\n",
      "dense_1 (Dense)              (None, 1)                 11        \n",
      "=================================================================\n",
      "Total params: 41\n",
      "Trainable params: 41\n",
      "Non-trainable params: 0\n",
      "_________________________________________________________________\n"
     ]
    }
   ],
   "source": [
    "model = tf.keras.Sequential([\n",
    "    tf.keras.layers.Dense(10,input_shape=(2,), activation='relu'),  \n",
    "    tf.keras.layers.Dense(1, activation='sigmoid')\n",
    "])\n",
    "optimiser = tf.keras.optimizers.Adam(learning_rate=0.01)  # pytorch와 달리, 0.01 또는 0.001일 때, 잘된다. 0.0001이면 별로...\n",
    "# tf.keras.losses.categorical_crossentropy(y_true, y_pred, from_logits=False, label_smoothing=0)  ---> default: logit이 아니 확률\n",
    "model.compile(optimizer=optimiser, loss=tf.keras.losses.BinaryCrossentropy(), metrics=['accuracy'])  # sparse ---> target이 onthot이 아니어도 된다.\n",
    "model.summary()"
   ]
  },
  {
   "cell_type": "code",
   "execution_count": 5,
   "metadata": {},
   "outputs": [
    {
     "name": "stdout",
     "output_type": "stream",
     "text": [
      "Epoch 1/100\n",
      "2/2 [==============================] - 0s 2ms/step - loss: 0.6790 - accuracy: 0.5085\n",
      "Epoch 2/100\n",
      "2/2 [==============================] - 0s 1ms/step - loss: 0.6751 - accuracy: 0.5169\n",
      "Epoch 3/100\n",
      "2/2 [==============================] - 0s 2ms/step - loss: 0.6727 - accuracy: 0.5508\n",
      "Epoch 4/100\n",
      "2/2 [==============================] - 0s 1ms/step - loss: 0.6699 - accuracy: 0.5847\n",
      "Epoch 5/100\n",
      "2/2 [==============================] - 0s 1ms/step - loss: 0.6672 - accuracy: 0.6186\n",
      "Epoch 6/100\n",
      "2/2 [==============================] - 0s 2ms/step - loss: 0.6656 - accuracy: 0.6441\n",
      "Epoch 7/100\n",
      "2/2 [==============================] - 0s 2ms/step - loss: 0.6626 - accuracy: 0.6780\n",
      "Epoch 8/100\n",
      "2/2 [==============================] - 0s 1ms/step - loss: 0.6602 - accuracy: 0.6695\n",
      "Epoch 9/100\n",
      "2/2 [==============================] - 0s 1ms/step - loss: 0.6579 - accuracy: 0.6610\n",
      "Epoch 10/100\n",
      "2/2 [==============================] - 0s 1ms/step - loss: 0.6555 - accuracy: 0.6610\n",
      "Epoch 11/100\n",
      "2/2 [==============================] - 0s 1ms/step - loss: 0.6532 - accuracy: 0.6610\n",
      "Epoch 12/100\n",
      "2/2 [==============================] - 0s 1ms/step - loss: 0.6506 - accuracy: 0.6610\n",
      "Epoch 13/100\n",
      "2/2 [==============================] - 0s 1ms/step - loss: 0.6480 - accuracy: 0.6695\n",
      "Epoch 14/100\n",
      "2/2 [==============================] - 0s 2ms/step - loss: 0.6455 - accuracy: 0.6695\n",
      "Epoch 15/100\n",
      "2/2 [==============================] - 0s 2ms/step - loss: 0.6427 - accuracy: 0.6695\n",
      "Epoch 16/100\n",
      "2/2 [==============================] - 0s 1ms/step - loss: 0.6401 - accuracy: 0.6780\n",
      "Epoch 17/100\n",
      "2/2 [==============================] - 0s 1ms/step - loss: 0.6374 - accuracy: 0.6864\n",
      "Epoch 18/100\n",
      "2/2 [==============================] - 0s 1ms/step - loss: 0.6347 - accuracy: 0.6864\n",
      "Epoch 19/100\n",
      "2/2 [==============================] - 0s 1ms/step - loss: 0.6316 - accuracy: 0.7034\n",
      "Epoch 20/100\n",
      "2/2 [==============================] - 0s 2ms/step - loss: 0.6287 - accuracy: 0.7119\n",
      "Epoch 21/100\n",
      "2/2 [==============================] - 0s 993us/step - loss: 0.6258 - accuracy: 0.7203\n",
      "Epoch 22/100\n",
      "2/2 [==============================] - 0s 1ms/step - loss: 0.6226 - accuracy: 0.7288\n",
      "Epoch 23/100\n",
      "2/2 [==============================] - 0s 1ms/step - loss: 0.6196 - accuracy: 0.7373\n",
      "Epoch 24/100\n",
      "2/2 [==============================] - 0s 1ms/step - loss: 0.6162 - accuracy: 0.7458\n",
      "Epoch 25/100\n",
      "2/2 [==============================] - 0s 1ms/step - loss: 0.6128 - accuracy: 0.7458\n",
      "Epoch 26/100\n",
      "2/2 [==============================] - 0s 2ms/step - loss: 0.6093 - accuracy: 0.7458\n",
      "Epoch 27/100\n",
      "2/2 [==============================] - 0s 1ms/step - loss: 0.6057 - accuracy: 0.7373\n",
      "Epoch 28/100\n",
      "2/2 [==============================] - 0s 2ms/step - loss: 0.6025 - accuracy: 0.7373\n",
      "Epoch 29/100\n",
      "2/2 [==============================] - 0s 2ms/step - loss: 0.5993 - accuracy: 0.7373\n",
      "Epoch 30/100\n",
      "2/2 [==============================] - 0s 2ms/step - loss: 0.5952 - accuracy: 0.7458\n",
      "Epoch 31/100\n",
      "2/2 [==============================] - 0s 997us/step - loss: 0.5918 - accuracy: 0.7542\n",
      "Epoch 32/100\n",
      "2/2 [==============================] - 0s 1ms/step - loss: 0.5877 - accuracy: 0.7712\n",
      "Epoch 33/100\n",
      "2/2 [==============================] - 0s 1ms/step - loss: 0.5853 - accuracy: 0.7712\n",
      "Epoch 34/100\n",
      "2/2 [==============================] - 0s 1ms/step - loss: 0.5809 - accuracy: 0.7712\n",
      "Epoch 35/100\n",
      "2/2 [==============================] - 0s 1ms/step - loss: 0.5773 - accuracy: 0.7712\n",
      "Epoch 36/100\n",
      "2/2 [==============================] - 0s 1ms/step - loss: 0.5735 - accuracy: 0.7712\n",
      "Epoch 37/100\n",
      "2/2 [==============================] - 0s 1ms/step - loss: 0.5710 - accuracy: 0.7627\n",
      "Epoch 38/100\n",
      "2/2 [==============================] - 0s 1ms/step - loss: 0.5671 - accuracy: 0.7627\n",
      "Epoch 39/100\n",
      "2/2 [==============================] - 0s 1ms/step - loss: 0.5638 - accuracy: 0.7627\n",
      "Epoch 40/100\n",
      "2/2 [==============================] - 0s 1ms/step - loss: 0.5606 - accuracy: 0.7627\n",
      "Epoch 41/100\n",
      "2/2 [==============================] - 0s 1ms/step - loss: 0.5572 - accuracy: 0.7797\n",
      "Epoch 42/100\n",
      "2/2 [==============================] - 0s 2ms/step - loss: 0.5542 - accuracy: 0.7881\n",
      "Epoch 43/100\n",
      "2/2 [==============================] - 0s 997us/step - loss: 0.5511 - accuracy: 0.7712\n",
      "Epoch 44/100\n",
      "2/2 [==============================] - 0s 1ms/step - loss: 0.5481 - accuracy: 0.7712\n",
      "Epoch 45/100\n",
      "2/2 [==============================] - 0s 1ms/step - loss: 0.5450 - accuracy: 0.7627\n",
      "Epoch 46/100\n",
      "2/2 [==============================] - 0s 997us/step - loss: 0.5418 - accuracy: 0.7712\n",
      "Epoch 47/100\n",
      "2/2 [==============================] - 0s 1ms/step - loss: 0.5390 - accuracy: 0.7712\n",
      "Epoch 48/100\n",
      "2/2 [==============================] - 0s 1ms/step - loss: 0.5360 - accuracy: 0.7797\n",
      "Epoch 49/100\n",
      "2/2 [==============================] - 0s 2ms/step - loss: 0.5330 - accuracy: 0.7797\n",
      "Epoch 50/100\n",
      "2/2 [==============================] - 0s 1ms/step - loss: 0.5302 - accuracy: 0.7797\n",
      "Epoch 51/100\n",
      "2/2 [==============================] - 0s 998us/step - loss: 0.5278 - accuracy: 0.7797\n",
      "Epoch 52/100\n",
      "2/2 [==============================] - 0s 1ms/step - loss: 0.5248 - accuracy: 0.7797\n",
      "Epoch 53/100\n",
      "2/2 [==============================] - 0s 2ms/step - loss: 0.5225 - accuracy: 0.7712\n",
      "Epoch 54/100\n",
      "2/2 [==============================] - 0s 996us/step - loss: 0.5191 - accuracy: 0.7797\n",
      "Epoch 55/100\n",
      "2/2 [==============================] - 0s 2ms/step - loss: 0.5168 - accuracy: 0.7881\n",
      "Epoch 56/100\n",
      "2/2 [==============================] - 0s 1ms/step - loss: 0.5143 - accuracy: 0.7966\n",
      "Epoch 57/100\n",
      "2/2 [==============================] - 0s 998us/step - loss: 0.5122 - accuracy: 0.7966\n",
      "Epoch 58/100\n",
      "2/2 [==============================] - 0s 997us/step - loss: 0.5096 - accuracy: 0.7881\n",
      "Epoch 59/100\n",
      "2/2 [==============================] - 0s 998us/step - loss: 0.5072 - accuracy: 0.7966\n",
      "Epoch 60/100\n",
      "2/2 [==============================] - 0s 1ms/step - loss: 0.5043 - accuracy: 0.7881\n",
      "Epoch 61/100\n",
      "2/2 [==============================] - 0s 1ms/step - loss: 0.5027 - accuracy: 0.7881\n",
      "Epoch 62/100\n",
      "2/2 [==============================] - 0s 1ms/step - loss: 0.4998 - accuracy: 0.7966\n",
      "Epoch 63/100\n",
      "2/2 [==============================] - 0s 1ms/step - loss: 0.4976 - accuracy: 0.7881\n",
      "Epoch 64/100\n",
      "2/2 [==============================] - 0s 1ms/step - loss: 0.4948 - accuracy: 0.7881\n",
      "Epoch 65/100\n",
      "2/2 [==============================] - 0s 1ms/step - loss: 0.4935 - accuracy: 0.7966\n",
      "Epoch 66/100\n",
      "2/2 [==============================] - 0s 997us/step - loss: 0.4905 - accuracy: 0.8051\n",
      "Epoch 67/100\n",
      "2/2 [==============================] - 0s 997us/step - loss: 0.4881 - accuracy: 0.8051\n",
      "Epoch 68/100\n",
      "2/2 [==============================] - 0s 1ms/step - loss: 0.4858 - accuracy: 0.8051\n",
      "Epoch 69/100\n",
      "2/2 [==============================] - 0s 982us/step - loss: 0.4833 - accuracy: 0.7966\n",
      "Epoch 70/100\n",
      "2/2 [==============================] - 0s 998us/step - loss: 0.4817 - accuracy: 0.7881\n",
      "Epoch 71/100\n",
      "2/2 [==============================] - 0s 1ms/step - loss: 0.4793 - accuracy: 0.7881\n",
      "Epoch 72/100\n",
      "2/2 [==============================] - 0s 997us/step - loss: 0.4778 - accuracy: 0.7881\n",
      "Epoch 73/100\n",
      "2/2 [==============================] - 0s 997us/step - loss: 0.4761 - accuracy: 0.7881\n",
      "Epoch 74/100\n",
      "2/2 [==============================] - 0s 997us/step - loss: 0.4736 - accuracy: 0.8051\n",
      "Epoch 75/100\n",
      "2/2 [==============================] - 0s 1ms/step - loss: 0.4706 - accuracy: 0.8136\n",
      "Epoch 76/100\n",
      "2/2 [==============================] - 0s 1ms/step - loss: 0.4690 - accuracy: 0.8220\n",
      "Epoch 77/100\n",
      "2/2 [==============================] - 0s 996us/step - loss: 0.4672 - accuracy: 0.8305\n",
      "Epoch 78/100\n",
      "2/2 [==============================] - 0s 1ms/step - loss: 0.4655 - accuracy: 0.8305\n",
      "Epoch 79/100\n",
      "2/2 [==============================] - 0s 1ms/step - loss: 0.4632 - accuracy: 0.8305\n",
      "Epoch 80/100\n",
      "2/2 [==============================] - 0s 1ms/step - loss: 0.4623 - accuracy: 0.8220\n",
      "Epoch 81/100\n",
      "2/2 [==============================] - 0s 997us/step - loss: 0.4597 - accuracy: 0.8136\n",
      "Epoch 82/100\n",
      "2/2 [==============================] - 0s 1ms/step - loss: 0.4582 - accuracy: 0.8305\n",
      "Epoch 83/100\n",
      "2/2 [==============================] - 0s 1ms/step - loss: 0.4552 - accuracy: 0.8220\n",
      "Epoch 84/100\n",
      "2/2 [==============================] - 0s 996us/step - loss: 0.4541 - accuracy: 0.8220\n",
      "Epoch 85/100\n",
      "2/2 [==============================] - 0s 997us/step - loss: 0.4513 - accuracy: 0.8136\n",
      "Epoch 86/100\n",
      "2/2 [==============================] - 0s 1ms/step - loss: 0.4496 - accuracy: 0.8051\n",
      "Epoch 87/100\n",
      "2/2 [==============================] - 0s 1ms/step - loss: 0.4484 - accuracy: 0.8390\n",
      "Epoch 88/100\n",
      "2/2 [==============================] - 0s 997us/step - loss: 0.4456 - accuracy: 0.8390\n",
      "Epoch 89/100\n",
      "2/2 [==============================] - 0s 1ms/step - loss: 0.4438 - accuracy: 0.8390\n",
      "Epoch 90/100\n",
      "2/2 [==============================] - 0s 997us/step - loss: 0.4417 - accuracy: 0.8390\n",
      "Epoch 91/100\n",
      "2/2 [==============================] - 0s 998us/step - loss: 0.4407 - accuracy: 0.8390\n",
      "Epoch 92/100\n",
      "2/2 [==============================] - 0s 1ms/step - loss: 0.4391 - accuracy: 0.8390\n",
      "Epoch 93/100\n",
      "2/2 [==============================] - 0s 998us/step - loss: 0.4376 - accuracy: 0.8475\n",
      "Epoch 94/100\n",
      "2/2 [==============================] - 0s 997us/step - loss: 0.4350 - accuracy: 0.8475\n",
      "Epoch 95/100\n",
      "2/2 [==============================] - 0s 2ms/step - loss: 0.4340 - accuracy: 0.8475\n",
      "Epoch 96/100\n",
      "2/2 [==============================] - 0s 998us/step - loss: 0.4323 - accuracy: 0.8475\n",
      "Epoch 97/100\n",
      "2/2 [==============================] - 0s 2ms/step - loss: 0.4301 - accuracy: 0.8475\n",
      "Epoch 98/100\n",
      "2/2 [==============================] - 0s 1ms/step - loss: 0.4285 - accuracy: 0.8475\n",
      "Epoch 99/100\n",
      "2/2 [==============================] - 0s 1ms/step - loss: 0.4267 - accuracy: 0.8390\n",
      "Epoch 100/100\n",
      "2/2 [==============================] - 0s 997us/step - loss: 0.4252 - accuracy: 0.8390\n"
     ]
    }
   ],
   "source": [
    "# 모델의 output이 (N,1) 이므로, target도 (N,1)이 되어야 한다. target이 (N,)이면 안된다.\n",
    "\n",
    "history = model.fit(A, B, batch_size=64, epochs=100)  # 출력: (N,1), target: (N,1)"
   ]
  },
  {
   "cell_type": "code",
   "execution_count": 6,
   "metadata": {
    "colab": {
     "base_uri": "https://localhost:8080/",
     "height": 1000
    },
    "executionInfo": {
     "elapsed": 2429,
     "status": "ok",
     "timestamp": 1606360680605,
     "user": {
      "displayName": "Heecheol Cho",
      "photoUrl": "https://lh3.googleusercontent.com/a-/AOh14GjX329YmmK5EOCLjZGYupvhhyKPjyr-kS3DftPICg=s64",
      "userId": "11416361730564561965"
     },
     "user_tz": -540
    },
    "id": "9y2JFMkFY0nD",
    "outputId": "233a5541-9369-42ec-c748-fc3be6f5c157"
   },
   "outputs": [
    {
     "data": {
      "text/plain": [
       "[<matplotlib.lines.Line2D at 0x21ccb5d11d0>]"
      ]
     },
     "execution_count": 6,
     "metadata": {},
     "output_type": "execute_result"
    },
    {
     "data": {
      "image/png": "[encoded data removed]",
      "text/plain": [
       "<Figure size 1080x576 with 2 Axes>"
      ]
     },
     "metadata": {
      "needs_background": "light"
     },
     "output_type": "display_data"
    }
   ],
   "source": [
    "plt.figure(figsize=(15,8))\n",
    "plt.subplot(1,2,1)\n",
    "plt.plot(history.history[\"accuracy\"], label=\"train accuracy\")\n",
    "plt.ylim([0,1])\n",
    "plt.subplot(1,2,2)\n",
    "plt.plot(history.history[\"loss\"], label=\"train loss\")"
   ]
  },
  {
   "cell_type": "code",
   "execution_count": 7,
   "metadata": {
    "colab": {
     "base_uri": "https://localhost:8080/",
     "height": 531
    },
    "executionInfo": {
     "elapsed": 1426,
     "status": "ok",
     "timestamp": 1606360691669,
     "user": {
      "displayName": "Heecheol Cho",
      "photoUrl": "https://lh3.googleusercontent.com/a-/AOh14GjX329YmmK5EOCLjZGYupvhhyKPjyr-kS3DftPICg=s64",
      "userId": "11416361730564561965"
     },
     "user_tz": -540
    },
    "id": "YFrWJH9LY0nD",
    "outputId": "fde0f0ea-d678-4ef8-e7a6-f83eb324a39c"
   },
   "outputs": [
    {
     "data": {
      "text/plain": [
       "Text(0.5, 1.0, '모델 예측: tf prediction')"
      ]
     },
     "execution_count": 7,
     "metadata": {},
     "output_type": "execute_result"
    },
    {
     "data": {
      "image/png": "[encoded data removed]",
      "text/plain": [
       "<Figure size 1080x576 with 2 Axes>"
      ]
     },
     "metadata": {
      "needs_background": "light"
     },
     "output_type": "display_data"
    }
   ],
   "source": [
    "df1=pd.DataFrame(data=mydata,columns=['x','y','target'])\n",
    "\n",
    "prediction = (model.predict(A) > 0.5).astype(np.int)\n",
    "  # np.concatenate([A,prediction],axis=-1)\n",
    "df2=pd.DataFrame(data=np.c_[A,prediction],columns=['x','y','prediction'])\n",
    "# pandas dataframe을 넘겨주어면 좋다.\n",
    "\n",
    "\n",
    "plt.figure(figsize=(15,8))\n",
    "plt.subplot(1,2,1)\n",
    "sns.scatterplot(x='x', \n",
    "                y='y', \n",
    "                hue='target', # different colors by group\n",
    "                style='target', # different shapes by group\n",
    "                s=50, # marker size\n",
    "                data=df1)\n",
    "plt.title('원본 data')\n",
    "\n",
    "\n",
    "plt.subplot(1,2,2)\n",
    "sns.scatterplot(x='x', \n",
    "                y='y', \n",
    "                hue='prediction', # different colors by group\n",
    "                style='prediction', # different shapes by group\n",
    "                s=50, # marker size\n",
    "                data=df2)\n",
    "plt.title('모델 예측: tf prediction')"
   ]
  },
  {
   "cell_type": "code",
   "execution_count": null,
   "metadata": {
    "scrolled": false
   },
   "outputs": [],
   "source": [
    "# 한글 폰트 설정\n",
    "font_list = fm.findSystemFonts(fontpaths=None, fontext='ttf')\n",
    "\n",
    "# ttf 폰트 전체개수\n",
    "#print(font_list)\n",
    "\n",
    "'C:\\\\Users\\\\BRAIN\\\\AppData\\\\Local\\\\Microsoft\\\\Windows\\\\Fonts\\\\NanumGothic.ttf'"
   ]
  },
  {
   "cell_type": "code",
   "execution_count": 33,
   "metadata": {},
   "outputs": [
    {
     "data": {
      "text/plain": [
       "Text(0.5, 1.0, '모델 예측: tf prediction')"
      ]
     },
     "execution_count": 33,
     "metadata": {},
     "output_type": "execute_result"
    },
    {
     "name": "stderr",
     "output_type": "stream",
     "text": [
      "C:\\Anaconda3\\envs\\tf2\\lib\\site-packages\\matplotlib\\backends\\backend_agg.py:211: RuntimeWarning: Glyph 8722 missing from current font.\n",
      "  font.set_text(s, 0.0, flags=flags)\n",
      "C:\\Anaconda3\\envs\\tf2\\lib\\site-packages\\matplotlib\\backends\\backend_agg.py:180: RuntimeWarning: Glyph 8722 missing from current font.\n",
      "  font.set_text(s, 0, flags=flags)\n"
     ]
    },
    {
     "data": {
      "image/png": "[encoded data removed]",
      "text/plain": [
       "<Figure size 1080x576 with 2 Axes>"
      ]
     },
     "metadata": {
      "needs_background": "light"
     },
     "output_type": "display_data"
    }
   ],
   "source": [
    "df1=pd.DataFrame(data=mydata,columns=['x','y','target'])\n",
    "\n",
    "prediction = (model.predict(A) > 0.5).astype(np.int)\n",
    "  # np.concatenate([A,prediction],axis=-1)\n",
    "    \n",
    "df2=pd.DataFrame(data=np.c_[A,B, prediction],columns=['x','y','label','prediction'])\n",
    "df2['misprediction']=df2['label'] != df2['prediction']\n",
    "\n",
    "plt.figure(figsize=(15,8))\n",
    "plt.subplot(1,2,1)\n",
    "sns.scatterplot(x='x', \n",
    "                y='y', \n",
    "                hue='target', # different colors by group\n",
    "                style='target', # different shapes by group\n",
    "                s=50, # marker size\n",
    "                data=df1)\n",
    "plt.title('원본 data')\n",
    "\n",
    "\n",
    "plt.subplot(1,2,2)\n",
    "sns.scatterplot(x='x', \n",
    "                y='y', \n",
    "                hue='prediction', # different colors by group\n",
    "                style='misprediction', # different shapes by group\n",
    "                s=50, # marker size\n",
    "                data=df2)\n",
    "plt.title('모델 예측: tf prediction')"
   ]
  },
  {
   "cell_type": "markdown",
   "metadata": {},
   "source": [
    "### pytorch model(logistic)"
   ]
  },
  {
   "cell_type": "code",
   "execution_count": 1,
   "metadata": {},
   "outputs": [],
   "source": [
    "import torch\n",
    "from torch import nn,optim\n",
    "from torch.utils.data import Dataset, DataLoader, TensorDataset\n",
    "import numpy as np\n",
    "import matplotlib.pyplot as plt\n",
    "import seaborn as sns\n",
    "import pandas as pd"
   ]
  },
  {
   "cell_type": "code",
   "execution_count": 2,
   "metadata": {},
   "outputs": [],
   "source": [
    "url = 'https://github.com/hccho2/hccho2FirstGitProject/raw/master/mydata2.txt'\n",
    "mydata = np.genfromtxt(url,delimiter=',',dtype=np.float32)\n",
    "A = mydata[:,0:2]   # (N,2)\n",
    "B = mydata[:,-1].reshape(-1,1)  # mydata[:,2:3]  ----> (N,1)"
   ]
  },
  {
   "cell_type": "code",
   "execution_count": 3,
   "metadata": {},
   "outputs": [
    {
     "name": "stdout",
     "output_type": "stream",
     "text": [
      "torch.Size([118, 2]) torch.Size([118, 1])\n"
     ]
    }
   ],
   "source": [
    "X = torch.tensor(A, dtype=torch.float32)\n",
    "Y = torch.tensor(B,dtype=torch.float32)  # BCELoss에 float tensor를 넘겨야 한다.\n",
    "ds = TensorDataset(X,Y)  # tensor가 들어가야 한다.\n",
    "loader = DataLoader(ds, batch_size=32, shuffle=True)\n",
    "print(X.shape, Y.shape)"
   ]
  },
  {
   "cell_type": "code",
   "execution_count": 4,
   "metadata": {},
   "outputs": [],
   "source": [
    "model = nn.Sequential(nn.Linear(2,10),nn.ReLU(),nn.Linear(10,1),nn.Sigmoid())"
   ]
  },
  {
   "cell_type": "code",
   "execution_count": null,
   "metadata": {},
   "outputs": [],
   "source": []
  },
  {
   "cell_type": "code",
   "execution_count": 5,
   "metadata": {},
   "outputs": [],
   "source": [
    "loss_fn = nn.BCELoss()  # 넘길 때, (N,1), (N,1)  <--- logit & one_hot으로 변환하지 않는 target을 넘긴다.\n",
    "optimizer = optim.Adam(model.parameters(),lr=0.01)   # tensorflow와 달리 lr=0.0001일 때, 잘된다."
   ]
  },
  {
   "cell_type": "code",
   "execution_count": 6,
   "metadata": {},
   "outputs": [
    {
     "name": "stdout",
     "output_type": "stream",
     "text": [
      "cuda\n",
      "epoch: 1/1000, loss: 0.6925, acc: 0.4831\n",
      "epoch: 51/1000, loss: 0.5278, acc: 0.7881\n",
      "epoch: 101/1000, loss: 0.4053, acc: 0.8475\n",
      "epoch: 151/1000, loss: 0.3503, acc: 0.8559\n",
      "epoch: 201/1000, loss: 0.3526, acc: 0.8475\n",
      "epoch: 251/1000, loss: 0.3295, acc: 0.8644\n",
      "epoch: 301/1000, loss: 0.3249, acc: 0.8644\n",
      "epoch: 351/1000, loss: 0.3313, acc: 0.8644\n",
      "epoch: 401/1000, loss: 0.3310, acc: 0.8559\n",
      "epoch: 451/1000, loss: 0.3349, acc: 0.8559\n",
      "epoch: 501/1000, loss: 0.3251, acc: 0.8729\n",
      "epoch: 551/1000, loss: 0.3324, acc: 0.8729\n",
      "epoch: 601/1000, loss: 0.3115, acc: 0.8644\n",
      "epoch: 651/1000, loss: 0.3373, acc: 0.8475\n",
      "epoch: 701/1000, loss: 0.3265, acc: 0.8559\n",
      "epoch: 751/1000, loss: 0.3333, acc: 0.8644\n",
      "epoch: 801/1000, loss: 0.3332, acc: 0.8559\n",
      "epoch: 851/1000, loss: 0.3422, acc: 0.8729\n",
      "epoch: 901/1000, loss: 0.3260, acc: 0.8559\n",
      "epoch: 951/1000, loss: 0.3291, acc: 0.8644\n"
     ]
    }
   ],
   "source": [
    "n_epoch = 1000\n",
    "\n",
    "device = torch.device('cuda' if torch.cuda.is_available() else 'cpu')\n",
    "print(device)\n",
    "model.to(device)\n",
    "history_loss = []\n",
    "history_acc  = []\n",
    "for epoch in range(n_epoch):\n",
    "    model.train()\n",
    "    running_loss = []\n",
    "    acc = 0\n",
    "    n = 0\n",
    "    for i,(x,y) in enumerate(loader):\n",
    "        optimizer.zero_grad()\n",
    "        x = x.to(device)\n",
    "        y = y.to(device)\n",
    "        pred = model(x)\n",
    "        loss = loss_fn(pred,y)\n",
    "        loss.backward()\n",
    "        optimizer.step()\n",
    "        running_loss.append(loss.item())\n",
    "        pred = (pred>0.5).int()\n",
    "        acc += (pred==y).float().sum().item()\n",
    "        n += len(y)\n",
    "    \n",
    "    history_loss.append(np.mean(running_loss))\n",
    "    history_acc.append(acc/n)\n",
    "    if epoch%50==0:\n",
    "        print('epoch: {}/{}, loss: {:.4f}, acc: {:.4f}'.format(epoch+1,n_epoch,history_loss[-1],history_acc[-1]))"
   ]
  },
  {
   "cell_type": "code",
   "execution_count": 16,
   "metadata": {},
   "outputs": [
    {
     "data": {
      "text/plain": [
       "Text(0.5, 1.0, '모델 예측: tf prediction')"
      ]
     },
     "execution_count": 16,
     "metadata": {},
     "output_type": "execute_result"
    },
    {
     "data": {
      "image/png": "[encoded data removed]",
      "text/plain": [
       "<Figure size 1080x576 with 2 Axes>"
      ]
     },
     "metadata": {
      "needs_background": "light"
     },
     "output_type": "display_data"
    }
   ],
   "source": [
    "df1=pd.DataFrame(data=mydata,columns=['x','y','target'])\n",
    "\n",
    "prediction = (model(X.to(device)) > 0.5).cpu().numpy().astype(np.int)\n",
    "  # np.concatenate([A,prediction],axis=-1)\n",
    "    \n",
    "df2=pd.DataFrame(data=np.c_[A,B, prediction],columns=['x','y','label','prediction'])\n",
    "df2['misprediction']=df2['label'] != df2['prediction']\n",
    "\n",
    "plt.figure(figsize=(15,8))\n",
    "plt.subplot(1,2,1)\n",
    "sns.scatterplot(x='x', \n",
    "                y='y', \n",
    "                hue='target', # different colors by group\n",
    "                style='target', # different shapes by group\n",
    "                s=50, # marker size\n",
    "                data=df1)\n",
    "plt.title('원본 data')\n",
    "\n",
    "\n",
    "plt.subplot(1,2,2)\n",
    "sns.scatterplot(x='x', \n",
    "                y='y', \n",
    "                hue='prediction', # different colors by group\n",
    "                style='misprediction', # different shapes by group\n",
    "                s=50, # marker size\n",
    "                data=df2)\n",
    "plt.title('모델 예측: tf prediction')"
   ]
  },
  {
   "cell_type": "markdown",
   "metadata": {
    "id": "kxdzzFKCY0nD"
   },
   "source": [
    "## xgboost for iris dataset"
   ]
  },
  {
   "cell_type": "code",
   "execution_count": 7,
   "metadata": {
    "id": "hxV0WYRlY0nD"
   },
   "outputs": [],
   "source": [
    "import pandas as pd\n",
    "from sklearn import datasets\n",
    "from sklearn import preprocessing\n",
    "from xgboost import XGBClassifier, XGBRFClassifier\n",
    "import numpy as np\n",
    "import matplotlib.pyplot as plt\n",
    "import seaborn as sns"
   ]
  },
  {
   "cell_type": "code",
   "execution_count": 8,
   "metadata": {
    "colab": {
     "base_uri": "https://localhost:8080/"
    },
    "executionInfo": {
     "elapsed": 629,
     "status": "ok",
     "timestamp": 1606360699250,
     "user": {
      "displayName": "Heecheol Cho",
      "photoUrl": "https://lh3.googleusercontent.com/a-/AOh14GjX329YmmK5EOCLjZGYupvhhyKPjyr-kS3DftPICg=s64",
      "userId": "11416361730564561965"
     },
     "user_tz": -540
    },
    "id": "zKvvSg1HY0nD",
    "outputId": "fb99e6a1-2fbc-465a-bd19-5044fb492bd2"
   },
   "outputs": [
    {
     "name": "stdout",
     "output_type": "stream",
     "text": [
      "   sepal length (cm)  sepal width (cm)  petal length (cm)  petal width (cm)\n",
      "0           0.222222          0.625000           0.067797          0.041667\n",
      "1           0.166667          0.416667           0.067797          0.041667\n",
      "2           0.111111          0.500000           0.050847          0.041667\n",
      "3           0.083333          0.458333           0.084746          0.041667\n",
      "4           0.194444          0.666667           0.067797          0.041667\n",
      "0    setosa\n",
      "1    setosa\n",
      "2    setosa\n",
      "3    setosa\n",
      "4    setosa\n",
      "dtype: object\n"
     ]
    }
   ],
   "source": [
    "iris = datasets.load_iris()  # dict_keys(['data', 'target', 'frame', 'target_names', 'DESCR', 'feature_names', 'filename'])\n",
    "labels=['setosa','versicolor','virginica']\n",
    "\n",
    "min_max_scaler = preprocessing.MinMaxScaler()\n",
    "X = min_max_scaler.fit_transform(iris['data'])\n",
    "Y = [labels[y] for y in iris['target']]\n",
    "\n",
    "x_train = pd.DataFrame(data= X,columns= iris['feature_names'] )\n",
    "y_train = pd.Series(data= Y)\n",
    "print(x_train.head(5))\n",
    "print(y_train.head(5))"
   ]
  },
  {
   "cell_type": "code",
   "execution_count": 9,
   "metadata": {
    "colab": {
     "base_uri": "https://localhost:8080/"
    },
    "executionInfo": {
     "elapsed": 623,
     "status": "ok",
     "timestamp": 1606360728128,
     "user": {
      "displayName": "Heecheol Cho",
      "photoUrl": "https://lh3.googleusercontent.com/a-/AOh14GjX329YmmK5EOCLjZGYupvhhyKPjyr-kS3DftPICg=s64",
      "userId": "11416361730564561965"
     },
     "user_tz": -540
    },
    "id": "jporn3s1Y0nD",
    "outputId": "7b5ce294-ebd5-4b2f-bfdc-c96dcbc55038"
   },
   "outputs": [
    {
     "data": {
      "text/plain": [
       "XGBClassifier(base_score=0.5, booster='gbtree', colsample_bylevel=1,\n",
       "              colsample_bynode=1, colsample_bytree=1, gamma=0, gpu_id=-1,\n",
       "              importance_type='gain', interaction_constraints='',\n",
       "              learning_rate=0.05, max_delta_step=0, max_depth=6,\n",
       "              min_child_weight=1, missing=nan, monotone_constraints='()',\n",
       "              n_estimators=150, n_jobs=0, num_parallel_tree=1,\n",
       "              objective='multi:softprob', random_state=0, reg_alpha=0,\n",
       "              reg_lambda=1, scale_pos_weight=None, subsample=1,\n",
       "              tree_method='exact', validate_parameters=1, verbosity=None)"
      ]
     },
     "execution_count": 9,
     "metadata": {},
     "output_type": "execute_result"
    }
   ],
   "source": [
    "xgb = XGBClassifier(n_estimators=150, learning_rate=0.05)\n",
    "xgb.fit(x_train, y_train)"
   ]
  },
  {
   "cell_type": "code",
   "execution_count": 10,
   "metadata": {
    "colab": {
     "base_uri": "https://localhost:8080/"
    },
    "executionInfo": {
     "elapsed": 690,
     "status": "ok",
     "timestamp": 1606360729779,
     "user": {
      "displayName": "Heecheol Cho",
      "photoUrl": "https://lh3.googleusercontent.com/a-/AOh14GjX329YmmK5EOCLjZGYupvhhyKPjyr-kS3DftPICg=s64",
      "userId": "11416361730564561965"
     },
     "user_tz": -540
    },
    "id": "XTzPhoEAY0nD",
    "outputId": "f62bc93a-27c0-451d-9125-d5bca5fd1804"
   },
   "outputs": [
    {
     "data": {
      "text/plain": [
       "1.0"
      ]
     },
     "execution_count": 10,
     "metadata": {},
     "output_type": "execute_result"
    }
   ],
   "source": [
    "pred = xgb.predict(x_train)\n",
    "np.mean(pred==Y)"
   ]
  },
  {
   "cell_type": "markdown",
   "metadata": {
    "id": "qMu63JUDY0nD"
   },
   "source": [
    "## xgboost for mydata"
   ]
  },
  {
   "cell_type": "code",
   "execution_count": 11,
   "metadata": {
    "colab": {
     "base_uri": "https://localhost:8080/",
     "height": 198
    },
    "executionInfo": {
     "elapsed": 643,
     "status": "ok",
     "timestamp": 1606360797475,
     "user": {
      "displayName": "Heecheol Cho",
      "photoUrl": "https://lh3.googleusercontent.com/a-/AOh14GjX329YmmK5EOCLjZGYupvhhyKPjyr-kS3DftPICg=s64",
      "userId": "11416361730564561965"
     },
     "user_tz": -540
    },
    "id": "SgqA8sipY0nD",
    "outputId": "50a48683-c76f-4b72-88e3-fb119cc02630"
   },
   "outputs": [
    {
     "data": {
      "text/html": [
       "<div>\n",
       "<style scoped>\n",
       "    .dataframe tbody tr th:only-of-type {\n",
       "        vertical-align: middle;\n",
       "    }\n",
       "\n",
       "    .dataframe tbody tr th {\n",
       "        vertical-align: top;\n",
       "    }\n",
       "\n",
       "    .dataframe thead th {\n",
       "        text-align: right;\n",
       "    }\n",
       "</style>\n",
       "<table border=\"1\" class=\"dataframe\">\n",
       "  <thead>\n",
       "    <tr style=\"text-align: right;\">\n",
       "      <th></th>\n",
       "      <th>x</th>\n",
       "      <th>y</th>\n",
       "      <th>label</th>\n",
       "    </tr>\n",
       "  </thead>\n",
       "  <tbody>\n",
       "    <tr>\n",
       "      <th>0</th>\n",
       "      <td>0.051267</td>\n",
       "      <td>0.69956</td>\n",
       "      <td>1</td>\n",
       "    </tr>\n",
       "    <tr>\n",
       "      <th>1</th>\n",
       "      <td>-0.092742</td>\n",
       "      <td>0.68494</td>\n",
       "      <td>1</td>\n",
       "    </tr>\n",
       "    <tr>\n",
       "      <th>2</th>\n",
       "      <td>-0.213710</td>\n",
       "      <td>0.69225</td>\n",
       "      <td>1</td>\n",
       "    </tr>\n",
       "    <tr>\n",
       "      <th>3</th>\n",
       "      <td>-0.375000</td>\n",
       "      <td>0.50219</td>\n",
       "      <td>1</td>\n",
       "    </tr>\n",
       "    <tr>\n",
       "      <th>4</th>\n",
       "      <td>-0.513250</td>\n",
       "      <td>0.46564</td>\n",
       "      <td>1</td>\n",
       "    </tr>\n",
       "  </tbody>\n",
       "</table>\n",
       "</div>"
      ],
      "text/plain": [
       "          x        y  label\n",
       "0  0.051267  0.69956      1\n",
       "1 -0.092742  0.68494      1\n",
       "2 -0.213710  0.69225      1\n",
       "3 -0.375000  0.50219      1\n",
       "4 -0.513250  0.46564      1"
      ]
     },
     "execution_count": 11,
     "metadata": {},
     "output_type": "execute_result"
    }
   ],
   "source": [
    "url = 'https://github.com/hccho2/hccho2FirstGitProject/raw/master/mydata2.txt'\n",
    "df = pd.read_csv(url, header=None,names=['x','y','label'])\n",
    "df.head()"
   ]
  },
  {
   "cell_type": "code",
   "execution_count": 12,
   "metadata": {
    "id": "UywQqADgY0nD"
   },
   "outputs": [],
   "source": [
    "X = df.loc[:, df.columns != 'label']\n",
    "Y = df['label']  # Series"
   ]
  },
  {
   "cell_type": "code",
   "execution_count": 13,
   "metadata": {
    "colab": {
     "base_uri": "https://localhost:8080/"
    },
    "executionInfo": {
     "elapsed": 630,
     "status": "ok",
     "timestamp": 1606360847278,
     "user": {
      "displayName": "Heecheol Cho",
      "photoUrl": "https://lh3.googleusercontent.com/a-/AOh14GjX329YmmK5EOCLjZGYupvhhyKPjyr-kS3DftPICg=s64",
      "userId": "11416361730564561965"
     },
     "user_tz": -540
    },
    "id": "Su2SY-0oY0nD",
    "outputId": "2813cfa6-c1c4-411d-a4a3-da10005d97a2"
   },
   "outputs": [
    {
     "data": {
      "text/plain": [
       "XGBClassifier(base_score=0.5, booster='gbtree', colsample_bylevel=1,\n",
       "              colsample_bynode=1, colsample_bytree=1, gamma=0, gpu_id=-1,\n",
       "              importance_type='gain', interaction_constraints='',\n",
       "              learning_rate=0.05, max_delta_step=0, max_depth=6,\n",
       "              min_child_weight=1, missing=nan, monotone_constraints='()',\n",
       "              n_estimators=100, n_jobs=0, num_parallel_tree=1, random_state=0,\n",
       "              reg_alpha=0, reg_lambda=1, scale_pos_weight=1, subsample=1,\n",
       "              tree_method='exact', validate_parameters=1, verbosity=None)"
      ]
     },
     "execution_count": 13,
     "metadata": {},
     "output_type": "execute_result"
    }
   ],
   "source": [
    "xgb = XGBClassifier(n_estimators=100, learning_rate=0.05)\n",
    "xgb.fit(X, Y)"
   ]
  },
  {
   "cell_type": "code",
   "execution_count": 14,
   "metadata": {
    "colab": {
     "base_uri": "https://localhost:8080/"
    },
    "executionInfo": {
     "elapsed": 719,
     "status": "ok",
     "timestamp": 1606360849247,
     "user": {
      "displayName": "Heecheol Cho",
      "photoUrl": "https://lh3.googleusercontent.com/a-/AOh14GjX329YmmK5EOCLjZGYupvhhyKPjyr-kS3DftPICg=s64",
      "userId": "11416361730564561965"
     },
     "user_tz": -540
    },
    "id": "eFylp9o3Y0nD",
    "outputId": "2d81ce22-4153-4a30-f2f9-c289e99868a8"
   },
   "outputs": [
    {
     "data": {
      "text/plain": [
       "0.9322033898305084"
      ]
     },
     "execution_count": 14,
     "metadata": {},
     "output_type": "execute_result"
    }
   ],
   "source": [
    "prediction = xgb.predict(X)\n",
    "np.mean(prediction==Y)"
   ]
  },
  {
   "cell_type": "code",
   "execution_count": 15,
   "metadata": {
    "colab": {
     "base_uri": "https://localhost:8080/",
     "height": 531
    },
    "executionInfo": {
     "elapsed": 1422,
     "status": "ok",
     "timestamp": 1606360852175,
     "user": {
      "displayName": "Heecheol Cho",
      "photoUrl": "https://lh3.googleusercontent.com/a-/AOh14GjX329YmmK5EOCLjZGYupvhhyKPjyr-kS3DftPICg=s64",
      "userId": "11416361730564561965"
     },
     "user_tz": -540
    },
    "id": "0Mvx61rMY0nD",
    "outputId": "dd247a69-f90f-49e9-8603-ab4a689bc773",
    "scrolled": false
   },
   "outputs": [
    {
     "data": {
      "text/plain": [
       "Text(0.5, 1.0, 'xgboost prediction')"
      ]
     },
     "execution_count": 15,
     "metadata": {},
     "output_type": "execute_result"
    },
    {
     "data": {
      "image/png": "[encoded data removed]",
      "text/plain": [
       "<Figure size 1080x576 with 2 Axes>"
      ]
     },
     "metadata": {
      "needs_background": "light"
     },
     "output_type": "display_data"
    }
   ],
   "source": [
    "df_pred=pd.DataFrame(data=np.c_[X.values,Y.values, prediction],columns=['x','y','label','prediction'])\n",
    "df_pred['misprediction']=df_pred['label'] != df_pred['prediction']\n",
    "plt.figure(figsize=(15,8))\n",
    "plt.subplot(1,2,1)\n",
    "sns.scatterplot(x='x', \n",
    "                y='y', \n",
    "                hue='label', # different colors by group\n",
    "                style='label', # different shapes by group\n",
    "                s=50, # marker size\n",
    "                data=df)\n",
    "plt.title('data')\n",
    "\n",
    "\n",
    "plt.subplot(1,2,2)\n",
    "sns.scatterplot(x='x', \n",
    "                y='y', \n",
    "                hue='prediction', # different colors by group\n",
    "                style='misprediction', # different shapes by group\n",
    "                s=50, # marker size\n",
    "                data=df_pred)\n",
    "plt.title('xgboost prediction')"
   ]
  },
  {
   "cell_type": "code",
   "execution_count": null,
   "metadata": {
    "colab": {
     "base_uri": "https://localhost:8080/",
     "height": 348
    },
    "executionInfo": {
     "elapsed": 655,
     "status": "ok",
     "timestamp": 1606360857625,
     "user": {
      "displayName": "Heecheol Cho",
      "photoUrl": "https://lh3.googleusercontent.com/a-/AOh14GjX329YmmK5EOCLjZGYupvhhyKPjyr-kS3DftPICg=s64",
      "userId": "11416361730564561965"
     },
     "user_tz": -540
    },
    "id": "kO2PZsEdY0nD",
    "outputId": "2cb1bf9e-de58-476d-ff97-acd54d964321"
   },
   "outputs": [],
   "source": [
    "df_pred[df_pred['label'] != df_pred['prediction']]"
   ]
  },
  {
   "cell_type": "code",
   "execution_count": null,
   "metadata": {
    "colab": {
     "base_uri": "https://localhost:8080/",
     "height": 1000
    },
    "executionInfo": {
     "elapsed": 847,
     "status": "ok",
     "timestamp": 1606360859585,
     "user": {
      "displayName": "Heecheol Cho",
      "photoUrl": "https://lh3.googleusercontent.com/a-/AOh14GjX329YmmK5EOCLjZGYupvhhyKPjyr-kS3DftPICg=s64",
      "userId": "11416361730564561965"
     },
     "user_tz": -540
    },
    "id": "0QhKipI_Y0nD",
    "outputId": "b2be6c22-55ea-4d2b-a1fb-016171526b1a"
   },
   "outputs": [],
   "source": [
    "df_pred"
   ]
  },
  {
   "cell_type": "code",
   "execution_count": null,
   "metadata": {
    "id": "3iuKOD67Y0nD",
    "scrolled": true
   },
   "outputs": [],
   "source": [
    "prediction==Y"
   ]
  },
  {
   "cell_type": "code",
   "execution_count": null,
   "metadata": {
    "id": "780OXfeNY0nD"
   },
   "outputs": [],
   "source": [
    "zzz = sns.load_dataset(\"iris\")"
   ]
  },
  {
   "cell_type": "code",
   "execution_count": null,
   "metadata": {},
   "outputs": [],
   "source": [
    "zzz.index"
   ]
  },
  {
   "cell_type": "code",
   "execution_count": null,
   "metadata": {},
   "outputs": [],
   "source": []
  }
 ],
 "metadata": {
  "colab": {
   "collapsed_sections": [],
   "name": "pandas_basic_iris.ipynb",
   "provenance": []
  },
  "kernelspec": {
   "display_name": "Python 3",
   "language": "python",
   "name": "python3"
  },
  "language_info": {
   "codemirror_mode": {
    "name": "ipython",
    "version": 3
   },
   "file_extension": ".py",
   "mimetype": "text/x-python",
   "name": "python",
   "nbconvert_exporter": "python",
   "pygments_lexer": "ipython3",
   "version": "3.6.10"
  }
 },
 "nbformat": 4,
 "nbformat_minor": 1
}
