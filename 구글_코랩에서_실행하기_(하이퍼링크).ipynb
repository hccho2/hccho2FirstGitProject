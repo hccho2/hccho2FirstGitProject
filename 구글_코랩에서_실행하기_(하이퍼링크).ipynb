{
  "cells": [
    {
      "cell_type": "markdown",
      "metadata": {
        "id": "oZ4biFDkCHDU"
      },
      "source": [
        "# 구글 코랩에서 실행하기 (하이퍼링크)"
      ]
    },
    {
      "cell_type": "markdown",
      "metadata": {
        "id": "V6nR9sD-CaIO"
      },
      "source": [
        "<table align=\"left\">\n",
        "  <td>\n",
        "    <a target=\"_blank\" href=\"https://colab.research.google.com/github/hccho2/hccho2FirstGitProject/blob/master/pandas_LogisticRegression_tf1.x.ipynb\"><img src=\"https://www.tensorflow.org/images/colab_logo_32px.png\" />구글 코랩에서 실행하기</a>\n",
        "  </td>\n",
        "</table>"
      ]
    },
    {
      "cell_type": "code",
      "execution_count": null,
      "metadata": {
        "id": "QqVmLW2fClNf"
      },
      "outputs": [],
      "source": [
        "<table align=\"left\">\n",
        "  <td>\n",
        "    <a target=\"_blank\" href=\"https://colab.research.google.com/github/<<<https://github.com 제외한 깃허브 파일 주소 입력>>>\"><img src=\"https://www.tensorflow.org/images/colab_logo_32px.png\" />구글 코랩에서 실행하기</a>\n",
        "  </td>\n",
        "</table>"
      ]
    },
    {
      "cell_type": "markdown",
      "metadata": {},
      "source": [
        "<table align=\"left\">\n",
        "  <td>\n",
        "    <a target=\"_blank\" href=\"https://colab.research.google.com/github/JeongJaeyoung0/function/blob/9a76878c0b147d1fc8b784ed973fb841a862b942/%EA%B5%AC%EA%B8%80%20%EC%BD%94%EB%9E%A9%EC%97%90%EC%84%9C%20%EC%8B%A4%ED%96%89%ED%95%98%EA%B8%B0%20(%ED%95%98%EC%9D%B4%ED%8D%BC%EB%A7%81%ED%81%AC).ipynb\"><img src=\"https://www.tensorflow.org/images/colab_logo_32px.png\" />구글 코랩에서 실행하기</a>\n",
        "  </td>\n",
        "</table>"
      ]
    },
    {
      "cell_type": "markdown",
      "metadata": {},
      "source": []
    }
  ],
  "metadata": {
    "colab": {
      "name": "구글 코랩에서 실행하기 (하이퍼링크).ipynb",
      "provenance": []
    },
    "kernelspec": {
      "display_name": "Python 3",
      "name": "python3"
    },
    "language_info": {
      "name": "python"
    }
  },
  "nbformat": 4,
  "nbformat_minor": 0
}
